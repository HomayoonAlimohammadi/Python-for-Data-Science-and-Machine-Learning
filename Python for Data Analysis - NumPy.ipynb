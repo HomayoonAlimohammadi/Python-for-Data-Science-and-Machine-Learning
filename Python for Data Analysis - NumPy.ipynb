{
 "cells": [
  {
   "cell_type": "markdown",
   "id": "ef86a4c9",
   "metadata": {},
   "source": [
    "# NumPy Arrays"
   ]
  },
  {
   "cell_type": "code",
   "execution_count": 1,
   "id": "cbf27b2f",
   "metadata": {},
   "outputs": [],
   "source": [
    "import numpy as np"
   ]
  },
  {
   "cell_type": "markdown",
   "id": "5b3da11c",
   "metadata": {},
   "source": [
    "## Vector (1-D)"
   ]
  },
  {
   "cell_type": "code",
   "execution_count": 2,
   "id": "29bed627",
   "metadata": {},
   "outputs": [
    {
     "data": {
      "text/plain": [
       "array([1, 2, 3])"
      ]
     },
     "execution_count": 2,
     "metadata": {},
     "output_type": "execute_result"
    }
   ],
   "source": [
    "my_list = [1,2,3]\n",
    "np.array(my_list)"
   ]
  },
  {
   "cell_type": "markdown",
   "id": "a3d9fd6b",
   "metadata": {},
   "source": [
    "## Matrics"
   ]
  },
  {
   "cell_type": "code",
   "execution_count": 3,
   "id": "6a393d8d",
   "metadata": {},
   "outputs": [
    {
     "data": {
      "text/plain": [
       "array([[1, 2, 3],\n",
       "       [4, 5, 6],\n",
       "       [7, 8, 9]])"
      ]
     },
     "execution_count": 3,
     "metadata": {},
     "output_type": "execute_result"
    }
   ],
   "source": [
    "my_mat = [[1,2,3],[4,5,6],[7,8,9]]\n",
    "np.array(my_mat)"
   ]
  },
  {
   "cell_type": "markdown",
   "id": "668c1a45",
   "metadata": {},
   "source": [
    "### Remember number of brackets show the dimension\n",
    "#### [ ] vector\n",
    "#### [[ ]] matrix 2-D"
   ]
  },
  {
   "cell_type": "markdown",
   "id": "93b4b7a8",
   "metadata": {},
   "source": [
    "## Generation Methods"
   ]
  },
  {
   "cell_type": "code",
   "execution_count": 8,
   "id": "998b5748",
   "metadata": {},
   "outputs": [
    {
     "name": "stdout",
     "output_type": "stream",
     "text": [
      "[0 1 2 3 4 5 6 7 8 9]\n",
      "[0 2 4 6 8]\n"
     ]
    }
   ],
   "source": [
    "arr1 = np.arange(0,10)\n",
    "arr2 = np.arange(0,10,2)\n",
    "\n",
    "print(arr1)\n",
    "print(arr2)"
   ]
  },
  {
   "cell_type": "code",
   "execution_count": 12,
   "id": "26e277ec",
   "metadata": {},
   "outputs": [
    {
     "name": "stdout",
     "output_type": "stream",
     "text": [
      "[0. 0. 0.]\n",
      "[[0. 0. 0.]\n",
      " [0. 0. 0.]]\n"
     ]
    }
   ],
   "source": [
    "arr1 = np.zeros(3) #1-d\n",
    "arr2 = np.zeros((2,3)) #2-d (rows,columns)\n",
    "\n",
    "print(arr1)\n",
    "print(arr2)"
   ]
  },
  {
   "cell_type": "code",
   "execution_count": 13,
   "id": "f2134b90",
   "metadata": {},
   "outputs": [
    {
     "data": {
      "text/plain": [
       "array([[1., 1., 1., 1.],\n",
       "       [1., 1., 1., 1.],\n",
       "       [1., 1., 1., 1.]])"
      ]
     },
     "execution_count": 13,
     "metadata": {},
     "output_type": "execute_result"
    }
   ],
   "source": [
    "np.ones((3,4))"
   ]
  },
  {
   "cell_type": "code",
   "execution_count": 14,
   "id": "46150b10",
   "metadata": {},
   "outputs": [
    {
     "data": {
      "text/plain": [
       "array([0.        , 0.55555556, 1.11111111, 1.66666667, 2.22222222,\n",
       "       2.77777778, 3.33333333, 3.88888889, 4.44444444, 5.        ])"
      ]
     },
     "execution_count": 14,
     "metadata": {},
     "output_type": "execute_result"
    }
   ],
   "source": [
    "np.linspace(0,5,10) \n",
    "\n",
    "# Third element is number of points\n",
    "# Points are evenly spaced"
   ]
  },
  {
   "cell_type": "code",
   "execution_count": 15,
   "id": "1b260a2f",
   "metadata": {},
   "outputs": [
    {
     "data": {
      "text/plain": [
       "array([[1., 0., 0., 0.],\n",
       "       [0., 1., 0., 0.],\n",
       "       [0., 0., 1., 0.],\n",
       "       [0., 0., 0., 1.]])"
      ]
     },
     "execution_count": 15,
     "metadata": {},
     "output_type": "execute_result"
    }
   ],
   "source": [
    "# Identity Matrix\n",
    "np.eye(4)"
   ]
  },
  {
   "cell_type": "code",
   "execution_count": 19,
   "id": "1e630e3c",
   "metadata": {},
   "outputs": [
    {
     "name": "stdout",
     "output_type": "stream",
     "text": [
      "[0.87805939 0.99338774 0.11863572 0.19597276 0.90191351]\n",
      "[[0.37968964 0.65026695 0.11013683 0.46046623]\n",
      " [0.45988195 0.42531513 0.49430237 0.35066566]\n",
      " [0.50311051 0.68036316 0.04847795 0.35944671]\n",
      " [0.18279817 0.95941742 0.09018049 0.22420541]\n",
      " [0.41643271 0.3473851  0.26848591 0.08583119]]\n"
     ]
    }
   ],
   "source": [
    "arr1 = np.random.rand(5)\n",
    "# 1d array, from 0 to 1\n",
    "\n",
    "arr2 = np.random.rand(5,4) \n",
    "# 2d metrix\n",
    "\n",
    "print(arr1)\n",
    "print(arr2)"
   ]
  },
  {
   "cell_type": "code",
   "execution_count": 21,
   "id": "d8bd8e8f",
   "metadata": {},
   "outputs": [
    {
     "data": {
      "text/plain": [
       "array([[ 0.59622262,  1.93462993, -1.36894541,  0.60400896],\n",
       "       [ 0.07048571,  0.23423048,  0.23633338,  0.31133551],\n",
       "       [ 0.10727505, -1.84340962, -0.91726852, -0.9214301 ],\n",
       "       [-0.83865152,  0.7104734 ,  0.51951223,  0.62287706]])"
      ]
     },
     "execution_count": 21,
     "metadata": {},
     "output_type": "execute_result"
    }
   ],
   "source": [
    "np.random.randn(2)\n",
    "# 2 random numbers from a standard normal distribution\n",
    "np.random.randn(4,4)"
   ]
  },
  {
   "cell_type": "code",
   "execution_count": 24,
   "id": "72fc8da2",
   "metadata": {},
   "outputs": [
    {
     "data": {
      "text/plain": [
       "array([98, 59, 14, 92, 41, 64, 79, 24, 85, 26])"
      ]
     },
     "execution_count": 24,
     "metadata": {},
     "output_type": "execute_result"
    }
   ],
   "source": [
    "np.random.randint(1,100)\n",
    "# 1 <=random integer < 100\n",
    "\n",
    "np.random.randint(1,100,10) \n",
    "# 10 is the number of points"
   ]
  },
  {
   "cell_type": "code",
   "execution_count": 26,
   "id": "c0521790",
   "metadata": {},
   "outputs": [
    {
     "name": "stdout",
     "output_type": "stream",
     "text": [
      "[ 0  1  2  3  4  5  6  7  8  9 10 11 12 13 14 15 16 17 18 19 20 21 22 23\n",
      " 24]\n",
      "[ 7 41 27  2 35 43 30  7 43 20]\n"
     ]
    }
   ],
   "source": [
    "arr = np.arange(25)\n",
    "ranarr = np.random.randint(0,50,10)\n",
    "\n",
    "print(arr)\n",
    "print(ranarr)"
   ]
  },
  {
   "cell_type": "code",
   "execution_count": 27,
   "id": "81cd0fb6",
   "metadata": {},
   "outputs": [
    {
     "data": {
      "text/plain": [
       "array([[ 0,  1,  2,  3,  4],\n",
       "       [ 5,  6,  7,  8,  9],\n",
       "       [10, 11, 12, 13, 14],\n",
       "       [15, 16, 17, 18, 19],\n",
       "       [20, 21, 22, 23, 24]])"
      ]
     },
     "execution_count": 27,
     "metadata": {},
     "output_type": "execute_result"
    }
   ],
   "source": [
    "arr.reshape(5,5)\n",
    "\n",
    "#Number of elements should fit into the size of matrix"
   ]
  },
  {
   "cell_type": "code",
   "execution_count": 28,
   "id": "61d171b3",
   "metadata": {},
   "outputs": [
    {
     "name": "stdout",
     "output_type": "stream",
     "text": [
      "43\n",
      "2\n"
     ]
    }
   ],
   "source": [
    "# Max and Min\n",
    "print(ranarr.max())\n",
    "print(ranarr.min())"
   ]
  },
  {
   "cell_type": "code",
   "execution_count": 29,
   "id": "91076f36",
   "metadata": {},
   "outputs": [
    {
     "name": "stdout",
     "output_type": "stream",
     "text": [
      "5\n",
      "3\n"
     ]
    }
   ],
   "source": [
    "# Index of Max and Min in the array\n",
    "print(ranarr.argmax())\n",
    "print(ranarr.argmin())"
   ]
  },
  {
   "cell_type": "code",
   "execution_count": 30,
   "id": "778277b5",
   "metadata": {},
   "outputs": [
    {
     "data": {
      "text/plain": [
       "(5, 5)"
      ]
     },
     "execution_count": 30,
     "metadata": {},
     "output_type": "execute_result"
    }
   ],
   "source": [
    "arr = arr.reshape(5,5)\n",
    "arr.shape\n",
    "# showing number of rows and columns"
   ]
  },
  {
   "cell_type": "code",
   "execution_count": null,
   "id": "ad0f9c89",
   "metadata": {},
   "outputs": [],
   "source": []
  }
 ],
 "metadata": {
  "kernelspec": {
   "display_name": "Python 3 (ipykernel)",
   "language": "python",
   "name": "python3"
  },
  "language_info": {
   "codemirror_mode": {
    "name": "ipython",
    "version": 3
   },
   "file_extension": ".py",
   "mimetype": "text/x-python",
   "name": "python",
   "nbconvert_exporter": "python",
   "pygments_lexer": "ipython3",
   "version": "3.8.4"
  }
 },
 "nbformat": 4,
 "nbformat_minor": 5
}

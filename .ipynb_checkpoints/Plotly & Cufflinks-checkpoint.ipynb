{
 "cells": [
  {
   "cell_type": "markdown",
   "id": "0c9a3e9b",
   "metadata": {},
   "source": [
    "create interactive plots that you can use in dashboards or websites (you can save them as html files or static images)."
   ]
  },
  {
   "cell_type": "markdown",
   "id": "09c92845",
   "metadata": {},
   "source": [
    "# Imports and Setups"
   ]
  },
  {
   "cell_type": "code",
   "execution_count": 1,
   "id": "802f8710",
   "metadata": {},
   "outputs": [],
   "source": [
    "import pandas as pd\n",
    "import numpy as np\n",
    "%matplotlib inline"
   ]
  },
  {
   "cell_type": "code",
   "execution_count": 2,
   "id": "a6c2cc32",
   "metadata": {},
   "outputs": [
    {
     "name": "stdout",
     "output_type": "stream",
     "text": [
      "5.7.0\n"
     ]
    }
   ],
   "source": [
    "from plotly import __version__\n",
    "from plotly.offline import download_plotlyjs, init_notebook_mode, plot, iplot\n",
    "\n",
    "print(__version__)"
   ]
  },
  {
   "cell_type": "code",
   "execution_count": 3,
   "id": "0b3cdb57",
   "metadata": {},
   "outputs": [
    {
     "data": {
      "text/html": [
       "        <script type=\"text/javascript\">\n",
       "        window.PlotlyConfig = {MathJaxConfig: 'local'};\n",
       "        if (window.MathJax) {MathJax.Hub.Config({SVG: {font: \"STIX-Web\"}});}\n",
       "        if (typeof require !== 'undefined') {\n",
       "        require.undef(\"plotly\");\n",
       "        requirejs.config({\n",
       "            paths: {\n",
       "                'plotly': ['https://cdn.plot.ly/plotly-2.11.1.min']\n",
       "            }\n",
       "        });\n",
       "        require(['plotly'], function(Plotly) {\n",
       "            window._Plotly = Plotly;\n",
       "        });\n",
       "        }\n",
       "        </script>\n",
       "        "
      ]
     },
     "metadata": {},
     "output_type": "display_data"
    },
    {
     "data": {
      "text/html": [
       "        <script type=\"text/javascript\">\n",
       "        window.PlotlyConfig = {MathJaxConfig: 'local'};\n",
       "        if (window.MathJax) {MathJax.Hub.Config({SVG: {font: \"STIX-Web\"}});}\n",
       "        if (typeof require !== 'undefined') {\n",
       "        require.undef(\"plotly\");\n",
       "        requirejs.config({\n",
       "            paths: {\n",
       "                'plotly': ['https://cdn.plot.ly/plotly-2.11.1.min']\n",
       "            }\n",
       "        });\n",
       "        require(['plotly'], function(Plotly) {\n",
       "            window._Plotly = Plotly;\n",
       "        });\n",
       "        }\n",
       "        </script>\n",
       "        "
      ]
     },
     "metadata": {},
     "output_type": "display_data"
    }
   ],
   "source": [
    "import cufflinks as cf\n",
    "init_notebook_mode(connected=True)\n",
    "cf.go_offline()"
   ]
  },
  {
   "cell_type": "markdown",
   "id": "073f4c29",
   "metadata": {},
   "source": [
    "# Data"
   ]
  },
  {
   "cell_type": "code",
   "execution_count": 4,
   "id": "cd91f742",
   "metadata": {},
   "outputs": [
    {
     "data": {
      "text/html": [
       "<div>\n",
       "<style scoped>\n",
       "    .dataframe tbody tr th:only-of-type {\n",
       "        vertical-align: middle;\n",
       "    }\n",
       "\n",
       "    .dataframe tbody tr th {\n",
       "        vertical-align: top;\n",
       "    }\n",
       "\n",
       "    .dataframe thead th {\n",
       "        text-align: right;\n",
       "    }\n",
       "</style>\n",
       "<table border=\"1\" class=\"dataframe\">\n",
       "  <thead>\n",
       "    <tr style=\"text-align: right;\">\n",
       "      <th></th>\n",
       "      <th>A</th>\n",
       "      <th>B</th>\n",
       "      <th>C</th>\n",
       "      <th>D</th>\n",
       "    </tr>\n",
       "  </thead>\n",
       "  <tbody>\n",
       "    <tr>\n",
       "      <th>0</th>\n",
       "      <td>-0.284178</td>\n",
       "      <td>-0.994288</td>\n",
       "      <td>-0.342025</td>\n",
       "      <td>2.327391</td>\n",
       "    </tr>\n",
       "    <tr>\n",
       "      <th>1</th>\n",
       "      <td>0.641327</td>\n",
       "      <td>0.669362</td>\n",
       "      <td>-1.122264</td>\n",
       "      <td>-0.633493</td>\n",
       "    </tr>\n",
       "    <tr>\n",
       "      <th>2</th>\n",
       "      <td>-0.333369</td>\n",
       "      <td>1.437527</td>\n",
       "      <td>0.702814</td>\n",
       "      <td>-0.431944</td>\n",
       "    </tr>\n",
       "    <tr>\n",
       "      <th>3</th>\n",
       "      <td>2.006765</td>\n",
       "      <td>-0.760135</td>\n",
       "      <td>-1.480543</td>\n",
       "      <td>0.857778</td>\n",
       "    </tr>\n",
       "    <tr>\n",
       "      <th>4</th>\n",
       "      <td>1.872838</td>\n",
       "      <td>-1.385651</td>\n",
       "      <td>-0.923393</td>\n",
       "      <td>1.317406</td>\n",
       "    </tr>\n",
       "  </tbody>\n",
       "</table>\n",
       "</div>"
      ],
      "text/plain": [
       "          A         B         C         D\n",
       "0 -0.284178 -0.994288 -0.342025  2.327391\n",
       "1  0.641327  0.669362 -1.122264 -0.633493\n",
       "2 -0.333369  1.437527  0.702814 -0.431944\n",
       "3  2.006765 -0.760135 -1.480543  0.857778\n",
       "4  1.872838 -1.385651 -0.923393  1.317406"
      ]
     },
     "execution_count": 4,
     "metadata": {},
     "output_type": "execute_result"
    }
   ],
   "source": [
    "df = pd.DataFrame(np.random.randn(100,4),columns='A B C D'.split())\n",
    "df.head()"
   ]
  },
  {
   "cell_type": "code",
   "execution_count": 5,
   "id": "b870deb9",
   "metadata": {},
   "outputs": [
    {
     "data": {
      "text/html": [
       "<div>\n",
       "<style scoped>\n",
       "    .dataframe tbody tr th:only-of-type {\n",
       "        vertical-align: middle;\n",
       "    }\n",
       "\n",
       "    .dataframe tbody tr th {\n",
       "        vertical-align: top;\n",
       "    }\n",
       "\n",
       "    .dataframe thead th {\n",
       "        text-align: right;\n",
       "    }\n",
       "</style>\n",
       "<table border=\"1\" class=\"dataframe\">\n",
       "  <thead>\n",
       "    <tr style=\"text-align: right;\">\n",
       "      <th></th>\n",
       "      <th>Category</th>\n",
       "      <th>Values</th>\n",
       "    </tr>\n",
       "  </thead>\n",
       "  <tbody>\n",
       "    <tr>\n",
       "      <th>0</th>\n",
       "      <td>A</td>\n",
       "      <td>32</td>\n",
       "    </tr>\n",
       "    <tr>\n",
       "      <th>1</th>\n",
       "      <td>B</td>\n",
       "      <td>43</td>\n",
       "    </tr>\n",
       "    <tr>\n",
       "      <th>2</th>\n",
       "      <td>C</td>\n",
       "      <td>50</td>\n",
       "    </tr>\n",
       "  </tbody>\n",
       "</table>\n",
       "</div>"
      ],
      "text/plain": [
       "  Category  Values\n",
       "0        A      32\n",
       "1        B      43\n",
       "2        C      50"
      ]
     },
     "execution_count": 5,
     "metadata": {},
     "output_type": "execute_result"
    }
   ],
   "source": [
    "df2 = pd.DataFrame({'Category':['A','B','C'],'Values':[32,43,50]})\n",
    "df2"
   ]
  },
  {
   "cell_type": "markdown",
   "id": "0a9a0158",
   "metadata": {},
   "source": [
    "# Cufflinks anf iplot()\n",
    "* line\n",
    "* scatter\n",
    "* bar\n",
    "* box\n",
    "* spread\n",
    "* ratio\n",
    "* heatmap\n",
    "* surface\n",
    "* histogram\n",
    "* bubble"
   ]
  },
  {
   "cell_type": "markdown",
   "id": "3d71ed7e",
   "metadata": {},
   "source": [
    "## Line Plot"
   ]
  },
  {
   "cell_type": "code",
   "execution_count": 6,
   "id": "9f5f1092",
   "metadata": {},
   "outputs": [
    {
     "data": {
      "text/plain": [
       "<AxesSubplot:>"
      ]
     },
     "execution_count": 6,
     "metadata": {},
     "output_type": "execute_result"
    },
    {
     "data": {
      "image/png": "[encoded data removed]",
      "text/plain": [
       "<Figure size 432x288 with 1 Axes>"
      ]
     },
     "metadata": {
      "needs_background": "light"
     },
     "output_type": "display_data"
    }
   ],
   "source": [
    "df.plot()"
   ]
  },
  {
   "cell_type": "code",
   "execution_count": 7,
   "id": "5e85fb54",
   "metadata": {},
   "outputs": [
    {
     "data": {
      "application/vnd.plotly.v1+json": {
       "config": {
        "linkText": "Export to plot.ly",
        "plotlyServerURL": "https://plot.ly",
        "showLink": true
       },
       "data": [
        {
         "line": {
          "color": "rgba(255, 153, 51, 1.0)",
          "dash": "solid",
          "shape": "linear",
          "width": 1.3
         },
         "mode": "lines",
         "name": "A",
         "text": "",
         "type": "scatter",
         "x": [
          0,
          1,
          2,
          3,
          4,
          5,
          6,
          7,
          8,
          9,
          10,
          11,
          12,
          13,
          14,
          15,
          16,
          17,
          18,
          19,
          20,
          21,
          22,
          23,
          24,
          25,
          26,
          27,
          28,
          29,
          30,
          31,
          32,
          33,
          34,
          35,
          36,
          37,
          38,
          39,
          40,
          41,
          42,
          43,
          44,
          45,
          46,
          47,
          48,
          49,
          50,
          51,
          52,
          53,
          54,
          55,
          56,
          57,
          58,
          59,
          60,
          61,
          62,
          63,
          64,
          65,
          66,
          67,
          68,
          69,
          70,
          71,
          72,
          73,
          74,
          75,
          76,
          77,
          78,
          79,
          80,
          81,
          82,
          83,
          84,
          85,
          86,
          87,
          88,
          89,
          90,
          91,
          92,
          93,
          94,
          95,
          96,
          97,
          98,
          99
         ],
         "y": [
          -0.28417787083349927,
          0.6413274499391824,
          -0.33336861080745656,
          2.006764818840116,
          1.8728377960165354,
          -0.24882852649873424,
          -0.29861874001993766,
          -0.5527446223333694,
          -0.06284839007619376,
          0.6872961946392325,
          -0.48047030452308376,
          -0.15819211016748583,
          0.3979193283561742,
          -0.9231892579778409,
          0.5315667297247073,
          1.0017781127586238,
          -2.0721385248636266,
          0.9212012857921277,
          -0.25197735935695925,
          -2.5438707821411417,
          -0.9797570746505114,
          -1.785600451605513,
          -1.3677304085261701,
          -0.8597776400411747,
          -0.38161314435598254,
          -0.21955301709234307,
          -0.46962502773123727,
          0.08658003414889327,
          -2.624997706901156,
          1.617799016690096,
          0.2322838968046603,
          -0.5747107444070692,
          1.306245125000283,
          -0.7424921675650964,
          -0.6846539842162228,
          2.1601206807767657,
          -1.1832051219606274,
          0.21698850723985674,
          1.693120559186067,
          -1.4725670406597433,
          0.5268215706826592,
          0.22618522749666412,
          1.3241925977559907,
          -1.1750950935332447,
          0.779369119313454,
          -1.0622472454257539,
          -0.7479801434627531,
          -1.11546714284219,
          0.6490101527890603,
          -0.22489797094481306,
          -1.1740087820316207,
          0.08056535097254833,
          0.615871865696655,
          -0.17445791673987496,
          0.8456171781805357,
          1.8168544512752107,
          0.9067056603187674,
          -0.1318278852951855,
          -0.9806500898254744,
          0.4032491907360089,
          0.5456168400678882,
          1.6799435539133445,
          -1.417466304121186,
          1.1183981281871356,
          -0.5754137503060296,
          -0.4451311781056884,
          0.6524364369982173,
          -0.2531055435068277,
          -1.2238276239485155,
          0.5079425450594325,
          -0.7127247095374196,
          0.5340289009521697,
          -0.45390448707790165,
          -0.004315066126661081,
          0.01607814905285022,
          0.23686645998285866,
          -0.22681193933351268,
          -1.282908829683012,
          1.0598838321126345,
          -0.28086616600779785,
          -1.4665713559786704,
          0.9606502786533506,
          0.30386951258373074,
          0.9913019602065628,
          -0.5343798033042318,
          -1.2672235642375103,
          0.3206869075841262,
          0.059509125355931794,
          -0.7576598946355392,
          -0.5340235908042054,
          -1.1285727143193942,
          2.1140216110955588,
          1.0418469094947094,
          0.2854170485589883,
          -1.9999513786857224,
          0.9479014280894817,
          -1.14631525364236,
          1.6505960122936931,
          0.4751216841159835,
          0.07362728384021043
         ]
        },
        {
         "line": {
          "color": "rgba(55, 128, 191, 1.0)",
          "dash": "solid",
          "shape": "linear",
          "width": 1.3
         },
         "mode": "lines",
         "name": "B",
         "text": "",
         "type": "scatter",
         "x": [
          0,
          1,
          2,
          3,
          4,
          5,
          6,
          7,
          8,
          9,
          10,
          11,
          12,
          13,
          14,
          15,
          16,
          17,
          18,
          19,
          20,
          21,
          22,
          23,
          24,
          25,
          26,
          27,
          28,
          29,
          30,
          31,
          32,
          33,
          34,
          35,
          36,
          37,
          38,
          39,
          40,
          41,
          42,
          43,
          44,
          45,
          46,
          47,
          48,
          49,
          50,
          51,
          52,
          53,
          54,
          55,
          56,
          57,
          58,
          59,
          60,
          61,
          62,
          63,
          64,
          65,
          66,
          67,
          68,
          69,
          70,
          71,
          72,
          73,
          74,
          75,
          76,
          77,
          78,
          79,
          80,
          81,
          82,
          83,
          84,
          85,
          86,
          87,
          88,
          89,
          90,
          91,
          92,
          93,
          94,
          95,
          96,
          97,
          98,
          99
         ],
         "y": [
          -0.9942875062320643,
          0.6693618378433789,
          1.4375270448174466,
          -0.7601350990541826,
          -1.3856509449362089,
          0.7699061108404363,
          0.04944535748246853,
          0.6061305364332712,
          -0.23326162112807344,
          2.1617704129411974,
          0.4182423292502963,
          -0.8119088645105795,
          0.644305020890722,
          0.12994496488584203,
          -1.5914719130541115,
          -0.3958209142720946,
          0.8320625813285379,
          0.3595709913909463,
          0.8608355243878564,
          -0.5121802342042246,
          -0.19251810768470703,
          -1.1025637585273937,
          0.7127282902106402,
          0.9252123054557275,
          0.26684715309611456,
          -2.0304254233704966,
          1.1185689589290568,
          0.12590272762439111,
          -0.4125100158666027,
          -1.3224183185741754,
          0.3344566151898501,
          -2.1168986945450343,
          -0.9081775216742415,
          -1.6901431359280612,
          1.0403812288066845,
          0.22958405742077428,
          -0.8426375495425725,
          2.276061422029563,
          0.5778368449479325,
          1.144721063467178,
          1.8299513587167864,
          1.4621795449801354,
          -2.4368266921099533,
          1.013362811041721,
          -0.5778304519601165,
          1.0356709009219747,
          -0.504355394746898,
          0.35213287720179104,
          -1.2035825393525954,
          0.8106345843941292,
          -1.595771889074104,
          0.2457069745672563,
          -0.8566043574987787,
          0.3918816986658821,
          -0.2636254412853934,
          -1.0805801266361703,
          0.7319184842233384,
          -0.9438163723917274,
          -0.07189078116332594,
          -1.8693359956196978,
          0.2080888807547833,
          -0.14434974751758786,
          -1.0649759862550428,
          0.27727223466743445,
          -0.09036623691422577,
          1.1030507777767082,
          0.6415368409136328,
          -1.3194312808649182,
          0.2572171302463949,
          0.9309998401890984,
          1.4420973248489697,
          0.42381088497255825,
          0.9266947420824746,
          1.0675505254092201,
          1.0591396740258205,
          -0.4130027839015729,
          1.6464567391114484,
          -0.7639222655044755,
          -0.33115201506490505,
          -2.1054031846049996,
          2.0697721097103496,
          0.24439587621825065,
          1.8662383890198717,
          1.138721370400964,
          0.9451389623407138,
          1.6984878039732823,
          -0.6924609238879748,
          0.26861365381914376,
          1.1436079001022867,
          -0.1704130968335762,
          1.112192969720432,
          -0.14059862423431896,
          1.0150879111753266,
          0.3912245979789011,
          -1.0085802974254625,
          0.12489394468227431,
          0.940715803891102,
          0.8522321107876281,
          -0.3210080437331556,
          -0.12446681042664187
         ]
        },
        {
         "line": {
          "color": "rgba(50, 171, 96, 1.0)",
          "dash": "solid",
          "shape": "linear",
          "width": 1.3
         },
         "mode": "lines",
         "name": "C",
         "text": "",
         "type": "scatter",
         "x": [
          0,
          1,
          2,
          3,
          4,
          5,
          6,
          7,
          8,
          9,
          10,
          11,
          12,
          13,
          14,
          15,
          16,
          17,
          18,
          19,
          20,
          21,
          22,
          23,
          24,
          25,
          26,
          27,
          28,
          29,
          30,
          31,
          32,
          33,
          34,
          35,
          36,
          37,
          38,
          39,
          40,
          41,
          42,
          43,
          44,
          45,
          46,
          47,
          48,
          49,
          50,
          51,
          52,
          53,
          54,
          55,
          56,
          57,
          58,
          59,
          60,
          61,
          62,
          63,
          64,
          65,
          66,
          67,
          68,
          69,
          70,
          71,
          72,
          73,
          74,
          75,
          76,
          77,
          78,
          79,
          80,
          81,
          82,
          83,
          84,
          85,
          86,
          87,
          88,
          89,
          90,
          91,
          92,
          93,
          94,
          95,
          96,
          97,
          98,
          99
         ],
         "y": [
          -0.34202531207788545,
          -1.1222644470835623,
          0.7028141803063046,
          -1.480542876628892,
          -0.9233934593064455,
          0.5036205587923401,
          1.4660744366199934,
          -0.21608707226005955,
          -1.1093147070053189,
          1.433557888382385,
          -0.8756375577785833,
          1.8804371359806382,
          0.9652403751072904,
          0.28463325794690736,
          -1.0144520633697285,
          -0.7673921859551343,
          0.6564409778143822,
          -0.5333563310336471,
          -0.39986394721001606,
          0.8305702442813395,
          -0.44809448978486593,
          0.049755930390898345,
          2.6326085049249,
          -0.01833363814526974,
          0.3441520200024451,
          -1.7866472901597523,
          0.3279751470912204,
          -0.651356902544409,
          -1.9274271068441076,
          -1.370102823710896,
          0.7173151301957572,
          -1.5489209310423662,
          0.5376097134578425,
          1.8922423041507017,
          0.809397641924778,
          0.20384111665149685,
          -0.6277025287109835,
          -0.8751068206707202,
          1.0533389203914831,
          -1.2631932199633122,
          1.2306688540802848,
          0.7602783043009048,
          -0.30484670532054464,
          0.7725060250156658,
          -0.8299347589536743,
          -0.8026514561118214,
          0.8530052334858856,
          -1.6020389893628182,
          0.07370833078691273,
          0.6242170813905074,
          -0.7494457547772824,
          1.0713472336931962,
          0.4223421938420806,
          0.42263534449981793,
          1.4646456275285444,
          1.039683827554642,
          -0.30023425832023526,
          0.37404649991939753,
          0.4673122624237375,
          0.18731902338959072,
          1.5542151833418307,
          0.030645771385122117,
          -0.8318116408604491,
          -1.1263419390554672,
          0.5358409341661668,
          -1.9657428068175744,
          0.6348557749007114,
          -0.22126233057382555,
          -0.3574269524949713,
          -0.08599473004005423,
          0.021975676472548403,
          1.4977920735405388,
          -0.8390333265648123,
          -2.2313899182895818,
          1.3614113456212968,
          -1.1755163614388362,
          -1.776343557538182,
          0.29042700200692667,
          -0.838329491264759,
          1.0217453683864703,
          -0.7943644046396928,
          -0.5768203269604888,
          -1.1605826216175161,
          -1.6411546834540554,
          0.31404144741132656,
          0.551072360896318,
          -0.5790178473959828,
          0.008919696842239469,
          1.808423009360889,
          -2.3241472476965597,
          -0.6701412045400894,
          0.5443306706696933,
          0.789808416199637,
          0.06654335004375507,
          -0.3184402371805494,
          -0.8890998642263612,
          -0.4835588721141622,
          -0.6833884018172537,
          0.14227766099943137,
          -0.7282562084320509
         ]
        },
        {
         "line": {
          "color": "rgba(128, 0, 128, 1.0)",
          "dash": "solid",
          "shape": "linear",
          "width": 1.3
         },
         "mode": "lines",
         "name": "D",
         "text": "",
         "type": "scatter",
         "x": [
          0,
          1,
          2,
          3,
          4,
          5,
          6,
          7,
          8,
          9,
          10,
          11,
          12,
          13,
          14,
          15,
          16,
          17,
          18,
          19,
          20,
          21,
          22,
          23,
          24,
          25,
          26,
          27,
          28,
          29,
          30,
          31,
          32,
          33,
          34,
          35,
          36,
          37,
          38,
          39,
          40,
          41,
          42,
          43,
          44,
          45,
          46,
          47,
          48,
          49,
          50,
          51,
          52,
          53,
          54,
          55,
          56,
          57,
          58,
          59,
          60,
          61,
          62,
          63,
          64,
          65,
          66,
          67,
          68,
          69,
          70,
          71,
          72,
          73,
          74,
          75,
          76,
          77,
          78,
          79,
          80,
          81,
          82,
          83,
          84,
          85,
          86,
          87,
          88,
          89,
          90,
          91,
          92,
          93,
          94,
          95,
          96,
          97,
          98,
          99
         ],
         "y": [
          2.3273910288552506,
          -0.6334933422691658,
          -0.4319441967976972,
          0.8577780510833726,
          1.3174059338669621,
          -0.6419320987216489,
          -1.3623116287539814,
          -0.36468518093902114,
          -0.8450845612877584,
          -0.4881826737960272,
          0.09476315850175457,
          1.0707324179943876,
          0.3002091046018555,
          0.9544992905670775,
          -1.5127659587156748,
          -0.5773216582309553,
          -0.9076002676818018,
          -0.523402182113726,
          -0.5149440398200762,
          -0.6431734614961144,
          -1.5370571149551584,
          0.9325810997834867,
          -0.3799828394287921,
          -0.11822808269683163,
          -0.524651240767075,
          0.7897693225404266,
          1.467359904266115,
          0.2537630042514331,
          0.6743251965769663,
          0.5896915024727922,
          -0.045371342409358674,
          0.2182240360478912,
          1.40776850307784,
          0.041593127323566556,
          -0.5319973112214076,
          -0.05599391621882997,
          -0.1061570381773591,
          -0.6161882918476722,
          -0.07818898211415566,
          0.010637516591020602,
          -0.6182877208698392,
          -1.2838999360709513,
          -1.4007084269364891,
          1.427510765925255,
          0.032155487844832034,
          0.28333166882826216,
          1.006725884900438,
          -1.0523893986368669,
          -0.9336714173023393,
          -1.3563112450957753,
          -0.5731588466774825,
          0.4075153149982536,
          -0.3644485580192882,
          0.8600600388065972,
          -0.14234796247850964,
          1.1451547562188789,
          -0.752281620428336,
          0.1577097727954971,
          0.6614599988815082,
          -0.5426977912871537,
          0.21117520713766527,
          1.6280984663042002,
          0.31213880062866084,
          -0.2284117223697516,
          -0.7480587993056564,
          1.7398577171738578,
          0.1915555887976298,
          -0.9612225264785467,
          -0.11257263417371008,
          -0.051376345390612116,
          0.6067179528849395,
          0.2613977081738276,
          0.04367550982255278,
          -0.07256060375107316,
          0.0889325342151191,
          -1.2494846785625786,
          -0.4623623677571795,
          1.581560174643525,
          -0.11297473937727727,
          1.6909755749235467,
          -0.5030135767939994,
          -0.3911481682390143,
          1.0747468470735577,
          0.6833784597022645,
          0.3483076837286668,
          0.8515336574151208,
          0.6247803986944622,
          0.2034486283047299,
          0.24790489952176153,
          -1.124912560396261,
          1.5618180213234496,
          -0.46369657821326493,
          -1.0174996099740776,
          1.097651723730236,
          -0.6130002595398112,
          0.028871294808732635,
          0.3690582224437009,
          0.31554028066586876,
          -0.75027510698757,
          1.1742404037714962
         ]
        }
       ],
       "layout": {
        "legend": {
         "bgcolor": "#F5F6F9",
         "font": {
          "color": "#4D5663"
         }
        },
        "paper_bgcolor": "#F5F6F9",
        "plot_bgcolor": "#F5F6F9",
        "template": {
         "data": {
          "bar": [
           {
            "error_x": {
             "color": "#2a3f5f"
            },
            "error_y": {
             "color": "#2a3f5f"
            },
            "marker": {
             "line": {
              "color": "#E5ECF6",
              "width": 0.5
             },
             "pattern": {
              "fillmode": "overlay",
              "size": 10,
              "solidity": 0.2
             }
            },
            "type": "bar"
           }
          ],
          "barpolar": [
           {
            "marker": {
             "line": {
              "color": "#E5ECF6",
              "width": 0.5
             },
             "pattern": {
              "fillmode": "overlay",
              "size": 10,
              "solidity": 0.2
             }
            },
            "type": "barpolar"
           }
          ],
          "carpet": [
           {
            "aaxis": {
             "endlinecolor": "#2a3f5f",
             "gridcolor": "white",
             "linecolor": "white",
             "minorgridcolor": "white",
             "startlinecolor": "#2a3f5f"
            },
            "baxis": {
             "endlinecolor": "#2a3f5f",
             "gridcolor": "white",
             "linecolor": "white",
             "minorgridcolor": "white",
             "startlinecolor": "#2a3f5f"
            },
            "type": "carpet"
           }
          ],
          "choropleth": [
           {
            "colorbar": {
             "outlinewidth": 0,
             "ticks": ""
            },
            "type": "choropleth"
           }
          ],
          "contour": [
           {
            "colorbar": {
             "outlinewidth": 0,
             "ticks": ""
            },
            "colorscale": [
             [
              0,
              "#0d0887"
             ],
             [
              0.1111111111111111,
              "#46039f"
             ],
             [
              0.2222222222222222,
              "#7201a8"
             ],
             [
              0.3333333333333333,
              "#9c179e"
             ],
             [
              0.4444444444444444,
              "#bd3786"
             ],
             [
              0.5555555555555556,
              "#d8576b"
             ],
             [
              0.6666666666666666,
              "#ed7953"
             ],
             [
              0.7777777777777778,
              "#fb9f3a"
             ],
             [
              0.8888888888888888,
              "#fdca26"
             ],
             [
              1,
              "#f0f921"
             ]
            ],
            "type": "contour"
           }
          ],
          "contourcarpet": [
           {
            "colorbar": {
             "outlinewidth": 0,
             "ticks": ""
            },
            "type": "contourcarpet"
           }
          ],
          "heatmap": [
           {
            "colorbar": {
             "outlinewidth": 0,
             "ticks": ""
            },
            "colorscale": [
             [
              0,
              "#0d0887"
             ],
             [
              0.1111111111111111,
              "#46039f"
             ],
             [
              0.2222222222222222,
              "#7201a8"
             ],
             [
              0.3333333333333333,
              "#9c179e"
             ],
             [
              0.4444444444444444,
              "#bd3786"
             ],
             [
              0.5555555555555556,
              "#d8576b"
             ],
             [
              0.6666666666666666,
              "#ed7953"
             ],
             [
              0.7777777777777778,
              "#fb9f3a"
             ],
             [
              0.8888888888888888,
              "#fdca26"
             ],
             [
              1,
              "#f0f921"
             ]
            ],
            "type": "heatmap"
           }
          ],
          "heatmapgl": [
           {
            "colorbar": {
             "outlinewidth": 0,
             "ticks": ""
            },
            "colorscale": [
             [
              0,
              "#0d0887"
             ],
             [
              0.1111111111111111,
              "#46039f"
             ],
             [
              0.2222222222222222,
              "#7201a8"
             ],
             [
              0.3333333333333333,
              "#9c179e"
             ],
             [
              0.4444444444444444,
              "#bd3786"
             ],
             [
              0.5555555555555556,
              "#d8576b"
             ],
             [
              0.6666666666666666,
              "#ed7953"
             ],
             [
              0.7777777777777778,
              "#fb9f3a"
             ],
             [
              0.8888888888888888,
              "#fdca26"
             ],
             [
              1,
              "#f0f921"
             ]
            ],
            "type": "heatmapgl"
           }
          ],
          "histogram": [
           {
            "marker": {
             "pattern": {
              "fillmode": "overlay",
              "size": 10,
              "solidity": 0.2
             }
            },
            "type": "histogram"
           }
          ],
          "histogram2d": [
           {
            "colorbar": {
             "outlinewidth": 0,
             "ticks": ""
            },
            "colorscale": [
             [
              0,
              "#0d0887"
             ],
             [
              0.1111111111111111,
              "#46039f"
             ],
             [
              0.2222222222222222,
              "#7201a8"
             ],
             [
              0.3333333333333333,
              "#9c179e"
             ],
             [
              0.4444444444444444,
              "#bd3786"
             ],
             [
              0.5555555555555556,
              "#d8576b"
             ],
             [
              0.6666666666666666,
              "#ed7953"
             ],
             [
              0.7777777777777778,
              "#fb9f3a"
             ],
             [
              0.8888888888888888,
              "#fdca26"
             ],
             [
              1,
              "#f0f921"
             ]
            ],
            "type": "histogram2d"
           }
          ],
          "histogram2dcontour": [
           {
            "colorbar": {
             "outlinewidth": 0,
             "ticks": ""
            },
            "colorscale": [
             [
              0,
              "#0d0887"
             ],
             [
              0.1111111111111111,
              "#46039f"
             ],
             [
              0.2222222222222222,
              "#7201a8"
             ],
             [
              0.3333333333333333,
              "#9c179e"
             ],
             [
              0.4444444444444444,
              "#bd3786"
             ],
             [
              0.5555555555555556,
              "#d8576b"
             ],
             [
              0.6666666666666666,
              "#ed7953"
             ],
             [
              0.7777777777777778,
              "#fb9f3a"
             ],
             [
              0.8888888888888888,
              "#fdca26"
             ],
             [
              1,
              "#f0f921"
             ]
            ],
            "type": "histogram2dcontour"
           }
          ],
          "mesh3d": [
           {
            "colorbar": {
             "outlinewidth": 0,
             "ticks": ""
            },
            "type": "mesh3d"
           }
          ],
          "parcoords": [
           {
            "line": {
             "colorbar": {
              "outlinewidth": 0,
              "ticks": ""
             }
            },
            "type": "parcoords"
           }
          ],
          "pie": [
           {
            "automargin": true,
            "type": "pie"
           }
          ],
          "scatter": [
           {
            "fillpattern": {
             "fillmode": "overlay",
             "size": 10,
             "solidity": 0.2
            },
            "type": "scatter"
           }
          ],
          "scatter3d": [
           {
            "line": {
             "colorbar": {
              "outlinewidth": 0,
              "ticks": ""
             }
            },
            "marker": {
             "colorbar": {
              "outlinewidth": 0,
              "ticks": ""
             }
            },
            "type": "scatter3d"
           }
          ],
          "scattercarpet": [
           {
            "marker": {
             "colorbar": {
              "outlinewidth": 0,
              "ticks": ""
             }
            },
            "type": "scattercarpet"
           }
          ],
          "scattergeo": [
           {
            "marker": {
             "colorbar": {
              "outlinewidth": 0,
              "ticks": ""
             }
            },
            "type": "scattergeo"
           }
          ],
          "scattergl": [
           {
            "marker": {
             "colorbar": {
              "outlinewidth": 0,
              "ticks": ""
             }
            },
            "type": "scattergl"
           }
          ],
          "scattermapbox": [
           {
            "marker": {
             "colorbar": {
              "outlinewidth": 0,
              "ticks": ""
             }
            },
            "type": "scattermapbox"
           }
          ],
          "scatterpolar": [
           {
            "marker": {
             "colorbar": {
              "outlinewidth": 0,
              "ticks": ""
             }
            },
            "type": "scatterpolar"
           }
          ],
          "scatterpolargl": [
           {
            "marker": {
             "colorbar": {
              "outlinewidth": 0,
              "ticks": ""
             }
            },
            "type": "scatterpolargl"
           }
          ],
          "scatterternary": [
           {
            "marker": {
             "colorbar": {
              "outlinewidth": 0,
              "ticks": ""
             }
            },
            "type": "scatterternary"
           }
          ],
          "surface": [
           {
            "colorbar": {
             "outlinewidth": 0,
             "ticks": ""
            },
            "colorscale": [
             [
              0,
              "#0d0887"
             ],
             [
              0.1111111111111111,
              "#46039f"
             ],
             [
              0.2222222222222222,
              "#7201a8"
             ],
             [
              0.3333333333333333,
              "#9c179e"
             ],
             [
              0.4444444444444444,
              "#bd3786"
             ],
             [
              0.5555555555555556,
              "#d8576b"
             ],
             [
              0.6666666666666666,
              "#ed7953"
             ],
             [
              0.7777777777777778,
              "#fb9f3a"
             ],
             [
              0.8888888888888888,
              "#fdca26"
             ],
             [
              1,
              "#f0f921"
             ]
            ],
            "type": "surface"
           }
          ],
          "table": [
           {
            "cells": {
             "fill": {
              "color": "#EBF0F8"
             },
             "line": {
              "color": "white"
             }
            },
            "header": {
             "fill": {
              "color": "#C8D4E3"
             },
             "line": {
              "color": "white"
             }
            },
            "type": "table"
           }
          ]
         },
         "layout": {
          "annotationdefaults": {
           "arrowcolor": "#2a3f5f",
           "arrowhead": 0,
           "arrowwidth": 1
          },
          "autotypenumbers": "strict",
          "coloraxis": {
           "colorbar": {
            "outlinewidth": 0,
            "ticks": ""
           }
          },
          "colorscale": {
           "diverging": [
            [
             0,
             "#8e0152"
            ],
            [
             0.1,
             "#c51b7d"
            ],
            [
             0.2,
             "#de77ae"
            ],
            [
             0.3,
             "#f1b6da"
            ],
            [
             0.4,
             "#fde0ef"
            ],
            [
             0.5,
             "#f7f7f7"
            ],
            [
             0.6,
             "#e6f5d0"
            ],
            [
             0.7,
             "#b8e186"
            ],
            [
             0.8,
             "#7fbc41"
            ],
            [
             0.9,
             "#4d9221"
            ],
            [
             1,
             "#276419"
            ]
           ],
           "sequential": [
            [
             0,
             "#0d0887"
            ],
            [
             0.1111111111111111,
             "#46039f"
            ],
            [
             0.2222222222222222,
             "#7201a8"
            ],
            [
             0.3333333333333333,
             "#9c179e"
            ],
            [
             0.4444444444444444,
             "#bd3786"
            ],
            [
             0.5555555555555556,
             "#d8576b"
            ],
            [
             0.6666666666666666,
             "#ed7953"
            ],
            [
             0.7777777777777778,
             "#fb9f3a"
            ],
            [
             0.8888888888888888,
             "#fdca26"
            ],
            [
             1,
             "#f0f921"
            ]
           ],
           "sequentialminus": [
            [
             0,
             "#0d0887"
            ],
            [
             0.1111111111111111,
             "#46039f"
            ],
            [
             0.2222222222222222,
             "#7201a8"
            ],
            [
             0.3333333333333333,
             "#9c179e"
            ],
            [
             0.4444444444444444,
             "#bd3786"
            ],
            [
             0.5555555555555556,
             "#d8576b"
            ],
            [
             0.6666666666666666,
             "#ed7953"
            ],
            [
             0.7777777777777778,
             "#fb9f3a"
            ],
            [
             0.8888888888888888,
             "#fdca26"
            ],
            [
             1,
             "#f0f921"
            ]
           ]
          },
          "colorway": [
           "#636efa",
           "#EF553B",
           "#00cc96",
           "#ab63fa",
           "#FFA15A",
           "#19d3f3",
           "#FF6692",
           "#B6E880",
           "#FF97FF",
           "#FECB52"
          ],
          "font": {
           "color": "#2a3f5f"
          },
          "geo": {
           "bgcolor": "white",
           "lakecolor": "white",
           "landcolor": "#E5ECF6",
           "showlakes": true,
           "showland": true,
           "subunitcolor": "white"
          },
          "hoverlabel": {
           "align": "left"
          },
          "hovermode": "closest",
          "mapbox": {
           "style": "light"
          },
          "paper_bgcolor": "white",
          "plot_bgcolor": "#E5ECF6",
          "polar": {
           "angularaxis": {
            "gridcolor": "white",
            "linecolor": "white",
            "ticks": ""
           },
           "bgcolor": "#E5ECF6",
           "radialaxis": {
            "gridcolor": "white",
            "linecolor": "white",
            "ticks": ""
           }
          },
          "scene": {
           "xaxis": {
            "backgroundcolor": "#E5ECF6",
            "gridcolor": "white",
            "gridwidth": 2,
            "linecolor": "white",
            "showbackground": true,
            "ticks": "",
            "zerolinecolor": "white"
           },
           "yaxis": {
            "backgroundcolor": "#E5ECF6",
            "gridcolor": "white",
            "gridwidth": 2,
            "linecolor": "white",
            "showbackground": true,
            "ticks": "",
            "zerolinecolor": "white"
           },
           "zaxis": {
            "backgroundcolor": "#E5ECF6",
            "gridcolor": "white",
            "gridwidth": 2,
            "linecolor": "white",
            "showbackground": true,
            "ticks": "",
            "zerolinecolor": "white"
           }
          },
          "shapedefaults": {
           "line": {
            "color": "#2a3f5f"
           }
          },
          "ternary": {
           "aaxis": {
            "gridcolor": "white",
            "linecolor": "white",
            "ticks": ""
           },
           "baxis": {
            "gridcolor": "white",
            "linecolor": "white",
            "ticks": ""
           },
           "bgcolor": "#E5ECF6",
           "caxis": {
            "gridcolor": "white",
            "linecolor": "white",
            "ticks": ""
           }
          },
          "title": {
           "x": 0.05
          },
          "xaxis": {
           "automargin": true,
           "gridcolor": "white",
           "linecolor": "white",
           "ticks": "",
           "title": {
            "standoff": 15
           },
           "zerolinecolor": "white",
           "zerolinewidth": 2
          },
          "yaxis": {
           "automargin": true,
           "gridcolor": "white",
           "linecolor": "white",
           "ticks": "",
           "title": {
            "standoff": 15
           },
           "zerolinecolor": "white",
           "zerolinewidth": 2
          }
         }
        },
        "title": {
         "font": {
          "color": "#4D5663"
         }
        },
        "xaxis": {
         "gridcolor": "#E1E5ED",
         "showgrid": true,
         "tickfont": {
          "color": "#4D5663"
         },
         "title": {
          "font": {
           "color": "#4D5663"
          },
          "text": ""
         },
         "zerolinecolor": "#E1E5ED"
        },
        "yaxis": {
         "gridcolor": "#E1E5ED",
         "showgrid": true,
         "tickfont": {
          "color": "#4D5663"
         },
         "title": {
          "font": {
           "color": "#4D5663"
          },
          "text": ""
         },
         "zerolinecolor": "#E1E5ED"
        }
       }
      },
      "text/html": [
       "<div>                            <div id=\"5534cc41-6611-4c97-a713-838e8cb1fc25\" class=\"plotly-graph-div\" style=\"height:525px; width:100%;\"></div>            <script type=\"text/javascript\">                require([\"plotly\"], function(Plotly) {                    window.PLOTLYENV=window.PLOTLYENV || {};\n",
       "                    window.PLOTLYENV.BASE_URL='https://plot.ly';                                    if (document.getElementById(\"5534cc41-6611-4c97-a713-838e8cb1fc25\")) {                    Plotly.newPlot(                        \"5534cc41-6611-4c97-a713-838e8cb1fc25\",                        [{\"line\":{\"color\":\"rgba(255, 153, 51, 1.0)\",\"dash\":\"solid\",\"shape\":\"linear\",\"width\":1.3},\"mode\":\"lines\",\"name\":\"A\",\"text\":\"\",\"x\":[0,1,2,3,4,5,6,7,8,9,10,11,12,13,14,15,16,17,18,19,20,21,22,23,24,25,26,27,28,29,30,31,32,33,34,35,36,37,38,39,40,41,42,43,44,45,46,47,48,49,50,51,52,53,54,55,56,57,58,59,60,61,62,63,64,65,66,67,68,69,70,71,72,73,74,75,76,77,78,79,80,81,82,83,84,85,86,87,88,89,90,91,92,93,94,95,96,97,98,99],\"y\":[-0.28417787083349927,0.6413274499391824,-0.33336861080745656,2.006764818840116,1.8728377960165354,-0.24882852649873424,-0.29861874001993766,-0.5527446223333694,-0.06284839007619376,0.6872961946392325,-0.48047030452308376,-0.15819211016748583,0.3979193283561742,-0.9231892579778409,0.5315667297247073,1.0017781127586238,-2.0721385248636266,0.9212012857921277,-0.25197735935695925,-2.5438707821411417,-0.9797570746505114,-1.785600451605513,-1.3677304085261701,-0.8597776400411747,-0.38161314435598254,-0.21955301709234307,-0.46962502773123727,0.08658003414889327,-2.624997706901156,1.617799016690096,0.2322838968046603,-0.5747107444070692,1.306245125000283,-0.7424921675650964,-0.6846539842162228,2.1601206807767657,-1.1832051219606274,0.21698850723985674,1.693120559186067,-1.4725670406597433,0.5268215706826592,0.22618522749666412,1.3241925977559907,-1.1750950935332447,0.779369119313454,-1.0622472454257539,-0.7479801434627531,-1.11546714284219,0.6490101527890603,-0.22489797094481306,-1.1740087820316207,0.08056535097254833,0.615871865696655,-0.17445791673987496,0.8456171781805357,1.8168544512752107,0.9067056603187674,-0.1318278852951855,-0.9806500898254744,0.4032491907360089,0.5456168400678882,1.6799435539133445,-1.417466304121186,1.1183981281871356,-0.5754137503060296,-0.4451311781056884,0.6524364369982173,-0.2531055435068277,-1.2238276239485155,0.5079425450594325,-0.7127247095374196,0.5340289009521697,-0.45390448707790165,-0.004315066126661081,0.01607814905285022,0.23686645998285866,-0.22681193933351268,-1.282908829683012,1.0598838321126345,-0.28086616600779785,-1.4665713559786704,0.9606502786533506,0.30386951258373074,0.9913019602065628,-0.5343798033042318,-1.2672235642375103,0.3206869075841262,0.059509125355931794,-0.7576598946355392,-0.5340235908042054,-1.1285727143193942,2.1140216110955588,1.0418469094947094,0.2854170485589883,-1.9999513786857224,0.9479014280894817,-1.14631525364236,1.6505960122936931,0.4751216841159835,0.07362728384021043],\"type\":\"scatter\"},{\"line\":{\"color\":\"rgba(55, 128, 191, 1.0)\",\"dash\":\"solid\",\"shape\":\"linear\",\"width\":1.3},\"mode\":\"lines\",\"name\":\"B\",\"text\":\"\",\"x\":[0,1,2,3,4,5,6,7,8,9,10,11,12,13,14,15,16,17,18,19,20,21,22,23,24,25,26,27,28,29,30,31,32,33,34,35,36,37,38,39,40,41,42,43,44,45,46,47,48,49,50,51,52,53,54,55,56,57,58,59,60,61,62,63,64,65,66,67,68,69,70,71,72,73,74,75,76,77,78,79,80,81,82,83,84,85,86,87,88,89,90,91,92,93,94,95,96,97,98,99],\"y\":[-0.9942875062320643,0.6693618378433789,1.4375270448174466,-0.7601350990541826,-1.3856509449362089,0.7699061108404363,0.04944535748246853,0.6061305364332712,-0.23326162112807344,2.1617704129411974,0.4182423292502963,-0.8119088645105795,0.644305020890722,0.12994496488584203,-1.5914719130541115,-0.3958209142720946,0.8320625813285379,0.3595709913909463,0.8608355243878564,-0.5121802342042246,-0.19251810768470703,-1.1025637585273937,0.7127282902106402,0.9252123054557275,0.26684715309611456,-2.0304254233704966,1.1185689589290568,0.12590272762439111,-0.4125100158666027,-1.3224183185741754,0.3344566151898501,-2.1168986945450343,-0.9081775216742415,-1.6901431359280612,1.0403812288066845,0.22958405742077428,-0.8426375495425725,2.276061422029563,0.5778368449479325,1.144721063467178,1.8299513587167864,1.4621795449801354,-2.4368266921099533,1.013362811041721,-0.5778304519601165,1.0356709009219747,-0.504355394746898,0.35213287720179104,-1.2035825393525954,0.8106345843941292,-1.595771889074104,0.2457069745672563,-0.8566043574987787,0.3918816986658821,-0.2636254412853934,-1.0805801266361703,0.7319184842233384,-0.9438163723917274,-0.07189078116332594,-1.8693359956196978,0.2080888807547833,-0.14434974751758786,-1.0649759862550428,0.27727223466743445,-0.09036623691422577,1.1030507777767082,0.6415368409136328,-1.3194312808649182,0.2572171302463949,0.9309998401890984,1.4420973248489697,0.42381088497255825,0.9266947420824746,1.0675505254092201,1.0591396740258205,-0.4130027839015729,1.6464567391114484,-0.7639222655044755,-0.33115201506490505,-2.1054031846049996,2.0697721097103496,0.24439587621825065,1.8662383890198717,1.138721370400964,0.9451389623407138,1.6984878039732823,-0.6924609238879748,0.26861365381914376,1.1436079001022867,-0.1704130968335762,1.112192969720432,-0.14059862423431896,1.0150879111753266,0.3912245979789011,-1.0085802974254625,0.12489394468227431,0.940715803891102,0.8522321107876281,-0.3210080437331556,-0.12446681042664187],\"type\":\"scatter\"},{\"line\":{\"color\":\"rgba(50, 171, 96, 1.0)\",\"dash\":\"solid\",\"shape\":\"linear\",\"width\":1.3},\"mode\":\"lines\",\"name\":\"C\",\"text\":\"\",\"x\":[0,1,2,3,4,5,6,7,8,9,10,11,12,13,14,15,16,17,18,19,20,21,22,23,24,25,26,27,28,29,30,31,32,33,34,35,36,37,38,39,40,41,42,43,44,45,46,47,48,49,50,51,52,53,54,55,56,57,58,59,60,61,62,63,64,65,66,67,68,69,70,71,72,73,74,75,76,77,78,79,80,81,82,83,84,85,86,87,88,89,90,91,92,93,94,95,96,97,98,99],\"y\":[-0.34202531207788545,-1.1222644470835623,0.7028141803063046,-1.480542876628892,-0.9233934593064455,0.5036205587923401,1.4660744366199934,-0.21608707226005955,-1.1093147070053189,1.433557888382385,-0.8756375577785833,1.8804371359806382,0.9652403751072904,0.28463325794690736,-1.0144520633697285,-0.7673921859551343,0.6564409778143822,-0.5333563310336471,-0.39986394721001606,0.8305702442813395,-0.44809448978486593,0.049755930390898345,2.6326085049249,-0.01833363814526974,0.3441520200024451,-1.7866472901597523,0.3279751470912204,-0.651356902544409,-1.9274271068441076,-1.370102823710896,0.7173151301957572,-1.5489209310423662,0.5376097134578425,1.8922423041507017,0.809397641924778,0.20384111665149685,-0.6277025287109835,-0.8751068206707202,1.0533389203914831,-1.2631932199633122,1.2306688540802848,0.7602783043009048,-0.30484670532054464,0.7725060250156658,-0.8299347589536743,-0.8026514561118214,0.8530052334858856,-1.6020389893628182,0.07370833078691273,0.6242170813905074,-0.7494457547772824,1.0713472336931962,0.4223421938420806,0.42263534449981793,1.4646456275285444,1.039683827554642,-0.30023425832023526,0.37404649991939753,0.4673122624237375,0.18731902338959072,1.5542151833418307,0.030645771385122117,-0.8318116408604491,-1.1263419390554672,0.5358409341661668,-1.9657428068175744,0.6348557749007114,-0.22126233057382555,-0.3574269524949713,-0.08599473004005423,0.021975676472548403,1.4977920735405388,-0.8390333265648123,-2.2313899182895818,1.3614113456212968,-1.1755163614388362,-1.776343557538182,0.29042700200692667,-0.838329491264759,1.0217453683864703,-0.7943644046396928,-0.5768203269604888,-1.1605826216175161,-1.6411546834540554,0.31404144741132656,0.551072360896318,-0.5790178473959828,0.008919696842239469,1.808423009360889,-2.3241472476965597,-0.6701412045400894,0.5443306706696933,0.789808416199637,0.06654335004375507,-0.3184402371805494,-0.8890998642263612,-0.4835588721141622,-0.6833884018172537,0.14227766099943137,-0.7282562084320509],\"type\":\"scatter\"},{\"line\":{\"color\":\"rgba(128, 0, 128, 1.0)\",\"dash\":\"solid\",\"shape\":\"linear\",\"width\":1.3},\"mode\":\"lines\",\"name\":\"D\",\"text\":\"\",\"x\":[0,1,2,3,4,5,6,7,8,9,10,11,12,13,14,15,16,17,18,19,20,21,22,23,24,25,26,27,28,29,30,31,32,33,34,35,36,37,38,39,40,41,42,43,44,45,46,47,48,49,50,51,52,53,54,55,56,57,58,59,60,61,62,63,64,65,66,67,68,69,70,71,72,73,74,75,76,77,78,79,80,81,82,83,84,85,86,87,88,89,90,91,92,93,94,95,96,97,98,99],\"y\":[2.3273910288552506,-0.6334933422691658,-0.4319441967976972,0.8577780510833726,1.3174059338669621,-0.6419320987216489,-1.3623116287539814,-0.36468518093902114,-0.8450845612877584,-0.4881826737960272,0.09476315850175457,1.0707324179943876,0.3002091046018555,0.9544992905670775,-1.5127659587156748,-0.5773216582309553,-0.9076002676818018,-0.523402182113726,-0.5149440398200762,-0.6431734614961144,-1.5370571149551584,0.9325810997834867,-0.3799828394287921,-0.11822808269683163,-0.524651240767075,0.7897693225404266,1.467359904266115,0.2537630042514331,0.6743251965769663,0.5896915024727922,-0.045371342409358674,0.2182240360478912,1.40776850307784,0.041593127323566556,-0.5319973112214076,-0.05599391621882997,-0.1061570381773591,-0.6161882918476722,-0.07818898211415566,0.010637516591020602,-0.6182877208698392,-1.2838999360709513,-1.4007084269364891,1.427510765925255,0.032155487844832034,0.28333166882826216,1.006725884900438,-1.0523893986368669,-0.9336714173023393,-1.3563112450957753,-0.5731588466774825,0.4075153149982536,-0.3644485580192882,0.8600600388065972,-0.14234796247850964,1.1451547562188789,-0.752281620428336,0.1577097727954971,0.6614599988815082,-0.5426977912871537,0.21117520713766527,1.6280984663042002,0.31213880062866084,-0.2284117223697516,-0.7480587993056564,1.7398577171738578,0.1915555887976298,-0.9612225264785467,-0.11257263417371008,-0.051376345390612116,0.6067179528849395,0.2613977081738276,0.04367550982255278,-0.07256060375107316,0.0889325342151191,-1.2494846785625786,-0.4623623677571795,1.581560174643525,-0.11297473937727727,1.6909755749235467,-0.5030135767939994,-0.3911481682390143,1.0747468470735577,0.6833784597022645,0.3483076837286668,0.8515336574151208,0.6247803986944622,0.2034486283047299,0.24790489952176153,-1.124912560396261,1.5618180213234496,-0.46369657821326493,-1.0174996099740776,1.097651723730236,-0.6130002595398112,0.028871294808732635,0.3690582224437009,0.31554028066586876,-0.75027510698757,1.1742404037714962],\"type\":\"scatter\"}],                        {\"legend\":{\"bgcolor\":\"#F5F6F9\",\"font\":{\"color\":\"#4D5663\"}},\"paper_bgcolor\":\"#F5F6F9\",\"plot_bgcolor\":\"#F5F6F9\",\"template\":{\"data\":{\"barpolar\":[{\"marker\":{\"line\":{\"color\":\"#E5ECF6\",\"width\":0.5},\"pattern\":{\"fillmode\":\"overlay\",\"size\":10,\"solidity\":0.2}},\"type\":\"barpolar\"}],\"bar\":[{\"error_x\":{\"color\":\"#2a3f5f\"},\"error_y\":{\"color\":\"#2a3f5f\"},\"marker\":{\"line\":{\"color\":\"#E5ECF6\",\"width\":0.5},\"pattern\":{\"fillmode\":\"overlay\",\"size\":10,\"solidity\":0.2}},\"type\":\"bar\"}],\"carpet\":[{\"aaxis\":{\"endlinecolor\":\"#2a3f5f\",\"gridcolor\":\"white\",\"linecolor\":\"white\",\"minorgridcolor\":\"white\",\"startlinecolor\":\"#2a3f5f\"},\"baxis\":{\"endlinecolor\":\"#2a3f5f\",\"gridcolor\":\"white\",\"linecolor\":\"white\",\"minorgridcolor\":\"white\",\"startlinecolor\":\"#2a3f5f\"},\"type\":\"carpet\"}],\"choropleth\":[{\"colorbar\":{\"outlinewidth\":0,\"ticks\":\"\"},\"type\":\"choropleth\"}],\"contourcarpet\":[{\"colorbar\":{\"outlinewidth\":0,\"ticks\":\"\"},\"type\":\"contourcarpet\"}],\"contour\":[{\"colorbar\":{\"outlinewidth\":0,\"ticks\":\"\"},\"colorscale\":[[0.0,\"#0d0887\"],[0.1111111111111111,\"#46039f\"],[0.2222222222222222,\"#7201a8\"],[0.3333333333333333,\"#9c179e\"],[0.4444444444444444,\"#bd3786\"],[0.5555555555555556,\"#d8576b\"],[0.6666666666666666,\"#ed7953\"],[0.7777777777777778,\"#fb9f3a\"],[0.8888888888888888,\"#fdca26\"],[1.0,\"#f0f921\"]],\"type\":\"contour\"}],\"heatmapgl\":[{\"colorbar\":{\"outlinewidth\":0,\"ticks\":\"\"},\"colorscale\":[[0.0,\"#0d0887\"],[0.1111111111111111,\"#46039f\"],[0.2222222222222222,\"#7201a8\"],[0.3333333333333333,\"#9c179e\"],[0.4444444444444444,\"#bd3786\"],[0.5555555555555556,\"#d8576b\"],[0.6666666666666666,\"#ed7953\"],[0.7777777777777778,\"#fb9f3a\"],[0.8888888888888888,\"#fdca26\"],[1.0,\"#f0f921\"]],\"type\":\"heatmapgl\"}],\"heatmap\":[{\"colorbar\":{\"outlinewidth\":0,\"ticks\":\"\"},\"colorscale\":[[0.0,\"#0d0887\"],[0.1111111111111111,\"#46039f\"],[0.2222222222222222,\"#7201a8\"],[0.3333333333333333,\"#9c179e\"],[0.4444444444444444,\"#bd3786\"],[0.5555555555555556,\"#d8576b\"],[0.6666666666666666,\"#ed7953\"],[0.7777777777777778,\"#fb9f3a\"],[0.8888888888888888,\"#fdca26\"],[1.0,\"#f0f921\"]],\"type\":\"heatmap\"}],\"histogram2dcontour\":[{\"colorbar\":{\"outlinewidth\":0,\"ticks\":\"\"},\"colorscale\":[[0.0,\"#0d0887\"],[0.1111111111111111,\"#46039f\"],[0.2222222222222222,\"#7201a8\"],[0.3333333333333333,\"#9c179e\"],[0.4444444444444444,\"#bd3786\"],[0.5555555555555556,\"#d8576b\"],[0.6666666666666666,\"#ed7953\"],[0.7777777777777778,\"#fb9f3a\"],[0.8888888888888888,\"#fdca26\"],[1.0,\"#f0f921\"]],\"type\":\"histogram2dcontour\"}],\"histogram2d\":[{\"colorbar\":{\"outlinewidth\":0,\"ticks\":\"\"},\"colorscale\":[[0.0,\"#0d0887\"],[0.1111111111111111,\"#46039f\"],[0.2222222222222222,\"#7201a8\"],[0.3333333333333333,\"#9c179e\"],[0.4444444444444444,\"#bd3786\"],[0.5555555555555556,\"#d8576b\"],[0.6666666666666666,\"#ed7953\"],[0.7777777777777778,\"#fb9f3a\"],[0.8888888888888888,\"#fdca26\"],[1.0,\"#f0f921\"]],\"type\":\"histogram2d\"}],\"histogram\":[{\"marker\":{\"pattern\":{\"fillmode\":\"overlay\",\"size\":10,\"solidity\":0.2}},\"type\":\"histogram\"}],\"mesh3d\":[{\"colorbar\":{\"outlinewidth\":0,\"ticks\":\"\"},\"type\":\"mesh3d\"}],\"parcoords\":[{\"line\":{\"colorbar\":{\"outlinewidth\":0,\"ticks\":\"\"}},\"type\":\"parcoords\"}],\"pie\":[{\"automargin\":true,\"type\":\"pie\"}],\"scatter3d\":[{\"line\":{\"colorbar\":{\"outlinewidth\":0,\"ticks\":\"\"}},\"marker\":{\"colorbar\":{\"outlinewidth\":0,\"ticks\":\"\"}},\"type\":\"scatter3d\"}],\"scattercarpet\":[{\"marker\":{\"colorbar\":{\"outlinewidth\":0,\"ticks\":\"\"}},\"type\":\"scattercarpet\"}],\"scattergeo\":[{\"marker\":{\"colorbar\":{\"outlinewidth\":0,\"ticks\":\"\"}},\"type\":\"scattergeo\"}],\"scattergl\":[{\"marker\":{\"colorbar\":{\"outlinewidth\":0,\"ticks\":\"\"}},\"type\":\"scattergl\"}],\"scattermapbox\":[{\"marker\":{\"colorbar\":{\"outlinewidth\":0,\"ticks\":\"\"}},\"type\":\"scattermapbox\"}],\"scatterpolargl\":[{\"marker\":{\"colorbar\":{\"outlinewidth\":0,\"ticks\":\"\"}},\"type\":\"scatterpolargl\"}],\"scatterpolar\":[{\"marker\":{\"colorbar\":{\"outlinewidth\":0,\"ticks\":\"\"}},\"type\":\"scatterpolar\"}],\"scatter\":[{\"fillpattern\":{\"fillmode\":\"overlay\",\"size\":10,\"solidity\":0.2},\"type\":\"scatter\"}],\"scatterternary\":[{\"marker\":{\"colorbar\":{\"outlinewidth\":0,\"ticks\":\"\"}},\"type\":\"scatterternary\"}],\"surface\":[{\"colorbar\":{\"outlinewidth\":0,\"ticks\":\"\"},\"colorscale\":[[0.0,\"#0d0887\"],[0.1111111111111111,\"#46039f\"],[0.2222222222222222,\"#7201a8\"],[0.3333333333333333,\"#9c179e\"],[0.4444444444444444,\"#bd3786\"],[0.5555555555555556,\"#d8576b\"],[0.6666666666666666,\"#ed7953\"],[0.7777777777777778,\"#fb9f3a\"],[0.8888888888888888,\"#fdca26\"],[1.0,\"#f0f921\"]],\"type\":\"surface\"}],\"table\":[{\"cells\":{\"fill\":{\"color\":\"#EBF0F8\"},\"line\":{\"color\":\"white\"}},\"header\":{\"fill\":{\"color\":\"#C8D4E3\"},\"line\":{\"color\":\"white\"}},\"type\":\"table\"}]},\"layout\":{\"annotationdefaults\":{\"arrowcolor\":\"#2a3f5f\",\"arrowhead\":0,\"arrowwidth\":1},\"autotypenumbers\":\"strict\",\"coloraxis\":{\"colorbar\":{\"outlinewidth\":0,\"ticks\":\"\"}},\"colorscale\":{\"diverging\":[[0,\"#8e0152\"],[0.1,\"#c51b7d\"],[0.2,\"#de77ae\"],[0.3,\"#f1b6da\"],[0.4,\"#fde0ef\"],[0.5,\"#f7f7f7\"],[0.6,\"#e6f5d0\"],[0.7,\"#b8e186\"],[0.8,\"#7fbc41\"],[0.9,\"#4d9221\"],[1,\"#276419\"]],\"sequential\":[[0.0,\"#0d0887\"],[0.1111111111111111,\"#46039f\"],[0.2222222222222222,\"#7201a8\"],[0.3333333333333333,\"#9c179e\"],[0.4444444444444444,\"#bd3786\"],[0.5555555555555556,\"#d8576b\"],[0.6666666666666666,\"#ed7953\"],[0.7777777777777778,\"#fb9f3a\"],[0.8888888888888888,\"#fdca26\"],[1.0,\"#f0f921\"]],\"sequentialminus\":[[0.0,\"#0d0887\"],[0.1111111111111111,\"#46039f\"],[0.2222222222222222,\"#7201a8\"],[0.3333333333333333,\"#9c179e\"],[0.4444444444444444,\"#bd3786\"],[0.5555555555555556,\"#d8576b\"],[0.6666666666666666,\"#ed7953\"],[0.7777777777777778,\"#fb9f3a\"],[0.8888888888888888,\"#fdca26\"],[1.0,\"#f0f921\"]]},\"colorway\":[\"#636efa\",\"#EF553B\",\"#00cc96\",\"#ab63fa\",\"#FFA15A\",\"#19d3f3\",\"#FF6692\",\"#B6E880\",\"#FF97FF\",\"#FECB52\"],\"font\":{\"color\":\"#2a3f5f\"},\"geo\":{\"bgcolor\":\"white\",\"lakecolor\":\"white\",\"landcolor\":\"#E5ECF6\",\"showlakes\":true,\"showland\":true,\"subunitcolor\":\"white\"},\"hoverlabel\":{\"align\":\"left\"},\"hovermode\":\"closest\",\"mapbox\":{\"style\":\"light\"},\"paper_bgcolor\":\"white\",\"plot_bgcolor\":\"#E5ECF6\",\"polar\":{\"angularaxis\":{\"gridcolor\":\"white\",\"linecolor\":\"white\",\"ticks\":\"\"},\"bgcolor\":\"#E5ECF6\",\"radialaxis\":{\"gridcolor\":\"white\",\"linecolor\":\"white\",\"ticks\":\"\"}},\"scene\":{\"xaxis\":{\"backgroundcolor\":\"#E5ECF6\",\"gridcolor\":\"white\",\"gridwidth\":2,\"linecolor\":\"white\",\"showbackground\":true,\"ticks\":\"\",\"zerolinecolor\":\"white\"},\"yaxis\":{\"backgroundcolor\":\"#E5ECF6\",\"gridcolor\":\"white\",\"gridwidth\":2,\"linecolor\":\"white\",\"showbackground\":true,\"ticks\":\"\",\"zerolinecolor\":\"white\"},\"zaxis\":{\"backgroundcolor\":\"#E5ECF6\",\"gridcolor\":\"white\",\"gridwidth\":2,\"linecolor\":\"white\",\"showbackground\":true,\"ticks\":\"\",\"zerolinecolor\":\"white\"}},\"shapedefaults\":{\"line\":{\"color\":\"#2a3f5f\"}},\"ternary\":{\"aaxis\":{\"gridcolor\":\"white\",\"linecolor\":\"white\",\"ticks\":\"\"},\"baxis\":{\"gridcolor\":\"white\",\"linecolor\":\"white\",\"ticks\":\"\"},\"bgcolor\":\"#E5ECF6\",\"caxis\":{\"gridcolor\":\"white\",\"linecolor\":\"white\",\"ticks\":\"\"}},\"title\":{\"x\":0.05},\"xaxis\":{\"automargin\":true,\"gridcolor\":\"white\",\"linecolor\":\"white\",\"ticks\":\"\",\"title\":{\"standoff\":15},\"zerolinecolor\":\"white\",\"zerolinewidth\":2},\"yaxis\":{\"automargin\":true,\"gridcolor\":\"white\",\"linecolor\":\"white\",\"ticks\":\"\",\"title\":{\"standoff\":15},\"zerolinecolor\":\"white\",\"zerolinewidth\":2}}},\"title\":{\"font\":{\"color\":\"#4D5663\"}},\"xaxis\":{\"gridcolor\":\"#E1E5ED\",\"showgrid\":true,\"tickfont\":{\"color\":\"#4D5663\"},\"title\":{\"font\":{\"color\":\"#4D5663\"},\"text\":\"\"},\"zerolinecolor\":\"#E1E5ED\"},\"yaxis\":{\"gridcolor\":\"#E1E5ED\",\"showgrid\":true,\"tickfont\":{\"color\":\"#4D5663\"},\"title\":{\"font\":{\"color\":\"#4D5663\"},\"text\":\"\"},\"zerolinecolor\":\"#E1E5ED\"}},                        {\"showLink\": true, \"linkText\": \"Export to plot.ly\", \"plotlyServerURL\": \"https://plot.ly\", \"responsive\": true}                    ).then(function(){\n",
       "                            \n",
       "var gd = document.getElementById('5534cc41-6611-4c97-a713-838e8cb1fc25');\n",
       "var x = new MutationObserver(function (mutations, observer) {{\n",
       "        var display = window.getComputedStyle(gd).display;\n",
       "        if (!display || display === 'none') {{\n",
       "            console.log([gd, 'removed!']);\n",
       "            Plotly.purge(gd);\n",
       "            observer.disconnect();\n",
       "        }}\n",
       "}});\n",
       "\n",
       "// Listen for the removal of the full notebook cells\n",
       "var notebookContainer = gd.closest('#notebook-container');\n",
       "if (notebookContainer) {{\n",
       "    x.observe(notebookContainer, {childList: true});\n",
       "}}\n",
       "\n",
       "// Listen for the clearing of the current output cell\n",
       "var outputEl = gd.closest('.output');\n",
       "if (outputEl) {{\n",
       "    x.observe(outputEl, {childList: true});\n",
       "}}\n",
       "\n",
       "                        })                };                });            </script>        </div>"
      ]
     },
     "metadata": {},
     "output_type": "display_data"
    }
   ],
   "source": [
    "df.iplot()"
   ]
  },
  {
   "cell_type": "markdown",
   "id": "51209a55",
   "metadata": {},
   "source": [
    "## Scatter Plot"
   ]
  },
  {
   "cell_type": "code",
   "execution_count": 8,
   "id": "1e5d8aed",
   "metadata": {},
   "outputs": [
    {
     "data": {
      "application/vnd.plotly.v1+json": {
       "config": {
        "linkText": "Export to plot.ly",
        "plotlyServerURL": "https://plot.ly",
        "showLink": true
       },
       "data": [
        {
         "line": {
          "color": "rgba(255, 153, 51, 1.0)",
          "dash": "solid",
          "shape": "linear",
          "width": 1.3
         },
         "mode": "lines",
         "name": "B",
         "text": "",
         "type": "scatter",
         "x": [
          -0.28417787083349927,
          0.6413274499391824,
          -0.33336861080745656,
          2.006764818840116,
          1.8728377960165354,
          -0.24882852649873424,
          -0.29861874001993766,
          -0.5527446223333694,
          -0.06284839007619376,
          0.6872961946392325,
          -0.48047030452308376,
          -0.15819211016748583,
          0.3979193283561742,
          -0.9231892579778409,
          0.5315667297247073,
          1.0017781127586238,
          -2.0721385248636266,
          0.9212012857921277,
          -0.25197735935695925,
          -2.5438707821411417,
          -0.9797570746505114,
          -1.785600451605513,
          -1.3677304085261701,
          -0.8597776400411747,
          -0.38161314435598254,
          -0.21955301709234307,
          -0.46962502773123727,
          0.08658003414889327,
          -2.624997706901156,
          1.617799016690096,
          0.2322838968046603,
          -0.5747107444070692,
          1.306245125000283,
          -0.7424921675650964,
          -0.6846539842162228,
          2.1601206807767657,
          -1.1832051219606274,
          0.21698850723985674,
          1.693120559186067,
          -1.4725670406597433,
          0.5268215706826592,
          0.22618522749666412,
          1.3241925977559907,
          -1.1750950935332447,
          0.779369119313454,
          -1.0622472454257539,
          -0.7479801434627531,
          -1.11546714284219,
          0.6490101527890603,
          -0.22489797094481306,
          -1.1740087820316207,
          0.08056535097254833,
          0.615871865696655,
          -0.17445791673987496,
          0.8456171781805357,
          1.8168544512752107,
          0.9067056603187674,
          -0.1318278852951855,
          -0.9806500898254744,
          0.4032491907360089,
          0.5456168400678882,
          1.6799435539133445,
          -1.417466304121186,
          1.1183981281871356,
          -0.5754137503060296,
          -0.4451311781056884,
          0.6524364369982173,
          -0.2531055435068277,
          -1.2238276239485155,
          0.5079425450594325,
          -0.7127247095374196,
          0.5340289009521697,
          -0.45390448707790165,
          -0.004315066126661081,
          0.01607814905285022,
          0.23686645998285866,
          -0.22681193933351268,
          -1.282908829683012,
          1.0598838321126345,
          -0.28086616600779785,
          -1.4665713559786704,
          0.9606502786533506,
          0.30386951258373074,
          0.9913019602065628,
          -0.5343798033042318,
          -1.2672235642375103,
          0.3206869075841262,
          0.059509125355931794,
          -0.7576598946355392,
          -0.5340235908042054,
          -1.1285727143193942,
          2.1140216110955588,
          1.0418469094947094,
          0.2854170485589883,
          -1.9999513786857224,
          0.9479014280894817,
          -1.14631525364236,
          1.6505960122936931,
          0.4751216841159835,
          0.07362728384021043
         ],
         "y": [
          -0.9942875062320643,
          0.6693618378433789,
          1.4375270448174466,
          -0.7601350990541826,
          -1.3856509449362089,
          0.7699061108404363,
          0.04944535748246853,
          0.6061305364332712,
          -0.23326162112807344,
          2.1617704129411974,
          0.4182423292502963,
          -0.8119088645105795,
          0.644305020890722,
          0.12994496488584203,
          -1.5914719130541115,
          -0.3958209142720946,
          0.8320625813285379,
          0.3595709913909463,
          0.8608355243878564,
          -0.5121802342042246,
          -0.19251810768470703,
          -1.1025637585273937,
          0.7127282902106402,
          0.9252123054557275,
          0.26684715309611456,
          -2.0304254233704966,
          1.1185689589290568,
          0.12590272762439111,
          -0.4125100158666027,
          -1.3224183185741754,
          0.3344566151898501,
          -2.1168986945450343,
          -0.9081775216742415,
          -1.6901431359280612,
          1.0403812288066845,
          0.22958405742077428,
          -0.8426375495425725,
          2.276061422029563,
          0.5778368449479325,
          1.144721063467178,
          1.8299513587167864,
          1.4621795449801354,
          -2.4368266921099533,
          1.013362811041721,
          -0.5778304519601165,
          1.0356709009219747,
          -0.504355394746898,
          0.35213287720179104,
          -1.2035825393525954,
          0.8106345843941292,
          -1.595771889074104,
          0.2457069745672563,
          -0.8566043574987787,
          0.3918816986658821,
          -0.2636254412853934,
          -1.0805801266361703,
          0.7319184842233384,
          -0.9438163723917274,
          -0.07189078116332594,
          -1.8693359956196978,
          0.2080888807547833,
          -0.14434974751758786,
          -1.0649759862550428,
          0.27727223466743445,
          -0.09036623691422577,
          1.1030507777767082,
          0.6415368409136328,
          -1.3194312808649182,
          0.2572171302463949,
          0.9309998401890984,
          1.4420973248489697,
          0.42381088497255825,
          0.9266947420824746,
          1.0675505254092201,
          1.0591396740258205,
          -0.4130027839015729,
          1.6464567391114484,
          -0.7639222655044755,
          -0.33115201506490505,
          -2.1054031846049996,
          2.0697721097103496,
          0.24439587621825065,
          1.8662383890198717,
          1.138721370400964,
          0.9451389623407138,
          1.6984878039732823,
          -0.6924609238879748,
          0.26861365381914376,
          1.1436079001022867,
          -0.1704130968335762,
          1.112192969720432,
          -0.14059862423431896,
          1.0150879111753266,
          0.3912245979789011,
          -1.0085802974254625,
          0.12489394468227431,
          0.940715803891102,
          0.8522321107876281,
          -0.3210080437331556,
          -0.12446681042664187
         ]
        }
       ],
       "layout": {
        "legend": {
         "bgcolor": "#F5F6F9",
         "font": {
          "color": "#4D5663"
         }
        },
        "paper_bgcolor": "#F5F6F9",
        "plot_bgcolor": "#F5F6F9",
        "template": {
         "data": {
          "bar": [
           {
            "error_x": {
             "color": "#2a3f5f"
            },
            "error_y": {
             "color": "#2a3f5f"
            },
            "marker": {
             "line": {
              "color": "#E5ECF6",
              "width": 0.5
             },
             "pattern": {
              "fillmode": "overlay",
              "size": 10,
              "solidity": 0.2
             }
            },
            "type": "bar"
           }
          ],
          "barpolar": [
           {
            "marker": {
             "line": {
              "color": "#E5ECF6",
              "width": 0.5
             },
             "pattern": {
              "fillmode": "overlay",
              "size": 10,
              "solidity": 0.2
             }
            },
            "type": "barpolar"
           }
          ],
          "carpet": [
           {
            "aaxis": {
             "endlinecolor": "#2a3f5f",
             "gridcolor": "white",
             "linecolor": "white",
             "minorgridcolor": "white",
             "startlinecolor": "#2a3f5f"
            },
            "baxis": {
             "endlinecolor": "#2a3f5f",
             "gridcolor": "white",
             "linecolor": "white",
             "minorgridcolor": "white",
             "startlinecolor": "#2a3f5f"
            },
            "type": "carpet"
           }
          ],
          "choropleth": [
           {
            "colorbar": {
             "outlinewidth": 0,
             "ticks": ""
            },
            "type": "choropleth"
           }
          ],
          "contour": [
           {
            "colorbar": {
             "outlinewidth": 0,
             "ticks": ""
            },
            "colorscale": [
             [
              0,
              "#0d0887"
             ],
             [
              0.1111111111111111,
              "#46039f"
             ],
             [
              0.2222222222222222,
              "#7201a8"
             ],
             [
              0.3333333333333333,
              "#9c179e"
             ],
             [
              0.4444444444444444,
              "#bd3786"
             ],
             [
              0.5555555555555556,
              "#d8576b"
             ],
             [
              0.6666666666666666,
              "#ed7953"
             ],
             [
              0.7777777777777778,
              "#fb9f3a"
             ],
             [
              0.8888888888888888,
              "#fdca26"
             ],
             [
              1,
              "#f0f921"
             ]
            ],
            "type": "contour"
           }
          ],
          "contourcarpet": [
           {
            "colorbar": {
             "outlinewidth": 0,
             "ticks": ""
            },
            "type": "contourcarpet"
           }
          ],
          "heatmap": [
           {
            "colorbar": {
             "outlinewidth": 0,
             "ticks": ""
            },
            "colorscale": [
             [
              0,
              "#0d0887"
             ],
             [
              0.1111111111111111,
              "#46039f"
             ],
             [
              0.2222222222222222,
              "#7201a8"
             ],
             [
              0.3333333333333333,
              "#9c179e"
             ],
             [
              0.4444444444444444,
              "#bd3786"
             ],
             [
              0.5555555555555556,
              "#d8576b"
             ],
             [
              0.6666666666666666,
              "#ed7953"
             ],
             [
              0.7777777777777778,
              "#fb9f3a"
             ],
             [
              0.8888888888888888,
              "#fdca26"
             ],
             [
              1,
              "#f0f921"
             ]
            ],
            "type": "heatmap"
           }
          ],
          "heatmapgl": [
           {
            "colorbar": {
             "outlinewidth": 0,
             "ticks": ""
            },
            "colorscale": [
             [
              0,
              "#0d0887"
             ],
             [
              0.1111111111111111,
              "#46039f"
             ],
             [
              0.2222222222222222,
              "#7201a8"
             ],
             [
              0.3333333333333333,
              "#9c179e"
             ],
             [
              0.4444444444444444,
              "#bd3786"
             ],
             [
              0.5555555555555556,
              "#d8576b"
             ],
             [
              0.6666666666666666,
              "#ed7953"
             ],
             [
              0.7777777777777778,
              "#fb9f3a"
             ],
             [
              0.8888888888888888,
              "#fdca26"
             ],
             [
              1,
              "#f0f921"
             ]
            ],
            "type": "heatmapgl"
           }
          ],
          "histogram": [
           {
            "marker": {
             "pattern": {
              "fillmode": "overlay",
              "size": 10,
              "solidity": 0.2
             }
            },
            "type": "histogram"
           }
          ],
          "histogram2d": [
           {
            "colorbar": {
             "outlinewidth": 0,
             "ticks": ""
            },
            "colorscale": [
             [
              0,
              "#0d0887"
             ],
             [
              0.1111111111111111,
              "#46039f"
             ],
             [
              0.2222222222222222,
              "#7201a8"
             ],
             [
              0.3333333333333333,
              "#9c179e"
             ],
             [
              0.4444444444444444,
              "#bd3786"
             ],
             [
              0.5555555555555556,
              "#d8576b"
             ],
             [
              0.6666666666666666,
              "#ed7953"
             ],
             [
              0.7777777777777778,
              "#fb9f3a"
             ],
             [
              0.8888888888888888,
              "#fdca26"
             ],
             [
              1,
              "#f0f921"
             ]
            ],
            "type": "histogram2d"
           }
          ],
          "histogram2dcontour": [
           {
            "colorbar": {
             "outlinewidth": 0,
             "ticks": ""
            },
            "colorscale": [
             [
              0,
              "#0d0887"
             ],
             [
              0.1111111111111111,
              "#46039f"
             ],
             [
              0.2222222222222222,
              "#7201a8"
             ],
             [
              0.3333333333333333,
              "#9c179e"
             ],
             [
              0.4444444444444444,
              "#bd3786"
             ],
             [
              0.5555555555555556,
              "#d8576b"
             ],
             [
              0.6666666666666666,
              "#ed7953"
             ],
             [
              0.7777777777777778,
              "#fb9f3a"
             ],
             [
              0.8888888888888888,
              "#fdca26"
             ],
             [
              1,
              "#f0f921"
             ]
            ],
            "type": "histogram2dcontour"
           }
          ],
          "mesh3d": [
           {
            "colorbar": {
             "outlinewidth": 0,
             "ticks": ""
            },
            "type": "mesh3d"
           }
          ],
          "parcoords": [
           {
            "line": {
             "colorbar": {
              "outlinewidth": 0,
              "ticks": ""
             }
            },
            "type": "parcoords"
           }
          ],
          "pie": [
           {
            "automargin": true,
            "type": "pie"
           }
          ],
          "scatter": [
           {
            "fillpattern": {
             "fillmode": "overlay",
             "size": 10,
             "solidity": 0.2
            },
            "type": "scatter"
           }
          ],
          "scatter3d": [
           {
            "line": {
             "colorbar": {
              "outlinewidth": 0,
              "ticks": ""
             }
            },
            "marker": {
             "colorbar": {
              "outlinewidth": 0,
              "ticks": ""
             }
            },
            "type": "scatter3d"
           }
          ],
          "scattercarpet": [
           {
            "marker": {
             "colorbar": {
              "outlinewidth": 0,
              "ticks": ""
             }
            },
            "type": "scattercarpet"
           }
          ],
          "scattergeo": [
           {
            "marker": {
             "colorbar": {
              "outlinewidth": 0,
              "ticks": ""
             }
            },
            "type": "scattergeo"
           }
          ],
          "scattergl": [
           {
            "marker": {
             "colorbar": {
              "outlinewidth": 0,
              "ticks": ""
             }
            },
            "type": "scattergl"
           }
          ],
          "scattermapbox": [
           {
            "marker": {
             "colorbar": {
              "outlinewidth": 0,
              "ticks": ""
             }
            },
            "type": "scattermapbox"
           }
          ],
          "scatterpolar": [
           {
            "marker": {
             "colorbar": {
              "outlinewidth": 0,
              "ticks": ""
             }
            },
            "type": "scatterpolar"
           }
          ],
          "scatterpolargl": [
           {
            "marker": {
             "colorbar": {
              "outlinewidth": 0,
              "ticks": ""
             }
            },
            "type": "scatterpolargl"
           }
          ],
          "scatterternary": [
           {
            "marker": {
             "colorbar": {
              "outlinewidth": 0,
              "ticks": ""
             }
            },
            "type": "scatterternary"
           }
          ],
          "surface": [
           {
            "colorbar": {
             "outlinewidth": 0,
             "ticks": ""
            },
            "colorscale": [
             [
              0,
              "#0d0887"
             ],
             [
              0.1111111111111111,
              "#46039f"
             ],
             [
              0.2222222222222222,
              "#7201a8"
             ],
             [
              0.3333333333333333,
              "#9c179e"
             ],
             [
              0.4444444444444444,
              "#bd3786"
             ],
             [
              0.5555555555555556,
              "#d8576b"
             ],
             [
              0.6666666666666666,
              "#ed7953"
             ],
             [
              0.7777777777777778,
              "#fb9f3a"
             ],
             [
              0.8888888888888888,
              "#fdca26"
             ],
             [
              1,
              "#f0f921"
             ]
            ],
            "type": "surface"
           }
          ],
          "table": [
           {
            "cells": {
             "fill": {
              "color": "#EBF0F8"
             },
             "line": {
              "color": "white"
             }
            },
            "header": {
             "fill": {
              "color": "#C8D4E3"
             },
             "line": {
              "color": "white"
             }
            },
            "type": "table"
           }
          ]
         },
         "layout": {
          "annotationdefaults": {
           "arrowcolor": "#2a3f5f",
           "arrowhead": 0,
           "arrowwidth": 1
          },
          "autotypenumbers": "strict",
          "coloraxis": {
           "colorbar": {
            "outlinewidth": 0,
            "ticks": ""
           }
          },
          "colorscale": {
           "diverging": [
            [
             0,
             "#8e0152"
            ],
            [
             0.1,
             "#c51b7d"
            ],
            [
             0.2,
             "#de77ae"
            ],
            [
             0.3,
             "#f1b6da"
            ],
            [
             0.4,
             "#fde0ef"
            ],
            [
             0.5,
             "#f7f7f7"
            ],
            [
             0.6,
             "#e6f5d0"
            ],
            [
             0.7,
             "#b8e186"
            ],
            [
             0.8,
             "#7fbc41"
            ],
            [
             0.9,
             "#4d9221"
            ],
            [
             1,
             "#276419"
            ]
           ],
           "sequential": [
            [
             0,
             "#0d0887"
            ],
            [
             0.1111111111111111,
             "#46039f"
            ],
            [
             0.2222222222222222,
             "#7201a8"
            ],
            [
             0.3333333333333333,
             "#9c179e"
            ],
            [
             0.4444444444444444,
             "#bd3786"
            ],
            [
             0.5555555555555556,
             "#d8576b"
            ],
            [
             0.6666666666666666,
             "#ed7953"
            ],
            [
             0.7777777777777778,
             "#fb9f3a"
            ],
            [
             0.8888888888888888,
             "#fdca26"
            ],
            [
             1,
             "#f0f921"
            ]
           ],
           "sequentialminus": [
            [
             0,
             "#0d0887"
            ],
            [
             0.1111111111111111,
             "#46039f"
            ],
            [
             0.2222222222222222,
             "#7201a8"
            ],
            [
             0.3333333333333333,
             "#9c179e"
            ],
            [
             0.4444444444444444,
             "#bd3786"
            ],
            [
             0.5555555555555556,
             "#d8576b"
            ],
            [
             0.6666666666666666,
             "#ed7953"
            ],
            [
             0.7777777777777778,
             "#fb9f3a"
            ],
            [
             0.8888888888888888,
             "#fdca26"
            ],
            [
             1,
             "#f0f921"
            ]
           ]
          },
          "colorway": [
           "#636efa",
           "#EF553B",
           "#00cc96",
           "#ab63fa",
           "#FFA15A",
           "#19d3f3",
           "#FF6692",
           "#B6E880",
           "#FF97FF",
           "#FECB52"
          ],
          "font": {
           "color": "#2a3f5f"
          },
          "geo": {
           "bgcolor": "white",
           "lakecolor": "white",
           "landcolor": "#E5ECF6",
           "showlakes": true,
           "showland": true,
           "subunitcolor": "white"
          },
          "hoverlabel": {
           "align": "left"
          },
          "hovermode": "closest",
          "mapbox": {
           "style": "light"
          },
          "paper_bgcolor": "white",
          "plot_bgcolor": "#E5ECF6",
          "polar": {
           "angularaxis": {
            "gridcolor": "white",
            "linecolor": "white",
            "ticks": ""
           },
           "bgcolor": "#E5ECF6",
           "radialaxis": {
            "gridcolor": "white",
            "linecolor": "white",
            "ticks": ""
           }
          },
          "scene": {
           "xaxis": {
            "backgroundcolor": "#E5ECF6",
            "gridcolor": "white",
            "gridwidth": 2,
            "linecolor": "white",
            "showbackground": true,
            "ticks": "",
            "zerolinecolor": "white"
           },
           "yaxis": {
            "backgroundcolor": "#E5ECF6",
            "gridcolor": "white",
            "gridwidth": 2,
            "linecolor": "white",
            "showbackground": true,
            "ticks": "",
            "zerolinecolor": "white"
           },
           "zaxis": {
            "backgroundcolor": "#E5ECF6",
            "gridcolor": "white",
            "gridwidth": 2,
            "linecolor": "white",
            "showbackground": true,
            "ticks": "",
            "zerolinecolor": "white"
           }
          },
          "shapedefaults": {
           "line": {
            "color": "#2a3f5f"
           }
          },
          "ternary": {
           "aaxis": {
            "gridcolor": "white",
            "linecolor": "white",
            "ticks": ""
           },
           "baxis": {
            "gridcolor": "white",
            "linecolor": "white",
            "ticks": ""
           },
           "bgcolor": "#E5ECF6",
           "caxis": {
            "gridcolor": "white",
            "linecolor": "white",
            "ticks": ""
           }
          },
          "title": {
           "x": 0.05
          },
          "xaxis": {
           "automargin": true,
           "gridcolor": "white",
           "linecolor": "white",
           "ticks": "",
           "title": {
            "standoff": 15
           },
           "zerolinecolor": "white",
           "zerolinewidth": 2
          },
          "yaxis": {
           "automargin": true,
           "gridcolor": "white",
           "linecolor": "white",
           "ticks": "",
           "title": {
            "standoff": 15
           },
           "zerolinecolor": "white",
           "zerolinewidth": 2
          }
         }
        },
        "title": {
         "font": {
          "color": "#4D5663"
         }
        },
        "xaxis": {
         "gridcolor": "#E1E5ED",
         "showgrid": true,
         "tickfont": {
          "color": "#4D5663"
         },
         "title": {
          "font": {
           "color": "#4D5663"
          },
          "text": ""
         },
         "zerolinecolor": "#E1E5ED"
        },
        "yaxis": {
         "gridcolor": "#E1E5ED",
         "showgrid": true,
         "tickfont": {
          "color": "#4D5663"
         },
         "title": {
          "font": {
           "color": "#4D5663"
          },
          "text": ""
         },
         "zerolinecolor": "#E1E5ED"
        }
       }
      },
      "text/html": [
       "<div>                            <div id=\"b0adeb3a-0b52-46d5-980c-a9fe9fccab2b\" class=\"plotly-graph-div\" style=\"height:525px; width:100%;\"></div>            <script type=\"text/javascript\">                require([\"plotly\"], function(Plotly) {                    window.PLOTLYENV=window.PLOTLYENV || {};\n",
       "                    window.PLOTLYENV.BASE_URL='https://plot.ly';                                    if (document.getElementById(\"b0adeb3a-0b52-46d5-980c-a9fe9fccab2b\")) {                    Plotly.newPlot(                        \"b0adeb3a-0b52-46d5-980c-a9fe9fccab2b\",                        [{\"line\":{\"color\":\"rgba(255, 153, 51, 1.0)\",\"dash\":\"solid\",\"shape\":\"linear\",\"width\":1.3},\"mode\":\"lines\",\"name\":\"B\",\"text\":\"\",\"x\":[-0.28417787083349927,0.6413274499391824,-0.33336861080745656,2.006764818840116,1.8728377960165354,-0.24882852649873424,-0.29861874001993766,-0.5527446223333694,-0.06284839007619376,0.6872961946392325,-0.48047030452308376,-0.15819211016748583,0.3979193283561742,-0.9231892579778409,0.5315667297247073,1.0017781127586238,-2.0721385248636266,0.9212012857921277,-0.25197735935695925,-2.5438707821411417,-0.9797570746505114,-1.785600451605513,-1.3677304085261701,-0.8597776400411747,-0.38161314435598254,-0.21955301709234307,-0.46962502773123727,0.08658003414889327,-2.624997706901156,1.617799016690096,0.2322838968046603,-0.5747107444070692,1.306245125000283,-0.7424921675650964,-0.6846539842162228,2.1601206807767657,-1.1832051219606274,0.21698850723985674,1.693120559186067,-1.4725670406597433,0.5268215706826592,0.22618522749666412,1.3241925977559907,-1.1750950935332447,0.779369119313454,-1.0622472454257539,-0.7479801434627531,-1.11546714284219,0.6490101527890603,-0.22489797094481306,-1.1740087820316207,0.08056535097254833,0.615871865696655,-0.17445791673987496,0.8456171781805357,1.8168544512752107,0.9067056603187674,-0.1318278852951855,-0.9806500898254744,0.4032491907360089,0.5456168400678882,1.6799435539133445,-1.417466304121186,1.1183981281871356,-0.5754137503060296,-0.4451311781056884,0.6524364369982173,-0.2531055435068277,-1.2238276239485155,0.5079425450594325,-0.7127247095374196,0.5340289009521697,-0.45390448707790165,-0.004315066126661081,0.01607814905285022,0.23686645998285866,-0.22681193933351268,-1.282908829683012,1.0598838321126345,-0.28086616600779785,-1.4665713559786704,0.9606502786533506,0.30386951258373074,0.9913019602065628,-0.5343798033042318,-1.2672235642375103,0.3206869075841262,0.059509125355931794,-0.7576598946355392,-0.5340235908042054,-1.1285727143193942,2.1140216110955588,1.0418469094947094,0.2854170485589883,-1.9999513786857224,0.9479014280894817,-1.14631525364236,1.6505960122936931,0.4751216841159835,0.07362728384021043],\"y\":[-0.9942875062320643,0.6693618378433789,1.4375270448174466,-0.7601350990541826,-1.3856509449362089,0.7699061108404363,0.04944535748246853,0.6061305364332712,-0.23326162112807344,2.1617704129411974,0.4182423292502963,-0.8119088645105795,0.644305020890722,0.12994496488584203,-1.5914719130541115,-0.3958209142720946,0.8320625813285379,0.3595709913909463,0.8608355243878564,-0.5121802342042246,-0.19251810768470703,-1.1025637585273937,0.7127282902106402,0.9252123054557275,0.26684715309611456,-2.0304254233704966,1.1185689589290568,0.12590272762439111,-0.4125100158666027,-1.3224183185741754,0.3344566151898501,-2.1168986945450343,-0.9081775216742415,-1.6901431359280612,1.0403812288066845,0.22958405742077428,-0.8426375495425725,2.276061422029563,0.5778368449479325,1.144721063467178,1.8299513587167864,1.4621795449801354,-2.4368266921099533,1.013362811041721,-0.5778304519601165,1.0356709009219747,-0.504355394746898,0.35213287720179104,-1.2035825393525954,0.8106345843941292,-1.595771889074104,0.2457069745672563,-0.8566043574987787,0.3918816986658821,-0.2636254412853934,-1.0805801266361703,0.7319184842233384,-0.9438163723917274,-0.07189078116332594,-1.8693359956196978,0.2080888807547833,-0.14434974751758786,-1.0649759862550428,0.27727223466743445,-0.09036623691422577,1.1030507777767082,0.6415368409136328,-1.3194312808649182,0.2572171302463949,0.9309998401890984,1.4420973248489697,0.42381088497255825,0.9266947420824746,1.0675505254092201,1.0591396740258205,-0.4130027839015729,1.6464567391114484,-0.7639222655044755,-0.33115201506490505,-2.1054031846049996,2.0697721097103496,0.24439587621825065,1.8662383890198717,1.138721370400964,0.9451389623407138,1.6984878039732823,-0.6924609238879748,0.26861365381914376,1.1436079001022867,-0.1704130968335762,1.112192969720432,-0.14059862423431896,1.0150879111753266,0.3912245979789011,-1.0085802974254625,0.12489394468227431,0.940715803891102,0.8522321107876281,-0.3210080437331556,-0.12446681042664187],\"type\":\"scatter\"}],                        {\"legend\":{\"bgcolor\":\"#F5F6F9\",\"font\":{\"color\":\"#4D5663\"}},\"paper_bgcolor\":\"#F5F6F9\",\"plot_bgcolor\":\"#F5F6F9\",\"template\":{\"data\":{\"barpolar\":[{\"marker\":{\"line\":{\"color\":\"#E5ECF6\",\"width\":0.5},\"pattern\":{\"fillmode\":\"overlay\",\"size\":10,\"solidity\":0.2}},\"type\":\"barpolar\"}],\"bar\":[{\"error_x\":{\"color\":\"#2a3f5f\"},\"error_y\":{\"color\":\"#2a3f5f\"},\"marker\":{\"line\":{\"color\":\"#E5ECF6\",\"width\":0.5},\"pattern\":{\"fillmode\":\"overlay\",\"size\":10,\"solidity\":0.2}},\"type\":\"bar\"}],\"carpet\":[{\"aaxis\":{\"endlinecolor\":\"#2a3f5f\",\"gridcolor\":\"white\",\"linecolor\":\"white\",\"minorgridcolor\":\"white\",\"startlinecolor\":\"#2a3f5f\"},\"baxis\":{\"endlinecolor\":\"#2a3f5f\",\"gridcolor\":\"white\",\"linecolor\":\"white\",\"minorgridcolor\":\"white\",\"startlinecolor\":\"#2a3f5f\"},\"type\":\"carpet\"}],\"choropleth\":[{\"colorbar\":{\"outlinewidth\":0,\"ticks\":\"\"},\"type\":\"choropleth\"}],\"contourcarpet\":[{\"colorbar\":{\"outlinewidth\":0,\"ticks\":\"\"},\"type\":\"contourcarpet\"}],\"contour\":[{\"colorbar\":{\"outlinewidth\":0,\"ticks\":\"\"},\"colorscale\":[[0.0,\"#0d0887\"],[0.1111111111111111,\"#46039f\"],[0.2222222222222222,\"#7201a8\"],[0.3333333333333333,\"#9c179e\"],[0.4444444444444444,\"#bd3786\"],[0.5555555555555556,\"#d8576b\"],[0.6666666666666666,\"#ed7953\"],[0.7777777777777778,\"#fb9f3a\"],[0.8888888888888888,\"#fdca26\"],[1.0,\"#f0f921\"]],\"type\":\"contour\"}],\"heatmapgl\":[{\"colorbar\":{\"outlinewidth\":0,\"ticks\":\"\"},\"colorscale\":[[0.0,\"#0d0887\"],[0.1111111111111111,\"#46039f\"],[0.2222222222222222,\"#7201a8\"],[0.3333333333333333,\"#9c179e\"],[0.4444444444444444,\"#bd3786\"],[0.5555555555555556,\"#d8576b\"],[0.6666666666666666,\"#ed7953\"],[0.7777777777777778,\"#fb9f3a\"],[0.8888888888888888,\"#fdca26\"],[1.0,\"#f0f921\"]],\"type\":\"heatmapgl\"}],\"heatmap\":[{\"colorbar\":{\"outlinewidth\":0,\"ticks\":\"\"},\"colorscale\":[[0.0,\"#0d0887\"],[0.1111111111111111,\"#46039f\"],[0.2222222222222222,\"#7201a8\"],[0.3333333333333333,\"#9c179e\"],[0.4444444444444444,\"#bd3786\"],[0.5555555555555556,\"#d8576b\"],[0.6666666666666666,\"#ed7953\"],[0.7777777777777778,\"#fb9f3a\"],[0.8888888888888888,\"#fdca26\"],[1.0,\"#f0f921\"]],\"type\":\"heatmap\"}],\"histogram2dcontour\":[{\"colorbar\":{\"outlinewidth\":0,\"ticks\":\"\"},\"colorscale\":[[0.0,\"#0d0887\"],[0.1111111111111111,\"#46039f\"],[0.2222222222222222,\"#7201a8\"],[0.3333333333333333,\"#9c179e\"],[0.4444444444444444,\"#bd3786\"],[0.5555555555555556,\"#d8576b\"],[0.6666666666666666,\"#ed7953\"],[0.7777777777777778,\"#fb9f3a\"],[0.8888888888888888,\"#fdca26\"],[1.0,\"#f0f921\"]],\"type\":\"histogram2dcontour\"}],\"histogram2d\":[{\"colorbar\":{\"outlinewidth\":0,\"ticks\":\"\"},\"colorscale\":[[0.0,\"#0d0887\"],[0.1111111111111111,\"#46039f\"],[0.2222222222222222,\"#7201a8\"],[0.3333333333333333,\"#9c179e\"],[0.4444444444444444,\"#bd3786\"],[0.5555555555555556,\"#d8576b\"],[0.6666666666666666,\"#ed7953\"],[0.7777777777777778,\"#fb9f3a\"],[0.8888888888888888,\"#fdca26\"],[1.0,\"#f0f921\"]],\"type\":\"histogram2d\"}],\"histogram\":[{\"marker\":{\"pattern\":{\"fillmode\":\"overlay\",\"size\":10,\"solidity\":0.2}},\"type\":\"histogram\"}],\"mesh3d\":[{\"colorbar\":{\"outlinewidth\":0,\"ticks\":\"\"},\"type\":\"mesh3d\"}],\"parcoords\":[{\"line\":{\"colorbar\":{\"outlinewidth\":0,\"ticks\":\"\"}},\"type\":\"parcoords\"}],\"pie\":[{\"automargin\":true,\"type\":\"pie\"}],\"scatter3d\":[{\"line\":{\"colorbar\":{\"outlinewidth\":0,\"ticks\":\"\"}},\"marker\":{\"colorbar\":{\"outlinewidth\":0,\"ticks\":\"\"}},\"type\":\"scatter3d\"}],\"scattercarpet\":[{\"marker\":{\"colorbar\":{\"outlinewidth\":0,\"ticks\":\"\"}},\"type\":\"scattercarpet\"}],\"scattergeo\":[{\"marker\":{\"colorbar\":{\"outlinewidth\":0,\"ticks\":\"\"}},\"type\":\"scattergeo\"}],\"scattergl\":[{\"marker\":{\"colorbar\":{\"outlinewidth\":0,\"ticks\":\"\"}},\"type\":\"scattergl\"}],\"scattermapbox\":[{\"marker\":{\"colorbar\":{\"outlinewidth\":0,\"ticks\":\"\"}},\"type\":\"scattermapbox\"}],\"scatterpolargl\":[{\"marker\":{\"colorbar\":{\"outlinewidth\":0,\"ticks\":\"\"}},\"type\":\"scatterpolargl\"}],\"scatterpolar\":[{\"marker\":{\"colorbar\":{\"outlinewidth\":0,\"ticks\":\"\"}},\"type\":\"scatterpolar\"}],\"scatter\":[{\"fillpattern\":{\"fillmode\":\"overlay\",\"size\":10,\"solidity\":0.2},\"type\":\"scatter\"}],\"scatterternary\":[{\"marker\":{\"colorbar\":{\"outlinewidth\":0,\"ticks\":\"\"}},\"type\":\"scatterternary\"}],\"surface\":[{\"colorbar\":{\"outlinewidth\":0,\"ticks\":\"\"},\"colorscale\":[[0.0,\"#0d0887\"],[0.1111111111111111,\"#46039f\"],[0.2222222222222222,\"#7201a8\"],[0.3333333333333333,\"#9c179e\"],[0.4444444444444444,\"#bd3786\"],[0.5555555555555556,\"#d8576b\"],[0.6666666666666666,\"#ed7953\"],[0.7777777777777778,\"#fb9f3a\"],[0.8888888888888888,\"#fdca26\"],[1.0,\"#f0f921\"]],\"type\":\"surface\"}],\"table\":[{\"cells\":{\"fill\":{\"color\":\"#EBF0F8\"},\"line\":{\"color\":\"white\"}},\"header\":{\"fill\":{\"color\":\"#C8D4E3\"},\"line\":{\"color\":\"white\"}},\"type\":\"table\"}]},\"layout\":{\"annotationdefaults\":{\"arrowcolor\":\"#2a3f5f\",\"arrowhead\":0,\"arrowwidth\":1},\"autotypenumbers\":\"strict\",\"coloraxis\":{\"colorbar\":{\"outlinewidth\":0,\"ticks\":\"\"}},\"colorscale\":{\"diverging\":[[0,\"#8e0152\"],[0.1,\"#c51b7d\"],[0.2,\"#de77ae\"],[0.3,\"#f1b6da\"],[0.4,\"#fde0ef\"],[0.5,\"#f7f7f7\"],[0.6,\"#e6f5d0\"],[0.7,\"#b8e186\"],[0.8,\"#7fbc41\"],[0.9,\"#4d9221\"],[1,\"#276419\"]],\"sequential\":[[0.0,\"#0d0887\"],[0.1111111111111111,\"#46039f\"],[0.2222222222222222,\"#7201a8\"],[0.3333333333333333,\"#9c179e\"],[0.4444444444444444,\"#bd3786\"],[0.5555555555555556,\"#d8576b\"],[0.6666666666666666,\"#ed7953\"],[0.7777777777777778,\"#fb9f3a\"],[0.8888888888888888,\"#fdca26\"],[1.0,\"#f0f921\"]],\"sequentialminus\":[[0.0,\"#0d0887\"],[0.1111111111111111,\"#46039f\"],[0.2222222222222222,\"#7201a8\"],[0.3333333333333333,\"#9c179e\"],[0.4444444444444444,\"#bd3786\"],[0.5555555555555556,\"#d8576b\"],[0.6666666666666666,\"#ed7953\"],[0.7777777777777778,\"#fb9f3a\"],[0.8888888888888888,\"#fdca26\"],[1.0,\"#f0f921\"]]},\"colorway\":[\"#636efa\",\"#EF553B\",\"#00cc96\",\"#ab63fa\",\"#FFA15A\",\"#19d3f3\",\"#FF6692\",\"#B6E880\",\"#FF97FF\",\"#FECB52\"],\"font\":{\"color\":\"#2a3f5f\"},\"geo\":{\"bgcolor\":\"white\",\"lakecolor\":\"white\",\"landcolor\":\"#E5ECF6\",\"showlakes\":true,\"showland\":true,\"subunitcolor\":\"white\"},\"hoverlabel\":{\"align\":\"left\"},\"hovermode\":\"closest\",\"mapbox\":{\"style\":\"light\"},\"paper_bgcolor\":\"white\",\"plot_bgcolor\":\"#E5ECF6\",\"polar\":{\"angularaxis\":{\"gridcolor\":\"white\",\"linecolor\":\"white\",\"ticks\":\"\"},\"bgcolor\":\"#E5ECF6\",\"radialaxis\":{\"gridcolor\":\"white\",\"linecolor\":\"white\",\"ticks\":\"\"}},\"scene\":{\"xaxis\":{\"backgroundcolor\":\"#E5ECF6\",\"gridcolor\":\"white\",\"gridwidth\":2,\"linecolor\":\"white\",\"showbackground\":true,\"ticks\":\"\",\"zerolinecolor\":\"white\"},\"yaxis\":{\"backgroundcolor\":\"#E5ECF6\",\"gridcolor\":\"white\",\"gridwidth\":2,\"linecolor\":\"white\",\"showbackground\":true,\"ticks\":\"\",\"zerolinecolor\":\"white\"},\"zaxis\":{\"backgroundcolor\":\"#E5ECF6\",\"gridcolor\":\"white\",\"gridwidth\":2,\"linecolor\":\"white\",\"showbackground\":true,\"ticks\":\"\",\"zerolinecolor\":\"white\"}},\"shapedefaults\":{\"line\":{\"color\":\"#2a3f5f\"}},\"ternary\":{\"aaxis\":{\"gridcolor\":\"white\",\"linecolor\":\"white\",\"ticks\":\"\"},\"baxis\":{\"gridcolor\":\"white\",\"linecolor\":\"white\",\"ticks\":\"\"},\"bgcolor\":\"#E5ECF6\",\"caxis\":{\"gridcolor\":\"white\",\"linecolor\":\"white\",\"ticks\":\"\"}},\"title\":{\"x\":0.05},\"xaxis\":{\"automargin\":true,\"gridcolor\":\"white\",\"linecolor\":\"white\",\"ticks\":\"\",\"title\":{\"standoff\":15},\"zerolinecolor\":\"white\",\"zerolinewidth\":2},\"yaxis\":{\"automargin\":true,\"gridcolor\":\"white\",\"linecolor\":\"white\",\"ticks\":\"\",\"title\":{\"standoff\":15},\"zerolinecolor\":\"white\",\"zerolinewidth\":2}}},\"title\":{\"font\":{\"color\":\"#4D5663\"}},\"xaxis\":{\"gridcolor\":\"#E1E5ED\",\"showgrid\":true,\"tickfont\":{\"color\":\"#4D5663\"},\"title\":{\"font\":{\"color\":\"#4D5663\"},\"text\":\"\"},\"zerolinecolor\":\"#E1E5ED\"},\"yaxis\":{\"gridcolor\":\"#E1E5ED\",\"showgrid\":true,\"tickfont\":{\"color\":\"#4D5663\"},\"title\":{\"font\":{\"color\":\"#4D5663\"},\"text\":\"\"},\"zerolinecolor\":\"#E1E5ED\"}},                        {\"showLink\": true, \"linkText\": \"Export to plot.ly\", \"plotlyServerURL\": \"https://plot.ly\", \"responsive\": true}                    ).then(function(){\n",
       "                            \n",
       "var gd = document.getElementById('b0adeb3a-0b52-46d5-980c-a9fe9fccab2b');\n",
       "var x = new MutationObserver(function (mutations, observer) {{\n",
       "        var display = window.getComputedStyle(gd).display;\n",
       "        if (!display || display === 'none') {{\n",
       "            console.log([gd, 'removed!']);\n",
       "            Plotly.purge(gd);\n",
       "            observer.disconnect();\n",
       "        }}\n",
       "}});\n",
       "\n",
       "// Listen for the removal of the full notebook cells\n",
       "var notebookContainer = gd.closest('#notebook-container');\n",
       "if (notebookContainer) {{\n",
       "    x.observe(notebookContainer, {childList: true});\n",
       "}}\n",
       "\n",
       "// Listen for the clearing of the current output cell\n",
       "var outputEl = gd.closest('.output');\n",
       "if (outputEl) {{\n",
       "    x.observe(outputEl, {childList: true});\n",
       "}}\n",
       "\n",
       "                        })                };                });            </script>        </div>"
      ]
     },
     "metadata": {},
     "output_type": "display_data"
    }
   ],
   "source": [
    "df.iplot(kind='scatter',x='A',y='B')"
   ]
  },
  {
   "cell_type": "code",
   "execution_count": 9,
   "id": "b0e92e3e",
   "metadata": {},
   "outputs": [
    {
     "data": {
      "application/vnd.plotly.v1+json": {
       "config": {
        "linkText": "Export to plot.ly",
        "plotlyServerURL": "https://plot.ly",
        "showLink": true
       },
       "data": [
        {
         "line": {
          "color": "rgba(255, 153, 51, 1.0)",
          "dash": "solid",
          "shape": "linear",
          "width": 1.3
         },
         "marker": {
          "size": 20,
          "symbol": "circle"
         },
         "mode": "markers",
         "name": "B",
         "text": "",
         "type": "scatter",
         "x": [
          -0.28417787083349927,
          0.6413274499391824,
          -0.33336861080745656,
          2.006764818840116,
          1.8728377960165354,
          -0.24882852649873424,
          -0.29861874001993766,
          -0.5527446223333694,
          -0.06284839007619376,
          0.6872961946392325,
          -0.48047030452308376,
          -0.15819211016748583,
          0.3979193283561742,
          -0.9231892579778409,
          0.5315667297247073,
          1.0017781127586238,
          -2.0721385248636266,
          0.9212012857921277,
          -0.25197735935695925,
          -2.5438707821411417,
          -0.9797570746505114,
          -1.785600451605513,
          -1.3677304085261701,
          -0.8597776400411747,
          -0.38161314435598254,
          -0.21955301709234307,
          -0.46962502773123727,
          0.08658003414889327,
          -2.624997706901156,
          1.617799016690096,
          0.2322838968046603,
          -0.5747107444070692,
          1.306245125000283,
          -0.7424921675650964,
          -0.6846539842162228,
          2.1601206807767657,
          -1.1832051219606274,
          0.21698850723985674,
          1.693120559186067,
          -1.4725670406597433,
          0.5268215706826592,
          0.22618522749666412,
          1.3241925977559907,
          -1.1750950935332447,
          0.779369119313454,
          -1.0622472454257539,
          -0.7479801434627531,
          -1.11546714284219,
          0.6490101527890603,
          -0.22489797094481306,
          -1.1740087820316207,
          0.08056535097254833,
          0.615871865696655,
          -0.17445791673987496,
          0.8456171781805357,
          1.8168544512752107,
          0.9067056603187674,
          -0.1318278852951855,
          -0.9806500898254744,
          0.4032491907360089,
          0.5456168400678882,
          1.6799435539133445,
          -1.417466304121186,
          1.1183981281871356,
          -0.5754137503060296,
          -0.4451311781056884,
          0.6524364369982173,
          -0.2531055435068277,
          -1.2238276239485155,
          0.5079425450594325,
          -0.7127247095374196,
          0.5340289009521697,
          -0.45390448707790165,
          -0.004315066126661081,
          0.01607814905285022,
          0.23686645998285866,
          -0.22681193933351268,
          -1.282908829683012,
          1.0598838321126345,
          -0.28086616600779785,
          -1.4665713559786704,
          0.9606502786533506,
          0.30386951258373074,
          0.9913019602065628,
          -0.5343798033042318,
          -1.2672235642375103,
          0.3206869075841262,
          0.059509125355931794,
          -0.7576598946355392,
          -0.5340235908042054,
          -1.1285727143193942,
          2.1140216110955588,
          1.0418469094947094,
          0.2854170485589883,
          -1.9999513786857224,
          0.9479014280894817,
          -1.14631525364236,
          1.6505960122936931,
          0.4751216841159835,
          0.07362728384021043
         ],
         "y": [
          -0.9942875062320643,
          0.6693618378433789,
          1.4375270448174466,
          -0.7601350990541826,
          -1.3856509449362089,
          0.7699061108404363,
          0.04944535748246853,
          0.6061305364332712,
          -0.23326162112807344,
          2.1617704129411974,
          0.4182423292502963,
          -0.8119088645105795,
          0.644305020890722,
          0.12994496488584203,
          -1.5914719130541115,
          -0.3958209142720946,
          0.8320625813285379,
          0.3595709913909463,
          0.8608355243878564,
          -0.5121802342042246,
          -0.19251810768470703,
          -1.1025637585273937,
          0.7127282902106402,
          0.9252123054557275,
          0.26684715309611456,
          -2.0304254233704966,
          1.1185689589290568,
          0.12590272762439111,
          -0.4125100158666027,
          -1.3224183185741754,
          0.3344566151898501,
          -2.1168986945450343,
          -0.9081775216742415,
          -1.6901431359280612,
          1.0403812288066845,
          0.22958405742077428,
          -0.8426375495425725,
          2.276061422029563,
          0.5778368449479325,
          1.144721063467178,
          1.8299513587167864,
          1.4621795449801354,
          -2.4368266921099533,
          1.013362811041721,
          -0.5778304519601165,
          1.0356709009219747,
          -0.504355394746898,
          0.35213287720179104,
          -1.2035825393525954,
          0.8106345843941292,
          -1.595771889074104,
          0.2457069745672563,
          -0.8566043574987787,
          0.3918816986658821,
          -0.2636254412853934,
          -1.0805801266361703,
          0.7319184842233384,
          -0.9438163723917274,
          -0.07189078116332594,
          -1.8693359956196978,
          0.2080888807547833,
          -0.14434974751758786,
          -1.0649759862550428,
          0.27727223466743445,
          -0.09036623691422577,
          1.1030507777767082,
          0.6415368409136328,
          -1.3194312808649182,
          0.2572171302463949,
          0.9309998401890984,
          1.4420973248489697,
          0.42381088497255825,
          0.9266947420824746,
          1.0675505254092201,
          1.0591396740258205,
          -0.4130027839015729,
          1.6464567391114484,
          -0.7639222655044755,
          -0.33115201506490505,
          -2.1054031846049996,
          2.0697721097103496,
          0.24439587621825065,
          1.8662383890198717,
          1.138721370400964,
          0.9451389623407138,
          1.6984878039732823,
          -0.6924609238879748,
          0.26861365381914376,
          1.1436079001022867,
          -0.1704130968335762,
          1.112192969720432,
          -0.14059862423431896,
          1.0150879111753266,
          0.3912245979789011,
          -1.0085802974254625,
          0.12489394468227431,
          0.940715803891102,
          0.8522321107876281,
          -0.3210080437331556,
          -0.12446681042664187
         ]
        }
       ],
       "layout": {
        "legend": {
         "bgcolor": "#F5F6F9",
         "font": {
          "color": "#4D5663"
         }
        },
        "paper_bgcolor": "#F5F6F9",
        "plot_bgcolor": "#F5F6F9",
        "template": {
         "data": {
          "bar": [
           {
            "error_x": {
             "color": "#2a3f5f"
            },
            "error_y": {
             "color": "#2a3f5f"
            },
            "marker": {
             "line": {
              "color": "#E5ECF6",
              "width": 0.5
             },
             "pattern": {
              "fillmode": "overlay",
              "size": 10,
              "solidity": 0.2
             }
            },
            "type": "bar"
           }
          ],
          "barpolar": [
           {
            "marker": {
             "line": {
              "color": "#E5ECF6",
              "width": 0.5
             },
             "pattern": {
              "fillmode": "overlay",
              "size": 10,
              "solidity": 0.2
             }
            },
            "type": "barpolar"
           }
          ],
          "carpet": [
           {
            "aaxis": {
             "endlinecolor": "#2a3f5f",
             "gridcolor": "white",
             "linecolor": "white",
             "minorgridcolor": "white",
             "startlinecolor": "#2a3f5f"
            },
            "baxis": {
             "endlinecolor": "#2a3f5f",
             "gridcolor": "white",
             "linecolor": "white",
             "minorgridcolor": "white",
             "startlinecolor": "#2a3f5f"
            },
            "type": "carpet"
           }
          ],
          "choropleth": [
           {
            "colorbar": {
             "outlinewidth": 0,
             "ticks": ""
            },
            "type": "choropleth"
           }
          ],
          "contour": [
           {
            "colorbar": {
             "outlinewidth": 0,
             "ticks": ""
            },
            "colorscale": [
             [
              0,
              "#0d0887"
             ],
             [
              0.1111111111111111,
              "#46039f"
             ],
             [
              0.2222222222222222,
              "#7201a8"
             ],
             [
              0.3333333333333333,
              "#9c179e"
             ],
             [
              0.4444444444444444,
              "#bd3786"
             ],
             [
              0.5555555555555556,
              "#d8576b"
             ],
             [
              0.6666666666666666,
              "#ed7953"
             ],
             [
              0.7777777777777778,
              "#fb9f3a"
             ],
             [
              0.8888888888888888,
              "#fdca26"
             ],
             [
              1,
              "#f0f921"
             ]
            ],
            "type": "contour"
           }
          ],
          "contourcarpet": [
           {
            "colorbar": {
             "outlinewidth": 0,
             "ticks": ""
            },
            "type": "contourcarpet"
           }
          ],
          "heatmap": [
           {
            "colorbar": {
             "outlinewidth": 0,
             "ticks": ""
            },
            "colorscale": [
             [
              0,
              "#0d0887"
             ],
             [
              0.1111111111111111,
              "#46039f"
             ],
             [
              0.2222222222222222,
              "#7201a8"
             ],
             [
              0.3333333333333333,
              "#9c179e"
             ],
             [
              0.4444444444444444,
              "#bd3786"
             ],
             [
              0.5555555555555556,
              "#d8576b"
             ],
             [
              0.6666666666666666,
              "#ed7953"
             ],
             [
              0.7777777777777778,
              "#fb9f3a"
             ],
             [
              0.8888888888888888,
              "#fdca26"
             ],
             [
              1,
              "#f0f921"
             ]
            ],
            "type": "heatmap"
           }
          ],
          "heatmapgl": [
           {
            "colorbar": {
             "outlinewidth": 0,
             "ticks": ""
            },
            "colorscale": [
             [
              0,
              "#0d0887"
             ],
             [
              0.1111111111111111,
              "#46039f"
             ],
             [
              0.2222222222222222,
              "#7201a8"
             ],
             [
              0.3333333333333333,
              "#9c179e"
             ],
             [
              0.4444444444444444,
              "#bd3786"
             ],
             [
              0.5555555555555556,
              "#d8576b"
             ],
             [
              0.6666666666666666,
              "#ed7953"
             ],
             [
              0.7777777777777778,
              "#fb9f3a"
             ],
             [
              0.8888888888888888,
              "#fdca26"
             ],
             [
              1,
              "#f0f921"
             ]
            ],
            "type": "heatmapgl"
           }
          ],
          "histogram": [
           {
            "marker": {
             "pattern": {
              "fillmode": "overlay",
              "size": 10,
              "solidity": 0.2
             }
            },
            "type": "histogram"
           }
          ],
          "histogram2d": [
           {
            "colorbar": {
             "outlinewidth": 0,
             "ticks": ""
            },
            "colorscale": [
             [
              0,
              "#0d0887"
             ],
             [
              0.1111111111111111,
              "#46039f"
             ],
             [
              0.2222222222222222,
              "#7201a8"
             ],
             [
              0.3333333333333333,
              "#9c179e"
             ],
             [
              0.4444444444444444,
              "#bd3786"
             ],
             [
              0.5555555555555556,
              "#d8576b"
             ],
             [
              0.6666666666666666,
              "#ed7953"
             ],
             [
              0.7777777777777778,
              "#fb9f3a"
             ],
             [
              0.8888888888888888,
              "#fdca26"
             ],
             [
              1,
              "#f0f921"
             ]
            ],
            "type": "histogram2d"
           }
          ],
          "histogram2dcontour": [
           {
            "colorbar": {
             "outlinewidth": 0,
             "ticks": ""
            },
            "colorscale": [
             [
              0,
              "#0d0887"
             ],
             [
              0.1111111111111111,
              "#46039f"
             ],
             [
              0.2222222222222222,
              "#7201a8"
             ],
             [
              0.3333333333333333,
              "#9c179e"
             ],
             [
              0.4444444444444444,
              "#bd3786"
             ],
             [
              0.5555555555555556,
              "#d8576b"
             ],
             [
              0.6666666666666666,
              "#ed7953"
             ],
             [
              0.7777777777777778,
              "#fb9f3a"
             ],
             [
              0.8888888888888888,
              "#fdca26"
             ],
             [
              1,
              "#f0f921"
             ]
            ],
            "type": "histogram2dcontour"
           }
          ],
          "mesh3d": [
           {
            "colorbar": {
             "outlinewidth": 0,
             "ticks": ""
            },
            "type": "mesh3d"
           }
          ],
          "parcoords": [
           {
            "line": {
             "colorbar": {
              "outlinewidth": 0,
              "ticks": ""
             }
            },
            "type": "parcoords"
           }
          ],
          "pie": [
           {
            "automargin": true,
            "type": "pie"
           }
          ],
          "scatter": [
           {
            "fillpattern": {
             "fillmode": "overlay",
             "size": 10,
             "solidity": 0.2
            },
            "type": "scatter"
           }
          ],
          "scatter3d": [
           {
            "line": {
             "colorbar": {
              "outlinewidth": 0,
              "ticks": ""
             }
            },
            "marker": {
             "colorbar": {
              "outlinewidth": 0,
              "ticks": ""
             }
            },
            "type": "scatter3d"
           }
          ],
          "scattercarpet": [
           {
            "marker": {
             "colorbar": {
              "outlinewidth": 0,
              "ticks": ""
             }
            },
            "type": "scattercarpet"
           }
          ],
          "scattergeo": [
           {
            "marker": {
             "colorbar": {
              "outlinewidth": 0,
              "ticks": ""
             }
            },
            "type": "scattergeo"
           }
          ],
          "scattergl": [
           {
            "marker": {
             "colorbar": {
              "outlinewidth": 0,
              "ticks": ""
             }
            },
            "type": "scattergl"
           }
          ],
          "scattermapbox": [
           {
            "marker": {
             "colorbar": {
              "outlinewidth": 0,
              "ticks": ""
             }
            },
            "type": "scattermapbox"
           }
          ],
          "scatterpolar": [
           {
            "marker": {
             "colorbar": {
              "outlinewidth": 0,
              "ticks": ""
             }
            },
            "type": "scatterpolar"
           }
          ],
          "scatterpolargl": [
           {
            "marker": {
             "colorbar": {
              "outlinewidth": 0,
              "ticks": ""
             }
            },
            "type": "scatterpolargl"
           }
          ],
          "scatterternary": [
           {
            "marker": {
             "colorbar": {
              "outlinewidth": 0,
              "ticks": ""
             }
            },
            "type": "scatterternary"
           }
          ],
          "surface": [
           {
            "colorbar": {
             "outlinewidth": 0,
             "ticks": ""
            },
            "colorscale": [
             [
              0,
              "#0d0887"
             ],
             [
              0.1111111111111111,
              "#46039f"
             ],
             [
              0.2222222222222222,
              "#7201a8"
             ],
             [
              0.3333333333333333,
              "#9c179e"
             ],
             [
              0.4444444444444444,
              "#bd3786"
             ],
             [
              0.5555555555555556,
              "#d8576b"
             ],
             [
              0.6666666666666666,
              "#ed7953"
             ],
             [
              0.7777777777777778,
              "#fb9f3a"
             ],
             [
              0.8888888888888888,
              "#fdca26"
             ],
             [
              1,
              "#f0f921"
             ]
            ],
            "type": "surface"
           }
          ],
          "table": [
           {
            "cells": {
             "fill": {
              "color": "#EBF0F8"
             },
             "line": {
              "color": "white"
             }
            },
            "header": {
             "fill": {
              "color": "#C8D4E3"
             },
             "line": {
              "color": "white"
             }
            },
            "type": "table"
           }
          ]
         },
         "layout": {
          "annotationdefaults": {
           "arrowcolor": "#2a3f5f",
           "arrowhead": 0,
           "arrowwidth": 1
          },
          "autotypenumbers": "strict",
          "coloraxis": {
           "colorbar": {
            "outlinewidth": 0,
            "ticks": ""
           }
          },
          "colorscale": {
           "diverging": [
            [
             0,
             "#8e0152"
            ],
            [
             0.1,
             "#c51b7d"
            ],
            [
             0.2,
             "#de77ae"
            ],
            [
             0.3,
             "#f1b6da"
            ],
            [
             0.4,
             "#fde0ef"
            ],
            [
             0.5,
             "#f7f7f7"
            ],
            [
             0.6,
             "#e6f5d0"
            ],
            [
             0.7,
             "#b8e186"
            ],
            [
             0.8,
             "#7fbc41"
            ],
            [
             0.9,
             "#4d9221"
            ],
            [
             1,
             "#276419"
            ]
           ],
           "sequential": [
            [
             0,
             "#0d0887"
            ],
            [
             0.1111111111111111,
             "#46039f"
            ],
            [
             0.2222222222222222,
             "#7201a8"
            ],
            [
             0.3333333333333333,
             "#9c179e"
            ],
            [
             0.4444444444444444,
             "#bd3786"
            ],
            [
             0.5555555555555556,
             "#d8576b"
            ],
            [
             0.6666666666666666,
             "#ed7953"
            ],
            [
             0.7777777777777778,
             "#fb9f3a"
            ],
            [
             0.8888888888888888,
             "#fdca26"
            ],
            [
             1,
             "#f0f921"
            ]
           ],
           "sequentialminus": [
            [
             0,
             "#0d0887"
            ],
            [
             0.1111111111111111,
             "#46039f"
            ],
            [
             0.2222222222222222,
             "#7201a8"
            ],
            [
             0.3333333333333333,
             "#9c179e"
            ],
            [
             0.4444444444444444,
             "#bd3786"
            ],
            [
             0.5555555555555556,
             "#d8576b"
            ],
            [
             0.6666666666666666,
             "#ed7953"
            ],
            [
             0.7777777777777778,
             "#fb9f3a"
            ],
            [
             0.8888888888888888,
             "#fdca26"
            ],
            [
             1,
             "#f0f921"
            ]
           ]
          },
          "colorway": [
           "#636efa",
           "#EF553B",
           "#00cc96",
           "#ab63fa",
           "#FFA15A",
           "#19d3f3",
           "#FF6692",
           "#B6E880",
           "#FF97FF",
           "#FECB52"
          ],
          "font": {
           "color": "#2a3f5f"
          },
          "geo": {
           "bgcolor": "white",
           "lakecolor": "white",
           "landcolor": "#E5ECF6",
           "showlakes": true,
           "showland": true,
           "subunitcolor": "white"
          },
          "hoverlabel": {
           "align": "left"
          },
          "hovermode": "closest",
          "mapbox": {
           "style": "light"
          },
          "paper_bgcolor": "white",
          "plot_bgcolor": "#E5ECF6",
          "polar": {
           "angularaxis": {
            "gridcolor": "white",
            "linecolor": "white",
            "ticks": ""
           },
           "bgcolor": "#E5ECF6",
           "radialaxis": {
            "gridcolor": "white",
            "linecolor": "white",
            "ticks": ""
           }
          },
          "scene": {
           "xaxis": {
            "backgroundcolor": "#E5ECF6",
            "gridcolor": "white",
            "gridwidth": 2,
            "linecolor": "white",
            "showbackground": true,
            "ticks": "",
            "zerolinecolor": "white"
           },
           "yaxis": {
            "backgroundcolor": "#E5ECF6",
            "gridcolor": "white",
            "gridwidth": 2,
            "linecolor": "white",
            "showbackground": true,
            "ticks": "",
            "zerolinecolor": "white"
           },
           "zaxis": {
            "backgroundcolor": "#E5ECF6",
            "gridcolor": "white",
            "gridwidth": 2,
            "linecolor": "white",
            "showbackground": true,
            "ticks": "",
            "zerolinecolor": "white"
           }
          },
          "shapedefaults": {
           "line": {
            "color": "#2a3f5f"
           }
          },
          "ternary": {
           "aaxis": {
            "gridcolor": "white",
            "linecolor": "white",
            "ticks": ""
           },
           "baxis": {
            "gridcolor": "white",
            "linecolor": "white",
            "ticks": ""
           },
           "bgcolor": "#E5ECF6",
           "caxis": {
            "gridcolor": "white",
            "linecolor": "white",
            "ticks": ""
           }
          },
          "title": {
           "x": 0.05
          },
          "xaxis": {
           "automargin": true,
           "gridcolor": "white",
           "linecolor": "white",
           "ticks": "",
           "title": {
            "standoff": 15
           },
           "zerolinecolor": "white",
           "zerolinewidth": 2
          },
          "yaxis": {
           "automargin": true,
           "gridcolor": "white",
           "linecolor": "white",
           "ticks": "",
           "title": {
            "standoff": 15
           },
           "zerolinecolor": "white",
           "zerolinewidth": 2
          }
         }
        },
        "title": {
         "font": {
          "color": "#4D5663"
         }
        },
        "xaxis": {
         "gridcolor": "#E1E5ED",
         "showgrid": true,
         "tickfont": {
          "color": "#4D5663"
         },
         "title": {
          "font": {
           "color": "#4D5663"
          },
          "text": ""
         },
         "zerolinecolor": "#E1E5ED"
        },
        "yaxis": {
         "gridcolor": "#E1E5ED",
         "showgrid": true,
         "tickfont": {
          "color": "#4D5663"
         },
         "title": {
          "font": {
           "color": "#4D5663"
          },
          "text": ""
         },
         "zerolinecolor": "#E1E5ED"
        }
       }
      },
      "text/html": [
       "<div>                            <div id=\"a5e3da78-c885-4a48-875d-6681a8eebb09\" class=\"plotly-graph-div\" style=\"height:525px; width:100%;\"></div>            <script type=\"text/javascript\">                require([\"plotly\"], function(Plotly) {                    window.PLOTLYENV=window.PLOTLYENV || {};\n",
       "                    window.PLOTLYENV.BASE_URL='https://plot.ly';                                    if (document.getElementById(\"a5e3da78-c885-4a48-875d-6681a8eebb09\")) {                    Plotly.newPlot(                        \"a5e3da78-c885-4a48-875d-6681a8eebb09\",                        [{\"line\":{\"color\":\"rgba(255, 153, 51, 1.0)\",\"dash\":\"solid\",\"shape\":\"linear\",\"width\":1.3},\"marker\":{\"size\":20,\"symbol\":\"circle\"},\"mode\":\"markers\",\"name\":\"B\",\"text\":\"\",\"x\":[-0.28417787083349927,0.6413274499391824,-0.33336861080745656,2.006764818840116,1.8728377960165354,-0.24882852649873424,-0.29861874001993766,-0.5527446223333694,-0.06284839007619376,0.6872961946392325,-0.48047030452308376,-0.15819211016748583,0.3979193283561742,-0.9231892579778409,0.5315667297247073,1.0017781127586238,-2.0721385248636266,0.9212012857921277,-0.25197735935695925,-2.5438707821411417,-0.9797570746505114,-1.785600451605513,-1.3677304085261701,-0.8597776400411747,-0.38161314435598254,-0.21955301709234307,-0.46962502773123727,0.08658003414889327,-2.624997706901156,1.617799016690096,0.2322838968046603,-0.5747107444070692,1.306245125000283,-0.7424921675650964,-0.6846539842162228,2.1601206807767657,-1.1832051219606274,0.21698850723985674,1.693120559186067,-1.4725670406597433,0.5268215706826592,0.22618522749666412,1.3241925977559907,-1.1750950935332447,0.779369119313454,-1.0622472454257539,-0.7479801434627531,-1.11546714284219,0.6490101527890603,-0.22489797094481306,-1.1740087820316207,0.08056535097254833,0.615871865696655,-0.17445791673987496,0.8456171781805357,1.8168544512752107,0.9067056603187674,-0.1318278852951855,-0.9806500898254744,0.4032491907360089,0.5456168400678882,1.6799435539133445,-1.417466304121186,1.1183981281871356,-0.5754137503060296,-0.4451311781056884,0.6524364369982173,-0.2531055435068277,-1.2238276239485155,0.5079425450594325,-0.7127247095374196,0.5340289009521697,-0.45390448707790165,-0.004315066126661081,0.01607814905285022,0.23686645998285866,-0.22681193933351268,-1.282908829683012,1.0598838321126345,-0.28086616600779785,-1.4665713559786704,0.9606502786533506,0.30386951258373074,0.9913019602065628,-0.5343798033042318,-1.2672235642375103,0.3206869075841262,0.059509125355931794,-0.7576598946355392,-0.5340235908042054,-1.1285727143193942,2.1140216110955588,1.0418469094947094,0.2854170485589883,-1.9999513786857224,0.9479014280894817,-1.14631525364236,1.6505960122936931,0.4751216841159835,0.07362728384021043],\"y\":[-0.9942875062320643,0.6693618378433789,1.4375270448174466,-0.7601350990541826,-1.3856509449362089,0.7699061108404363,0.04944535748246853,0.6061305364332712,-0.23326162112807344,2.1617704129411974,0.4182423292502963,-0.8119088645105795,0.644305020890722,0.12994496488584203,-1.5914719130541115,-0.3958209142720946,0.8320625813285379,0.3595709913909463,0.8608355243878564,-0.5121802342042246,-0.19251810768470703,-1.1025637585273937,0.7127282902106402,0.9252123054557275,0.26684715309611456,-2.0304254233704966,1.1185689589290568,0.12590272762439111,-0.4125100158666027,-1.3224183185741754,0.3344566151898501,-2.1168986945450343,-0.9081775216742415,-1.6901431359280612,1.0403812288066845,0.22958405742077428,-0.8426375495425725,2.276061422029563,0.5778368449479325,1.144721063467178,1.8299513587167864,1.4621795449801354,-2.4368266921099533,1.013362811041721,-0.5778304519601165,1.0356709009219747,-0.504355394746898,0.35213287720179104,-1.2035825393525954,0.8106345843941292,-1.595771889074104,0.2457069745672563,-0.8566043574987787,0.3918816986658821,-0.2636254412853934,-1.0805801266361703,0.7319184842233384,-0.9438163723917274,-0.07189078116332594,-1.8693359956196978,0.2080888807547833,-0.14434974751758786,-1.0649759862550428,0.27727223466743445,-0.09036623691422577,1.1030507777767082,0.6415368409136328,-1.3194312808649182,0.2572171302463949,0.9309998401890984,1.4420973248489697,0.42381088497255825,0.9266947420824746,1.0675505254092201,1.0591396740258205,-0.4130027839015729,1.6464567391114484,-0.7639222655044755,-0.33115201506490505,-2.1054031846049996,2.0697721097103496,0.24439587621825065,1.8662383890198717,1.138721370400964,0.9451389623407138,1.6984878039732823,-0.6924609238879748,0.26861365381914376,1.1436079001022867,-0.1704130968335762,1.112192969720432,-0.14059862423431896,1.0150879111753266,0.3912245979789011,-1.0085802974254625,0.12489394468227431,0.940715803891102,0.8522321107876281,-0.3210080437331556,-0.12446681042664187],\"type\":\"scatter\"}],                        {\"legend\":{\"bgcolor\":\"#F5F6F9\",\"font\":{\"color\":\"#4D5663\"}},\"paper_bgcolor\":\"#F5F6F9\",\"plot_bgcolor\":\"#F5F6F9\",\"template\":{\"data\":{\"barpolar\":[{\"marker\":{\"line\":{\"color\":\"#E5ECF6\",\"width\":0.5},\"pattern\":{\"fillmode\":\"overlay\",\"size\":10,\"solidity\":0.2}},\"type\":\"barpolar\"}],\"bar\":[{\"error_x\":{\"color\":\"#2a3f5f\"},\"error_y\":{\"color\":\"#2a3f5f\"},\"marker\":{\"line\":{\"color\":\"#E5ECF6\",\"width\":0.5},\"pattern\":{\"fillmode\":\"overlay\",\"size\":10,\"solidity\":0.2}},\"type\":\"bar\"}],\"carpet\":[{\"aaxis\":{\"endlinecolor\":\"#2a3f5f\",\"gridcolor\":\"white\",\"linecolor\":\"white\",\"minorgridcolor\":\"white\",\"startlinecolor\":\"#2a3f5f\"},\"baxis\":{\"endlinecolor\":\"#2a3f5f\",\"gridcolor\":\"white\",\"linecolor\":\"white\",\"minorgridcolor\":\"white\",\"startlinecolor\":\"#2a3f5f\"},\"type\":\"carpet\"}],\"choropleth\":[{\"colorbar\":{\"outlinewidth\":0,\"ticks\":\"\"},\"type\":\"choropleth\"}],\"contourcarpet\":[{\"colorbar\":{\"outlinewidth\":0,\"ticks\":\"\"},\"type\":\"contourcarpet\"}],\"contour\":[{\"colorbar\":{\"outlinewidth\":0,\"ticks\":\"\"},\"colorscale\":[[0.0,\"#0d0887\"],[0.1111111111111111,\"#46039f\"],[0.2222222222222222,\"#7201a8\"],[0.3333333333333333,\"#9c179e\"],[0.4444444444444444,\"#bd3786\"],[0.5555555555555556,\"#d8576b\"],[0.6666666666666666,\"#ed7953\"],[0.7777777777777778,\"#fb9f3a\"],[0.8888888888888888,\"#fdca26\"],[1.0,\"#f0f921\"]],\"type\":\"contour\"}],\"heatmapgl\":[{\"colorbar\":{\"outlinewidth\":0,\"ticks\":\"\"},\"colorscale\":[[0.0,\"#0d0887\"],[0.1111111111111111,\"#46039f\"],[0.2222222222222222,\"#7201a8\"],[0.3333333333333333,\"#9c179e\"],[0.4444444444444444,\"#bd3786\"],[0.5555555555555556,\"#d8576b\"],[0.6666666666666666,\"#ed7953\"],[0.7777777777777778,\"#fb9f3a\"],[0.8888888888888888,\"#fdca26\"],[1.0,\"#f0f921\"]],\"type\":\"heatmapgl\"}],\"heatmap\":[{\"colorbar\":{\"outlinewidth\":0,\"ticks\":\"\"},\"colorscale\":[[0.0,\"#0d0887\"],[0.1111111111111111,\"#46039f\"],[0.2222222222222222,\"#7201a8\"],[0.3333333333333333,\"#9c179e\"],[0.4444444444444444,\"#bd3786\"],[0.5555555555555556,\"#d8576b\"],[0.6666666666666666,\"#ed7953\"],[0.7777777777777778,\"#fb9f3a\"],[0.8888888888888888,\"#fdca26\"],[1.0,\"#f0f921\"]],\"type\":\"heatmap\"}],\"histogram2dcontour\":[{\"colorbar\":{\"outlinewidth\":0,\"ticks\":\"\"},\"colorscale\":[[0.0,\"#0d0887\"],[0.1111111111111111,\"#46039f\"],[0.2222222222222222,\"#7201a8\"],[0.3333333333333333,\"#9c179e\"],[0.4444444444444444,\"#bd3786\"],[0.5555555555555556,\"#d8576b\"],[0.6666666666666666,\"#ed7953\"],[0.7777777777777778,\"#fb9f3a\"],[0.8888888888888888,\"#fdca26\"],[1.0,\"#f0f921\"]],\"type\":\"histogram2dcontour\"}],\"histogram2d\":[{\"colorbar\":{\"outlinewidth\":0,\"ticks\":\"\"},\"colorscale\":[[0.0,\"#0d0887\"],[0.1111111111111111,\"#46039f\"],[0.2222222222222222,\"#7201a8\"],[0.3333333333333333,\"#9c179e\"],[0.4444444444444444,\"#bd3786\"],[0.5555555555555556,\"#d8576b\"],[0.6666666666666666,\"#ed7953\"],[0.7777777777777778,\"#fb9f3a\"],[0.8888888888888888,\"#fdca26\"],[1.0,\"#f0f921\"]],\"type\":\"histogram2d\"}],\"histogram\":[{\"marker\":{\"pattern\":{\"fillmode\":\"overlay\",\"size\":10,\"solidity\":0.2}},\"type\":\"histogram\"}],\"mesh3d\":[{\"colorbar\":{\"outlinewidth\":0,\"ticks\":\"\"},\"type\":\"mesh3d\"}],\"parcoords\":[{\"line\":{\"colorbar\":{\"outlinewidth\":0,\"ticks\":\"\"}},\"type\":\"parcoords\"}],\"pie\":[{\"automargin\":true,\"type\":\"pie\"}],\"scatter3d\":[{\"line\":{\"colorbar\":{\"outlinewidth\":0,\"ticks\":\"\"}},\"marker\":{\"colorbar\":{\"outlinewidth\":0,\"ticks\":\"\"}},\"type\":\"scatter3d\"}],\"scattercarpet\":[{\"marker\":{\"colorbar\":{\"outlinewidth\":0,\"ticks\":\"\"}},\"type\":\"scattercarpet\"}],\"scattergeo\":[{\"marker\":{\"colorbar\":{\"outlinewidth\":0,\"ticks\":\"\"}},\"type\":\"scattergeo\"}],\"scattergl\":[{\"marker\":{\"colorbar\":{\"outlinewidth\":0,\"ticks\":\"\"}},\"type\":\"scattergl\"}],\"scattermapbox\":[{\"marker\":{\"colorbar\":{\"outlinewidth\":0,\"ticks\":\"\"}},\"type\":\"scattermapbox\"}],\"scatterpolargl\":[{\"marker\":{\"colorbar\":{\"outlinewidth\":0,\"ticks\":\"\"}},\"type\":\"scatterpolargl\"}],\"scatterpolar\":[{\"marker\":{\"colorbar\":{\"outlinewidth\":0,\"ticks\":\"\"}},\"type\":\"scatterpolar\"}],\"scatter\":[{\"fillpattern\":{\"fillmode\":\"overlay\",\"size\":10,\"solidity\":0.2},\"type\":\"scatter\"}],\"scatterternary\":[{\"marker\":{\"colorbar\":{\"outlinewidth\":0,\"ticks\":\"\"}},\"type\":\"scatterternary\"}],\"surface\":[{\"colorbar\":{\"outlinewidth\":0,\"ticks\":\"\"},\"colorscale\":[[0.0,\"#0d0887\"],[0.1111111111111111,\"#46039f\"],[0.2222222222222222,\"#7201a8\"],[0.3333333333333333,\"#9c179e\"],[0.4444444444444444,\"#bd3786\"],[0.5555555555555556,\"#d8576b\"],[0.6666666666666666,\"#ed7953\"],[0.7777777777777778,\"#fb9f3a\"],[0.8888888888888888,\"#fdca26\"],[1.0,\"#f0f921\"]],\"type\":\"surface\"}],\"table\":[{\"cells\":{\"fill\":{\"color\":\"#EBF0F8\"},\"line\":{\"color\":\"white\"}},\"header\":{\"fill\":{\"color\":\"#C8D4E3\"},\"line\":{\"color\":\"white\"}},\"type\":\"table\"}]},\"layout\":{\"annotationdefaults\":{\"arrowcolor\":\"#2a3f5f\",\"arrowhead\":0,\"arrowwidth\":1},\"autotypenumbers\":\"strict\",\"coloraxis\":{\"colorbar\":{\"outlinewidth\":0,\"ticks\":\"\"}},\"colorscale\":{\"diverging\":[[0,\"#8e0152\"],[0.1,\"#c51b7d\"],[0.2,\"#de77ae\"],[0.3,\"#f1b6da\"],[0.4,\"#fde0ef\"],[0.5,\"#f7f7f7\"],[0.6,\"#e6f5d0\"],[0.7,\"#b8e186\"],[0.8,\"#7fbc41\"],[0.9,\"#4d9221\"],[1,\"#276419\"]],\"sequential\":[[0.0,\"#0d0887\"],[0.1111111111111111,\"#46039f\"],[0.2222222222222222,\"#7201a8\"],[0.3333333333333333,\"#9c179e\"],[0.4444444444444444,\"#bd3786\"],[0.5555555555555556,\"#d8576b\"],[0.6666666666666666,\"#ed7953\"],[0.7777777777777778,\"#fb9f3a\"],[0.8888888888888888,\"#fdca26\"],[1.0,\"#f0f921\"]],\"sequentialminus\":[[0.0,\"#0d0887\"],[0.1111111111111111,\"#46039f\"],[0.2222222222222222,\"#7201a8\"],[0.3333333333333333,\"#9c179e\"],[0.4444444444444444,\"#bd3786\"],[0.5555555555555556,\"#d8576b\"],[0.6666666666666666,\"#ed7953\"],[0.7777777777777778,\"#fb9f3a\"],[0.8888888888888888,\"#fdca26\"],[1.0,\"#f0f921\"]]},\"colorway\":[\"#636efa\",\"#EF553B\",\"#00cc96\",\"#ab63fa\",\"#FFA15A\",\"#19d3f3\",\"#FF6692\",\"#B6E880\",\"#FF97FF\",\"#FECB52\"],\"font\":{\"color\":\"#2a3f5f\"},\"geo\":{\"bgcolor\":\"white\",\"lakecolor\":\"white\",\"landcolor\":\"#E5ECF6\",\"showlakes\":true,\"showland\":true,\"subunitcolor\":\"white\"},\"hoverlabel\":{\"align\":\"left\"},\"hovermode\":\"closest\",\"mapbox\":{\"style\":\"light\"},\"paper_bgcolor\":\"white\",\"plot_bgcolor\":\"#E5ECF6\",\"polar\":{\"angularaxis\":{\"gridcolor\":\"white\",\"linecolor\":\"white\",\"ticks\":\"\"},\"bgcolor\":\"#E5ECF6\",\"radialaxis\":{\"gridcolor\":\"white\",\"linecolor\":\"white\",\"ticks\":\"\"}},\"scene\":{\"xaxis\":{\"backgroundcolor\":\"#E5ECF6\",\"gridcolor\":\"white\",\"gridwidth\":2,\"linecolor\":\"white\",\"showbackground\":true,\"ticks\":\"\",\"zerolinecolor\":\"white\"},\"yaxis\":{\"backgroundcolor\":\"#E5ECF6\",\"gridcolor\":\"white\",\"gridwidth\":2,\"linecolor\":\"white\",\"showbackground\":true,\"ticks\":\"\",\"zerolinecolor\":\"white\"},\"zaxis\":{\"backgroundcolor\":\"#E5ECF6\",\"gridcolor\":\"white\",\"gridwidth\":2,\"linecolor\":\"white\",\"showbackground\":true,\"ticks\":\"\",\"zerolinecolor\":\"white\"}},\"shapedefaults\":{\"line\":{\"color\":\"#2a3f5f\"}},\"ternary\":{\"aaxis\":{\"gridcolor\":\"white\",\"linecolor\":\"white\",\"ticks\":\"\"},\"baxis\":{\"gridcolor\":\"white\",\"linecolor\":\"white\",\"ticks\":\"\"},\"bgcolor\":\"#E5ECF6\",\"caxis\":{\"gridcolor\":\"white\",\"linecolor\":\"white\",\"ticks\":\"\"}},\"title\":{\"x\":0.05},\"xaxis\":{\"automargin\":true,\"gridcolor\":\"white\",\"linecolor\":\"white\",\"ticks\":\"\",\"title\":{\"standoff\":15},\"zerolinecolor\":\"white\",\"zerolinewidth\":2},\"yaxis\":{\"automargin\":true,\"gridcolor\":\"white\",\"linecolor\":\"white\",\"ticks\":\"\",\"title\":{\"standoff\":15},\"zerolinecolor\":\"white\",\"zerolinewidth\":2}}},\"title\":{\"font\":{\"color\":\"#4D5663\"}},\"xaxis\":{\"gridcolor\":\"#E1E5ED\",\"showgrid\":true,\"tickfont\":{\"color\":\"#4D5663\"},\"title\":{\"font\":{\"color\":\"#4D5663\"},\"text\":\"\"},\"zerolinecolor\":\"#E1E5ED\"},\"yaxis\":{\"gridcolor\":\"#E1E5ED\",\"showgrid\":true,\"tickfont\":{\"color\":\"#4D5663\"},\"title\":{\"font\":{\"color\":\"#4D5663\"},\"text\":\"\"},\"zerolinecolor\":\"#E1E5ED\"}},                        {\"showLink\": true, \"linkText\": \"Export to plot.ly\", \"plotlyServerURL\": \"https://plot.ly\", \"responsive\": true}                    ).then(function(){\n",
       "                            \n",
       "var gd = document.getElementById('a5e3da78-c885-4a48-875d-6681a8eebb09');\n",
       "var x = new MutationObserver(function (mutations, observer) {{\n",
       "        var display = window.getComputedStyle(gd).display;\n",
       "        if (!display || display === 'none') {{\n",
       "            console.log([gd, 'removed!']);\n",
       "            Plotly.purge(gd);\n",
       "            observer.disconnect();\n",
       "        }}\n",
       "}});\n",
       "\n",
       "// Listen for the removal of the full notebook cells\n",
       "var notebookContainer = gd.closest('#notebook-container');\n",
       "if (notebookContainer) {{\n",
       "    x.observe(notebookContainer, {childList: true});\n",
       "}}\n",
       "\n",
       "// Listen for the clearing of the current output cell\n",
       "var outputEl = gd.closest('.output');\n",
       "if (outputEl) {{\n",
       "    x.observe(outputEl, {childList: true});\n",
       "}}\n",
       "\n",
       "                        })                };                });            </script>        </div>"
      ]
     },
     "metadata": {},
     "output_type": "display_data"
    }
   ],
   "source": [
    "df.iplot(kind='scatter',x='A',y='B',mode='markers',size=20)"
   ]
  },
  {
   "cell_type": "markdown",
   "id": "83d20d33",
   "metadata": {},
   "source": [
    "## Bar Plot"
   ]
  },
  {
   "cell_type": "code",
   "execution_count": 10,
   "id": "e72d1e51",
   "metadata": {},
   "outputs": [
    {
     "data": {
      "application/vnd.plotly.v1+json": {
       "config": {
        "linkText": "Export to plot.ly",
        "plotlyServerURL": "https://plot.ly",
        "showLink": true
       },
       "data": [
        {
         "marker": {
          "color": "rgba(255, 153, 51, 0.6)",
          "line": {
           "color": "rgba(255, 153, 51, 1.0)",
           "width": 1
          }
         },
         "name": "Values",
         "orientation": "v",
         "text": "",
         "type": "bar",
         "x": [
          "A",
          "B",
          "C"
         ],
         "y": [
          32,
          43,
          50
         ]
        }
       ],
       "layout": {
        "legend": {
         "bgcolor": "#F5F6F9",
         "font": {
          "color": "#4D5663"
         }
        },
        "paper_bgcolor": "#F5F6F9",
        "plot_bgcolor": "#F5F6F9",
        "template": {
         "data": {
          "bar": [
           {
            "error_x": {
             "color": "#2a3f5f"
            },
            "error_y": {
             "color": "#2a3f5f"
            },
            "marker": {
             "line": {
              "color": "#E5ECF6",
              "width": 0.5
             },
             "pattern": {
              "fillmode": "overlay",
              "size": 10,
              "solidity": 0.2
             }
            },
            "type": "bar"
           }
          ],
          "barpolar": [
           {
            "marker": {
             "line": {
              "color": "#E5ECF6",
              "width": 0.5
             },
             "pattern": {
              "fillmode": "overlay",
              "size": 10,
              "solidity": 0.2
             }
            },
            "type": "barpolar"
           }
          ],
          "carpet": [
           {
            "aaxis": {
             "endlinecolor": "#2a3f5f",
             "gridcolor": "white",
             "linecolor": "white",
             "minorgridcolor": "white",
             "startlinecolor": "#2a3f5f"
            },
            "baxis": {
             "endlinecolor": "#2a3f5f",
             "gridcolor": "white",
             "linecolor": "white",
             "minorgridcolor": "white",
             "startlinecolor": "#2a3f5f"
            },
            "type": "carpet"
           }
          ],
          "choropleth": [
           {
            "colorbar": {
             "outlinewidth": 0,
             "ticks": ""
            },
            "type": "choropleth"
           }
          ],
          "contour": [
           {
            "colorbar": {
             "outlinewidth": 0,
             "ticks": ""
            },
            "colorscale": [
             [
              0,
              "#0d0887"
             ],
             [
              0.1111111111111111,
              "#46039f"
             ],
             [
              0.2222222222222222,
              "#7201a8"
             ],
             [
              0.3333333333333333,
              "#9c179e"
             ],
             [
              0.4444444444444444,
              "#bd3786"
             ],
             [
              0.5555555555555556,
              "#d8576b"
             ],
             [
              0.6666666666666666,
              "#ed7953"
             ],
             [
              0.7777777777777778,
              "#fb9f3a"
             ],
             [
              0.8888888888888888,
              "#fdca26"
             ],
             [
              1,
              "#f0f921"
             ]
            ],
            "type": "contour"
           }
          ],
          "contourcarpet": [
           {
            "colorbar": {
             "outlinewidth": 0,
             "ticks": ""
            },
            "type": "contourcarpet"
           }
          ],
          "heatmap": [
           {
            "colorbar": {
             "outlinewidth": 0,
             "ticks": ""
            },
            "colorscale": [
             [
              0,
              "#0d0887"
             ],
             [
              0.1111111111111111,
              "#46039f"
             ],
             [
              0.2222222222222222,
              "#7201a8"
             ],
             [
              0.3333333333333333,
              "#9c179e"
             ],
             [
              0.4444444444444444,
              "#bd3786"
             ],
             [
              0.5555555555555556,
              "#d8576b"
             ],
             [
              0.6666666666666666,
              "#ed7953"
             ],
             [
              0.7777777777777778,
              "#fb9f3a"
             ],
             [
              0.8888888888888888,
              "#fdca26"
             ],
             [
              1,
              "#f0f921"
             ]
            ],
            "type": "heatmap"
           }
          ],
          "heatmapgl": [
           {
            "colorbar": {
             "outlinewidth": 0,
             "ticks": ""
            },
            "colorscale": [
             [
              0,
              "#0d0887"
             ],
             [
              0.1111111111111111,
              "#46039f"
             ],
             [
              0.2222222222222222,
              "#7201a8"
             ],
             [
              0.3333333333333333,
              "#9c179e"
             ],
             [
              0.4444444444444444,
              "#bd3786"
             ],
             [
              0.5555555555555556,
              "#d8576b"
             ],
             [
              0.6666666666666666,
              "#ed7953"
             ],
             [
              0.7777777777777778,
              "#fb9f3a"
             ],
             [
              0.8888888888888888,
              "#fdca26"
             ],
             [
              1,
              "#f0f921"
             ]
            ],
            "type": "heatmapgl"
           }
          ],
          "histogram": [
           {
            "marker": {
             "pattern": {
              "fillmode": "overlay",
              "size": 10,
              "solidity": 0.2
             }
            },
            "type": "histogram"
           }
          ],
          "histogram2d": [
           {
            "colorbar": {
             "outlinewidth": 0,
             "ticks": ""
            },
            "colorscale": [
             [
              0,
              "#0d0887"
             ],
             [
              0.1111111111111111,
              "#46039f"
             ],
             [
              0.2222222222222222,
              "#7201a8"
             ],
             [
              0.3333333333333333,
              "#9c179e"
             ],
             [
              0.4444444444444444,
              "#bd3786"
             ],
             [
              0.5555555555555556,
              "#d8576b"
             ],
             [
              0.6666666666666666,
              "#ed7953"
             ],
             [
              0.7777777777777778,
              "#fb9f3a"
             ],
             [
              0.8888888888888888,
              "#fdca26"
             ],
             [
              1,
              "#f0f921"
             ]
            ],
            "type": "histogram2d"
           }
          ],
          "histogram2dcontour": [
           {
            "colorbar": {
             "outlinewidth": 0,
             "ticks": ""
            },
            "colorscale": [
             [
              0,
              "#0d0887"
             ],
             [
              0.1111111111111111,
              "#46039f"
             ],
             [
              0.2222222222222222,
              "#7201a8"
             ],
             [
              0.3333333333333333,
              "#9c179e"
             ],
             [
              0.4444444444444444,
              "#bd3786"
             ],
             [
              0.5555555555555556,
              "#d8576b"
             ],
             [
              0.6666666666666666,
              "#ed7953"
             ],
             [
              0.7777777777777778,
              "#fb9f3a"
             ],
             [
              0.8888888888888888,
              "#fdca26"
             ],
             [
              1,
              "#f0f921"
             ]
            ],
            "type": "histogram2dcontour"
           }
          ],
          "mesh3d": [
           {
            "colorbar": {
             "outlinewidth": 0,
             "ticks": ""
            },
            "type": "mesh3d"
           }
          ],
          "parcoords": [
           {
            "line": {
             "colorbar": {
              "outlinewidth": 0,
              "ticks": ""
             }
            },
            "type": "parcoords"
           }
          ],
          "pie": [
           {
            "automargin": true,
            "type": "pie"
           }
          ],
          "scatter": [
           {
            "fillpattern": {
             "fillmode": "overlay",
             "size": 10,
             "solidity": 0.2
            },
            "type": "scatter"
           }
          ],
          "scatter3d": [
           {
            "line": {
             "colorbar": {
              "outlinewidth": 0,
              "ticks": ""
             }
            },
            "marker": {
             "colorbar": {
              "outlinewidth": 0,
              "ticks": ""
             }
            },
            "type": "scatter3d"
           }
          ],
          "scattercarpet": [
           {
            "marker": {
             "colorbar": {
              "outlinewidth": 0,
              "ticks": ""
             }
            },
            "type": "scattercarpet"
           }
          ],
          "scattergeo": [
           {
            "marker": {
             "colorbar": {
              "outlinewidth": 0,
              "ticks": ""
             }
            },
            "type": "scattergeo"
           }
          ],
          "scattergl": [
           {
            "marker": {
             "colorbar": {
              "outlinewidth": 0,
              "ticks": ""
             }
            },
            "type": "scattergl"
           }
          ],
          "scattermapbox": [
           {
            "marker": {
             "colorbar": {
              "outlinewidth": 0,
              "ticks": ""
             }
            },
            "type": "scattermapbox"
           }
          ],
          "scatterpolar": [
           {
            "marker": {
             "colorbar": {
              "outlinewidth": 0,
              "ticks": ""
             }
            },
            "type": "scatterpolar"
           }
          ],
          "scatterpolargl": [
           {
            "marker": {
             "colorbar": {
              "outlinewidth": 0,
              "ticks": ""
             }
            },
            "type": "scatterpolargl"
           }
          ],
          "scatterternary": [
           {
            "marker": {
             "colorbar": {
              "outlinewidth": 0,
              "ticks": ""
             }
            },
            "type": "scatterternary"
           }
          ],
          "surface": [
           {
            "colorbar": {
             "outlinewidth": 0,
             "ticks": ""
            },
            "colorscale": [
             [
              0,
              "#0d0887"
             ],
             [
              0.1111111111111111,
              "#46039f"
             ],
             [
              0.2222222222222222,
              "#7201a8"
             ],
             [
              0.3333333333333333,
              "#9c179e"
             ],
             [
              0.4444444444444444,
              "#bd3786"
             ],
             [
              0.5555555555555556,
              "#d8576b"
             ],
             [
              0.6666666666666666,
              "#ed7953"
             ],
             [
              0.7777777777777778,
              "#fb9f3a"
             ],
             [
              0.8888888888888888,
              "#fdca26"
             ],
             [
              1,
              "#f0f921"
             ]
            ],
            "type": "surface"
           }
          ],
          "table": [
           {
            "cells": {
             "fill": {
              "color": "#EBF0F8"
             },
             "line": {
              "color": "white"
             }
            },
            "header": {
             "fill": {
              "color": "#C8D4E3"
             },
             "line": {
              "color": "white"
             }
            },
            "type": "table"
           }
          ]
         },
         "layout": {
          "annotationdefaults": {
           "arrowcolor": "#2a3f5f",
           "arrowhead": 0,
           "arrowwidth": 1
          },
          "autotypenumbers": "strict",
          "coloraxis": {
           "colorbar": {
            "outlinewidth": 0,
            "ticks": ""
           }
          },
          "colorscale": {
           "diverging": [
            [
             0,
             "#8e0152"
            ],
            [
             0.1,
             "#c51b7d"
            ],
            [
             0.2,
             "#de77ae"
            ],
            [
             0.3,
             "#f1b6da"
            ],
            [
             0.4,
             "#fde0ef"
            ],
            [
             0.5,
             "#f7f7f7"
            ],
            [
             0.6,
             "#e6f5d0"
            ],
            [
             0.7,
             "#b8e186"
            ],
            [
             0.8,
             "#7fbc41"
            ],
            [
             0.9,
             "#4d9221"
            ],
            [
             1,
             "#276419"
            ]
           ],
           "sequential": [
            [
             0,
             "#0d0887"
            ],
            [
             0.1111111111111111,
             "#46039f"
            ],
            [
             0.2222222222222222,
             "#7201a8"
            ],
            [
             0.3333333333333333,
             "#9c179e"
            ],
            [
             0.4444444444444444,
             "#bd3786"
            ],
            [
             0.5555555555555556,
             "#d8576b"
            ],
            [
             0.6666666666666666,
             "#ed7953"
            ],
            [
             0.7777777777777778,
             "#fb9f3a"
            ],
            [
             0.8888888888888888,
             "#fdca26"
            ],
            [
             1,
             "#f0f921"
            ]
           ],
           "sequentialminus": [
            [
             0,
             "#0d0887"
            ],
            [
             0.1111111111111111,
             "#46039f"
            ],
            [
             0.2222222222222222,
             "#7201a8"
            ],
            [
             0.3333333333333333,
             "#9c179e"
            ],
            [
             0.4444444444444444,
             "#bd3786"
            ],
            [
             0.5555555555555556,
             "#d8576b"
            ],
            [
             0.6666666666666666,
             "#ed7953"
            ],
            [
             0.7777777777777778,
             "#fb9f3a"
            ],
            [
             0.8888888888888888,
             "#fdca26"
            ],
            [
             1,
             "#f0f921"
            ]
           ]
          },
          "colorway": [
           "#636efa",
           "#EF553B",
           "#00cc96",
           "#ab63fa",
           "#FFA15A",
           "#19d3f3",
           "#FF6692",
           "#B6E880",
           "#FF97FF",
           "#FECB52"
          ],
          "font": {
           "color": "#2a3f5f"
          },
          "geo": {
           "bgcolor": "white",
           "lakecolor": "white",
           "landcolor": "#E5ECF6",
           "showlakes": true,
           "showland": true,
           "subunitcolor": "white"
          },
          "hoverlabel": {
           "align": "left"
          },
          "hovermode": "closest",
          "mapbox": {
           "style": "light"
          },
          "paper_bgcolor": "white",
          "plot_bgcolor": "#E5ECF6",
          "polar": {
           "angularaxis": {
            "gridcolor": "white",
            "linecolor": "white",
            "ticks": ""
           },
           "bgcolor": "#E5ECF6",
           "radialaxis": {
            "gridcolor": "white",
            "linecolor": "white",
            "ticks": ""
           }
          },
          "scene": {
           "xaxis": {
            "backgroundcolor": "#E5ECF6",
            "gridcolor": "white",
            "gridwidth": 2,
            "linecolor": "white",
            "showbackground": true,
            "ticks": "",
            "zerolinecolor": "white"
           },
           "yaxis": {
            "backgroundcolor": "#E5ECF6",
            "gridcolor": "white",
            "gridwidth": 2,
            "linecolor": "white",
            "showbackground": true,
            "ticks": "",
            "zerolinecolor": "white"
           },
           "zaxis": {
            "backgroundcolor": "#E5ECF6",
            "gridcolor": "white",
            "gridwidth": 2,
            "linecolor": "white",
            "showbackground": true,
            "ticks": "",
            "zerolinecolor": "white"
           }
          },
          "shapedefaults": {
           "line": {
            "color": "#2a3f5f"
           }
          },
          "ternary": {
           "aaxis": {
            "gridcolor": "white",
            "linecolor": "white",
            "ticks": ""
           },
           "baxis": {
            "gridcolor": "white",
            "linecolor": "white",
            "ticks": ""
           },
           "bgcolor": "#E5ECF6",
           "caxis": {
            "gridcolor": "white",
            "linecolor": "white",
            "ticks": ""
           }
          },
          "title": {
           "x": 0.05
          },
          "xaxis": {
           "automargin": true,
           "gridcolor": "white",
           "linecolor": "white",
           "ticks": "",
           "title": {
            "standoff": 15
           },
           "zerolinecolor": "white",
           "zerolinewidth": 2
          },
          "yaxis": {
           "automargin": true,
           "gridcolor": "white",
           "linecolor": "white",
           "ticks": "",
           "title": {
            "standoff": 15
           },
           "zerolinecolor": "white",
           "zerolinewidth": 2
          }
         }
        },
        "title": {
         "font": {
          "color": "#4D5663"
         }
        },
        "xaxis": {
         "gridcolor": "#E1E5ED",
         "showgrid": true,
         "tickfont": {
          "color": "#4D5663"
         },
         "title": {
          "font": {
           "color": "#4D5663"
          },
          "text": ""
         },
         "zerolinecolor": "#E1E5ED"
        },
        "yaxis": {
         "gridcolor": "#E1E5ED",
         "showgrid": true,
         "tickfont": {
          "color": "#4D5663"
         },
         "title": {
          "font": {
           "color": "#4D5663"
          },
          "text": ""
         },
         "zerolinecolor": "#E1E5ED"
        }
       }
      },
      "text/html": [
       "<div>                            <div id=\"19d59a67-4545-4f21-a8d7-124105a15b58\" class=\"plotly-graph-div\" style=\"height:525px; width:100%;\"></div>            <script type=\"text/javascript\">                require([\"plotly\"], function(Plotly) {                    window.PLOTLYENV=window.PLOTLYENV || {};\n",
       "                    window.PLOTLYENV.BASE_URL='https://plot.ly';                                    if (document.getElementById(\"19d59a67-4545-4f21-a8d7-124105a15b58\")) {                    Plotly.newPlot(                        \"19d59a67-4545-4f21-a8d7-124105a15b58\",                        [{\"marker\":{\"color\":\"rgba(255, 153, 51, 0.6)\",\"line\":{\"color\":\"rgba(255, 153, 51, 1.0)\",\"width\":1}},\"name\":\"Values\",\"orientation\":\"v\",\"text\":\"\",\"x\":[\"A\",\"B\",\"C\"],\"y\":[32,43,50],\"type\":\"bar\"}],                        {\"legend\":{\"bgcolor\":\"#F5F6F9\",\"font\":{\"color\":\"#4D5663\"}},\"paper_bgcolor\":\"#F5F6F9\",\"plot_bgcolor\":\"#F5F6F9\",\"template\":{\"data\":{\"barpolar\":[{\"marker\":{\"line\":{\"color\":\"#E5ECF6\",\"width\":0.5},\"pattern\":{\"fillmode\":\"overlay\",\"size\":10,\"solidity\":0.2}},\"type\":\"barpolar\"}],\"bar\":[{\"error_x\":{\"color\":\"#2a3f5f\"},\"error_y\":{\"color\":\"#2a3f5f\"},\"marker\":{\"line\":{\"color\":\"#E5ECF6\",\"width\":0.5},\"pattern\":{\"fillmode\":\"overlay\",\"size\":10,\"solidity\":0.2}},\"type\":\"bar\"}],\"carpet\":[{\"aaxis\":{\"endlinecolor\":\"#2a3f5f\",\"gridcolor\":\"white\",\"linecolor\":\"white\",\"minorgridcolor\":\"white\",\"startlinecolor\":\"#2a3f5f\"},\"baxis\":{\"endlinecolor\":\"#2a3f5f\",\"gridcolor\":\"white\",\"linecolor\":\"white\",\"minorgridcolor\":\"white\",\"startlinecolor\":\"#2a3f5f\"},\"type\":\"carpet\"}],\"choropleth\":[{\"colorbar\":{\"outlinewidth\":0,\"ticks\":\"\"},\"type\":\"choropleth\"}],\"contourcarpet\":[{\"colorbar\":{\"outlinewidth\":0,\"ticks\":\"\"},\"type\":\"contourcarpet\"}],\"contour\":[{\"colorbar\":{\"outlinewidth\":0,\"ticks\":\"\"},\"colorscale\":[[0.0,\"#0d0887\"],[0.1111111111111111,\"#46039f\"],[0.2222222222222222,\"#7201a8\"],[0.3333333333333333,\"#9c179e\"],[0.4444444444444444,\"#bd3786\"],[0.5555555555555556,\"#d8576b\"],[0.6666666666666666,\"#ed7953\"],[0.7777777777777778,\"#fb9f3a\"],[0.8888888888888888,\"#fdca26\"],[1.0,\"#f0f921\"]],\"type\":\"contour\"}],\"heatmapgl\":[{\"colorbar\":{\"outlinewidth\":0,\"ticks\":\"\"},\"colorscale\":[[0.0,\"#0d0887\"],[0.1111111111111111,\"#46039f\"],[0.2222222222222222,\"#7201a8\"],[0.3333333333333333,\"#9c179e\"],[0.4444444444444444,\"#bd3786\"],[0.5555555555555556,\"#d8576b\"],[0.6666666666666666,\"#ed7953\"],[0.7777777777777778,\"#fb9f3a\"],[0.8888888888888888,\"#fdca26\"],[1.0,\"#f0f921\"]],\"type\":\"heatmapgl\"}],\"heatmap\":[{\"colorbar\":{\"outlinewidth\":0,\"ticks\":\"\"},\"colorscale\":[[0.0,\"#0d0887\"],[0.1111111111111111,\"#46039f\"],[0.2222222222222222,\"#7201a8\"],[0.3333333333333333,\"#9c179e\"],[0.4444444444444444,\"#bd3786\"],[0.5555555555555556,\"#d8576b\"],[0.6666666666666666,\"#ed7953\"],[0.7777777777777778,\"#fb9f3a\"],[0.8888888888888888,\"#fdca26\"],[1.0,\"#f0f921\"]],\"type\":\"heatmap\"}],\"histogram2dcontour\":[{\"colorbar\":{\"outlinewidth\":0,\"ticks\":\"\"},\"colorscale\":[[0.0,\"#0d0887\"],[0.1111111111111111,\"#46039f\"],[0.2222222222222222,\"#7201a8\"],[0.3333333333333333,\"#9c179e\"],[0.4444444444444444,\"#bd3786\"],[0.5555555555555556,\"#d8576b\"],[0.6666666666666666,\"#ed7953\"],[0.7777777777777778,\"#fb9f3a\"],[0.8888888888888888,\"#fdca26\"],[1.0,\"#f0f921\"]],\"type\":\"histogram2dcontour\"}],\"histogram2d\":[{\"colorbar\":{\"outlinewidth\":0,\"ticks\":\"\"},\"colorscale\":[[0.0,\"#0d0887\"],[0.1111111111111111,\"#46039f\"],[0.2222222222222222,\"#7201a8\"],[0.3333333333333333,\"#9c179e\"],[0.4444444444444444,\"#bd3786\"],[0.5555555555555556,\"#d8576b\"],[0.6666666666666666,\"#ed7953\"],[0.7777777777777778,\"#fb9f3a\"],[0.8888888888888888,\"#fdca26\"],[1.0,\"#f0f921\"]],\"type\":\"histogram2d\"}],\"histogram\":[{\"marker\":{\"pattern\":{\"fillmode\":\"overlay\",\"size\":10,\"solidity\":0.2}},\"type\":\"histogram\"}],\"mesh3d\":[{\"colorbar\":{\"outlinewidth\":0,\"ticks\":\"\"},\"type\":\"mesh3d\"}],\"parcoords\":[{\"line\":{\"colorbar\":{\"outlinewidth\":0,\"ticks\":\"\"}},\"type\":\"parcoords\"}],\"pie\":[{\"automargin\":true,\"type\":\"pie\"}],\"scatter3d\":[{\"line\":{\"colorbar\":{\"outlinewidth\":0,\"ticks\":\"\"}},\"marker\":{\"colorbar\":{\"outlinewidth\":0,\"ticks\":\"\"}},\"type\":\"scatter3d\"}],\"scattercarpet\":[{\"marker\":{\"colorbar\":{\"outlinewidth\":0,\"ticks\":\"\"}},\"type\":\"scattercarpet\"}],\"scattergeo\":[{\"marker\":{\"colorbar\":{\"outlinewidth\":0,\"ticks\":\"\"}},\"type\":\"scattergeo\"}],\"scattergl\":[{\"marker\":{\"colorbar\":{\"outlinewidth\":0,\"ticks\":\"\"}},\"type\":\"scattergl\"}],\"scattermapbox\":[{\"marker\":{\"colorbar\":{\"outlinewidth\":0,\"ticks\":\"\"}},\"type\":\"scattermapbox\"}],\"scatterpolargl\":[{\"marker\":{\"colorbar\":{\"outlinewidth\":0,\"ticks\":\"\"}},\"type\":\"scatterpolargl\"}],\"scatterpolar\":[{\"marker\":{\"colorbar\":{\"outlinewidth\":0,\"ticks\":\"\"}},\"type\":\"scatterpolar\"}],\"scatter\":[{\"fillpattern\":{\"fillmode\":\"overlay\",\"size\":10,\"solidity\":0.2},\"type\":\"scatter\"}],\"scatterternary\":[{\"marker\":{\"colorbar\":{\"outlinewidth\":0,\"ticks\":\"\"}},\"type\":\"scatterternary\"}],\"surface\":[{\"colorbar\":{\"outlinewidth\":0,\"ticks\":\"\"},\"colorscale\":[[0.0,\"#0d0887\"],[0.1111111111111111,\"#46039f\"],[0.2222222222222222,\"#7201a8\"],[0.3333333333333333,\"#9c179e\"],[0.4444444444444444,\"#bd3786\"],[0.5555555555555556,\"#d8576b\"],[0.6666666666666666,\"#ed7953\"],[0.7777777777777778,\"#fb9f3a\"],[0.8888888888888888,\"#fdca26\"],[1.0,\"#f0f921\"]],\"type\":\"surface\"}],\"table\":[{\"cells\":{\"fill\":{\"color\":\"#EBF0F8\"},\"line\":{\"color\":\"white\"}},\"header\":{\"fill\":{\"color\":\"#C8D4E3\"},\"line\":{\"color\":\"white\"}},\"type\":\"table\"}]},\"layout\":{\"annotationdefaults\":{\"arrowcolor\":\"#2a3f5f\",\"arrowhead\":0,\"arrowwidth\":1},\"autotypenumbers\":\"strict\",\"coloraxis\":{\"colorbar\":{\"outlinewidth\":0,\"ticks\":\"\"}},\"colorscale\":{\"diverging\":[[0,\"#8e0152\"],[0.1,\"#c51b7d\"],[0.2,\"#de77ae\"],[0.3,\"#f1b6da\"],[0.4,\"#fde0ef\"],[0.5,\"#f7f7f7\"],[0.6,\"#e6f5d0\"],[0.7,\"#b8e186\"],[0.8,\"#7fbc41\"],[0.9,\"#4d9221\"],[1,\"#276419\"]],\"sequential\":[[0.0,\"#0d0887\"],[0.1111111111111111,\"#46039f\"],[0.2222222222222222,\"#7201a8\"],[0.3333333333333333,\"#9c179e\"],[0.4444444444444444,\"#bd3786\"],[0.5555555555555556,\"#d8576b\"],[0.6666666666666666,\"#ed7953\"],[0.7777777777777778,\"#fb9f3a\"],[0.8888888888888888,\"#fdca26\"],[1.0,\"#f0f921\"]],\"sequentialminus\":[[0.0,\"#0d0887\"],[0.1111111111111111,\"#46039f\"],[0.2222222222222222,\"#7201a8\"],[0.3333333333333333,\"#9c179e\"],[0.4444444444444444,\"#bd3786\"],[0.5555555555555556,\"#d8576b\"],[0.6666666666666666,\"#ed7953\"],[0.7777777777777778,\"#fb9f3a\"],[0.8888888888888888,\"#fdca26\"],[1.0,\"#f0f921\"]]},\"colorway\":[\"#636efa\",\"#EF553B\",\"#00cc96\",\"#ab63fa\",\"#FFA15A\",\"#19d3f3\",\"#FF6692\",\"#B6E880\",\"#FF97FF\",\"#FECB52\"],\"font\":{\"color\":\"#2a3f5f\"},\"geo\":{\"bgcolor\":\"white\",\"lakecolor\":\"white\",\"landcolor\":\"#E5ECF6\",\"showlakes\":true,\"showland\":true,\"subunitcolor\":\"white\"},\"hoverlabel\":{\"align\":\"left\"},\"hovermode\":\"closest\",\"mapbox\":{\"style\":\"light\"},\"paper_bgcolor\":\"white\",\"plot_bgcolor\":\"#E5ECF6\",\"polar\":{\"angularaxis\":{\"gridcolor\":\"white\",\"linecolor\":\"white\",\"ticks\":\"\"},\"bgcolor\":\"#E5ECF6\",\"radialaxis\":{\"gridcolor\":\"white\",\"linecolor\":\"white\",\"ticks\":\"\"}},\"scene\":{\"xaxis\":{\"backgroundcolor\":\"#E5ECF6\",\"gridcolor\":\"white\",\"gridwidth\":2,\"linecolor\":\"white\",\"showbackground\":true,\"ticks\":\"\",\"zerolinecolor\":\"white\"},\"yaxis\":{\"backgroundcolor\":\"#E5ECF6\",\"gridcolor\":\"white\",\"gridwidth\":2,\"linecolor\":\"white\",\"showbackground\":true,\"ticks\":\"\",\"zerolinecolor\":\"white\"},\"zaxis\":{\"backgroundcolor\":\"#E5ECF6\",\"gridcolor\":\"white\",\"gridwidth\":2,\"linecolor\":\"white\",\"showbackground\":true,\"ticks\":\"\",\"zerolinecolor\":\"white\"}},\"shapedefaults\":{\"line\":{\"color\":\"#2a3f5f\"}},\"ternary\":{\"aaxis\":{\"gridcolor\":\"white\",\"linecolor\":\"white\",\"ticks\":\"\"},\"baxis\":{\"gridcolor\":\"white\",\"linecolor\":\"white\",\"ticks\":\"\"},\"bgcolor\":\"#E5ECF6\",\"caxis\":{\"gridcolor\":\"white\",\"linecolor\":\"white\",\"ticks\":\"\"}},\"title\":{\"x\":0.05},\"xaxis\":{\"automargin\":true,\"gridcolor\":\"white\",\"linecolor\":\"white\",\"ticks\":\"\",\"title\":{\"standoff\":15},\"zerolinecolor\":\"white\",\"zerolinewidth\":2},\"yaxis\":{\"automargin\":true,\"gridcolor\":\"white\",\"linecolor\":\"white\",\"ticks\":\"\",\"title\":{\"standoff\":15},\"zerolinecolor\":\"white\",\"zerolinewidth\":2}}},\"title\":{\"font\":{\"color\":\"#4D5663\"}},\"xaxis\":{\"gridcolor\":\"#E1E5ED\",\"showgrid\":true,\"tickfont\":{\"color\":\"#4D5663\"},\"title\":{\"font\":{\"color\":\"#4D5663\"},\"text\":\"\"},\"zerolinecolor\":\"#E1E5ED\"},\"yaxis\":{\"gridcolor\":\"#E1E5ED\",\"showgrid\":true,\"tickfont\":{\"color\":\"#4D5663\"},\"title\":{\"font\":{\"color\":\"#4D5663\"},\"text\":\"\"},\"zerolinecolor\":\"#E1E5ED\"}},                        {\"showLink\": true, \"linkText\": \"Export to plot.ly\", \"plotlyServerURL\": \"https://plot.ly\", \"responsive\": true}                    ).then(function(){\n",
       "                            \n",
       "var gd = document.getElementById('19d59a67-4545-4f21-a8d7-124105a15b58');\n",
       "var x = new MutationObserver(function (mutations, observer) {{\n",
       "        var display = window.getComputedStyle(gd).display;\n",
       "        if (!display || display === 'none') {{\n",
       "            console.log([gd, 'removed!']);\n",
       "            Plotly.purge(gd);\n",
       "            observer.disconnect();\n",
       "        }}\n",
       "}});\n",
       "\n",
       "// Listen for the removal of the full notebook cells\n",
       "var notebookContainer = gd.closest('#notebook-container');\n",
       "if (notebookContainer) {{\n",
       "    x.observe(notebookContainer, {childList: true});\n",
       "}}\n",
       "\n",
       "// Listen for the clearing of the current output cell\n",
       "var outputEl = gd.closest('.output');\n",
       "if (outputEl) {{\n",
       "    x.observe(outputEl, {childList: true});\n",
       "}}\n",
       "\n",
       "                        })                };                });            </script>        </div>"
      ]
     },
     "metadata": {},
     "output_type": "display_data"
    }
   ],
   "source": [
    "df2.iplot(kind='bar',x='Category',y='Values')"
   ]
  },
  {
   "cell_type": "code",
   "execution_count": 11,
   "id": "3b95a815",
   "metadata": {},
   "outputs": [
    {
     "data": {
      "application/vnd.plotly.v1+json": {
       "config": {
        "linkText": "Export to plot.ly",
        "plotlyServerURL": "https://plot.ly",
        "showLink": true
       },
       "data": [
        {
         "marker": {
          "color": "rgba(255, 153, 51, 0.6)",
          "line": {
           "color": "rgba(255, 153, 51, 1.0)",
           "width": 1
          }
         },
         "name": "A",
         "orientation": "v",
         "text": "",
         "type": "bar",
         "x": [
          0,
          1,
          2,
          3,
          4,
          5,
          6,
          7,
          8,
          9,
          10,
          11,
          12,
          13,
          14,
          15,
          16,
          17,
          18,
          19,
          20,
          21,
          22,
          23,
          24,
          25,
          26,
          27,
          28,
          29,
          30,
          31,
          32,
          33,
          34,
          35,
          36,
          37,
          38,
          39,
          40,
          41,
          42,
          43,
          44,
          45,
          46,
          47,
          48,
          49,
          50,
          51,
          52,
          53,
          54,
          55,
          56,
          57,
          58,
          59,
          60,
          61,
          62,
          63,
          64,
          65,
          66,
          67,
          68,
          69,
          70,
          71,
          72,
          73,
          74,
          75,
          76,
          77,
          78,
          79,
          80,
          81,
          82,
          83,
          84,
          85,
          86,
          87,
          88,
          89,
          90,
          91,
          92,
          93,
          94,
          95,
          96,
          97,
          98,
          99
         ],
         "y": [
          -0.28417787083349927,
          0.6413274499391824,
          -0.33336861080745656,
          2.006764818840116,
          1.8728377960165354,
          -0.24882852649873424,
          -0.29861874001993766,
          -0.5527446223333694,
          -0.06284839007619376,
          0.6872961946392325,
          -0.48047030452308376,
          -0.15819211016748583,
          0.3979193283561742,
          -0.9231892579778409,
          0.5315667297247073,
          1.0017781127586238,
          -2.0721385248636266,
          0.9212012857921277,
          -0.25197735935695925,
          -2.5438707821411417,
          -0.9797570746505114,
          -1.785600451605513,
          -1.3677304085261701,
          -0.8597776400411747,
          -0.38161314435598254,
          -0.21955301709234307,
          -0.46962502773123727,
          0.08658003414889327,
          -2.624997706901156,
          1.617799016690096,
          0.2322838968046603,
          -0.5747107444070692,
          1.306245125000283,
          -0.7424921675650964,
          -0.6846539842162228,
          2.1601206807767657,
          -1.1832051219606274,
          0.21698850723985674,
          1.693120559186067,
          -1.4725670406597433,
          0.5268215706826592,
          0.22618522749666412,
          1.3241925977559907,
          -1.1750950935332447,
          0.779369119313454,
          -1.0622472454257539,
          -0.7479801434627531,
          -1.11546714284219,
          0.6490101527890603,
          -0.22489797094481306,
          -1.1740087820316207,
          0.08056535097254833,
          0.615871865696655,
          -0.17445791673987496,
          0.8456171781805357,
          1.8168544512752107,
          0.9067056603187674,
          -0.1318278852951855,
          -0.9806500898254744,
          0.4032491907360089,
          0.5456168400678882,
          1.6799435539133445,
          -1.417466304121186,
          1.1183981281871356,
          -0.5754137503060296,
          -0.4451311781056884,
          0.6524364369982173,
          -0.2531055435068277,
          -1.2238276239485155,
          0.5079425450594325,
          -0.7127247095374196,
          0.5340289009521697,
          -0.45390448707790165,
          -0.004315066126661081,
          0.01607814905285022,
          0.23686645998285866,
          -0.22681193933351268,
          -1.282908829683012,
          1.0598838321126345,
          -0.28086616600779785,
          -1.4665713559786704,
          0.9606502786533506,
          0.30386951258373074,
          0.9913019602065628,
          -0.5343798033042318,
          -1.2672235642375103,
          0.3206869075841262,
          0.059509125355931794,
          -0.7576598946355392,
          -0.5340235908042054,
          -1.1285727143193942,
          2.1140216110955588,
          1.0418469094947094,
          0.2854170485589883,
          -1.9999513786857224,
          0.9479014280894817,
          -1.14631525364236,
          1.6505960122936931,
          0.4751216841159835,
          0.07362728384021043
         ]
        },
        {
         "marker": {
          "color": "rgba(55, 128, 191, 0.6)",
          "line": {
           "color": "rgba(55, 128, 191, 1.0)",
           "width": 1
          }
         },
         "name": "B",
         "orientation": "v",
         "text": "",
         "type": "bar",
         "x": [
          0,
          1,
          2,
          3,
          4,
          5,
          6,
          7,
          8,
          9,
          10,
          11,
          12,
          13,
          14,
          15,
          16,
          17,
          18,
          19,
          20,
          21,
          22,
          23,
          24,
          25,
          26,
          27,
          28,
          29,
          30,
          31,
          32,
          33,
          34,
          35,
          36,
          37,
          38,
          39,
          40,
          41,
          42,
          43,
          44,
          45,
          46,
          47,
          48,
          49,
          50,
          51,
          52,
          53,
          54,
          55,
          56,
          57,
          58,
          59,
          60,
          61,
          62,
          63,
          64,
          65,
          66,
          67,
          68,
          69,
          70,
          71,
          72,
          73,
          74,
          75,
          76,
          77,
          78,
          79,
          80,
          81,
          82,
          83,
          84,
          85,
          86,
          87,
          88,
          89,
          90,
          91,
          92,
          93,
          94,
          95,
          96,
          97,
          98,
          99
         ],
         "y": [
          -0.9942875062320643,
          0.6693618378433789,
          1.4375270448174466,
          -0.7601350990541826,
          -1.3856509449362089,
          0.7699061108404363,
          0.04944535748246853,
          0.6061305364332712,
          -0.23326162112807344,
          2.1617704129411974,
          0.4182423292502963,
          -0.8119088645105795,
          0.644305020890722,
          0.12994496488584203,
          -1.5914719130541115,
          -0.3958209142720946,
          0.8320625813285379,
          0.3595709913909463,
          0.8608355243878564,
          -0.5121802342042246,
          -0.19251810768470703,
          -1.1025637585273937,
          0.7127282902106402,
          0.9252123054557275,
          0.26684715309611456,
          -2.0304254233704966,
          1.1185689589290568,
          0.12590272762439111,
          -0.4125100158666027,
          -1.3224183185741754,
          0.3344566151898501,
          -2.1168986945450343,
          -0.9081775216742415,
          -1.6901431359280612,
          1.0403812288066845,
          0.22958405742077428,
          -0.8426375495425725,
          2.276061422029563,
          0.5778368449479325,
          1.144721063467178,
          1.8299513587167864,
          1.4621795449801354,
          -2.4368266921099533,
          1.013362811041721,
          -0.5778304519601165,
          1.0356709009219747,
          -0.504355394746898,
          0.35213287720179104,
          -1.2035825393525954,
          0.8106345843941292,
          -1.595771889074104,
          0.2457069745672563,
          -0.8566043574987787,
          0.3918816986658821,
          -0.2636254412853934,
          -1.0805801266361703,
          0.7319184842233384,
          -0.9438163723917274,
          -0.07189078116332594,
          -1.8693359956196978,
          0.2080888807547833,
          -0.14434974751758786,
          -1.0649759862550428,
          0.27727223466743445,
          -0.09036623691422577,
          1.1030507777767082,
          0.6415368409136328,
          -1.3194312808649182,
          0.2572171302463949,
          0.9309998401890984,
          1.4420973248489697,
          0.42381088497255825,
          0.9266947420824746,
          1.0675505254092201,
          1.0591396740258205,
          -0.4130027839015729,
          1.6464567391114484,
          -0.7639222655044755,
          -0.33115201506490505,
          -2.1054031846049996,
          2.0697721097103496,
          0.24439587621825065,
          1.8662383890198717,
          1.138721370400964,
          0.9451389623407138,
          1.6984878039732823,
          -0.6924609238879748,
          0.26861365381914376,
          1.1436079001022867,
          -0.1704130968335762,
          1.112192969720432,
          -0.14059862423431896,
          1.0150879111753266,
          0.3912245979789011,
          -1.0085802974254625,
          0.12489394468227431,
          0.940715803891102,
          0.8522321107876281,
          -0.3210080437331556,
          -0.12446681042664187
         ]
        },
        {
         "marker": {
          "color": "rgba(50, 171, 96, 0.6)",
          "line": {
           "color": "rgba(50, 171, 96, 1.0)",
           "width": 1
          }
         },
         "name": "C",
         "orientation": "v",
         "text": "",
         "type": "bar",
         "x": [
          0,
          1,
          2,
          3,
          4,
          5,
          6,
          7,
          8,
          9,
          10,
          11,
          12,
          13,
          14,
          15,
          16,
          17,
          18,
          19,
          20,
          21,
          22,
          23,
          24,
          25,
          26,
          27,
          28,
          29,
          30,
          31,
          32,
          33,
          34,
          35,
          36,
          37,
          38,
          39,
          40,
          41,
          42,
          43,
          44,
          45,
          46,
          47,
          48,
          49,
          50,
          51,
          52,
          53,
          54,
          55,
          56,
          57,
          58,
          59,
          60,
          61,
          62,
          63,
          64,
          65,
          66,
          67,
          68,
          69,
          70,
          71,
          72,
          73,
          74,
          75,
          76,
          77,
          78,
          79,
          80,
          81,
          82,
          83,
          84,
          85,
          86,
          87,
          88,
          89,
          90,
          91,
          92,
          93,
          94,
          95,
          96,
          97,
          98,
          99
         ],
         "y": [
          -0.34202531207788545,
          -1.1222644470835623,
          0.7028141803063046,
          -1.480542876628892,
          -0.9233934593064455,
          0.5036205587923401,
          1.4660744366199934,
          -0.21608707226005955,
          -1.1093147070053189,
          1.433557888382385,
          -0.8756375577785833,
          1.8804371359806382,
          0.9652403751072904,
          0.28463325794690736,
          -1.0144520633697285,
          -0.7673921859551343,
          0.6564409778143822,
          -0.5333563310336471,
          -0.39986394721001606,
          0.8305702442813395,
          -0.44809448978486593,
          0.049755930390898345,
          2.6326085049249,
          -0.01833363814526974,
          0.3441520200024451,
          -1.7866472901597523,
          0.3279751470912204,
          -0.651356902544409,
          -1.9274271068441076,
          -1.370102823710896,
          0.7173151301957572,
          -1.5489209310423662,
          0.5376097134578425,
          1.8922423041507017,
          0.809397641924778,
          0.20384111665149685,
          -0.6277025287109835,
          -0.8751068206707202,
          1.0533389203914831,
          -1.2631932199633122,
          1.2306688540802848,
          0.7602783043009048,
          -0.30484670532054464,
          0.7725060250156658,
          -0.8299347589536743,
          -0.8026514561118214,
          0.8530052334858856,
          -1.6020389893628182,
          0.07370833078691273,
          0.6242170813905074,
          -0.7494457547772824,
          1.0713472336931962,
          0.4223421938420806,
          0.42263534449981793,
          1.4646456275285444,
          1.039683827554642,
          -0.30023425832023526,
          0.37404649991939753,
          0.4673122624237375,
          0.18731902338959072,
          1.5542151833418307,
          0.030645771385122117,
          -0.8318116408604491,
          -1.1263419390554672,
          0.5358409341661668,
          -1.9657428068175744,
          0.6348557749007114,
          -0.22126233057382555,
          -0.3574269524949713,
          -0.08599473004005423,
          0.021975676472548403,
          1.4977920735405388,
          -0.8390333265648123,
          -2.2313899182895818,
          1.3614113456212968,
          -1.1755163614388362,
          -1.776343557538182,
          0.29042700200692667,
          -0.838329491264759,
          1.0217453683864703,
          -0.7943644046396928,
          -0.5768203269604888,
          -1.1605826216175161,
          -1.6411546834540554,
          0.31404144741132656,
          0.551072360896318,
          -0.5790178473959828,
          0.008919696842239469,
          1.808423009360889,
          -2.3241472476965597,
          -0.6701412045400894,
          0.5443306706696933,
          0.789808416199637,
          0.06654335004375507,
          -0.3184402371805494,
          -0.8890998642263612,
          -0.4835588721141622,
          -0.6833884018172537,
          0.14227766099943137,
          -0.7282562084320509
         ]
        },
        {
         "marker": {
          "color": "rgba(128, 0, 128, 0.6)",
          "line": {
           "color": "rgba(128, 0, 128, 1.0)",
           "width": 1
          }
         },
         "name": "D",
         "orientation": "v",
         "text": "",
         "type": "bar",
         "x": [
          0,
          1,
          2,
          3,
          4,
          5,
          6,
          7,
          8,
          9,
          10,
          11,
          12,
          13,
          14,
          15,
          16,
          17,
          18,
          19,
          20,
          21,
          22,
          23,
          24,
          25,
          26,
          27,
          28,
          29,
          30,
          31,
          32,
          33,
          34,
          35,
          36,
          37,
          38,
          39,
          40,
          41,
          42,
          43,
          44,
          45,
          46,
          47,
          48,
          49,
          50,
          51,
          52,
          53,
          54,
          55,
          56,
          57,
          58,
          59,
          60,
          61,
          62,
          63,
          64,
          65,
          66,
          67,
          68,
          69,
          70,
          71,
          72,
          73,
          74,
          75,
          76,
          77,
          78,
          79,
          80,
          81,
          82,
          83,
          84,
          85,
          86,
          87,
          88,
          89,
          90,
          91,
          92,
          93,
          94,
          95,
          96,
          97,
          98,
          99
         ],
         "y": [
          2.3273910288552506,
          -0.6334933422691658,
          -0.4319441967976972,
          0.8577780510833726,
          1.3174059338669621,
          -0.6419320987216489,
          -1.3623116287539814,
          -0.36468518093902114,
          -0.8450845612877584,
          -0.4881826737960272,
          0.09476315850175457,
          1.0707324179943876,
          0.3002091046018555,
          0.9544992905670775,
          -1.5127659587156748,
          -0.5773216582309553,
          -0.9076002676818018,
          -0.523402182113726,
          -0.5149440398200762,
          -0.6431734614961144,
          -1.5370571149551584,
          0.9325810997834867,
          -0.3799828394287921,
          -0.11822808269683163,
          -0.524651240767075,
          0.7897693225404266,
          1.467359904266115,
          0.2537630042514331,
          0.6743251965769663,
          0.5896915024727922,
          -0.045371342409358674,
          0.2182240360478912,
          1.40776850307784,
          0.041593127323566556,
          -0.5319973112214076,
          -0.05599391621882997,
          -0.1061570381773591,
          -0.6161882918476722,
          -0.07818898211415566,
          0.010637516591020602,
          -0.6182877208698392,
          -1.2838999360709513,
          -1.4007084269364891,
          1.427510765925255,
          0.032155487844832034,
          0.28333166882826216,
          1.006725884900438,
          -1.0523893986368669,
          -0.9336714173023393,
          -1.3563112450957753,
          -0.5731588466774825,
          0.4075153149982536,
          -0.3644485580192882,
          0.8600600388065972,
          -0.14234796247850964,
          1.1451547562188789,
          -0.752281620428336,
          0.1577097727954971,
          0.6614599988815082,
          -0.5426977912871537,
          0.21117520713766527,
          1.6280984663042002,
          0.31213880062866084,
          -0.2284117223697516,
          -0.7480587993056564,
          1.7398577171738578,
          0.1915555887976298,
          -0.9612225264785467,
          -0.11257263417371008,
          -0.051376345390612116,
          0.6067179528849395,
          0.2613977081738276,
          0.04367550982255278,
          -0.07256060375107316,
          0.0889325342151191,
          -1.2494846785625786,
          -0.4623623677571795,
          1.581560174643525,
          -0.11297473937727727,
          1.6909755749235467,
          -0.5030135767939994,
          -0.3911481682390143,
          1.0747468470735577,
          0.6833784597022645,
          0.3483076837286668,
          0.8515336574151208,
          0.6247803986944622,
          0.2034486283047299,
          0.24790489952176153,
          -1.124912560396261,
          1.5618180213234496,
          -0.46369657821326493,
          -1.0174996099740776,
          1.097651723730236,
          -0.6130002595398112,
          0.028871294808732635,
          0.3690582224437009,
          0.31554028066586876,
          -0.75027510698757,
          1.1742404037714962
         ]
        }
       ],
       "layout": {
        "legend": {
         "bgcolor": "#F5F6F9",
         "font": {
          "color": "#4D5663"
         }
        },
        "paper_bgcolor": "#F5F6F9",
        "plot_bgcolor": "#F5F6F9",
        "template": {
         "data": {
          "bar": [
           {
            "error_x": {
             "color": "#2a3f5f"
            },
            "error_y": {
             "color": "#2a3f5f"
            },
            "marker": {
             "line": {
              "color": "#E5ECF6",
              "width": 0.5
             },
             "pattern": {
              "fillmode": "overlay",
              "size": 10,
              "solidity": 0.2
             }
            },
            "type": "bar"
           }
          ],
          "barpolar": [
           {
            "marker": {
             "line": {
              "color": "#E5ECF6",
              "width": 0.5
             },
             "pattern": {
              "fillmode": "overlay",
              "size": 10,
              "solidity": 0.2
             }
            },
            "type": "barpolar"
           }
          ],
          "carpet": [
           {
            "aaxis": {
             "endlinecolor": "#2a3f5f",
             "gridcolor": "white",
             "linecolor": "white",
             "minorgridcolor": "white",
             "startlinecolor": "#2a3f5f"
            },
            "baxis": {
             "endlinecolor": "#2a3f5f",
             "gridcolor": "white",
             "linecolor": "white",
             "minorgridcolor": "white",
             "startlinecolor": "#2a3f5f"
            },
            "type": "carpet"
           }
          ],
          "choropleth": [
           {
            "colorbar": {
             "outlinewidth": 0,
             "ticks": ""
            },
            "type": "choropleth"
           }
          ],
          "contour": [
           {
            "colorbar": {
             "outlinewidth": 0,
             "ticks": ""
            },
            "colorscale": [
             [
              0,
              "#0d0887"
             ],
             [
              0.1111111111111111,
              "#46039f"
             ],
             [
              0.2222222222222222,
              "#7201a8"
             ],
             [
              0.3333333333333333,
              "#9c179e"
             ],
             [
              0.4444444444444444,
              "#bd3786"
             ],
             [
              0.5555555555555556,
              "#d8576b"
             ],
             [
              0.6666666666666666,
              "#ed7953"
             ],
             [
              0.7777777777777778,
              "#fb9f3a"
             ],
             [
              0.8888888888888888,
              "#fdca26"
             ],
             [
              1,
              "#f0f921"
             ]
            ],
            "type": "contour"
           }
          ],
          "contourcarpet": [
           {
            "colorbar": {
             "outlinewidth": 0,
             "ticks": ""
            },
            "type": "contourcarpet"
           }
          ],
          "heatmap": [
           {
            "colorbar": {
             "outlinewidth": 0,
             "ticks": ""
            },
            "colorscale": [
             [
              0,
              "#0d0887"
             ],
             [
              0.1111111111111111,
              "#46039f"
             ],
             [
              0.2222222222222222,
              "#7201a8"
             ],
             [
              0.3333333333333333,
              "#9c179e"
             ],
             [
              0.4444444444444444,
              "#bd3786"
             ],
             [
              0.5555555555555556,
              "#d8576b"
             ],
             [
              0.6666666666666666,
              "#ed7953"
             ],
             [
              0.7777777777777778,
              "#fb9f3a"
             ],
             [
              0.8888888888888888,
              "#fdca26"
             ],
             [
              1,
              "#f0f921"
             ]
            ],
            "type": "heatmap"
           }
          ],
          "heatmapgl": [
           {
            "colorbar": {
             "outlinewidth": 0,
             "ticks": ""
            },
            "colorscale": [
             [
              0,
              "#0d0887"
             ],
             [
              0.1111111111111111,
              "#46039f"
             ],
             [
              0.2222222222222222,
              "#7201a8"
             ],
             [
              0.3333333333333333,
              "#9c179e"
             ],
             [
              0.4444444444444444,
              "#bd3786"
             ],
             [
              0.5555555555555556,
              "#d8576b"
             ],
             [
              0.6666666666666666,
              "#ed7953"
             ],
             [
              0.7777777777777778,
              "#fb9f3a"
             ],
             [
              0.8888888888888888,
              "#fdca26"
             ],
             [
              1,
              "#f0f921"
             ]
            ],
            "type": "heatmapgl"
           }
          ],
          "histogram": [
           {
            "marker": {
             "pattern": {
              "fillmode": "overlay",
              "size": 10,
              "solidity": 0.2
             }
            },
            "type": "histogram"
           }
          ],
          "histogram2d": [
           {
            "colorbar": {
             "outlinewidth": 0,
             "ticks": ""
            },
            "colorscale": [
             [
              0,
              "#0d0887"
             ],
             [
              0.1111111111111111,
              "#46039f"
             ],
             [
              0.2222222222222222,
              "#7201a8"
             ],
             [
              0.3333333333333333,
              "#9c179e"
             ],
             [
              0.4444444444444444,
              "#bd3786"
             ],
             [
              0.5555555555555556,
              "#d8576b"
             ],
             [
              0.6666666666666666,
              "#ed7953"
             ],
             [
              0.7777777777777778,
              "#fb9f3a"
             ],
             [
              0.8888888888888888,
              "#fdca26"
             ],
             [
              1,
              "#f0f921"
             ]
            ],
            "type": "histogram2d"
           }
          ],
          "histogram2dcontour": [
           {
            "colorbar": {
             "outlinewidth": 0,
             "ticks": ""
            },
            "colorscale": [
             [
              0,
              "#0d0887"
             ],
             [
              0.1111111111111111,
              "#46039f"
             ],
             [
              0.2222222222222222,
              "#7201a8"
             ],
             [
              0.3333333333333333,
              "#9c179e"
             ],
             [
              0.4444444444444444,
              "#bd3786"
             ],
             [
              0.5555555555555556,
              "#d8576b"
             ],
             [
              0.6666666666666666,
              "#ed7953"
             ],
             [
              0.7777777777777778,
              "#fb9f3a"
             ],
             [
              0.8888888888888888,
              "#fdca26"
             ],
             [
              1,
              "#f0f921"
             ]
            ],
            "type": "histogram2dcontour"
           }
          ],
          "mesh3d": [
           {
            "colorbar": {
             "outlinewidth": 0,
             "ticks": ""
            },
            "type": "mesh3d"
           }
          ],
          "parcoords": [
           {
            "line": {
             "colorbar": {
              "outlinewidth": 0,
              "ticks": ""
             }
            },
            "type": "parcoords"
           }
          ],
          "pie": [
           {
            "automargin": true,
            "type": "pie"
           }
          ],
          "scatter": [
           {
            "fillpattern": {
             "fillmode": "overlay",
             "size": 10,
             "solidity": 0.2
            },
            "type": "scatter"
           }
          ],
          "scatter3d": [
           {
            "line": {
             "colorbar": {
              "outlinewidth": 0,
              "ticks": ""
             }
            },
            "marker": {
             "colorbar": {
              "outlinewidth": 0,
              "ticks": ""
             }
            },
            "type": "scatter3d"
           }
          ],
          "scattercarpet": [
           {
            "marker": {
             "colorbar": {
              "outlinewidth": 0,
              "ticks": ""
             }
            },
            "type": "scattercarpet"
           }
          ],
          "scattergeo": [
           {
            "marker": {
             "colorbar": {
              "outlinewidth": 0,
              "ticks": ""
             }
            },
            "type": "scattergeo"
           }
          ],
          "scattergl": [
           {
            "marker": {
             "colorbar": {
              "outlinewidth": 0,
              "ticks": ""
             }
            },
            "type": "scattergl"
           }
          ],
          "scattermapbox": [
           {
            "marker": {
             "colorbar": {
              "outlinewidth": 0,
              "ticks": ""
             }
            },
            "type": "scattermapbox"
           }
          ],
          "scatterpolar": [
           {
            "marker": {
             "colorbar": {
              "outlinewidth": 0,
              "ticks": ""
             }
            },
            "type": "scatterpolar"
           }
          ],
          "scatterpolargl": [
           {
            "marker": {
             "colorbar": {
              "outlinewidth": 0,
              "ticks": ""
             }
            },
            "type": "scatterpolargl"
           }
          ],
          "scatterternary": [
           {
            "marker": {
             "colorbar": {
              "outlinewidth": 0,
              "ticks": ""
             }
            },
            "type": "scatterternary"
           }
          ],
          "surface": [
           {
            "colorbar": {
             "outlinewidth": 0,
             "ticks": ""
            },
            "colorscale": [
             [
              0,
              "#0d0887"
             ],
             [
              0.1111111111111111,
              "#46039f"
             ],
             [
              0.2222222222222222,
              "#7201a8"
             ],
             [
              0.3333333333333333,
              "#9c179e"
             ],
             [
              0.4444444444444444,
              "#bd3786"
             ],
             [
              0.5555555555555556,
              "#d8576b"
             ],
             [
              0.6666666666666666,
              "#ed7953"
             ],
             [
              0.7777777777777778,
              "#fb9f3a"
             ],
             [
              0.8888888888888888,
              "#fdca26"
             ],
             [
              1,
              "#f0f921"
             ]
            ],
            "type": "surface"
           }
          ],
          "table": [
           {
            "cells": {
             "fill": {
              "color": "#EBF0F8"
             },
             "line": {
              "color": "white"
             }
            },
            "header": {
             "fill": {
              "color": "#C8D4E3"
             },
             "line": {
              "color": "white"
             }
            },
            "type": "table"
           }
          ]
         },
         "layout": {
          "annotationdefaults": {
           "arrowcolor": "#2a3f5f",
           "arrowhead": 0,
           "arrowwidth": 1
          },
          "autotypenumbers": "strict",
          "coloraxis": {
           "colorbar": {
            "outlinewidth": 0,
            "ticks": ""
           }
          },
          "colorscale": {
           "diverging": [
            [
             0,
             "#8e0152"
            ],
            [
             0.1,
             "#c51b7d"
            ],
            [
             0.2,
             "#de77ae"
            ],
            [
             0.3,
             "#f1b6da"
            ],
            [
             0.4,
             "#fde0ef"
            ],
            [
             0.5,
             "#f7f7f7"
            ],
            [
             0.6,
             "#e6f5d0"
            ],
            [
             0.7,
             "#b8e186"
            ],
            [
             0.8,
             "#7fbc41"
            ],
            [
             0.9,
             "#4d9221"
            ],
            [
             1,
             "#276419"
            ]
           ],
           "sequential": [
            [
             0,
             "#0d0887"
            ],
            [
             0.1111111111111111,
             "#46039f"
            ],
            [
             0.2222222222222222,
             "#7201a8"
            ],
            [
             0.3333333333333333,
             "#9c179e"
            ],
            [
             0.4444444444444444,
             "#bd3786"
            ],
            [
             0.5555555555555556,
             "#d8576b"
            ],
            [
             0.6666666666666666,
             "#ed7953"
            ],
            [
             0.7777777777777778,
             "#fb9f3a"
            ],
            [
             0.8888888888888888,
             "#fdca26"
            ],
            [
             1,
             "#f0f921"
            ]
           ],
           "sequentialminus": [
            [
             0,
             "#0d0887"
            ],
            [
             0.1111111111111111,
             "#46039f"
            ],
            [
             0.2222222222222222,
             "#7201a8"
            ],
            [
             0.3333333333333333,
             "#9c179e"
            ],
            [
             0.4444444444444444,
             "#bd3786"
            ],
            [
             0.5555555555555556,
             "#d8576b"
            ],
            [
             0.6666666666666666,
             "#ed7953"
            ],
            [
             0.7777777777777778,
             "#fb9f3a"
            ],
            [
             0.8888888888888888,
             "#fdca26"
            ],
            [
             1,
             "#f0f921"
            ]
           ]
          },
          "colorway": [
           "#636efa",
           "#EF553B",
           "#00cc96",
           "#ab63fa",
           "#FFA15A",
           "#19d3f3",
           "#FF6692",
           "#B6E880",
           "#FF97FF",
           "#FECB52"
          ],
          "font": {
           "color": "#2a3f5f"
          },
          "geo": {
           "bgcolor": "white",
           "lakecolor": "white",
           "landcolor": "#E5ECF6",
           "showlakes": true,
           "showland": true,
           "subunitcolor": "white"
          },
          "hoverlabel": {
           "align": "left"
          },
          "hovermode": "closest",
          "mapbox": {
           "style": "light"
          },
          "paper_bgcolor": "white",
          "plot_bgcolor": "#E5ECF6",
          "polar": {
           "angularaxis": {
            "gridcolor": "white",
            "linecolor": "white",
            "ticks": ""
           },
           "bgcolor": "#E5ECF6",
           "radialaxis": {
            "gridcolor": "white",
            "linecolor": "white",
            "ticks": ""
           }
          },
          "scene": {
           "xaxis": {
            "backgroundcolor": "#E5ECF6",
            "gridcolor": "white",
            "gridwidth": 2,
            "linecolor": "white",
            "showbackground": true,
            "ticks": "",
            "zerolinecolor": "white"
           },
           "yaxis": {
            "backgroundcolor": "#E5ECF6",
            "gridcolor": "white",
            "gridwidth": 2,
            "linecolor": "white",
            "showbackground": true,
            "ticks": "",
            "zerolinecolor": "white"
           },
           "zaxis": {
            "backgroundcolor": "#E5ECF6",
            "gridcolor": "white",
            "gridwidth": 2,
            "linecolor": "white",
            "showbackground": true,
            "ticks": "",
            "zerolinecolor": "white"
           }
          },
          "shapedefaults": {
           "line": {
            "color": "#2a3f5f"
           }
          },
          "ternary": {
           "aaxis": {
            "gridcolor": "white",
            "linecolor": "white",
            "ticks": ""
           },
           "baxis": {
            "gridcolor": "white",
            "linecolor": "white",
            "ticks": ""
           },
           "bgcolor": "#E5ECF6",
           "caxis": {
            "gridcolor": "white",
            "linecolor": "white",
            "ticks": ""
           }
          },
          "title": {
           "x": 0.05
          },
          "xaxis": {
           "automargin": true,
           "gridcolor": "white",
           "linecolor": "white",
           "ticks": "",
           "title": {
            "standoff": 15
           },
           "zerolinecolor": "white",
           "zerolinewidth": 2
          },
          "yaxis": {
           "automargin": true,
           "gridcolor": "white",
           "linecolor": "white",
           "ticks": "",
           "title": {
            "standoff": 15
           },
           "zerolinecolor": "white",
           "zerolinewidth": 2
          }
         }
        },
        "title": {
         "font": {
          "color": "#4D5663"
         }
        },
        "xaxis": {
         "gridcolor": "#E1E5ED",
         "showgrid": true,
         "tickfont": {
          "color": "#4D5663"
         },
         "title": {
          "font": {
           "color": "#4D5663"
          },
          "text": ""
         },
         "zerolinecolor": "#E1E5ED"
        },
        "yaxis": {
         "gridcolor": "#E1E5ED",
         "showgrid": true,
         "tickfont": {
          "color": "#4D5663"
         },
         "title": {
          "font": {
           "color": "#4D5663"
          },
          "text": ""
         },
         "zerolinecolor": "#E1E5ED"
        }
       }
      },
      "text/html": [
       "<div>                            <div id=\"f0446595-adeb-4b07-bc4f-8182594ae5cf\" class=\"plotly-graph-div\" style=\"height:525px; width:100%;\"></div>            <script type=\"text/javascript\">                require([\"plotly\"], function(Plotly) {                    window.PLOTLYENV=window.PLOTLYENV || {};\n",
       "                    window.PLOTLYENV.BASE_URL='https://plot.ly';                                    if (document.getElementById(\"f0446595-adeb-4b07-bc4f-8182594ae5cf\")) {                    Plotly.newPlot(                        \"f0446595-adeb-4b07-bc4f-8182594ae5cf\",                        [{\"marker\":{\"color\":\"rgba(255, 153, 51, 0.6)\",\"line\":{\"color\":\"rgba(255, 153, 51, 1.0)\",\"width\":1}},\"name\":\"A\",\"orientation\":\"v\",\"text\":\"\",\"x\":[0,1,2,3,4,5,6,7,8,9,10,11,12,13,14,15,16,17,18,19,20,21,22,23,24,25,26,27,28,29,30,31,32,33,34,35,36,37,38,39,40,41,42,43,44,45,46,47,48,49,50,51,52,53,54,55,56,57,58,59,60,61,62,63,64,65,66,67,68,69,70,71,72,73,74,75,76,77,78,79,80,81,82,83,84,85,86,87,88,89,90,91,92,93,94,95,96,97,98,99],\"y\":[-0.28417787083349927,0.6413274499391824,-0.33336861080745656,2.006764818840116,1.8728377960165354,-0.24882852649873424,-0.29861874001993766,-0.5527446223333694,-0.06284839007619376,0.6872961946392325,-0.48047030452308376,-0.15819211016748583,0.3979193283561742,-0.9231892579778409,0.5315667297247073,1.0017781127586238,-2.0721385248636266,0.9212012857921277,-0.25197735935695925,-2.5438707821411417,-0.9797570746505114,-1.785600451605513,-1.3677304085261701,-0.8597776400411747,-0.38161314435598254,-0.21955301709234307,-0.46962502773123727,0.08658003414889327,-2.624997706901156,1.617799016690096,0.2322838968046603,-0.5747107444070692,1.306245125000283,-0.7424921675650964,-0.6846539842162228,2.1601206807767657,-1.1832051219606274,0.21698850723985674,1.693120559186067,-1.4725670406597433,0.5268215706826592,0.22618522749666412,1.3241925977559907,-1.1750950935332447,0.779369119313454,-1.0622472454257539,-0.7479801434627531,-1.11546714284219,0.6490101527890603,-0.22489797094481306,-1.1740087820316207,0.08056535097254833,0.615871865696655,-0.17445791673987496,0.8456171781805357,1.8168544512752107,0.9067056603187674,-0.1318278852951855,-0.9806500898254744,0.4032491907360089,0.5456168400678882,1.6799435539133445,-1.417466304121186,1.1183981281871356,-0.5754137503060296,-0.4451311781056884,0.6524364369982173,-0.2531055435068277,-1.2238276239485155,0.5079425450594325,-0.7127247095374196,0.5340289009521697,-0.45390448707790165,-0.004315066126661081,0.01607814905285022,0.23686645998285866,-0.22681193933351268,-1.282908829683012,1.0598838321126345,-0.28086616600779785,-1.4665713559786704,0.9606502786533506,0.30386951258373074,0.9913019602065628,-0.5343798033042318,-1.2672235642375103,0.3206869075841262,0.059509125355931794,-0.7576598946355392,-0.5340235908042054,-1.1285727143193942,2.1140216110955588,1.0418469094947094,0.2854170485589883,-1.9999513786857224,0.9479014280894817,-1.14631525364236,1.6505960122936931,0.4751216841159835,0.07362728384021043],\"type\":\"bar\"},{\"marker\":{\"color\":\"rgba(55, 128, 191, 0.6)\",\"line\":{\"color\":\"rgba(55, 128, 191, 1.0)\",\"width\":1}},\"name\":\"B\",\"orientation\":\"v\",\"text\":\"\",\"x\":[0,1,2,3,4,5,6,7,8,9,10,11,12,13,14,15,16,17,18,19,20,21,22,23,24,25,26,27,28,29,30,31,32,33,34,35,36,37,38,39,40,41,42,43,44,45,46,47,48,49,50,51,52,53,54,55,56,57,58,59,60,61,62,63,64,65,66,67,68,69,70,71,72,73,74,75,76,77,78,79,80,81,82,83,84,85,86,87,88,89,90,91,92,93,94,95,96,97,98,99],\"y\":[-0.9942875062320643,0.6693618378433789,1.4375270448174466,-0.7601350990541826,-1.3856509449362089,0.7699061108404363,0.04944535748246853,0.6061305364332712,-0.23326162112807344,2.1617704129411974,0.4182423292502963,-0.8119088645105795,0.644305020890722,0.12994496488584203,-1.5914719130541115,-0.3958209142720946,0.8320625813285379,0.3595709913909463,0.8608355243878564,-0.5121802342042246,-0.19251810768470703,-1.1025637585273937,0.7127282902106402,0.9252123054557275,0.26684715309611456,-2.0304254233704966,1.1185689589290568,0.12590272762439111,-0.4125100158666027,-1.3224183185741754,0.3344566151898501,-2.1168986945450343,-0.9081775216742415,-1.6901431359280612,1.0403812288066845,0.22958405742077428,-0.8426375495425725,2.276061422029563,0.5778368449479325,1.144721063467178,1.8299513587167864,1.4621795449801354,-2.4368266921099533,1.013362811041721,-0.5778304519601165,1.0356709009219747,-0.504355394746898,0.35213287720179104,-1.2035825393525954,0.8106345843941292,-1.595771889074104,0.2457069745672563,-0.8566043574987787,0.3918816986658821,-0.2636254412853934,-1.0805801266361703,0.7319184842233384,-0.9438163723917274,-0.07189078116332594,-1.8693359956196978,0.2080888807547833,-0.14434974751758786,-1.0649759862550428,0.27727223466743445,-0.09036623691422577,1.1030507777767082,0.6415368409136328,-1.3194312808649182,0.2572171302463949,0.9309998401890984,1.4420973248489697,0.42381088497255825,0.9266947420824746,1.0675505254092201,1.0591396740258205,-0.4130027839015729,1.6464567391114484,-0.7639222655044755,-0.33115201506490505,-2.1054031846049996,2.0697721097103496,0.24439587621825065,1.8662383890198717,1.138721370400964,0.9451389623407138,1.6984878039732823,-0.6924609238879748,0.26861365381914376,1.1436079001022867,-0.1704130968335762,1.112192969720432,-0.14059862423431896,1.0150879111753266,0.3912245979789011,-1.0085802974254625,0.12489394468227431,0.940715803891102,0.8522321107876281,-0.3210080437331556,-0.12446681042664187],\"type\":\"bar\"},{\"marker\":{\"color\":\"rgba(50, 171, 96, 0.6)\",\"line\":{\"color\":\"rgba(50, 171, 96, 1.0)\",\"width\":1}},\"name\":\"C\",\"orientation\":\"v\",\"text\":\"\",\"x\":[0,1,2,3,4,5,6,7,8,9,10,11,12,13,14,15,16,17,18,19,20,21,22,23,24,25,26,27,28,29,30,31,32,33,34,35,36,37,38,39,40,41,42,43,44,45,46,47,48,49,50,51,52,53,54,55,56,57,58,59,60,61,62,63,64,65,66,67,68,69,70,71,72,73,74,75,76,77,78,79,80,81,82,83,84,85,86,87,88,89,90,91,92,93,94,95,96,97,98,99],\"y\":[-0.34202531207788545,-1.1222644470835623,0.7028141803063046,-1.480542876628892,-0.9233934593064455,0.5036205587923401,1.4660744366199934,-0.21608707226005955,-1.1093147070053189,1.433557888382385,-0.8756375577785833,1.8804371359806382,0.9652403751072904,0.28463325794690736,-1.0144520633697285,-0.7673921859551343,0.6564409778143822,-0.5333563310336471,-0.39986394721001606,0.8305702442813395,-0.44809448978486593,0.049755930390898345,2.6326085049249,-0.01833363814526974,0.3441520200024451,-1.7866472901597523,0.3279751470912204,-0.651356902544409,-1.9274271068441076,-1.370102823710896,0.7173151301957572,-1.5489209310423662,0.5376097134578425,1.8922423041507017,0.809397641924778,0.20384111665149685,-0.6277025287109835,-0.8751068206707202,1.0533389203914831,-1.2631932199633122,1.2306688540802848,0.7602783043009048,-0.30484670532054464,0.7725060250156658,-0.8299347589536743,-0.8026514561118214,0.8530052334858856,-1.6020389893628182,0.07370833078691273,0.6242170813905074,-0.7494457547772824,1.0713472336931962,0.4223421938420806,0.42263534449981793,1.4646456275285444,1.039683827554642,-0.30023425832023526,0.37404649991939753,0.4673122624237375,0.18731902338959072,1.5542151833418307,0.030645771385122117,-0.8318116408604491,-1.1263419390554672,0.5358409341661668,-1.9657428068175744,0.6348557749007114,-0.22126233057382555,-0.3574269524949713,-0.08599473004005423,0.021975676472548403,1.4977920735405388,-0.8390333265648123,-2.2313899182895818,1.3614113456212968,-1.1755163614388362,-1.776343557538182,0.29042700200692667,-0.838329491264759,1.0217453683864703,-0.7943644046396928,-0.5768203269604888,-1.1605826216175161,-1.6411546834540554,0.31404144741132656,0.551072360896318,-0.5790178473959828,0.008919696842239469,1.808423009360889,-2.3241472476965597,-0.6701412045400894,0.5443306706696933,0.789808416199637,0.06654335004375507,-0.3184402371805494,-0.8890998642263612,-0.4835588721141622,-0.6833884018172537,0.14227766099943137,-0.7282562084320509],\"type\":\"bar\"},{\"marker\":{\"color\":\"rgba(128, 0, 128, 0.6)\",\"line\":{\"color\":\"rgba(128, 0, 128, 1.0)\",\"width\":1}},\"name\":\"D\",\"orientation\":\"v\",\"text\":\"\",\"x\":[0,1,2,3,4,5,6,7,8,9,10,11,12,13,14,15,16,17,18,19,20,21,22,23,24,25,26,27,28,29,30,31,32,33,34,35,36,37,38,39,40,41,42,43,44,45,46,47,48,49,50,51,52,53,54,55,56,57,58,59,60,61,62,63,64,65,66,67,68,69,70,71,72,73,74,75,76,77,78,79,80,81,82,83,84,85,86,87,88,89,90,91,92,93,94,95,96,97,98,99],\"y\":[2.3273910288552506,-0.6334933422691658,-0.4319441967976972,0.8577780510833726,1.3174059338669621,-0.6419320987216489,-1.3623116287539814,-0.36468518093902114,-0.8450845612877584,-0.4881826737960272,0.09476315850175457,1.0707324179943876,0.3002091046018555,0.9544992905670775,-1.5127659587156748,-0.5773216582309553,-0.9076002676818018,-0.523402182113726,-0.5149440398200762,-0.6431734614961144,-1.5370571149551584,0.9325810997834867,-0.3799828394287921,-0.11822808269683163,-0.524651240767075,0.7897693225404266,1.467359904266115,0.2537630042514331,0.6743251965769663,0.5896915024727922,-0.045371342409358674,0.2182240360478912,1.40776850307784,0.041593127323566556,-0.5319973112214076,-0.05599391621882997,-0.1061570381773591,-0.6161882918476722,-0.07818898211415566,0.010637516591020602,-0.6182877208698392,-1.2838999360709513,-1.4007084269364891,1.427510765925255,0.032155487844832034,0.28333166882826216,1.006725884900438,-1.0523893986368669,-0.9336714173023393,-1.3563112450957753,-0.5731588466774825,0.4075153149982536,-0.3644485580192882,0.8600600388065972,-0.14234796247850964,1.1451547562188789,-0.752281620428336,0.1577097727954971,0.6614599988815082,-0.5426977912871537,0.21117520713766527,1.6280984663042002,0.31213880062866084,-0.2284117223697516,-0.7480587993056564,1.7398577171738578,0.1915555887976298,-0.9612225264785467,-0.11257263417371008,-0.051376345390612116,0.6067179528849395,0.2613977081738276,0.04367550982255278,-0.07256060375107316,0.0889325342151191,-1.2494846785625786,-0.4623623677571795,1.581560174643525,-0.11297473937727727,1.6909755749235467,-0.5030135767939994,-0.3911481682390143,1.0747468470735577,0.6833784597022645,0.3483076837286668,0.8515336574151208,0.6247803986944622,0.2034486283047299,0.24790489952176153,-1.124912560396261,1.5618180213234496,-0.46369657821326493,-1.0174996099740776,1.097651723730236,-0.6130002595398112,0.028871294808732635,0.3690582224437009,0.31554028066586876,-0.75027510698757,1.1742404037714962],\"type\":\"bar\"}],                        {\"legend\":{\"bgcolor\":\"#F5F6F9\",\"font\":{\"color\":\"#4D5663\"}},\"paper_bgcolor\":\"#F5F6F9\",\"plot_bgcolor\":\"#F5F6F9\",\"template\":{\"data\":{\"barpolar\":[{\"marker\":{\"line\":{\"color\":\"#E5ECF6\",\"width\":0.5},\"pattern\":{\"fillmode\":\"overlay\",\"size\":10,\"solidity\":0.2}},\"type\":\"barpolar\"}],\"bar\":[{\"error_x\":{\"color\":\"#2a3f5f\"},\"error_y\":{\"color\":\"#2a3f5f\"},\"marker\":{\"line\":{\"color\":\"#E5ECF6\",\"width\":0.5},\"pattern\":{\"fillmode\":\"overlay\",\"size\":10,\"solidity\":0.2}},\"type\":\"bar\"}],\"carpet\":[{\"aaxis\":{\"endlinecolor\":\"#2a3f5f\",\"gridcolor\":\"white\",\"linecolor\":\"white\",\"minorgridcolor\":\"white\",\"startlinecolor\":\"#2a3f5f\"},\"baxis\":{\"endlinecolor\":\"#2a3f5f\",\"gridcolor\":\"white\",\"linecolor\":\"white\",\"minorgridcolor\":\"white\",\"startlinecolor\":\"#2a3f5f\"},\"type\":\"carpet\"}],\"choropleth\":[{\"colorbar\":{\"outlinewidth\":0,\"ticks\":\"\"},\"type\":\"choropleth\"}],\"contourcarpet\":[{\"colorbar\":{\"outlinewidth\":0,\"ticks\":\"\"},\"type\":\"contourcarpet\"}],\"contour\":[{\"colorbar\":{\"outlinewidth\":0,\"ticks\":\"\"},\"colorscale\":[[0.0,\"#0d0887\"],[0.1111111111111111,\"#46039f\"],[0.2222222222222222,\"#7201a8\"],[0.3333333333333333,\"#9c179e\"],[0.4444444444444444,\"#bd3786\"],[0.5555555555555556,\"#d8576b\"],[0.6666666666666666,\"#ed7953\"],[0.7777777777777778,\"#fb9f3a\"],[0.8888888888888888,\"#fdca26\"],[1.0,\"#f0f921\"]],\"type\":\"contour\"}],\"heatmapgl\":[{\"colorbar\":{\"outlinewidth\":0,\"ticks\":\"\"},\"colorscale\":[[0.0,\"#0d0887\"],[0.1111111111111111,\"#46039f\"],[0.2222222222222222,\"#7201a8\"],[0.3333333333333333,\"#9c179e\"],[0.4444444444444444,\"#bd3786\"],[0.5555555555555556,\"#d8576b\"],[0.6666666666666666,\"#ed7953\"],[0.7777777777777778,\"#fb9f3a\"],[0.8888888888888888,\"#fdca26\"],[1.0,\"#f0f921\"]],\"type\":\"heatmapgl\"}],\"heatmap\":[{\"colorbar\":{\"outlinewidth\":0,\"ticks\":\"\"},\"colorscale\":[[0.0,\"#0d0887\"],[0.1111111111111111,\"#46039f\"],[0.2222222222222222,\"#7201a8\"],[0.3333333333333333,\"#9c179e\"],[0.4444444444444444,\"#bd3786\"],[0.5555555555555556,\"#d8576b\"],[0.6666666666666666,\"#ed7953\"],[0.7777777777777778,\"#fb9f3a\"],[0.8888888888888888,\"#fdca26\"],[1.0,\"#f0f921\"]],\"type\":\"heatmap\"}],\"histogram2dcontour\":[{\"colorbar\":{\"outlinewidth\":0,\"ticks\":\"\"},\"colorscale\":[[0.0,\"#0d0887\"],[0.1111111111111111,\"#46039f\"],[0.2222222222222222,\"#7201a8\"],[0.3333333333333333,\"#9c179e\"],[0.4444444444444444,\"#bd3786\"],[0.5555555555555556,\"#d8576b\"],[0.6666666666666666,\"#ed7953\"],[0.7777777777777778,\"#fb9f3a\"],[0.8888888888888888,\"#fdca26\"],[1.0,\"#f0f921\"]],\"type\":\"histogram2dcontour\"}],\"histogram2d\":[{\"colorbar\":{\"outlinewidth\":0,\"ticks\":\"\"},\"colorscale\":[[0.0,\"#0d0887\"],[0.1111111111111111,\"#46039f\"],[0.2222222222222222,\"#7201a8\"],[0.3333333333333333,\"#9c179e\"],[0.4444444444444444,\"#bd3786\"],[0.5555555555555556,\"#d8576b\"],[0.6666666666666666,\"#ed7953\"],[0.7777777777777778,\"#fb9f3a\"],[0.8888888888888888,\"#fdca26\"],[1.0,\"#f0f921\"]],\"type\":\"histogram2d\"}],\"histogram\":[{\"marker\":{\"pattern\":{\"fillmode\":\"overlay\",\"size\":10,\"solidity\":0.2}},\"type\":\"histogram\"}],\"mesh3d\":[{\"colorbar\":{\"outlinewidth\":0,\"ticks\":\"\"},\"type\":\"mesh3d\"}],\"parcoords\":[{\"line\":{\"colorbar\":{\"outlinewidth\":0,\"ticks\":\"\"}},\"type\":\"parcoords\"}],\"pie\":[{\"automargin\":true,\"type\":\"pie\"}],\"scatter3d\":[{\"line\":{\"colorbar\":{\"outlinewidth\":0,\"ticks\":\"\"}},\"marker\":{\"colorbar\":{\"outlinewidth\":0,\"ticks\":\"\"}},\"type\":\"scatter3d\"}],\"scattercarpet\":[{\"marker\":{\"colorbar\":{\"outlinewidth\":0,\"ticks\":\"\"}},\"type\":\"scattercarpet\"}],\"scattergeo\":[{\"marker\":{\"colorbar\":{\"outlinewidth\":0,\"ticks\":\"\"}},\"type\":\"scattergeo\"}],\"scattergl\":[{\"marker\":{\"colorbar\":{\"outlinewidth\":0,\"ticks\":\"\"}},\"type\":\"scattergl\"}],\"scattermapbox\":[{\"marker\":{\"colorbar\":{\"outlinewidth\":0,\"ticks\":\"\"}},\"type\":\"scattermapbox\"}],\"scatterpolargl\":[{\"marker\":{\"colorbar\":{\"outlinewidth\":0,\"ticks\":\"\"}},\"type\":\"scatterpolargl\"}],\"scatterpolar\":[{\"marker\":{\"colorbar\":{\"outlinewidth\":0,\"ticks\":\"\"}},\"type\":\"scatterpolar\"}],\"scatter\":[{\"fillpattern\":{\"fillmode\":\"overlay\",\"size\":10,\"solidity\":0.2},\"type\":\"scatter\"}],\"scatterternary\":[{\"marker\":{\"colorbar\":{\"outlinewidth\":0,\"ticks\":\"\"}},\"type\":\"scatterternary\"}],\"surface\":[{\"colorbar\":{\"outlinewidth\":0,\"ticks\":\"\"},\"colorscale\":[[0.0,\"#0d0887\"],[0.1111111111111111,\"#46039f\"],[0.2222222222222222,\"#7201a8\"],[0.3333333333333333,\"#9c179e\"],[0.4444444444444444,\"#bd3786\"],[0.5555555555555556,\"#d8576b\"],[0.6666666666666666,\"#ed7953\"],[0.7777777777777778,\"#fb9f3a\"],[0.8888888888888888,\"#fdca26\"],[1.0,\"#f0f921\"]],\"type\":\"surface\"}],\"table\":[{\"cells\":{\"fill\":{\"color\":\"#EBF0F8\"},\"line\":{\"color\":\"white\"}},\"header\":{\"fill\":{\"color\":\"#C8D4E3\"},\"line\":{\"color\":\"white\"}},\"type\":\"table\"}]},\"layout\":{\"annotationdefaults\":{\"arrowcolor\":\"#2a3f5f\",\"arrowhead\":0,\"arrowwidth\":1},\"autotypenumbers\":\"strict\",\"coloraxis\":{\"colorbar\":{\"outlinewidth\":0,\"ticks\":\"\"}},\"colorscale\":{\"diverging\":[[0,\"#8e0152\"],[0.1,\"#c51b7d\"],[0.2,\"#de77ae\"],[0.3,\"#f1b6da\"],[0.4,\"#fde0ef\"],[0.5,\"#f7f7f7\"],[0.6,\"#e6f5d0\"],[0.7,\"#b8e186\"],[0.8,\"#7fbc41\"],[0.9,\"#4d9221\"],[1,\"#276419\"]],\"sequential\":[[0.0,\"#0d0887\"],[0.1111111111111111,\"#46039f\"],[0.2222222222222222,\"#7201a8\"],[0.3333333333333333,\"#9c179e\"],[0.4444444444444444,\"#bd3786\"],[0.5555555555555556,\"#d8576b\"],[0.6666666666666666,\"#ed7953\"],[0.7777777777777778,\"#fb9f3a\"],[0.8888888888888888,\"#fdca26\"],[1.0,\"#f0f921\"]],\"sequentialminus\":[[0.0,\"#0d0887\"],[0.1111111111111111,\"#46039f\"],[0.2222222222222222,\"#7201a8\"],[0.3333333333333333,\"#9c179e\"],[0.4444444444444444,\"#bd3786\"],[0.5555555555555556,\"#d8576b\"],[0.6666666666666666,\"#ed7953\"],[0.7777777777777778,\"#fb9f3a\"],[0.8888888888888888,\"#fdca26\"],[1.0,\"#f0f921\"]]},\"colorway\":[\"#636efa\",\"#EF553B\",\"#00cc96\",\"#ab63fa\",\"#FFA15A\",\"#19d3f3\",\"#FF6692\",\"#B6E880\",\"#FF97FF\",\"#FECB52\"],\"font\":{\"color\":\"#2a3f5f\"},\"geo\":{\"bgcolor\":\"white\",\"lakecolor\":\"white\",\"landcolor\":\"#E5ECF6\",\"showlakes\":true,\"showland\":true,\"subunitcolor\":\"white\"},\"hoverlabel\":{\"align\":\"left\"},\"hovermode\":\"closest\",\"mapbox\":{\"style\":\"light\"},\"paper_bgcolor\":\"white\",\"plot_bgcolor\":\"#E5ECF6\",\"polar\":{\"angularaxis\":{\"gridcolor\":\"white\",\"linecolor\":\"white\",\"ticks\":\"\"},\"bgcolor\":\"#E5ECF6\",\"radialaxis\":{\"gridcolor\":\"white\",\"linecolor\":\"white\",\"ticks\":\"\"}},\"scene\":{\"xaxis\":{\"backgroundcolor\":\"#E5ECF6\",\"gridcolor\":\"white\",\"gridwidth\":2,\"linecolor\":\"white\",\"showbackground\":true,\"ticks\":\"\",\"zerolinecolor\":\"white\"},\"yaxis\":{\"backgroundcolor\":\"#E5ECF6\",\"gridcolor\":\"white\",\"gridwidth\":2,\"linecolor\":\"white\",\"showbackground\":true,\"ticks\":\"\",\"zerolinecolor\":\"white\"},\"zaxis\":{\"backgroundcolor\":\"#E5ECF6\",\"gridcolor\":\"white\",\"gridwidth\":2,\"linecolor\":\"white\",\"showbackground\":true,\"ticks\":\"\",\"zerolinecolor\":\"white\"}},\"shapedefaults\":{\"line\":{\"color\":\"#2a3f5f\"}},\"ternary\":{\"aaxis\":{\"gridcolor\":\"white\",\"linecolor\":\"white\",\"ticks\":\"\"},\"baxis\":{\"gridcolor\":\"white\",\"linecolor\":\"white\",\"ticks\":\"\"},\"bgcolor\":\"#E5ECF6\",\"caxis\":{\"gridcolor\":\"white\",\"linecolor\":\"white\",\"ticks\":\"\"}},\"title\":{\"x\":0.05},\"xaxis\":{\"automargin\":true,\"gridcolor\":\"white\",\"linecolor\":\"white\",\"ticks\":\"\",\"title\":{\"standoff\":15},\"zerolinecolor\":\"white\",\"zerolinewidth\":2},\"yaxis\":{\"automargin\":true,\"gridcolor\":\"white\",\"linecolor\":\"white\",\"ticks\":\"\",\"title\":{\"standoff\":15},\"zerolinecolor\":\"white\",\"zerolinewidth\":2}}},\"title\":{\"font\":{\"color\":\"#4D5663\"}},\"xaxis\":{\"gridcolor\":\"#E1E5ED\",\"showgrid\":true,\"tickfont\":{\"color\":\"#4D5663\"},\"title\":{\"font\":{\"color\":\"#4D5663\"},\"text\":\"\"},\"zerolinecolor\":\"#E1E5ED\"},\"yaxis\":{\"gridcolor\":\"#E1E5ED\",\"showgrid\":true,\"tickfont\":{\"color\":\"#4D5663\"},\"title\":{\"font\":{\"color\":\"#4D5663\"},\"text\":\"\"},\"zerolinecolor\":\"#E1E5ED\"}},                        {\"showLink\": true, \"linkText\": \"Export to plot.ly\", \"plotlyServerURL\": \"https://plot.ly\", \"responsive\": true}                    ).then(function(){\n",
       "                            \n",
       "var gd = document.getElementById('f0446595-adeb-4b07-bc4f-8182594ae5cf');\n",
       "var x = new MutationObserver(function (mutations, observer) {{\n",
       "        var display = window.getComputedStyle(gd).display;\n",
       "        if (!display || display === 'none') {{\n",
       "            console.log([gd, 'removed!']);\n",
       "            Plotly.purge(gd);\n",
       "            observer.disconnect();\n",
       "        }}\n",
       "}});\n",
       "\n",
       "// Listen for the removal of the full notebook cells\n",
       "var notebookContainer = gd.closest('#notebook-container');\n",
       "if (notebookContainer) {{\n",
       "    x.observe(notebookContainer, {childList: true});\n",
       "}}\n",
       "\n",
       "// Listen for the clearing of the current output cell\n",
       "var outputEl = gd.closest('.output');\n",
       "if (outputEl) {{\n",
       "    x.observe(outputEl, {childList: true});\n",
       "}}\n",
       "\n",
       "                        })                };                });            </script>        </div>"
      ]
     },
     "metadata": {},
     "output_type": "display_data"
    }
   ],
   "source": [
    "df.iplot(kind='bar')"
   ]
  },
  {
   "cell_type": "code",
   "execution_count": 12,
   "id": "d140a70e",
   "metadata": {},
   "outputs": [
    {
     "data": {
      "application/vnd.plotly.v1+json": {
       "config": {
        "linkText": "Export to plot.ly",
        "plotlyServerURL": "https://plot.ly",
        "showLink": true
       },
       "data": [
        {
         "marker": {
          "color": "rgba(255, 153, 51, 0.6)",
          "line": {
           "color": "rgba(255, 153, 51, 1.0)",
           "width": 1
          }
         },
         "name": "None",
         "orientation": "v",
         "text": "",
         "type": "bar",
         "x": [
          "A",
          "B",
          "C",
          "D"
         ],
         "y": [
          100,
          100,
          100,
          100
         ]
        }
       ],
       "layout": {
        "legend": {
         "bgcolor": "#F5F6F9",
         "font": {
          "color": "#4D5663"
         }
        },
        "paper_bgcolor": "#F5F6F9",
        "plot_bgcolor": "#F5F6F9",
        "template": {
         "data": {
          "bar": [
           {
            "error_x": {
             "color": "#2a3f5f"
            },
            "error_y": {
             "color": "#2a3f5f"
            },
            "marker": {
             "line": {
              "color": "#E5ECF6",
              "width": 0.5
             },
             "pattern": {
              "fillmode": "overlay",
              "size": 10,
              "solidity": 0.2
             }
            },
            "type": "bar"
           }
          ],
          "barpolar": [
           {
            "marker": {
             "line": {
              "color": "#E5ECF6",
              "width": 0.5
             },
             "pattern": {
              "fillmode": "overlay",
              "size": 10,
              "solidity": 0.2
             }
            },
            "type": "barpolar"
           }
          ],
          "carpet": [
           {
            "aaxis": {
             "endlinecolor": "#2a3f5f",
             "gridcolor": "white",
             "linecolor": "white",
             "minorgridcolor": "white",
             "startlinecolor": "#2a3f5f"
            },
            "baxis": {
             "endlinecolor": "#2a3f5f",
             "gridcolor": "white",
             "linecolor": "white",
             "minorgridcolor": "white",
             "startlinecolor": "#2a3f5f"
            },
            "type": "carpet"
           }
          ],
          "choropleth": [
           {
            "colorbar": {
             "outlinewidth": 0,
             "ticks": ""
            },
            "type": "choropleth"
           }
          ],
          "contour": [
           {
            "colorbar": {
             "outlinewidth": 0,
             "ticks": ""
            },
            "colorscale": [
             [
              0,
              "#0d0887"
             ],
             [
              0.1111111111111111,
              "#46039f"
             ],
             [
              0.2222222222222222,
              "#7201a8"
             ],
             [
              0.3333333333333333,
              "#9c179e"
             ],
             [
              0.4444444444444444,
              "#bd3786"
             ],
             [
              0.5555555555555556,
              "#d8576b"
             ],
             [
              0.6666666666666666,
              "#ed7953"
             ],
             [
              0.7777777777777778,
              "#fb9f3a"
             ],
             [
              0.8888888888888888,
              "#fdca26"
             ],
             [
              1,
              "#f0f921"
             ]
            ],
            "type": "contour"
           }
          ],
          "contourcarpet": [
           {
            "colorbar": {
             "outlinewidth": 0,
             "ticks": ""
            },
            "type": "contourcarpet"
           }
          ],
          "heatmap": [
           {
            "colorbar": {
             "outlinewidth": 0,
             "ticks": ""
            },
            "colorscale": [
             [
              0,
              "#0d0887"
             ],
             [
              0.1111111111111111,
              "#46039f"
             ],
             [
              0.2222222222222222,
              "#7201a8"
             ],
             [
              0.3333333333333333,
              "#9c179e"
             ],
             [
              0.4444444444444444,
              "#bd3786"
             ],
             [
              0.5555555555555556,
              "#d8576b"
             ],
             [
              0.6666666666666666,
              "#ed7953"
             ],
             [
              0.7777777777777778,
              "#fb9f3a"
             ],
             [
              0.8888888888888888,
              "#fdca26"
             ],
             [
              1,
              "#f0f921"
             ]
            ],
            "type": "heatmap"
           }
          ],
          "heatmapgl": [
           {
            "colorbar": {
             "outlinewidth": 0,
             "ticks": ""
            },
            "colorscale": [
             [
              0,
              "#0d0887"
             ],
             [
              0.1111111111111111,
              "#46039f"
             ],
             [
              0.2222222222222222,
              "#7201a8"
             ],
             [
              0.3333333333333333,
              "#9c179e"
             ],
             [
              0.4444444444444444,
              "#bd3786"
             ],
             [
              0.5555555555555556,
              "#d8576b"
             ],
             [
              0.6666666666666666,
              "#ed7953"
             ],
             [
              0.7777777777777778,
              "#fb9f3a"
             ],
             [
              0.8888888888888888,
              "#fdca26"
             ],
             [
              1,
              "#f0f921"
             ]
            ],
            "type": "heatmapgl"
           }
          ],
          "histogram": [
           {
            "marker": {
             "pattern": {
              "fillmode": "overlay",
              "size": 10,
              "solidity": 0.2
             }
            },
            "type": "histogram"
           }
          ],
          "histogram2d": [
           {
            "colorbar": {
             "outlinewidth": 0,
             "ticks": ""
            },
            "colorscale": [
             [
              0,
              "#0d0887"
             ],
             [
              0.1111111111111111,
              "#46039f"
             ],
             [
              0.2222222222222222,
              "#7201a8"
             ],
             [
              0.3333333333333333,
              "#9c179e"
             ],
             [
              0.4444444444444444,
              "#bd3786"
             ],
             [
              0.5555555555555556,
              "#d8576b"
             ],
             [
              0.6666666666666666,
              "#ed7953"
             ],
             [
              0.7777777777777778,
              "#fb9f3a"
             ],
             [
              0.8888888888888888,
              "#fdca26"
             ],
             [
              1,
              "#f0f921"
             ]
            ],
            "type": "histogram2d"
           }
          ],
          "histogram2dcontour": [
           {
            "colorbar": {
             "outlinewidth": 0,
             "ticks": ""
            },
            "colorscale": [
             [
              0,
              "#0d0887"
             ],
             [
              0.1111111111111111,
              "#46039f"
             ],
             [
              0.2222222222222222,
              "#7201a8"
             ],
             [
              0.3333333333333333,
              "#9c179e"
             ],
             [
              0.4444444444444444,
              "#bd3786"
             ],
             [
              0.5555555555555556,
              "#d8576b"
             ],
             [
              0.6666666666666666,
              "#ed7953"
             ],
             [
              0.7777777777777778,
              "#fb9f3a"
             ],
             [
              0.8888888888888888,
              "#fdca26"
             ],
             [
              1,
              "#f0f921"
             ]
            ],
            "type": "histogram2dcontour"
           }
          ],
          "mesh3d": [
           {
            "colorbar": {
             "outlinewidth": 0,
             "ticks": ""
            },
            "type": "mesh3d"
           }
          ],
          "parcoords": [
           {
            "line": {
             "colorbar": {
              "outlinewidth": 0,
              "ticks": ""
             }
            },
            "type": "parcoords"
           }
          ],
          "pie": [
           {
            "automargin": true,
            "type": "pie"
           }
          ],
          "scatter": [
           {
            "fillpattern": {
             "fillmode": "overlay",
             "size": 10,
             "solidity": 0.2
            },
            "type": "scatter"
           }
          ],
          "scatter3d": [
           {
            "line": {
             "colorbar": {
              "outlinewidth": 0,
              "ticks": ""
             }
            },
            "marker": {
             "colorbar": {
              "outlinewidth": 0,
              "ticks": ""
             }
            },
            "type": "scatter3d"
           }
          ],
          "scattercarpet": [
           {
            "marker": {
             "colorbar": {
              "outlinewidth": 0,
              "ticks": ""
             }
            },
            "type": "scattercarpet"
           }
          ],
          "scattergeo": [
           {
            "marker": {
             "colorbar": {
              "outlinewidth": 0,
              "ticks": ""
             }
            },
            "type": "scattergeo"
           }
          ],
          "scattergl": [
           {
            "marker": {
             "colorbar": {
              "outlinewidth": 0,
              "ticks": ""
             }
            },
            "type": "scattergl"
           }
          ],
          "scattermapbox": [
           {
            "marker": {
             "colorbar": {
              "outlinewidth": 0,
              "ticks": ""
             }
            },
            "type": "scattermapbox"
           }
          ],
          "scatterpolar": [
           {
            "marker": {
             "colorbar": {
              "outlinewidth": 0,
              "ticks": ""
             }
            },
            "type": "scatterpolar"
           }
          ],
          "scatterpolargl": [
           {
            "marker": {
             "colorbar": {
              "outlinewidth": 0,
              "ticks": ""
             }
            },
            "type": "scatterpolargl"
           }
          ],
          "scatterternary": [
           {
            "marker": {
             "colorbar": {
              "outlinewidth": 0,
              "ticks": ""
             }
            },
            "type": "scatterternary"
           }
          ],
          "surface": [
           {
            "colorbar": {
             "outlinewidth": 0,
             "ticks": ""
            },
            "colorscale": [
             [
              0,
              "#0d0887"
             ],
             [
              0.1111111111111111,
              "#46039f"
             ],
             [
              0.2222222222222222,
              "#7201a8"
             ],
             [
              0.3333333333333333,
              "#9c179e"
             ],
             [
              0.4444444444444444,
              "#bd3786"
             ],
             [
              0.5555555555555556,
              "#d8576b"
             ],
             [
              0.6666666666666666,
              "#ed7953"
             ],
             [
              0.7777777777777778,
              "#fb9f3a"
             ],
             [
              0.8888888888888888,
              "#fdca26"
             ],
             [
              1,
              "#f0f921"
             ]
            ],
            "type": "surface"
           }
          ],
          "table": [
           {
            "cells": {
             "fill": {
              "color": "#EBF0F8"
             },
             "line": {
              "color": "white"
             }
            },
            "header": {
             "fill": {
              "color": "#C8D4E3"
             },
             "line": {
              "color": "white"
             }
            },
            "type": "table"
           }
          ]
         },
         "layout": {
          "annotationdefaults": {
           "arrowcolor": "#2a3f5f",
           "arrowhead": 0,
           "arrowwidth": 1
          },
          "autotypenumbers": "strict",
          "coloraxis": {
           "colorbar": {
            "outlinewidth": 0,
            "ticks": ""
           }
          },
          "colorscale": {
           "diverging": [
            [
             0,
             "#8e0152"
            ],
            [
             0.1,
             "#c51b7d"
            ],
            [
             0.2,
             "#de77ae"
            ],
            [
             0.3,
             "#f1b6da"
            ],
            [
             0.4,
             "#fde0ef"
            ],
            [
             0.5,
             "#f7f7f7"
            ],
            [
             0.6,
             "#e6f5d0"
            ],
            [
             0.7,
             "#b8e186"
            ],
            [
             0.8,
             "#7fbc41"
            ],
            [
             0.9,
             "#4d9221"
            ],
            [
             1,
             "#276419"
            ]
           ],
           "sequential": [
            [
             0,
             "#0d0887"
            ],
            [
             0.1111111111111111,
             "#46039f"
            ],
            [
             0.2222222222222222,
             "#7201a8"
            ],
            [
             0.3333333333333333,
             "#9c179e"
            ],
            [
             0.4444444444444444,
             "#bd3786"
            ],
            [
             0.5555555555555556,
             "#d8576b"
            ],
            [
             0.6666666666666666,
             "#ed7953"
            ],
            [
             0.7777777777777778,
             "#fb9f3a"
            ],
            [
             0.8888888888888888,
             "#fdca26"
            ],
            [
             1,
             "#f0f921"
            ]
           ],
           "sequentialminus": [
            [
             0,
             "#0d0887"
            ],
            [
             0.1111111111111111,
             "#46039f"
            ],
            [
             0.2222222222222222,
             "#7201a8"
            ],
            [
             0.3333333333333333,
             "#9c179e"
            ],
            [
             0.4444444444444444,
             "#bd3786"
            ],
            [
             0.5555555555555556,
             "#d8576b"
            ],
            [
             0.6666666666666666,
             "#ed7953"
            ],
            [
             0.7777777777777778,
             "#fb9f3a"
            ],
            [
             0.8888888888888888,
             "#fdca26"
            ],
            [
             1,
             "#f0f921"
            ]
           ]
          },
          "colorway": [
           "#636efa",
           "#EF553B",
           "#00cc96",
           "#ab63fa",
           "#FFA15A",
           "#19d3f3",
           "#FF6692",
           "#B6E880",
           "#FF97FF",
           "#FECB52"
          ],
          "font": {
           "color": "#2a3f5f"
          },
          "geo": {
           "bgcolor": "white",
           "lakecolor": "white",
           "landcolor": "#E5ECF6",
           "showlakes": true,
           "showland": true,
           "subunitcolor": "white"
          },
          "hoverlabel": {
           "align": "left"
          },
          "hovermode": "closest",
          "mapbox": {
           "style": "light"
          },
          "paper_bgcolor": "white",
          "plot_bgcolor": "#E5ECF6",
          "polar": {
           "angularaxis": {
            "gridcolor": "white",
            "linecolor": "white",
            "ticks": ""
           },
           "bgcolor": "#E5ECF6",
           "radialaxis": {
            "gridcolor": "white",
            "linecolor": "white",
            "ticks": ""
           }
          },
          "scene": {
           "xaxis": {
            "backgroundcolor": "#E5ECF6",
            "gridcolor": "white",
            "gridwidth": 2,
            "linecolor": "white",
            "showbackground": true,
            "ticks": "",
            "zerolinecolor": "white"
           },
           "yaxis": {
            "backgroundcolor": "#E5ECF6",
            "gridcolor": "white",
            "gridwidth": 2,
            "linecolor": "white",
            "showbackground": true,
            "ticks": "",
            "zerolinecolor": "white"
           },
           "zaxis": {
            "backgroundcolor": "#E5ECF6",
            "gridcolor": "white",
            "gridwidth": 2,
            "linecolor": "white",
            "showbackground": true,
            "ticks": "",
            "zerolinecolor": "white"
           }
          },
          "shapedefaults": {
           "line": {
            "color": "#2a3f5f"
           }
          },
          "ternary": {
           "aaxis": {
            "gridcolor": "white",
            "linecolor": "white",
            "ticks": ""
           },
           "baxis": {
            "gridcolor": "white",
            "linecolor": "white",
            "ticks": ""
           },
           "bgcolor": "#E5ECF6",
           "caxis": {
            "gridcolor": "white",
            "linecolor": "white",
            "ticks": ""
           }
          },
          "title": {
           "x": 0.05
          },
          "xaxis": {
           "automargin": true,
           "gridcolor": "white",
           "linecolor": "white",
           "ticks": "",
           "title": {
            "standoff": 15
           },
           "zerolinecolor": "white",
           "zerolinewidth": 2
          },
          "yaxis": {
           "automargin": true,
           "gridcolor": "white",
           "linecolor": "white",
           "ticks": "",
           "title": {
            "standoff": 15
           },
           "zerolinecolor": "white",
           "zerolinewidth": 2
          }
         }
        },
        "title": {
         "font": {
          "color": "#4D5663"
         }
        },
        "xaxis": {
         "gridcolor": "#E1E5ED",
         "showgrid": true,
         "tickfont": {
          "color": "#4D5663"
         },
         "title": {
          "font": {
           "color": "#4D5663"
          },
          "text": ""
         },
         "zerolinecolor": "#E1E5ED"
        },
        "yaxis": {
         "gridcolor": "#E1E5ED",
         "showgrid": true,
         "tickfont": {
          "color": "#4D5663"
         },
         "title": {
          "font": {
           "color": "#4D5663"
          },
          "text": ""
         },
         "zerolinecolor": "#E1E5ED"
        }
       }
      },
      "text/html": [
       "<div>                            <div id=\"7388e393-5ce6-49c7-9144-e55fad30d3a4\" class=\"plotly-graph-div\" style=\"height:525px; width:100%;\"></div>            <script type=\"text/javascript\">                require([\"plotly\"], function(Plotly) {                    window.PLOTLYENV=window.PLOTLYENV || {};\n",
       "                    window.PLOTLYENV.BASE_URL='https://plot.ly';                                    if (document.getElementById(\"7388e393-5ce6-49c7-9144-e55fad30d3a4\")) {                    Plotly.newPlot(                        \"7388e393-5ce6-49c7-9144-e55fad30d3a4\",                        [{\"marker\":{\"color\":\"rgba(255, 153, 51, 0.6)\",\"line\":{\"color\":\"rgba(255, 153, 51, 1.0)\",\"width\":1}},\"name\":\"None\",\"orientation\":\"v\",\"text\":\"\",\"x\":[\"A\",\"B\",\"C\",\"D\"],\"y\":[100,100,100,100],\"type\":\"bar\"}],                        {\"legend\":{\"bgcolor\":\"#F5F6F9\",\"font\":{\"color\":\"#4D5663\"}},\"paper_bgcolor\":\"#F5F6F9\",\"plot_bgcolor\":\"#F5F6F9\",\"template\":{\"data\":{\"barpolar\":[{\"marker\":{\"line\":{\"color\":\"#E5ECF6\",\"width\":0.5},\"pattern\":{\"fillmode\":\"overlay\",\"size\":10,\"solidity\":0.2}},\"type\":\"barpolar\"}],\"bar\":[{\"error_x\":{\"color\":\"#2a3f5f\"},\"error_y\":{\"color\":\"#2a3f5f\"},\"marker\":{\"line\":{\"color\":\"#E5ECF6\",\"width\":0.5},\"pattern\":{\"fillmode\":\"overlay\",\"size\":10,\"solidity\":0.2}},\"type\":\"bar\"}],\"carpet\":[{\"aaxis\":{\"endlinecolor\":\"#2a3f5f\",\"gridcolor\":\"white\",\"linecolor\":\"white\",\"minorgridcolor\":\"white\",\"startlinecolor\":\"#2a3f5f\"},\"baxis\":{\"endlinecolor\":\"#2a3f5f\",\"gridcolor\":\"white\",\"linecolor\":\"white\",\"minorgridcolor\":\"white\",\"startlinecolor\":\"#2a3f5f\"},\"type\":\"carpet\"}],\"choropleth\":[{\"colorbar\":{\"outlinewidth\":0,\"ticks\":\"\"},\"type\":\"choropleth\"}],\"contourcarpet\":[{\"colorbar\":{\"outlinewidth\":0,\"ticks\":\"\"},\"type\":\"contourcarpet\"}],\"contour\":[{\"colorbar\":{\"outlinewidth\":0,\"ticks\":\"\"},\"colorscale\":[[0.0,\"#0d0887\"],[0.1111111111111111,\"#46039f\"],[0.2222222222222222,\"#7201a8\"],[0.3333333333333333,\"#9c179e\"],[0.4444444444444444,\"#bd3786\"],[0.5555555555555556,\"#d8576b\"],[0.6666666666666666,\"#ed7953\"],[0.7777777777777778,\"#fb9f3a\"],[0.8888888888888888,\"#fdca26\"],[1.0,\"#f0f921\"]],\"type\":\"contour\"}],\"heatmapgl\":[{\"colorbar\":{\"outlinewidth\":0,\"ticks\":\"\"},\"colorscale\":[[0.0,\"#0d0887\"],[0.1111111111111111,\"#46039f\"],[0.2222222222222222,\"#7201a8\"],[0.3333333333333333,\"#9c179e\"],[0.4444444444444444,\"#bd3786\"],[0.5555555555555556,\"#d8576b\"],[0.6666666666666666,\"#ed7953\"],[0.7777777777777778,\"#fb9f3a\"],[0.8888888888888888,\"#fdca26\"],[1.0,\"#f0f921\"]],\"type\":\"heatmapgl\"}],\"heatmap\":[{\"colorbar\":{\"outlinewidth\":0,\"ticks\":\"\"},\"colorscale\":[[0.0,\"#0d0887\"],[0.1111111111111111,\"#46039f\"],[0.2222222222222222,\"#7201a8\"],[0.3333333333333333,\"#9c179e\"],[0.4444444444444444,\"#bd3786\"],[0.5555555555555556,\"#d8576b\"],[0.6666666666666666,\"#ed7953\"],[0.7777777777777778,\"#fb9f3a\"],[0.8888888888888888,\"#fdca26\"],[1.0,\"#f0f921\"]],\"type\":\"heatmap\"}],\"histogram2dcontour\":[{\"colorbar\":{\"outlinewidth\":0,\"ticks\":\"\"},\"colorscale\":[[0.0,\"#0d0887\"],[0.1111111111111111,\"#46039f\"],[0.2222222222222222,\"#7201a8\"],[0.3333333333333333,\"#9c179e\"],[0.4444444444444444,\"#bd3786\"],[0.5555555555555556,\"#d8576b\"],[0.6666666666666666,\"#ed7953\"],[0.7777777777777778,\"#fb9f3a\"],[0.8888888888888888,\"#fdca26\"],[1.0,\"#f0f921\"]],\"type\":\"histogram2dcontour\"}],\"histogram2d\":[{\"colorbar\":{\"outlinewidth\":0,\"ticks\":\"\"},\"colorscale\":[[0.0,\"#0d0887\"],[0.1111111111111111,\"#46039f\"],[0.2222222222222222,\"#7201a8\"],[0.3333333333333333,\"#9c179e\"],[0.4444444444444444,\"#bd3786\"],[0.5555555555555556,\"#d8576b\"],[0.6666666666666666,\"#ed7953\"],[0.7777777777777778,\"#fb9f3a\"],[0.8888888888888888,\"#fdca26\"],[1.0,\"#f0f921\"]],\"type\":\"histogram2d\"}],\"histogram\":[{\"marker\":{\"pattern\":{\"fillmode\":\"overlay\",\"size\":10,\"solidity\":0.2}},\"type\":\"histogram\"}],\"mesh3d\":[{\"colorbar\":{\"outlinewidth\":0,\"ticks\":\"\"},\"type\":\"mesh3d\"}],\"parcoords\":[{\"line\":{\"colorbar\":{\"outlinewidth\":0,\"ticks\":\"\"}},\"type\":\"parcoords\"}],\"pie\":[{\"automargin\":true,\"type\":\"pie\"}],\"scatter3d\":[{\"line\":{\"colorbar\":{\"outlinewidth\":0,\"ticks\":\"\"}},\"marker\":{\"colorbar\":{\"outlinewidth\":0,\"ticks\":\"\"}},\"type\":\"scatter3d\"}],\"scattercarpet\":[{\"marker\":{\"colorbar\":{\"outlinewidth\":0,\"ticks\":\"\"}},\"type\":\"scattercarpet\"}],\"scattergeo\":[{\"marker\":{\"colorbar\":{\"outlinewidth\":0,\"ticks\":\"\"}},\"type\":\"scattergeo\"}],\"scattergl\":[{\"marker\":{\"colorbar\":{\"outlinewidth\":0,\"ticks\":\"\"}},\"type\":\"scattergl\"}],\"scattermapbox\":[{\"marker\":{\"colorbar\":{\"outlinewidth\":0,\"ticks\":\"\"}},\"type\":\"scattermapbox\"}],\"scatterpolargl\":[{\"marker\":{\"colorbar\":{\"outlinewidth\":0,\"ticks\":\"\"}},\"type\":\"scatterpolargl\"}],\"scatterpolar\":[{\"marker\":{\"colorbar\":{\"outlinewidth\":0,\"ticks\":\"\"}},\"type\":\"scatterpolar\"}],\"scatter\":[{\"fillpattern\":{\"fillmode\":\"overlay\",\"size\":10,\"solidity\":0.2},\"type\":\"scatter\"}],\"scatterternary\":[{\"marker\":{\"colorbar\":{\"outlinewidth\":0,\"ticks\":\"\"}},\"type\":\"scatterternary\"}],\"surface\":[{\"colorbar\":{\"outlinewidth\":0,\"ticks\":\"\"},\"colorscale\":[[0.0,\"#0d0887\"],[0.1111111111111111,\"#46039f\"],[0.2222222222222222,\"#7201a8\"],[0.3333333333333333,\"#9c179e\"],[0.4444444444444444,\"#bd3786\"],[0.5555555555555556,\"#d8576b\"],[0.6666666666666666,\"#ed7953\"],[0.7777777777777778,\"#fb9f3a\"],[0.8888888888888888,\"#fdca26\"],[1.0,\"#f0f921\"]],\"type\":\"surface\"}],\"table\":[{\"cells\":{\"fill\":{\"color\":\"#EBF0F8\"},\"line\":{\"color\":\"white\"}},\"header\":{\"fill\":{\"color\":\"#C8D4E3\"},\"line\":{\"color\":\"white\"}},\"type\":\"table\"}]},\"layout\":{\"annotationdefaults\":{\"arrowcolor\":\"#2a3f5f\",\"arrowhead\":0,\"arrowwidth\":1},\"autotypenumbers\":\"strict\",\"coloraxis\":{\"colorbar\":{\"outlinewidth\":0,\"ticks\":\"\"}},\"colorscale\":{\"diverging\":[[0,\"#8e0152\"],[0.1,\"#c51b7d\"],[0.2,\"#de77ae\"],[0.3,\"#f1b6da\"],[0.4,\"#fde0ef\"],[0.5,\"#f7f7f7\"],[0.6,\"#e6f5d0\"],[0.7,\"#b8e186\"],[0.8,\"#7fbc41\"],[0.9,\"#4d9221\"],[1,\"#276419\"]],\"sequential\":[[0.0,\"#0d0887\"],[0.1111111111111111,\"#46039f\"],[0.2222222222222222,\"#7201a8\"],[0.3333333333333333,\"#9c179e\"],[0.4444444444444444,\"#bd3786\"],[0.5555555555555556,\"#d8576b\"],[0.6666666666666666,\"#ed7953\"],[0.7777777777777778,\"#fb9f3a\"],[0.8888888888888888,\"#fdca26\"],[1.0,\"#f0f921\"]],\"sequentialminus\":[[0.0,\"#0d0887\"],[0.1111111111111111,\"#46039f\"],[0.2222222222222222,\"#7201a8\"],[0.3333333333333333,\"#9c179e\"],[0.4444444444444444,\"#bd3786\"],[0.5555555555555556,\"#d8576b\"],[0.6666666666666666,\"#ed7953\"],[0.7777777777777778,\"#fb9f3a\"],[0.8888888888888888,\"#fdca26\"],[1.0,\"#f0f921\"]]},\"colorway\":[\"#636efa\",\"#EF553B\",\"#00cc96\",\"#ab63fa\",\"#FFA15A\",\"#19d3f3\",\"#FF6692\",\"#B6E880\",\"#FF97FF\",\"#FECB52\"],\"font\":{\"color\":\"#2a3f5f\"},\"geo\":{\"bgcolor\":\"white\",\"lakecolor\":\"white\",\"landcolor\":\"#E5ECF6\",\"showlakes\":true,\"showland\":true,\"subunitcolor\":\"white\"},\"hoverlabel\":{\"align\":\"left\"},\"hovermode\":\"closest\",\"mapbox\":{\"style\":\"light\"},\"paper_bgcolor\":\"white\",\"plot_bgcolor\":\"#E5ECF6\",\"polar\":{\"angularaxis\":{\"gridcolor\":\"white\",\"linecolor\":\"white\",\"ticks\":\"\"},\"bgcolor\":\"#E5ECF6\",\"radialaxis\":{\"gridcolor\":\"white\",\"linecolor\":\"white\",\"ticks\":\"\"}},\"scene\":{\"xaxis\":{\"backgroundcolor\":\"#E5ECF6\",\"gridcolor\":\"white\",\"gridwidth\":2,\"linecolor\":\"white\",\"showbackground\":true,\"ticks\":\"\",\"zerolinecolor\":\"white\"},\"yaxis\":{\"backgroundcolor\":\"#E5ECF6\",\"gridcolor\":\"white\",\"gridwidth\":2,\"linecolor\":\"white\",\"showbackground\":true,\"ticks\":\"\",\"zerolinecolor\":\"white\"},\"zaxis\":{\"backgroundcolor\":\"#E5ECF6\",\"gridcolor\":\"white\",\"gridwidth\":2,\"linecolor\":\"white\",\"showbackground\":true,\"ticks\":\"\",\"zerolinecolor\":\"white\"}},\"shapedefaults\":{\"line\":{\"color\":\"#2a3f5f\"}},\"ternary\":{\"aaxis\":{\"gridcolor\":\"white\",\"linecolor\":\"white\",\"ticks\":\"\"},\"baxis\":{\"gridcolor\":\"white\",\"linecolor\":\"white\",\"ticks\":\"\"},\"bgcolor\":\"#E5ECF6\",\"caxis\":{\"gridcolor\":\"white\",\"linecolor\":\"white\",\"ticks\":\"\"}},\"title\":{\"x\":0.05},\"xaxis\":{\"automargin\":true,\"gridcolor\":\"white\",\"linecolor\":\"white\",\"ticks\":\"\",\"title\":{\"standoff\":15},\"zerolinecolor\":\"white\",\"zerolinewidth\":2},\"yaxis\":{\"automargin\":true,\"gridcolor\":\"white\",\"linecolor\":\"white\",\"ticks\":\"\",\"title\":{\"standoff\":15},\"zerolinecolor\":\"white\",\"zerolinewidth\":2}}},\"title\":{\"font\":{\"color\":\"#4D5663\"}},\"xaxis\":{\"gridcolor\":\"#E1E5ED\",\"showgrid\":true,\"tickfont\":{\"color\":\"#4D5663\"},\"title\":{\"font\":{\"color\":\"#4D5663\"},\"text\":\"\"},\"zerolinecolor\":\"#E1E5ED\"},\"yaxis\":{\"gridcolor\":\"#E1E5ED\",\"showgrid\":true,\"tickfont\":{\"color\":\"#4D5663\"},\"title\":{\"font\":{\"color\":\"#4D5663\"},\"text\":\"\"},\"zerolinecolor\":\"#E1E5ED\"}},                        {\"showLink\": true, \"linkText\": \"Export to plot.ly\", \"plotlyServerURL\": \"https://plot.ly\", \"responsive\": true}                    ).then(function(){\n",
       "                            \n",
       "var gd = document.getElementById('7388e393-5ce6-49c7-9144-e55fad30d3a4');\n",
       "var x = new MutationObserver(function (mutations, observer) {{\n",
       "        var display = window.getComputedStyle(gd).display;\n",
       "        if (!display || display === 'none') {{\n",
       "            console.log([gd, 'removed!']);\n",
       "            Plotly.purge(gd);\n",
       "            observer.disconnect();\n",
       "        }}\n",
       "}});\n",
       "\n",
       "// Listen for the removal of the full notebook cells\n",
       "var notebookContainer = gd.closest('#notebook-container');\n",
       "if (notebookContainer) {{\n",
       "    x.observe(notebookContainer, {childList: true});\n",
       "}}\n",
       "\n",
       "// Listen for the clearing of the current output cell\n",
       "var outputEl = gd.closest('.output');\n",
       "if (outputEl) {{\n",
       "    x.observe(outputEl, {childList: true});\n",
       "}}\n",
       "\n",
       "                        })                };                });            </script>        </div>"
      ]
     },
     "metadata": {},
     "output_type": "display_data"
    }
   ],
   "source": [
    "df.count().iplot(kind='bar')"
   ]
  },
  {
   "cell_type": "code",
   "execution_count": 13,
   "id": "b1ba4316",
   "metadata": {},
   "outputs": [
    {
     "data": {
      "application/vnd.plotly.v1+json": {
       "config": {
        "linkText": "Export to plot.ly",
        "plotlyServerURL": "https://plot.ly",
        "showLink": true
       },
       "data": [
        {
         "marker": {
          "color": "rgba(255, 153, 51, 0.6)",
          "line": {
           "color": "rgba(255, 153, 51, 1.0)",
           "width": 1
          }
         },
         "name": "None",
         "orientation": "v",
         "text": "",
         "type": "bar",
         "x": [
          "A",
          "B",
          "C",
          "D"
         ],
         "y": [
          -4.930497543445537,
          11.962720651089958,
          -7.958865540576435,
          4.904051031917589
         ]
        }
       ],
       "layout": {
        "legend": {
         "bgcolor": "#F5F6F9",
         "font": {
          "color": "#4D5663"
         }
        },
        "paper_bgcolor": "#F5F6F9",
        "plot_bgcolor": "#F5F6F9",
        "template": {
         "data": {
          "bar": [
           {
            "error_x": {
             "color": "#2a3f5f"
            },
            "error_y": {
             "color": "#2a3f5f"
            },
            "marker": {
             "line": {
              "color": "#E5ECF6",
              "width": 0.5
             },
             "pattern": {
              "fillmode": "overlay",
              "size": 10,
              "solidity": 0.2
             }
            },
            "type": "bar"
           }
          ],
          "barpolar": [
           {
            "marker": {
             "line": {
              "color": "#E5ECF6",
              "width": 0.5
             },
             "pattern": {
              "fillmode": "overlay",
              "size": 10,
              "solidity": 0.2
             }
            },
            "type": "barpolar"
           }
          ],
          "carpet": [
           {
            "aaxis": {
             "endlinecolor": "#2a3f5f",
             "gridcolor": "white",
             "linecolor": "white",
             "minorgridcolor": "white",
             "startlinecolor": "#2a3f5f"
            },
            "baxis": {
             "endlinecolor": "#2a3f5f",
             "gridcolor": "white",
             "linecolor": "white",
             "minorgridcolor": "white",
             "startlinecolor": "#2a3f5f"
            },
            "type": "carpet"
           }
          ],
          "choropleth": [
           {
            "colorbar": {
             "outlinewidth": 0,
             "ticks": ""
            },
            "type": "choropleth"
           }
          ],
          "contour": [
           {
            "colorbar": {
             "outlinewidth": 0,
             "ticks": ""
            },
            "colorscale": [
             [
              0,
              "#0d0887"
             ],
             [
              0.1111111111111111,
              "#46039f"
             ],
             [
              0.2222222222222222,
              "#7201a8"
             ],
             [
              0.3333333333333333,
              "#9c179e"
             ],
             [
              0.4444444444444444,
              "#bd3786"
             ],
             [
              0.5555555555555556,
              "#d8576b"
             ],
             [
              0.6666666666666666,
              "#ed7953"
             ],
             [
              0.7777777777777778,
              "#fb9f3a"
             ],
             [
              0.8888888888888888,
              "#fdca26"
             ],
             [
              1,
              "#f0f921"
             ]
            ],
            "type": "contour"
           }
          ],
          "contourcarpet": [
           {
            "colorbar": {
             "outlinewidth": 0,
             "ticks": ""
            },
            "type": "contourcarpet"
           }
          ],
          "heatmap": [
           {
            "colorbar": {
             "outlinewidth": 0,
             "ticks": ""
            },
            "colorscale": [
             [
              0,
              "#0d0887"
             ],
             [
              0.1111111111111111,
              "#46039f"
             ],
             [
              0.2222222222222222,
              "#7201a8"
             ],
             [
              0.3333333333333333,
              "#9c179e"
             ],
             [
              0.4444444444444444,
              "#bd3786"
             ],
             [
              0.5555555555555556,
              "#d8576b"
             ],
             [
              0.6666666666666666,
              "#ed7953"
             ],
             [
              0.7777777777777778,
              "#fb9f3a"
             ],
             [
              0.8888888888888888,
              "#fdca26"
             ],
             [
              1,
              "#f0f921"
             ]
            ],
            "type": "heatmap"
           }
          ],
          "heatmapgl": [
           {
            "colorbar": {
             "outlinewidth": 0,
             "ticks": ""
            },
            "colorscale": [
             [
              0,
              "#0d0887"
             ],
             [
              0.1111111111111111,
              "#46039f"
             ],
             [
              0.2222222222222222,
              "#7201a8"
             ],
             [
              0.3333333333333333,
              "#9c179e"
             ],
             [
              0.4444444444444444,
              "#bd3786"
             ],
             [
              0.5555555555555556,
              "#d8576b"
             ],
             [
              0.6666666666666666,
              "#ed7953"
             ],
             [
              0.7777777777777778,
              "#fb9f3a"
             ],
             [
              0.8888888888888888,
              "#fdca26"
             ],
             [
              1,
              "#f0f921"
             ]
            ],
            "type": "heatmapgl"
           }
          ],
          "histogram": [
           {
            "marker": {
             "pattern": {
              "fillmode": "overlay",
              "size": 10,
              "solidity": 0.2
             }
            },
            "type": "histogram"
           }
          ],
          "histogram2d": [
           {
            "colorbar": {
             "outlinewidth": 0,
             "ticks": ""
            },
            "colorscale": [
             [
              0,
              "#0d0887"
             ],
             [
              0.1111111111111111,
              "#46039f"
             ],
             [
              0.2222222222222222,
              "#7201a8"
             ],
             [
              0.3333333333333333,
              "#9c179e"
             ],
             [
              0.4444444444444444,
              "#bd3786"
             ],
             [
              0.5555555555555556,
              "#d8576b"
             ],
             [
              0.6666666666666666,
              "#ed7953"
             ],
             [
              0.7777777777777778,
              "#fb9f3a"
             ],
             [
              0.8888888888888888,
              "#fdca26"
             ],
             [
              1,
              "#f0f921"
             ]
            ],
            "type": "histogram2d"
           }
          ],
          "histogram2dcontour": [
           {
            "colorbar": {
             "outlinewidth": 0,
             "ticks": ""
            },
            "colorscale": [
             [
              0,
              "#0d0887"
             ],
             [
              0.1111111111111111,
              "#46039f"
             ],
             [
              0.2222222222222222,
              "#7201a8"
             ],
             [
              0.3333333333333333,
              "#9c179e"
             ],
             [
              0.4444444444444444,
              "#bd3786"
             ],
             [
              0.5555555555555556,
              "#d8576b"
             ],
             [
              0.6666666666666666,
              "#ed7953"
             ],
             [
              0.7777777777777778,
              "#fb9f3a"
             ],
             [
              0.8888888888888888,
              "#fdca26"
             ],
             [
              1,
              "#f0f921"
             ]
            ],
            "type": "histogram2dcontour"
           }
          ],
          "mesh3d": [
           {
            "colorbar": {
             "outlinewidth": 0,
             "ticks": ""
            },
            "type": "mesh3d"
           }
          ],
          "parcoords": [
           {
            "line": {
             "colorbar": {
              "outlinewidth": 0,
              "ticks": ""
             }
            },
            "type": "parcoords"
           }
          ],
          "pie": [
           {
            "automargin": true,
            "type": "pie"
           }
          ],
          "scatter": [
           {
            "fillpattern": {
             "fillmode": "overlay",
             "size": 10,
             "solidity": 0.2
            },
            "type": "scatter"
           }
          ],
          "scatter3d": [
           {
            "line": {
             "colorbar": {
              "outlinewidth": 0,
              "ticks": ""
             }
            },
            "marker": {
             "colorbar": {
              "outlinewidth": 0,
              "ticks": ""
             }
            },
            "type": "scatter3d"
           }
          ],
          "scattercarpet": [
           {
            "marker": {
             "colorbar": {
              "outlinewidth": 0,
              "ticks": ""
             }
            },
            "type": "scattercarpet"
           }
          ],
          "scattergeo": [
           {
            "marker": {
             "colorbar": {
              "outlinewidth": 0,
              "ticks": ""
             }
            },
            "type": "scattergeo"
           }
          ],
          "scattergl": [
           {
            "marker": {
             "colorbar": {
              "outlinewidth": 0,
              "ticks": ""
             }
            },
            "type": "scattergl"
           }
          ],
          "scattermapbox": [
           {
            "marker": {
             "colorbar": {
              "outlinewidth": 0,
              "ticks": ""
             }
            },
            "type": "scattermapbox"
           }
          ],
          "scatterpolar": [
           {
            "marker": {
             "colorbar": {
              "outlinewidth": 0,
              "ticks": ""
             }
            },
            "type": "scatterpolar"
           }
          ],
          "scatterpolargl": [
           {
            "marker": {
             "colorbar": {
              "outlinewidth": 0,
              "ticks": ""
             }
            },
            "type": "scatterpolargl"
           }
          ],
          "scatterternary": [
           {
            "marker": {
             "colorbar": {
              "outlinewidth": 0,
              "ticks": ""
             }
            },
            "type": "scatterternary"
           }
          ],
          "surface": [
           {
            "colorbar": {
             "outlinewidth": 0,
             "ticks": ""
            },
            "colorscale": [
             [
              0,
              "#0d0887"
             ],
             [
              0.1111111111111111,
              "#46039f"
             ],
             [
              0.2222222222222222,
              "#7201a8"
             ],
             [
              0.3333333333333333,
              "#9c179e"
             ],
             [
              0.4444444444444444,
              "#bd3786"
             ],
             [
              0.5555555555555556,
              "#d8576b"
             ],
             [
              0.6666666666666666,
              "#ed7953"
             ],
             [
              0.7777777777777778,
              "#fb9f3a"
             ],
             [
              0.8888888888888888,
              "#fdca26"
             ],
             [
              1,
              "#f0f921"
             ]
            ],
            "type": "surface"
           }
          ],
          "table": [
           {
            "cells": {
             "fill": {
              "color": "#EBF0F8"
             },
             "line": {
              "color": "white"
             }
            },
            "header": {
             "fill": {
              "color": "#C8D4E3"
             },
             "line": {
              "color": "white"
             }
            },
            "type": "table"
           }
          ]
         },
         "layout": {
          "annotationdefaults": {
           "arrowcolor": "#2a3f5f",
           "arrowhead": 0,
           "arrowwidth": 1
          },
          "autotypenumbers": "strict",
          "coloraxis": {
           "colorbar": {
            "outlinewidth": 0,
            "ticks": ""
           }
          },
          "colorscale": {
           "diverging": [
            [
             0,
             "#8e0152"
            ],
            [
             0.1,
             "#c51b7d"
            ],
            [
             0.2,
             "#de77ae"
            ],
            [
             0.3,
             "#f1b6da"
            ],
            [
             0.4,
             "#fde0ef"
            ],
            [
             0.5,
             "#f7f7f7"
            ],
            [
             0.6,
             "#e6f5d0"
            ],
            [
             0.7,
             "#b8e186"
            ],
            [
             0.8,
             "#7fbc41"
            ],
            [
             0.9,
             "#4d9221"
            ],
            [
             1,
             "#276419"
            ]
           ],
           "sequential": [
            [
             0,
             "#0d0887"
            ],
            [
             0.1111111111111111,
             "#46039f"
            ],
            [
             0.2222222222222222,
             "#7201a8"
            ],
            [
             0.3333333333333333,
             "#9c179e"
            ],
            [
             0.4444444444444444,
             "#bd3786"
            ],
            [
             0.5555555555555556,
             "#d8576b"
            ],
            [
             0.6666666666666666,
             "#ed7953"
            ],
            [
             0.7777777777777778,
             "#fb9f3a"
            ],
            [
             0.8888888888888888,
             "#fdca26"
            ],
            [
             1,
             "#f0f921"
            ]
           ],
           "sequentialminus": [
            [
             0,
             "#0d0887"
            ],
            [
             0.1111111111111111,
             "#46039f"
            ],
            [
             0.2222222222222222,
             "#7201a8"
            ],
            [
             0.3333333333333333,
             "#9c179e"
            ],
            [
             0.4444444444444444,
             "#bd3786"
            ],
            [
             0.5555555555555556,
             "#d8576b"
            ],
            [
             0.6666666666666666,
             "#ed7953"
            ],
            [
             0.7777777777777778,
             "#fb9f3a"
            ],
            [
             0.8888888888888888,
             "#fdca26"
            ],
            [
             1,
             "#f0f921"
            ]
           ]
          },
          "colorway": [
           "#636efa",
           "#EF553B",
           "#00cc96",
           "#ab63fa",
           "#FFA15A",
           "#19d3f3",
           "#FF6692",
           "#B6E880",
           "#FF97FF",
           "#FECB52"
          ],
          "font": {
           "color": "#2a3f5f"
          },
          "geo": {
           "bgcolor": "white",
           "lakecolor": "white",
           "landcolor": "#E5ECF6",
           "showlakes": true,
           "showland": true,
           "subunitcolor": "white"
          },
          "hoverlabel": {
           "align": "left"
          },
          "hovermode": "closest",
          "mapbox": {
           "style": "light"
          },
          "paper_bgcolor": "white",
          "plot_bgcolor": "#E5ECF6",
          "polar": {
           "angularaxis": {
            "gridcolor": "white",
            "linecolor": "white",
            "ticks": ""
           },
           "bgcolor": "#E5ECF6",
           "radialaxis": {
            "gridcolor": "white",
            "linecolor": "white",
            "ticks": ""
           }
          },
          "scene": {
           "xaxis": {
            "backgroundcolor": "#E5ECF6",
            "gridcolor": "white",
            "gridwidth": 2,
            "linecolor": "white",
            "showbackground": true,
            "ticks": "",
            "zerolinecolor": "white"
           },
           "yaxis": {
            "backgroundcolor": "#E5ECF6",
            "gridcolor": "white",
            "gridwidth": 2,
            "linecolor": "white",
            "showbackground": true,
            "ticks": "",
            "zerolinecolor": "white"
           },
           "zaxis": {
            "backgroundcolor": "#E5ECF6",
            "gridcolor": "white",
            "gridwidth": 2,
            "linecolor": "white",
            "showbackground": true,
            "ticks": "",
            "zerolinecolor": "white"
           }
          },
          "shapedefaults": {
           "line": {
            "color": "#2a3f5f"
           }
          },
          "ternary": {
           "aaxis": {
            "gridcolor": "white",
            "linecolor": "white",
            "ticks": ""
           },
           "baxis": {
            "gridcolor": "white",
            "linecolor": "white",
            "ticks": ""
           },
           "bgcolor": "#E5ECF6",
           "caxis": {
            "gridcolor": "white",
            "linecolor": "white",
            "ticks": ""
           }
          },
          "title": {
           "x": 0.05
          },
          "xaxis": {
           "automargin": true,
           "gridcolor": "white",
           "linecolor": "white",
           "ticks": "",
           "title": {
            "standoff": 15
           },
           "zerolinecolor": "white",
           "zerolinewidth": 2
          },
          "yaxis": {
           "automargin": true,
           "gridcolor": "white",
           "linecolor": "white",
           "ticks": "",
           "title": {
            "standoff": 15
           },
           "zerolinecolor": "white",
           "zerolinewidth": 2
          }
         }
        },
        "title": {
         "font": {
          "color": "#4D5663"
         }
        },
        "xaxis": {
         "gridcolor": "#E1E5ED",
         "showgrid": true,
         "tickfont": {
          "color": "#4D5663"
         },
         "title": {
          "font": {
           "color": "#4D5663"
          },
          "text": ""
         },
         "zerolinecolor": "#E1E5ED"
        },
        "yaxis": {
         "gridcolor": "#E1E5ED",
         "showgrid": true,
         "tickfont": {
          "color": "#4D5663"
         },
         "title": {
          "font": {
           "color": "#4D5663"
          },
          "text": ""
         },
         "zerolinecolor": "#E1E5ED"
        }
       }
      },
      "text/html": [
       "<div>                            <div id=\"7d606da6-8247-455a-a8be-326f19ec380b\" class=\"plotly-graph-div\" style=\"height:525px; width:100%;\"></div>            <script type=\"text/javascript\">                require([\"plotly\"], function(Plotly) {                    window.PLOTLYENV=window.PLOTLYENV || {};\n",
       "                    window.PLOTLYENV.BASE_URL='https://plot.ly';                                    if (document.getElementById(\"7d606da6-8247-455a-a8be-326f19ec380b\")) {                    Plotly.newPlot(                        \"7d606da6-8247-455a-a8be-326f19ec380b\",                        [{\"marker\":{\"color\":\"rgba(255, 153, 51, 0.6)\",\"line\":{\"color\":\"rgba(255, 153, 51, 1.0)\",\"width\":1}},\"name\":\"None\",\"orientation\":\"v\",\"text\":\"\",\"x\":[\"A\",\"B\",\"C\",\"D\"],\"y\":[-4.930497543445537,11.962720651089958,-7.958865540576435,4.904051031917589],\"type\":\"bar\"}],                        {\"legend\":{\"bgcolor\":\"#F5F6F9\",\"font\":{\"color\":\"#4D5663\"}},\"paper_bgcolor\":\"#F5F6F9\",\"plot_bgcolor\":\"#F5F6F9\",\"template\":{\"data\":{\"barpolar\":[{\"marker\":{\"line\":{\"color\":\"#E5ECF6\",\"width\":0.5},\"pattern\":{\"fillmode\":\"overlay\",\"size\":10,\"solidity\":0.2}},\"type\":\"barpolar\"}],\"bar\":[{\"error_x\":{\"color\":\"#2a3f5f\"},\"error_y\":{\"color\":\"#2a3f5f\"},\"marker\":{\"line\":{\"color\":\"#E5ECF6\",\"width\":0.5},\"pattern\":{\"fillmode\":\"overlay\",\"size\":10,\"solidity\":0.2}},\"type\":\"bar\"}],\"carpet\":[{\"aaxis\":{\"endlinecolor\":\"#2a3f5f\",\"gridcolor\":\"white\",\"linecolor\":\"white\",\"minorgridcolor\":\"white\",\"startlinecolor\":\"#2a3f5f\"},\"baxis\":{\"endlinecolor\":\"#2a3f5f\",\"gridcolor\":\"white\",\"linecolor\":\"white\",\"minorgridcolor\":\"white\",\"startlinecolor\":\"#2a3f5f\"},\"type\":\"carpet\"}],\"choropleth\":[{\"colorbar\":{\"outlinewidth\":0,\"ticks\":\"\"},\"type\":\"choropleth\"}],\"contourcarpet\":[{\"colorbar\":{\"outlinewidth\":0,\"ticks\":\"\"},\"type\":\"contourcarpet\"}],\"contour\":[{\"colorbar\":{\"outlinewidth\":0,\"ticks\":\"\"},\"colorscale\":[[0.0,\"#0d0887\"],[0.1111111111111111,\"#46039f\"],[0.2222222222222222,\"#7201a8\"],[0.3333333333333333,\"#9c179e\"],[0.4444444444444444,\"#bd3786\"],[0.5555555555555556,\"#d8576b\"],[0.6666666666666666,\"#ed7953\"],[0.7777777777777778,\"#fb9f3a\"],[0.8888888888888888,\"#fdca26\"],[1.0,\"#f0f921\"]],\"type\":\"contour\"}],\"heatmapgl\":[{\"colorbar\":{\"outlinewidth\":0,\"ticks\":\"\"},\"colorscale\":[[0.0,\"#0d0887\"],[0.1111111111111111,\"#46039f\"],[0.2222222222222222,\"#7201a8\"],[0.3333333333333333,\"#9c179e\"],[0.4444444444444444,\"#bd3786\"],[0.5555555555555556,\"#d8576b\"],[0.6666666666666666,\"#ed7953\"],[0.7777777777777778,\"#fb9f3a\"],[0.8888888888888888,\"#fdca26\"],[1.0,\"#f0f921\"]],\"type\":\"heatmapgl\"}],\"heatmap\":[{\"colorbar\":{\"outlinewidth\":0,\"ticks\":\"\"},\"colorscale\":[[0.0,\"#0d0887\"],[0.1111111111111111,\"#46039f\"],[0.2222222222222222,\"#7201a8\"],[0.3333333333333333,\"#9c179e\"],[0.4444444444444444,\"#bd3786\"],[0.5555555555555556,\"#d8576b\"],[0.6666666666666666,\"#ed7953\"],[0.7777777777777778,\"#fb9f3a\"],[0.8888888888888888,\"#fdca26\"],[1.0,\"#f0f921\"]],\"type\":\"heatmap\"}],\"histogram2dcontour\":[{\"colorbar\":{\"outlinewidth\":0,\"ticks\":\"\"},\"colorscale\":[[0.0,\"#0d0887\"],[0.1111111111111111,\"#46039f\"],[0.2222222222222222,\"#7201a8\"],[0.3333333333333333,\"#9c179e\"],[0.4444444444444444,\"#bd3786\"],[0.5555555555555556,\"#d8576b\"],[0.6666666666666666,\"#ed7953\"],[0.7777777777777778,\"#fb9f3a\"],[0.8888888888888888,\"#fdca26\"],[1.0,\"#f0f921\"]],\"type\":\"histogram2dcontour\"}],\"histogram2d\":[{\"colorbar\":{\"outlinewidth\":0,\"ticks\":\"\"},\"colorscale\":[[0.0,\"#0d0887\"],[0.1111111111111111,\"#46039f\"],[0.2222222222222222,\"#7201a8\"],[0.3333333333333333,\"#9c179e\"],[0.4444444444444444,\"#bd3786\"],[0.5555555555555556,\"#d8576b\"],[0.6666666666666666,\"#ed7953\"],[0.7777777777777778,\"#fb9f3a\"],[0.8888888888888888,\"#fdca26\"],[1.0,\"#f0f921\"]],\"type\":\"histogram2d\"}],\"histogram\":[{\"marker\":{\"pattern\":{\"fillmode\":\"overlay\",\"size\":10,\"solidity\":0.2}},\"type\":\"histogram\"}],\"mesh3d\":[{\"colorbar\":{\"outlinewidth\":0,\"ticks\":\"\"},\"type\":\"mesh3d\"}],\"parcoords\":[{\"line\":{\"colorbar\":{\"outlinewidth\":0,\"ticks\":\"\"}},\"type\":\"parcoords\"}],\"pie\":[{\"automargin\":true,\"type\":\"pie\"}],\"scatter3d\":[{\"line\":{\"colorbar\":{\"outlinewidth\":0,\"ticks\":\"\"}},\"marker\":{\"colorbar\":{\"outlinewidth\":0,\"ticks\":\"\"}},\"type\":\"scatter3d\"}],\"scattercarpet\":[{\"marker\":{\"colorbar\":{\"outlinewidth\":0,\"ticks\":\"\"}},\"type\":\"scattercarpet\"}],\"scattergeo\":[{\"marker\":{\"colorbar\":{\"outlinewidth\":0,\"ticks\":\"\"}},\"type\":\"scattergeo\"}],\"scattergl\":[{\"marker\":{\"colorbar\":{\"outlinewidth\":0,\"ticks\":\"\"}},\"type\":\"scattergl\"}],\"scattermapbox\":[{\"marker\":{\"colorbar\":{\"outlinewidth\":0,\"ticks\":\"\"}},\"type\":\"scattermapbox\"}],\"scatterpolargl\":[{\"marker\":{\"colorbar\":{\"outlinewidth\":0,\"ticks\":\"\"}},\"type\":\"scatterpolargl\"}],\"scatterpolar\":[{\"marker\":{\"colorbar\":{\"outlinewidth\":0,\"ticks\":\"\"}},\"type\":\"scatterpolar\"}],\"scatter\":[{\"fillpattern\":{\"fillmode\":\"overlay\",\"size\":10,\"solidity\":0.2},\"type\":\"scatter\"}],\"scatterternary\":[{\"marker\":{\"colorbar\":{\"outlinewidth\":0,\"ticks\":\"\"}},\"type\":\"scatterternary\"}],\"surface\":[{\"colorbar\":{\"outlinewidth\":0,\"ticks\":\"\"},\"colorscale\":[[0.0,\"#0d0887\"],[0.1111111111111111,\"#46039f\"],[0.2222222222222222,\"#7201a8\"],[0.3333333333333333,\"#9c179e\"],[0.4444444444444444,\"#bd3786\"],[0.5555555555555556,\"#d8576b\"],[0.6666666666666666,\"#ed7953\"],[0.7777777777777778,\"#fb9f3a\"],[0.8888888888888888,\"#fdca26\"],[1.0,\"#f0f921\"]],\"type\":\"surface\"}],\"table\":[{\"cells\":{\"fill\":{\"color\":\"#EBF0F8\"},\"line\":{\"color\":\"white\"}},\"header\":{\"fill\":{\"color\":\"#C8D4E3\"},\"line\":{\"color\":\"white\"}},\"type\":\"table\"}]},\"layout\":{\"annotationdefaults\":{\"arrowcolor\":\"#2a3f5f\",\"arrowhead\":0,\"arrowwidth\":1},\"autotypenumbers\":\"strict\",\"coloraxis\":{\"colorbar\":{\"outlinewidth\":0,\"ticks\":\"\"}},\"colorscale\":{\"diverging\":[[0,\"#8e0152\"],[0.1,\"#c51b7d\"],[0.2,\"#de77ae\"],[0.3,\"#f1b6da\"],[0.4,\"#fde0ef\"],[0.5,\"#f7f7f7\"],[0.6,\"#e6f5d0\"],[0.7,\"#b8e186\"],[0.8,\"#7fbc41\"],[0.9,\"#4d9221\"],[1,\"#276419\"]],\"sequential\":[[0.0,\"#0d0887\"],[0.1111111111111111,\"#46039f\"],[0.2222222222222222,\"#7201a8\"],[0.3333333333333333,\"#9c179e\"],[0.4444444444444444,\"#bd3786\"],[0.5555555555555556,\"#d8576b\"],[0.6666666666666666,\"#ed7953\"],[0.7777777777777778,\"#fb9f3a\"],[0.8888888888888888,\"#fdca26\"],[1.0,\"#f0f921\"]],\"sequentialminus\":[[0.0,\"#0d0887\"],[0.1111111111111111,\"#46039f\"],[0.2222222222222222,\"#7201a8\"],[0.3333333333333333,\"#9c179e\"],[0.4444444444444444,\"#bd3786\"],[0.5555555555555556,\"#d8576b\"],[0.6666666666666666,\"#ed7953\"],[0.7777777777777778,\"#fb9f3a\"],[0.8888888888888888,\"#fdca26\"],[1.0,\"#f0f921\"]]},\"colorway\":[\"#636efa\",\"#EF553B\",\"#00cc96\",\"#ab63fa\",\"#FFA15A\",\"#19d3f3\",\"#FF6692\",\"#B6E880\",\"#FF97FF\",\"#FECB52\"],\"font\":{\"color\":\"#2a3f5f\"},\"geo\":{\"bgcolor\":\"white\",\"lakecolor\":\"white\",\"landcolor\":\"#E5ECF6\",\"showlakes\":true,\"showland\":true,\"subunitcolor\":\"white\"},\"hoverlabel\":{\"align\":\"left\"},\"hovermode\":\"closest\",\"mapbox\":{\"style\":\"light\"},\"paper_bgcolor\":\"white\",\"plot_bgcolor\":\"#E5ECF6\",\"polar\":{\"angularaxis\":{\"gridcolor\":\"white\",\"linecolor\":\"white\",\"ticks\":\"\"},\"bgcolor\":\"#E5ECF6\",\"radialaxis\":{\"gridcolor\":\"white\",\"linecolor\":\"white\",\"ticks\":\"\"}},\"scene\":{\"xaxis\":{\"backgroundcolor\":\"#E5ECF6\",\"gridcolor\":\"white\",\"gridwidth\":2,\"linecolor\":\"white\",\"showbackground\":true,\"ticks\":\"\",\"zerolinecolor\":\"white\"},\"yaxis\":{\"backgroundcolor\":\"#E5ECF6\",\"gridcolor\":\"white\",\"gridwidth\":2,\"linecolor\":\"white\",\"showbackground\":true,\"ticks\":\"\",\"zerolinecolor\":\"white\"},\"zaxis\":{\"backgroundcolor\":\"#E5ECF6\",\"gridcolor\":\"white\",\"gridwidth\":2,\"linecolor\":\"white\",\"showbackground\":true,\"ticks\":\"\",\"zerolinecolor\":\"white\"}},\"shapedefaults\":{\"line\":{\"color\":\"#2a3f5f\"}},\"ternary\":{\"aaxis\":{\"gridcolor\":\"white\",\"linecolor\":\"white\",\"ticks\":\"\"},\"baxis\":{\"gridcolor\":\"white\",\"linecolor\":\"white\",\"ticks\":\"\"},\"bgcolor\":\"#E5ECF6\",\"caxis\":{\"gridcolor\":\"white\",\"linecolor\":\"white\",\"ticks\":\"\"}},\"title\":{\"x\":0.05},\"xaxis\":{\"automargin\":true,\"gridcolor\":\"white\",\"linecolor\":\"white\",\"ticks\":\"\",\"title\":{\"standoff\":15},\"zerolinecolor\":\"white\",\"zerolinewidth\":2},\"yaxis\":{\"automargin\":true,\"gridcolor\":\"white\",\"linecolor\":\"white\",\"ticks\":\"\",\"title\":{\"standoff\":15},\"zerolinecolor\":\"white\",\"zerolinewidth\":2}}},\"title\":{\"font\":{\"color\":\"#4D5663\"}},\"xaxis\":{\"gridcolor\":\"#E1E5ED\",\"showgrid\":true,\"tickfont\":{\"color\":\"#4D5663\"},\"title\":{\"font\":{\"color\":\"#4D5663\"},\"text\":\"\"},\"zerolinecolor\":\"#E1E5ED\"},\"yaxis\":{\"gridcolor\":\"#E1E5ED\",\"showgrid\":true,\"tickfont\":{\"color\":\"#4D5663\"},\"title\":{\"font\":{\"color\":\"#4D5663\"},\"text\":\"\"},\"zerolinecolor\":\"#E1E5ED\"}},                        {\"showLink\": true, \"linkText\": \"Export to plot.ly\", \"plotlyServerURL\": \"https://plot.ly\", \"responsive\": true}                    ).then(function(){\n",
       "                            \n",
       "var gd = document.getElementById('7d606da6-8247-455a-a8be-326f19ec380b');\n",
       "var x = new MutationObserver(function (mutations, observer) {{\n",
       "        var display = window.getComputedStyle(gd).display;\n",
       "        if (!display || display === 'none') {{\n",
       "            console.log([gd, 'removed!']);\n",
       "            Plotly.purge(gd);\n",
       "            observer.disconnect();\n",
       "        }}\n",
       "}});\n",
       "\n",
       "// Listen for the removal of the full notebook cells\n",
       "var notebookContainer = gd.closest('#notebook-container');\n",
       "if (notebookContainer) {{\n",
       "    x.observe(notebookContainer, {childList: true});\n",
       "}}\n",
       "\n",
       "// Listen for the clearing of the current output cell\n",
       "var outputEl = gd.closest('.output');\n",
       "if (outputEl) {{\n",
       "    x.observe(outputEl, {childList: true});\n",
       "}}\n",
       "\n",
       "                        })                };                });            </script>        </div>"
      ]
     },
     "metadata": {},
     "output_type": "display_data"
    }
   ],
   "source": [
    "df.sum().iplot(kind='bar')"
   ]
  },
  {
   "cell_type": "markdown",
   "id": "2c842ab6",
   "metadata": {},
   "source": [
    "## Box Plot"
   ]
  },
  {
   "cell_type": "code",
   "execution_count": 14,
   "id": "165f79cd",
   "metadata": {},
   "outputs": [
    {
     "data": {
      "application/vnd.plotly.v1+json": {
       "config": {
        "linkText": "Export to plot.ly",
        "plotlyServerURL": "https://plot.ly",
        "showLink": true
       },
       "data": [
        {
         "boxpoints": false,
         "line": {
          "width": 1.3
         },
         "marker": {
          "color": "rgba(255, 153, 51, 1.0)"
         },
         "name": "A",
         "orientation": "v",
         "type": "box",
         "y": [
          -0.28417787083349927,
          0.6413274499391824,
          -0.33336861080745656,
          2.006764818840116,
          1.8728377960165354,
          -0.24882852649873424,
          -0.29861874001993766,
          -0.5527446223333694,
          -0.06284839007619376,
          0.6872961946392325,
          -0.48047030452308376,
          -0.15819211016748583,
          0.3979193283561742,
          -0.9231892579778409,
          0.5315667297247073,
          1.0017781127586238,
          -2.0721385248636266,
          0.9212012857921277,
          -0.25197735935695925,
          -2.5438707821411417,
          -0.9797570746505114,
          -1.785600451605513,
          -1.3677304085261701,
          -0.8597776400411747,
          -0.38161314435598254,
          -0.21955301709234307,
          -0.46962502773123727,
          0.08658003414889327,
          -2.624997706901156,
          1.617799016690096,
          0.2322838968046603,
          -0.5747107444070692,
          1.306245125000283,
          -0.7424921675650964,
          -0.6846539842162228,
          2.1601206807767657,
          -1.1832051219606274,
          0.21698850723985674,
          1.693120559186067,
          -1.4725670406597433,
          0.5268215706826592,
          0.22618522749666412,
          1.3241925977559907,
          -1.1750950935332447,
          0.779369119313454,
          -1.0622472454257539,
          -0.7479801434627531,
          -1.11546714284219,
          0.6490101527890603,
          -0.22489797094481306,
          -1.1740087820316207,
          0.08056535097254833,
          0.615871865696655,
          -0.17445791673987496,
          0.8456171781805357,
          1.8168544512752107,
          0.9067056603187674,
          -0.1318278852951855,
          -0.9806500898254744,
          0.4032491907360089,
          0.5456168400678882,
          1.6799435539133445,
          -1.417466304121186,
          1.1183981281871356,
          -0.5754137503060296,
          -0.4451311781056884,
          0.6524364369982173,
          -0.2531055435068277,
          -1.2238276239485155,
          0.5079425450594325,
          -0.7127247095374196,
          0.5340289009521697,
          -0.45390448707790165,
          -0.004315066126661081,
          0.01607814905285022,
          0.23686645998285866,
          -0.22681193933351268,
          -1.282908829683012,
          1.0598838321126345,
          -0.28086616600779785,
          -1.4665713559786704,
          0.9606502786533506,
          0.30386951258373074,
          0.9913019602065628,
          -0.5343798033042318,
          -1.2672235642375103,
          0.3206869075841262,
          0.059509125355931794,
          -0.7576598946355392,
          -0.5340235908042054,
          -1.1285727143193942,
          2.1140216110955588,
          1.0418469094947094,
          0.2854170485589883,
          -1.9999513786857224,
          0.9479014280894817,
          -1.14631525364236,
          1.6505960122936931,
          0.4751216841159835,
          0.07362728384021043
         ]
        },
        {
         "boxpoints": false,
         "line": {
          "width": 1.3
         },
         "marker": {
          "color": "rgba(55, 128, 191, 1.0)"
         },
         "name": "B",
         "orientation": "v",
         "type": "box",
         "y": [
          -0.9942875062320643,
          0.6693618378433789,
          1.4375270448174466,
          -0.7601350990541826,
          -1.3856509449362089,
          0.7699061108404363,
          0.04944535748246853,
          0.6061305364332712,
          -0.23326162112807344,
          2.1617704129411974,
          0.4182423292502963,
          -0.8119088645105795,
          0.644305020890722,
          0.12994496488584203,
          -1.5914719130541115,
          -0.3958209142720946,
          0.8320625813285379,
          0.3595709913909463,
          0.8608355243878564,
          -0.5121802342042246,
          -0.19251810768470703,
          -1.1025637585273937,
          0.7127282902106402,
          0.9252123054557275,
          0.26684715309611456,
          -2.0304254233704966,
          1.1185689589290568,
          0.12590272762439111,
          -0.4125100158666027,
          -1.3224183185741754,
          0.3344566151898501,
          -2.1168986945450343,
          -0.9081775216742415,
          -1.6901431359280612,
          1.0403812288066845,
          0.22958405742077428,
          -0.8426375495425725,
          2.276061422029563,
          0.5778368449479325,
          1.144721063467178,
          1.8299513587167864,
          1.4621795449801354,
          -2.4368266921099533,
          1.013362811041721,
          -0.5778304519601165,
          1.0356709009219747,
          -0.504355394746898,
          0.35213287720179104,
          -1.2035825393525954,
          0.8106345843941292,
          -1.595771889074104,
          0.2457069745672563,
          -0.8566043574987787,
          0.3918816986658821,
          -0.2636254412853934,
          -1.0805801266361703,
          0.7319184842233384,
          -0.9438163723917274,
          -0.07189078116332594,
          -1.8693359956196978,
          0.2080888807547833,
          -0.14434974751758786,
          -1.0649759862550428,
          0.27727223466743445,
          -0.09036623691422577,
          1.1030507777767082,
          0.6415368409136328,
          -1.3194312808649182,
          0.2572171302463949,
          0.9309998401890984,
          1.4420973248489697,
          0.42381088497255825,
          0.9266947420824746,
          1.0675505254092201,
          1.0591396740258205,
          -0.4130027839015729,
          1.6464567391114484,
          -0.7639222655044755,
          -0.33115201506490505,
          -2.1054031846049996,
          2.0697721097103496,
          0.24439587621825065,
          1.8662383890198717,
          1.138721370400964,
          0.9451389623407138,
          1.6984878039732823,
          -0.6924609238879748,
          0.26861365381914376,
          1.1436079001022867,
          -0.1704130968335762,
          1.112192969720432,
          -0.14059862423431896,
          1.0150879111753266,
          0.3912245979789011,
          -1.0085802974254625,
          0.12489394468227431,
          0.940715803891102,
          0.8522321107876281,
          -0.3210080437331556,
          -0.12446681042664187
         ]
        },
        {
         "boxpoints": false,
         "line": {
          "width": 1.3
         },
         "marker": {
          "color": "rgba(50, 171, 96, 1.0)"
         },
         "name": "C",
         "orientation": "v",
         "type": "box",
         "y": [
          -0.34202531207788545,
          -1.1222644470835623,
          0.7028141803063046,
          -1.480542876628892,
          -0.9233934593064455,
          0.5036205587923401,
          1.4660744366199934,
          -0.21608707226005955,
          -1.1093147070053189,
          1.433557888382385,
          -0.8756375577785833,
          1.8804371359806382,
          0.9652403751072904,
          0.28463325794690736,
          -1.0144520633697285,
          -0.7673921859551343,
          0.6564409778143822,
          -0.5333563310336471,
          -0.39986394721001606,
          0.8305702442813395,
          -0.44809448978486593,
          0.049755930390898345,
          2.6326085049249,
          -0.01833363814526974,
          0.3441520200024451,
          -1.7866472901597523,
          0.3279751470912204,
          -0.651356902544409,
          -1.9274271068441076,
          -1.370102823710896,
          0.7173151301957572,
          -1.5489209310423662,
          0.5376097134578425,
          1.8922423041507017,
          0.809397641924778,
          0.20384111665149685,
          -0.6277025287109835,
          -0.8751068206707202,
          1.0533389203914831,
          -1.2631932199633122,
          1.2306688540802848,
          0.7602783043009048,
          -0.30484670532054464,
          0.7725060250156658,
          -0.8299347589536743,
          -0.8026514561118214,
          0.8530052334858856,
          -1.6020389893628182,
          0.07370833078691273,
          0.6242170813905074,
          -0.7494457547772824,
          1.0713472336931962,
          0.4223421938420806,
          0.42263534449981793,
          1.4646456275285444,
          1.039683827554642,
          -0.30023425832023526,
          0.37404649991939753,
          0.4673122624237375,
          0.18731902338959072,
          1.5542151833418307,
          0.030645771385122117,
          -0.8318116408604491,
          -1.1263419390554672,
          0.5358409341661668,
          -1.9657428068175744,
          0.6348557749007114,
          -0.22126233057382555,
          -0.3574269524949713,
          -0.08599473004005423,
          0.021975676472548403,
          1.4977920735405388,
          -0.8390333265648123,
          -2.2313899182895818,
          1.3614113456212968,
          -1.1755163614388362,
          -1.776343557538182,
          0.29042700200692667,
          -0.838329491264759,
          1.0217453683864703,
          -0.7943644046396928,
          -0.5768203269604888,
          -1.1605826216175161,
          -1.6411546834540554,
          0.31404144741132656,
          0.551072360896318,
          -0.5790178473959828,
          0.008919696842239469,
          1.808423009360889,
          -2.3241472476965597,
          -0.6701412045400894,
          0.5443306706696933,
          0.789808416199637,
          0.06654335004375507,
          -0.3184402371805494,
          -0.8890998642263612,
          -0.4835588721141622,
          -0.6833884018172537,
          0.14227766099943137,
          -0.7282562084320509
         ]
        },
        {
         "boxpoints": false,
         "line": {
          "width": 1.3
         },
         "marker": {
          "color": "rgba(128, 0, 128, 1.0)"
         },
         "name": "D",
         "orientation": "v",
         "type": "box",
         "y": [
          2.3273910288552506,
          -0.6334933422691658,
          -0.4319441967976972,
          0.8577780510833726,
          1.3174059338669621,
          -0.6419320987216489,
          -1.3623116287539814,
          -0.36468518093902114,
          -0.8450845612877584,
          -0.4881826737960272,
          0.09476315850175457,
          1.0707324179943876,
          0.3002091046018555,
          0.9544992905670775,
          -1.5127659587156748,
          -0.5773216582309553,
          -0.9076002676818018,
          -0.523402182113726,
          -0.5149440398200762,
          -0.6431734614961144,
          -1.5370571149551584,
          0.9325810997834867,
          -0.3799828394287921,
          -0.11822808269683163,
          -0.524651240767075,
          0.7897693225404266,
          1.467359904266115,
          0.2537630042514331,
          0.6743251965769663,
          0.5896915024727922,
          -0.045371342409358674,
          0.2182240360478912,
          1.40776850307784,
          0.041593127323566556,
          -0.5319973112214076,
          -0.05599391621882997,
          -0.1061570381773591,
          -0.6161882918476722,
          -0.07818898211415566,
          0.010637516591020602,
          -0.6182877208698392,
          -1.2838999360709513,
          -1.4007084269364891,
          1.427510765925255,
          0.032155487844832034,
          0.28333166882826216,
          1.006725884900438,
          -1.0523893986368669,
          -0.9336714173023393,
          -1.3563112450957753,
          -0.5731588466774825,
          0.4075153149982536,
          -0.3644485580192882,
          0.8600600388065972,
          -0.14234796247850964,
          1.1451547562188789,
          -0.752281620428336,
          0.1577097727954971,
          0.6614599988815082,
          -0.5426977912871537,
          0.21117520713766527,
          1.6280984663042002,
          0.31213880062866084,
          -0.2284117223697516,
          -0.7480587993056564,
          1.7398577171738578,
          0.1915555887976298,
          -0.9612225264785467,
          -0.11257263417371008,
          -0.051376345390612116,
          0.6067179528849395,
          0.2613977081738276,
          0.04367550982255278,
          -0.07256060375107316,
          0.0889325342151191,
          -1.2494846785625786,
          -0.4623623677571795,
          1.581560174643525,
          -0.11297473937727727,
          1.6909755749235467,
          -0.5030135767939994,
          -0.3911481682390143,
          1.0747468470735577,
          0.6833784597022645,
          0.3483076837286668,
          0.8515336574151208,
          0.6247803986944622,
          0.2034486283047299,
          0.24790489952176153,
          -1.124912560396261,
          1.5618180213234496,
          -0.46369657821326493,
          -1.0174996099740776,
          1.097651723730236,
          -0.6130002595398112,
          0.028871294808732635,
          0.3690582224437009,
          0.31554028066586876,
          -0.75027510698757,
          1.1742404037714962
         ]
        }
       ],
       "layout": {
        "legend": {
         "bgcolor": "#F5F6F9",
         "font": {
          "color": "#4D5663"
         }
        },
        "paper_bgcolor": "#F5F6F9",
        "plot_bgcolor": "#F5F6F9",
        "template": {
         "data": {
          "bar": [
           {
            "error_x": {
             "color": "#2a3f5f"
            },
            "error_y": {
             "color": "#2a3f5f"
            },
            "marker": {
             "line": {
              "color": "#E5ECF6",
              "width": 0.5
             },
             "pattern": {
              "fillmode": "overlay",
              "size": 10,
              "solidity": 0.2
             }
            },
            "type": "bar"
           }
          ],
          "barpolar": [
           {
            "marker": {
             "line": {
              "color": "#E5ECF6",
              "width": 0.5
             },
             "pattern": {
              "fillmode": "overlay",
              "size": 10,
              "solidity": 0.2
             }
            },
            "type": "barpolar"
           }
          ],
          "carpet": [
           {
            "aaxis": {
             "endlinecolor": "#2a3f5f",
             "gridcolor": "white",
             "linecolor": "white",
             "minorgridcolor": "white",
             "startlinecolor": "#2a3f5f"
            },
            "baxis": {
             "endlinecolor": "#2a3f5f",
             "gridcolor": "white",
             "linecolor": "white",
             "minorgridcolor": "white",
             "startlinecolor": "#2a3f5f"
            },
            "type": "carpet"
           }
          ],
          "choropleth": [
           {
            "colorbar": {
             "outlinewidth": 0,
             "ticks": ""
            },
            "type": "choropleth"
           }
          ],
          "contour": [
           {
            "colorbar": {
             "outlinewidth": 0,
             "ticks": ""
            },
            "colorscale": [
             [
              0,
              "#0d0887"
             ],
             [
              0.1111111111111111,
              "#46039f"
             ],
             [
              0.2222222222222222,
              "#7201a8"
             ],
             [
              0.3333333333333333,
              "#9c179e"
             ],
             [
              0.4444444444444444,
              "#bd3786"
             ],
             [
              0.5555555555555556,
              "#d8576b"
             ],
             [
              0.6666666666666666,
              "#ed7953"
             ],
             [
              0.7777777777777778,
              "#fb9f3a"
             ],
             [
              0.8888888888888888,
              "#fdca26"
             ],
             [
              1,
              "#f0f921"
             ]
            ],
            "type": "contour"
           }
          ],
          "contourcarpet": [
           {
            "colorbar": {
             "outlinewidth": 0,
             "ticks": ""
            },
            "type": "contourcarpet"
           }
          ],
          "heatmap": [
           {
            "colorbar": {
             "outlinewidth": 0,
             "ticks": ""
            },
            "colorscale": [
             [
              0,
              "#0d0887"
             ],
             [
              0.1111111111111111,
              "#46039f"
             ],
             [
              0.2222222222222222,
              "#7201a8"
             ],
             [
              0.3333333333333333,
              "#9c179e"
             ],
             [
              0.4444444444444444,
              "#bd3786"
             ],
             [
              0.5555555555555556,
              "#d8576b"
             ],
             [
              0.6666666666666666,
              "#ed7953"
             ],
             [
              0.7777777777777778,
              "#fb9f3a"
             ],
             [
              0.8888888888888888,
              "#fdca26"
             ],
             [
              1,
              "#f0f921"
             ]
            ],
            "type": "heatmap"
           }
          ],
          "heatmapgl": [
           {
            "colorbar": {
             "outlinewidth": 0,
             "ticks": ""
            },
            "colorscale": [
             [
              0,
              "#0d0887"
             ],
             [
              0.1111111111111111,
              "#46039f"
             ],
             [
              0.2222222222222222,
              "#7201a8"
             ],
             [
              0.3333333333333333,
              "#9c179e"
             ],
             [
              0.4444444444444444,
              "#bd3786"
             ],
             [
              0.5555555555555556,
              "#d8576b"
             ],
             [
              0.6666666666666666,
              "#ed7953"
             ],
             [
              0.7777777777777778,
              "#fb9f3a"
             ],
             [
              0.8888888888888888,
              "#fdca26"
             ],
             [
              1,
              "#f0f921"
             ]
            ],
            "type": "heatmapgl"
           }
          ],
          "histogram": [
           {
            "marker": {
             "pattern": {
              "fillmode": "overlay",
              "size": 10,
              "solidity": 0.2
             }
            },
            "type": "histogram"
           }
          ],
          "histogram2d": [
           {
            "colorbar": {
             "outlinewidth": 0,
             "ticks": ""
            },
            "colorscale": [
             [
              0,
              "#0d0887"
             ],
             [
              0.1111111111111111,
              "#46039f"
             ],
             [
              0.2222222222222222,
              "#7201a8"
             ],
             [
              0.3333333333333333,
              "#9c179e"
             ],
             [
              0.4444444444444444,
              "#bd3786"
             ],
             [
              0.5555555555555556,
              "#d8576b"
             ],
             [
              0.6666666666666666,
              "#ed7953"
             ],
             [
              0.7777777777777778,
              "#fb9f3a"
             ],
             [
              0.8888888888888888,
              "#fdca26"
             ],
             [
              1,
              "#f0f921"
             ]
            ],
            "type": "histogram2d"
           }
          ],
          "histogram2dcontour": [
           {
            "colorbar": {
             "outlinewidth": 0,
             "ticks": ""
            },
            "colorscale": [
             [
              0,
              "#0d0887"
             ],
             [
              0.1111111111111111,
              "#46039f"
             ],
             [
              0.2222222222222222,
              "#7201a8"
             ],
             [
              0.3333333333333333,
              "#9c179e"
             ],
             [
              0.4444444444444444,
              "#bd3786"
             ],
             [
              0.5555555555555556,
              "#d8576b"
             ],
             [
              0.6666666666666666,
              "#ed7953"
             ],
             [
              0.7777777777777778,
              "#fb9f3a"
             ],
             [
              0.8888888888888888,
              "#fdca26"
             ],
             [
              1,
              "#f0f921"
             ]
            ],
            "type": "histogram2dcontour"
           }
          ],
          "mesh3d": [
           {
            "colorbar": {
             "outlinewidth": 0,
             "ticks": ""
            },
            "type": "mesh3d"
           }
          ],
          "parcoords": [
           {
            "line": {
             "colorbar": {
              "outlinewidth": 0,
              "ticks": ""
             }
            },
            "type": "parcoords"
           }
          ],
          "pie": [
           {
            "automargin": true,
            "type": "pie"
           }
          ],
          "scatter": [
           {
            "fillpattern": {
             "fillmode": "overlay",
             "size": 10,
             "solidity": 0.2
            },
            "type": "scatter"
           }
          ],
          "scatter3d": [
           {
            "line": {
             "colorbar": {
              "outlinewidth": 0,
              "ticks": ""
             }
            },
            "marker": {
             "colorbar": {
              "outlinewidth": 0,
              "ticks": ""
             }
            },
            "type": "scatter3d"
           }
          ],
          "scattercarpet": [
           {
            "marker": {
             "colorbar": {
              "outlinewidth": 0,
              "ticks": ""
             }
            },
            "type": "scattercarpet"
           }
          ],
          "scattergeo": [
           {
            "marker": {
             "colorbar": {
              "outlinewidth": 0,
              "ticks": ""
             }
            },
            "type": "scattergeo"
           }
          ],
          "scattergl": [
           {
            "marker": {
             "colorbar": {
              "outlinewidth": 0,
              "ticks": ""
             }
            },
            "type": "scattergl"
           }
          ],
          "scattermapbox": [
           {
            "marker": {
             "colorbar": {
              "outlinewidth": 0,
              "ticks": ""
             }
            },
            "type": "scattermapbox"
           }
          ],
          "scatterpolar": [
           {
            "marker": {
             "colorbar": {
              "outlinewidth": 0,
              "ticks": ""
             }
            },
            "type": "scatterpolar"
           }
          ],
          "scatterpolargl": [
           {
            "marker": {
             "colorbar": {
              "outlinewidth": 0,
              "ticks": ""
             }
            },
            "type": "scatterpolargl"
           }
          ],
          "scatterternary": [
           {
            "marker": {
             "colorbar": {
              "outlinewidth": 0,
              "ticks": ""
             }
            },
            "type": "scatterternary"
           }
          ],
          "surface": [
           {
            "colorbar": {
             "outlinewidth": 0,
             "ticks": ""
            },
            "colorscale": [
             [
              0,
              "#0d0887"
             ],
             [
              0.1111111111111111,
              "#46039f"
             ],
             [
              0.2222222222222222,
              "#7201a8"
             ],
             [
              0.3333333333333333,
              "#9c179e"
             ],
             [
              0.4444444444444444,
              "#bd3786"
             ],
             [
              0.5555555555555556,
              "#d8576b"
             ],
             [
              0.6666666666666666,
              "#ed7953"
             ],
             [
              0.7777777777777778,
              "#fb9f3a"
             ],
             [
              0.8888888888888888,
              "#fdca26"
             ],
             [
              1,
              "#f0f921"
             ]
            ],
            "type": "surface"
           }
          ],
          "table": [
           {
            "cells": {
             "fill": {
              "color": "#EBF0F8"
             },
             "line": {
              "color": "white"
             }
            },
            "header": {
             "fill": {
              "color": "#C8D4E3"
             },
             "line": {
              "color": "white"
             }
            },
            "type": "table"
           }
          ]
         },
         "layout": {
          "annotationdefaults": {
           "arrowcolor": "#2a3f5f",
           "arrowhead": 0,
           "arrowwidth": 1
          },
          "autotypenumbers": "strict",
          "coloraxis": {
           "colorbar": {
            "outlinewidth": 0,
            "ticks": ""
           }
          },
          "colorscale": {
           "diverging": [
            [
             0,
             "#8e0152"
            ],
            [
             0.1,
             "#c51b7d"
            ],
            [
             0.2,
             "#de77ae"
            ],
            [
             0.3,
             "#f1b6da"
            ],
            [
             0.4,
             "#fde0ef"
            ],
            [
             0.5,
             "#f7f7f7"
            ],
            [
             0.6,
             "#e6f5d0"
            ],
            [
             0.7,
             "#b8e186"
            ],
            [
             0.8,
             "#7fbc41"
            ],
            [
             0.9,
             "#4d9221"
            ],
            [
             1,
             "#276419"
            ]
           ],
           "sequential": [
            [
             0,
             "#0d0887"
            ],
            [
             0.1111111111111111,
             "#46039f"
            ],
            [
             0.2222222222222222,
             "#7201a8"
            ],
            [
             0.3333333333333333,
             "#9c179e"
            ],
            [
             0.4444444444444444,
             "#bd3786"
            ],
            [
             0.5555555555555556,
             "#d8576b"
            ],
            [
             0.6666666666666666,
             "#ed7953"
            ],
            [
             0.7777777777777778,
             "#fb9f3a"
            ],
            [
             0.8888888888888888,
             "#fdca26"
            ],
            [
             1,
             "#f0f921"
            ]
           ],
           "sequentialminus": [
            [
             0,
             "#0d0887"
            ],
            [
             0.1111111111111111,
             "#46039f"
            ],
            [
             0.2222222222222222,
             "#7201a8"
            ],
            [
             0.3333333333333333,
             "#9c179e"
            ],
            [
             0.4444444444444444,
             "#bd3786"
            ],
            [
             0.5555555555555556,
             "#d8576b"
            ],
            [
             0.6666666666666666,
             "#ed7953"
            ],
            [
             0.7777777777777778,
             "#fb9f3a"
            ],
            [
             0.8888888888888888,
             "#fdca26"
            ],
            [
             1,
             "#f0f921"
            ]
           ]
          },
          "colorway": [
           "#636efa",
           "#EF553B",
           "#00cc96",
           "#ab63fa",
           "#FFA15A",
           "#19d3f3",
           "#FF6692",
           "#B6E880",
           "#FF97FF",
           "#FECB52"
          ],
          "font": {
           "color": "#2a3f5f"
          },
          "geo": {
           "bgcolor": "white",
           "lakecolor": "white",
           "landcolor": "#E5ECF6",
           "showlakes": true,
           "showland": true,
           "subunitcolor": "white"
          },
          "hoverlabel": {
           "align": "left"
          },
          "hovermode": "closest",
          "mapbox": {
           "style": "light"
          },
          "paper_bgcolor": "white",
          "plot_bgcolor": "#E5ECF6",
          "polar": {
           "angularaxis": {
            "gridcolor": "white",
            "linecolor": "white",
            "ticks": ""
           },
           "bgcolor": "#E5ECF6",
           "radialaxis": {
            "gridcolor": "white",
            "linecolor": "white",
            "ticks": ""
           }
          },
          "scene": {
           "xaxis": {
            "backgroundcolor": "#E5ECF6",
            "gridcolor": "white",
            "gridwidth": 2,
            "linecolor": "white",
            "showbackground": true,
            "ticks": "",
            "zerolinecolor": "white"
           },
           "yaxis": {
            "backgroundcolor": "#E5ECF6",
            "gridcolor": "white",
            "gridwidth": 2,
            "linecolor": "white",
            "showbackground": true,
            "ticks": "",
            "zerolinecolor": "white"
           },
           "zaxis": {
            "backgroundcolor": "#E5ECF6",
            "gridcolor": "white",
            "gridwidth": 2,
            "linecolor": "white",
            "showbackground": true,
            "ticks": "",
            "zerolinecolor": "white"
           }
          },
          "shapedefaults": {
           "line": {
            "color": "#2a3f5f"
           }
          },
          "ternary": {
           "aaxis": {
            "gridcolor": "white",
            "linecolor": "white",
            "ticks": ""
           },
           "baxis": {
            "gridcolor": "white",
            "linecolor": "white",
            "ticks": ""
           },
           "bgcolor": "#E5ECF6",
           "caxis": {
            "gridcolor": "white",
            "linecolor": "white",
            "ticks": ""
           }
          },
          "title": {
           "x": 0.05
          },
          "xaxis": {
           "automargin": true,
           "gridcolor": "white",
           "linecolor": "white",
           "ticks": "",
           "title": {
            "standoff": 15
           },
           "zerolinecolor": "white",
           "zerolinewidth": 2
          },
          "yaxis": {
           "automargin": true,
           "gridcolor": "white",
           "linecolor": "white",
           "ticks": "",
           "title": {
            "standoff": 15
           },
           "zerolinecolor": "white",
           "zerolinewidth": 2
          }
         }
        },
        "title": {
         "font": {
          "color": "#4D5663"
         }
        },
        "xaxis": {
         "gridcolor": "#E1E5ED",
         "showgrid": true,
         "tickfont": {
          "color": "#4D5663"
         },
         "title": {
          "font": {
           "color": "#4D5663"
          },
          "text": ""
         },
         "zerolinecolor": "#E1E5ED"
        },
        "yaxis": {
         "gridcolor": "#E1E5ED",
         "showgrid": true,
         "tickfont": {
          "color": "#4D5663"
         },
         "title": {
          "font": {
           "color": "#4D5663"
          },
          "text": ""
         },
         "zerolinecolor": "#E1E5ED"
        }
       }
      },
      "text/html": [
       "<div>                            <div id=\"737cb763-dafb-4a43-bf89-cf246d53cb4a\" class=\"plotly-graph-div\" style=\"height:525px; width:100%;\"></div>            <script type=\"text/javascript\">                require([\"plotly\"], function(Plotly) {                    window.PLOTLYENV=window.PLOTLYENV || {};\n",
       "                    window.PLOTLYENV.BASE_URL='https://plot.ly';                                    if (document.getElementById(\"737cb763-dafb-4a43-bf89-cf246d53cb4a\")) {                    Plotly.newPlot(                        \"737cb763-dafb-4a43-bf89-cf246d53cb4a\",                        [{\"boxpoints\":false,\"line\":{\"width\":1.3},\"marker\":{\"color\":\"rgba(255, 153, 51, 1.0)\"},\"name\":\"A\",\"orientation\":\"v\",\"y\":[-0.28417787083349927,0.6413274499391824,-0.33336861080745656,2.006764818840116,1.8728377960165354,-0.24882852649873424,-0.29861874001993766,-0.5527446223333694,-0.06284839007619376,0.6872961946392325,-0.48047030452308376,-0.15819211016748583,0.3979193283561742,-0.9231892579778409,0.5315667297247073,1.0017781127586238,-2.0721385248636266,0.9212012857921277,-0.25197735935695925,-2.5438707821411417,-0.9797570746505114,-1.785600451605513,-1.3677304085261701,-0.8597776400411747,-0.38161314435598254,-0.21955301709234307,-0.46962502773123727,0.08658003414889327,-2.624997706901156,1.617799016690096,0.2322838968046603,-0.5747107444070692,1.306245125000283,-0.7424921675650964,-0.6846539842162228,2.1601206807767657,-1.1832051219606274,0.21698850723985674,1.693120559186067,-1.4725670406597433,0.5268215706826592,0.22618522749666412,1.3241925977559907,-1.1750950935332447,0.779369119313454,-1.0622472454257539,-0.7479801434627531,-1.11546714284219,0.6490101527890603,-0.22489797094481306,-1.1740087820316207,0.08056535097254833,0.615871865696655,-0.17445791673987496,0.8456171781805357,1.8168544512752107,0.9067056603187674,-0.1318278852951855,-0.9806500898254744,0.4032491907360089,0.5456168400678882,1.6799435539133445,-1.417466304121186,1.1183981281871356,-0.5754137503060296,-0.4451311781056884,0.6524364369982173,-0.2531055435068277,-1.2238276239485155,0.5079425450594325,-0.7127247095374196,0.5340289009521697,-0.45390448707790165,-0.004315066126661081,0.01607814905285022,0.23686645998285866,-0.22681193933351268,-1.282908829683012,1.0598838321126345,-0.28086616600779785,-1.4665713559786704,0.9606502786533506,0.30386951258373074,0.9913019602065628,-0.5343798033042318,-1.2672235642375103,0.3206869075841262,0.059509125355931794,-0.7576598946355392,-0.5340235908042054,-1.1285727143193942,2.1140216110955588,1.0418469094947094,0.2854170485589883,-1.9999513786857224,0.9479014280894817,-1.14631525364236,1.6505960122936931,0.4751216841159835,0.07362728384021043],\"type\":\"box\"},{\"boxpoints\":false,\"line\":{\"width\":1.3},\"marker\":{\"color\":\"rgba(55, 128, 191, 1.0)\"},\"name\":\"B\",\"orientation\":\"v\",\"y\":[-0.9942875062320643,0.6693618378433789,1.4375270448174466,-0.7601350990541826,-1.3856509449362089,0.7699061108404363,0.04944535748246853,0.6061305364332712,-0.23326162112807344,2.1617704129411974,0.4182423292502963,-0.8119088645105795,0.644305020890722,0.12994496488584203,-1.5914719130541115,-0.3958209142720946,0.8320625813285379,0.3595709913909463,0.8608355243878564,-0.5121802342042246,-0.19251810768470703,-1.1025637585273937,0.7127282902106402,0.9252123054557275,0.26684715309611456,-2.0304254233704966,1.1185689589290568,0.12590272762439111,-0.4125100158666027,-1.3224183185741754,0.3344566151898501,-2.1168986945450343,-0.9081775216742415,-1.6901431359280612,1.0403812288066845,0.22958405742077428,-0.8426375495425725,2.276061422029563,0.5778368449479325,1.144721063467178,1.8299513587167864,1.4621795449801354,-2.4368266921099533,1.013362811041721,-0.5778304519601165,1.0356709009219747,-0.504355394746898,0.35213287720179104,-1.2035825393525954,0.8106345843941292,-1.595771889074104,0.2457069745672563,-0.8566043574987787,0.3918816986658821,-0.2636254412853934,-1.0805801266361703,0.7319184842233384,-0.9438163723917274,-0.07189078116332594,-1.8693359956196978,0.2080888807547833,-0.14434974751758786,-1.0649759862550428,0.27727223466743445,-0.09036623691422577,1.1030507777767082,0.6415368409136328,-1.3194312808649182,0.2572171302463949,0.9309998401890984,1.4420973248489697,0.42381088497255825,0.9266947420824746,1.0675505254092201,1.0591396740258205,-0.4130027839015729,1.6464567391114484,-0.7639222655044755,-0.33115201506490505,-2.1054031846049996,2.0697721097103496,0.24439587621825065,1.8662383890198717,1.138721370400964,0.9451389623407138,1.6984878039732823,-0.6924609238879748,0.26861365381914376,1.1436079001022867,-0.1704130968335762,1.112192969720432,-0.14059862423431896,1.0150879111753266,0.3912245979789011,-1.0085802974254625,0.12489394468227431,0.940715803891102,0.8522321107876281,-0.3210080437331556,-0.12446681042664187],\"type\":\"box\"},{\"boxpoints\":false,\"line\":{\"width\":1.3},\"marker\":{\"color\":\"rgba(50, 171, 96, 1.0)\"},\"name\":\"C\",\"orientation\":\"v\",\"y\":[-0.34202531207788545,-1.1222644470835623,0.7028141803063046,-1.480542876628892,-0.9233934593064455,0.5036205587923401,1.4660744366199934,-0.21608707226005955,-1.1093147070053189,1.433557888382385,-0.8756375577785833,1.8804371359806382,0.9652403751072904,0.28463325794690736,-1.0144520633697285,-0.7673921859551343,0.6564409778143822,-0.5333563310336471,-0.39986394721001606,0.8305702442813395,-0.44809448978486593,0.049755930390898345,2.6326085049249,-0.01833363814526974,0.3441520200024451,-1.7866472901597523,0.3279751470912204,-0.651356902544409,-1.9274271068441076,-1.370102823710896,0.7173151301957572,-1.5489209310423662,0.5376097134578425,1.8922423041507017,0.809397641924778,0.20384111665149685,-0.6277025287109835,-0.8751068206707202,1.0533389203914831,-1.2631932199633122,1.2306688540802848,0.7602783043009048,-0.30484670532054464,0.7725060250156658,-0.8299347589536743,-0.8026514561118214,0.8530052334858856,-1.6020389893628182,0.07370833078691273,0.6242170813905074,-0.7494457547772824,1.0713472336931962,0.4223421938420806,0.42263534449981793,1.4646456275285444,1.039683827554642,-0.30023425832023526,0.37404649991939753,0.4673122624237375,0.18731902338959072,1.5542151833418307,0.030645771385122117,-0.8318116408604491,-1.1263419390554672,0.5358409341661668,-1.9657428068175744,0.6348557749007114,-0.22126233057382555,-0.3574269524949713,-0.08599473004005423,0.021975676472548403,1.4977920735405388,-0.8390333265648123,-2.2313899182895818,1.3614113456212968,-1.1755163614388362,-1.776343557538182,0.29042700200692667,-0.838329491264759,1.0217453683864703,-0.7943644046396928,-0.5768203269604888,-1.1605826216175161,-1.6411546834540554,0.31404144741132656,0.551072360896318,-0.5790178473959828,0.008919696842239469,1.808423009360889,-2.3241472476965597,-0.6701412045400894,0.5443306706696933,0.789808416199637,0.06654335004375507,-0.3184402371805494,-0.8890998642263612,-0.4835588721141622,-0.6833884018172537,0.14227766099943137,-0.7282562084320509],\"type\":\"box\"},{\"boxpoints\":false,\"line\":{\"width\":1.3},\"marker\":{\"color\":\"rgba(128, 0, 128, 1.0)\"},\"name\":\"D\",\"orientation\":\"v\",\"y\":[2.3273910288552506,-0.6334933422691658,-0.4319441967976972,0.8577780510833726,1.3174059338669621,-0.6419320987216489,-1.3623116287539814,-0.36468518093902114,-0.8450845612877584,-0.4881826737960272,0.09476315850175457,1.0707324179943876,0.3002091046018555,0.9544992905670775,-1.5127659587156748,-0.5773216582309553,-0.9076002676818018,-0.523402182113726,-0.5149440398200762,-0.6431734614961144,-1.5370571149551584,0.9325810997834867,-0.3799828394287921,-0.11822808269683163,-0.524651240767075,0.7897693225404266,1.467359904266115,0.2537630042514331,0.6743251965769663,0.5896915024727922,-0.045371342409358674,0.2182240360478912,1.40776850307784,0.041593127323566556,-0.5319973112214076,-0.05599391621882997,-0.1061570381773591,-0.6161882918476722,-0.07818898211415566,0.010637516591020602,-0.6182877208698392,-1.2838999360709513,-1.4007084269364891,1.427510765925255,0.032155487844832034,0.28333166882826216,1.006725884900438,-1.0523893986368669,-0.9336714173023393,-1.3563112450957753,-0.5731588466774825,0.4075153149982536,-0.3644485580192882,0.8600600388065972,-0.14234796247850964,1.1451547562188789,-0.752281620428336,0.1577097727954971,0.6614599988815082,-0.5426977912871537,0.21117520713766527,1.6280984663042002,0.31213880062866084,-0.2284117223697516,-0.7480587993056564,1.7398577171738578,0.1915555887976298,-0.9612225264785467,-0.11257263417371008,-0.051376345390612116,0.6067179528849395,0.2613977081738276,0.04367550982255278,-0.07256060375107316,0.0889325342151191,-1.2494846785625786,-0.4623623677571795,1.581560174643525,-0.11297473937727727,1.6909755749235467,-0.5030135767939994,-0.3911481682390143,1.0747468470735577,0.6833784597022645,0.3483076837286668,0.8515336574151208,0.6247803986944622,0.2034486283047299,0.24790489952176153,-1.124912560396261,1.5618180213234496,-0.46369657821326493,-1.0174996099740776,1.097651723730236,-0.6130002595398112,0.028871294808732635,0.3690582224437009,0.31554028066586876,-0.75027510698757,1.1742404037714962],\"type\":\"box\"}],                        {\"legend\":{\"bgcolor\":\"#F5F6F9\",\"font\":{\"color\":\"#4D5663\"}},\"paper_bgcolor\":\"#F5F6F9\",\"plot_bgcolor\":\"#F5F6F9\",\"template\":{\"data\":{\"barpolar\":[{\"marker\":{\"line\":{\"color\":\"#E5ECF6\",\"width\":0.5},\"pattern\":{\"fillmode\":\"overlay\",\"size\":10,\"solidity\":0.2}},\"type\":\"barpolar\"}],\"bar\":[{\"error_x\":{\"color\":\"#2a3f5f\"},\"error_y\":{\"color\":\"#2a3f5f\"},\"marker\":{\"line\":{\"color\":\"#E5ECF6\",\"width\":0.5},\"pattern\":{\"fillmode\":\"overlay\",\"size\":10,\"solidity\":0.2}},\"type\":\"bar\"}],\"carpet\":[{\"aaxis\":{\"endlinecolor\":\"#2a3f5f\",\"gridcolor\":\"white\",\"linecolor\":\"white\",\"minorgridcolor\":\"white\",\"startlinecolor\":\"#2a3f5f\"},\"baxis\":{\"endlinecolor\":\"#2a3f5f\",\"gridcolor\":\"white\",\"linecolor\":\"white\",\"minorgridcolor\":\"white\",\"startlinecolor\":\"#2a3f5f\"},\"type\":\"carpet\"}],\"choropleth\":[{\"colorbar\":{\"outlinewidth\":0,\"ticks\":\"\"},\"type\":\"choropleth\"}],\"contourcarpet\":[{\"colorbar\":{\"outlinewidth\":0,\"ticks\":\"\"},\"type\":\"contourcarpet\"}],\"contour\":[{\"colorbar\":{\"outlinewidth\":0,\"ticks\":\"\"},\"colorscale\":[[0.0,\"#0d0887\"],[0.1111111111111111,\"#46039f\"],[0.2222222222222222,\"#7201a8\"],[0.3333333333333333,\"#9c179e\"],[0.4444444444444444,\"#bd3786\"],[0.5555555555555556,\"#d8576b\"],[0.6666666666666666,\"#ed7953\"],[0.7777777777777778,\"#fb9f3a\"],[0.8888888888888888,\"#fdca26\"],[1.0,\"#f0f921\"]],\"type\":\"contour\"}],\"heatmapgl\":[{\"colorbar\":{\"outlinewidth\":0,\"ticks\":\"\"},\"colorscale\":[[0.0,\"#0d0887\"],[0.1111111111111111,\"#46039f\"],[0.2222222222222222,\"#7201a8\"],[0.3333333333333333,\"#9c179e\"],[0.4444444444444444,\"#bd3786\"],[0.5555555555555556,\"#d8576b\"],[0.6666666666666666,\"#ed7953\"],[0.7777777777777778,\"#fb9f3a\"],[0.8888888888888888,\"#fdca26\"],[1.0,\"#f0f921\"]],\"type\":\"heatmapgl\"}],\"heatmap\":[{\"colorbar\":{\"outlinewidth\":0,\"ticks\":\"\"},\"colorscale\":[[0.0,\"#0d0887\"],[0.1111111111111111,\"#46039f\"],[0.2222222222222222,\"#7201a8\"],[0.3333333333333333,\"#9c179e\"],[0.4444444444444444,\"#bd3786\"],[0.5555555555555556,\"#d8576b\"],[0.6666666666666666,\"#ed7953\"],[0.7777777777777778,\"#fb9f3a\"],[0.8888888888888888,\"#fdca26\"],[1.0,\"#f0f921\"]],\"type\":\"heatmap\"}],\"histogram2dcontour\":[{\"colorbar\":{\"outlinewidth\":0,\"ticks\":\"\"},\"colorscale\":[[0.0,\"#0d0887\"],[0.1111111111111111,\"#46039f\"],[0.2222222222222222,\"#7201a8\"],[0.3333333333333333,\"#9c179e\"],[0.4444444444444444,\"#bd3786\"],[0.5555555555555556,\"#d8576b\"],[0.6666666666666666,\"#ed7953\"],[0.7777777777777778,\"#fb9f3a\"],[0.8888888888888888,\"#fdca26\"],[1.0,\"#f0f921\"]],\"type\":\"histogram2dcontour\"}],\"histogram2d\":[{\"colorbar\":{\"outlinewidth\":0,\"ticks\":\"\"},\"colorscale\":[[0.0,\"#0d0887\"],[0.1111111111111111,\"#46039f\"],[0.2222222222222222,\"#7201a8\"],[0.3333333333333333,\"#9c179e\"],[0.4444444444444444,\"#bd3786\"],[0.5555555555555556,\"#d8576b\"],[0.6666666666666666,\"#ed7953\"],[0.7777777777777778,\"#fb9f3a\"],[0.8888888888888888,\"#fdca26\"],[1.0,\"#f0f921\"]],\"type\":\"histogram2d\"}],\"histogram\":[{\"marker\":{\"pattern\":{\"fillmode\":\"overlay\",\"size\":10,\"solidity\":0.2}},\"type\":\"histogram\"}],\"mesh3d\":[{\"colorbar\":{\"outlinewidth\":0,\"ticks\":\"\"},\"type\":\"mesh3d\"}],\"parcoords\":[{\"line\":{\"colorbar\":{\"outlinewidth\":0,\"ticks\":\"\"}},\"type\":\"parcoords\"}],\"pie\":[{\"automargin\":true,\"type\":\"pie\"}],\"scatter3d\":[{\"line\":{\"colorbar\":{\"outlinewidth\":0,\"ticks\":\"\"}},\"marker\":{\"colorbar\":{\"outlinewidth\":0,\"ticks\":\"\"}},\"type\":\"scatter3d\"}],\"scattercarpet\":[{\"marker\":{\"colorbar\":{\"outlinewidth\":0,\"ticks\":\"\"}},\"type\":\"scattercarpet\"}],\"scattergeo\":[{\"marker\":{\"colorbar\":{\"outlinewidth\":0,\"ticks\":\"\"}},\"type\":\"scattergeo\"}],\"scattergl\":[{\"marker\":{\"colorbar\":{\"outlinewidth\":0,\"ticks\":\"\"}},\"type\":\"scattergl\"}],\"scattermapbox\":[{\"marker\":{\"colorbar\":{\"outlinewidth\":0,\"ticks\":\"\"}},\"type\":\"scattermapbox\"}],\"scatterpolargl\":[{\"marker\":{\"colorbar\":{\"outlinewidth\":0,\"ticks\":\"\"}},\"type\":\"scatterpolargl\"}],\"scatterpolar\":[{\"marker\":{\"colorbar\":{\"outlinewidth\":0,\"ticks\":\"\"}},\"type\":\"scatterpolar\"}],\"scatter\":[{\"fillpattern\":{\"fillmode\":\"overlay\",\"size\":10,\"solidity\":0.2},\"type\":\"scatter\"}],\"scatterternary\":[{\"marker\":{\"colorbar\":{\"outlinewidth\":0,\"ticks\":\"\"}},\"type\":\"scatterternary\"}],\"surface\":[{\"colorbar\":{\"outlinewidth\":0,\"ticks\":\"\"},\"colorscale\":[[0.0,\"#0d0887\"],[0.1111111111111111,\"#46039f\"],[0.2222222222222222,\"#7201a8\"],[0.3333333333333333,\"#9c179e\"],[0.4444444444444444,\"#bd3786\"],[0.5555555555555556,\"#d8576b\"],[0.6666666666666666,\"#ed7953\"],[0.7777777777777778,\"#fb9f3a\"],[0.8888888888888888,\"#fdca26\"],[1.0,\"#f0f921\"]],\"type\":\"surface\"}],\"table\":[{\"cells\":{\"fill\":{\"color\":\"#EBF0F8\"},\"line\":{\"color\":\"white\"}},\"header\":{\"fill\":{\"color\":\"#C8D4E3\"},\"line\":{\"color\":\"white\"}},\"type\":\"table\"}]},\"layout\":{\"annotationdefaults\":{\"arrowcolor\":\"#2a3f5f\",\"arrowhead\":0,\"arrowwidth\":1},\"autotypenumbers\":\"strict\",\"coloraxis\":{\"colorbar\":{\"outlinewidth\":0,\"ticks\":\"\"}},\"colorscale\":{\"diverging\":[[0,\"#8e0152\"],[0.1,\"#c51b7d\"],[0.2,\"#de77ae\"],[0.3,\"#f1b6da\"],[0.4,\"#fde0ef\"],[0.5,\"#f7f7f7\"],[0.6,\"#e6f5d0\"],[0.7,\"#b8e186\"],[0.8,\"#7fbc41\"],[0.9,\"#4d9221\"],[1,\"#276419\"]],\"sequential\":[[0.0,\"#0d0887\"],[0.1111111111111111,\"#46039f\"],[0.2222222222222222,\"#7201a8\"],[0.3333333333333333,\"#9c179e\"],[0.4444444444444444,\"#bd3786\"],[0.5555555555555556,\"#d8576b\"],[0.6666666666666666,\"#ed7953\"],[0.7777777777777778,\"#fb9f3a\"],[0.8888888888888888,\"#fdca26\"],[1.0,\"#f0f921\"]],\"sequentialminus\":[[0.0,\"#0d0887\"],[0.1111111111111111,\"#46039f\"],[0.2222222222222222,\"#7201a8\"],[0.3333333333333333,\"#9c179e\"],[0.4444444444444444,\"#bd3786\"],[0.5555555555555556,\"#d8576b\"],[0.6666666666666666,\"#ed7953\"],[0.7777777777777778,\"#fb9f3a\"],[0.8888888888888888,\"#fdca26\"],[1.0,\"#f0f921\"]]},\"colorway\":[\"#636efa\",\"#EF553B\",\"#00cc96\",\"#ab63fa\",\"#FFA15A\",\"#19d3f3\",\"#FF6692\",\"#B6E880\",\"#FF97FF\",\"#FECB52\"],\"font\":{\"color\":\"#2a3f5f\"},\"geo\":{\"bgcolor\":\"white\",\"lakecolor\":\"white\",\"landcolor\":\"#E5ECF6\",\"showlakes\":true,\"showland\":true,\"subunitcolor\":\"white\"},\"hoverlabel\":{\"align\":\"left\"},\"hovermode\":\"closest\",\"mapbox\":{\"style\":\"light\"},\"paper_bgcolor\":\"white\",\"plot_bgcolor\":\"#E5ECF6\",\"polar\":{\"angularaxis\":{\"gridcolor\":\"white\",\"linecolor\":\"white\",\"ticks\":\"\"},\"bgcolor\":\"#E5ECF6\",\"radialaxis\":{\"gridcolor\":\"white\",\"linecolor\":\"white\",\"ticks\":\"\"}},\"scene\":{\"xaxis\":{\"backgroundcolor\":\"#E5ECF6\",\"gridcolor\":\"white\",\"gridwidth\":2,\"linecolor\":\"white\",\"showbackground\":true,\"ticks\":\"\",\"zerolinecolor\":\"white\"},\"yaxis\":{\"backgroundcolor\":\"#E5ECF6\",\"gridcolor\":\"white\",\"gridwidth\":2,\"linecolor\":\"white\",\"showbackground\":true,\"ticks\":\"\",\"zerolinecolor\":\"white\"},\"zaxis\":{\"backgroundcolor\":\"#E5ECF6\",\"gridcolor\":\"white\",\"gridwidth\":2,\"linecolor\":\"white\",\"showbackground\":true,\"ticks\":\"\",\"zerolinecolor\":\"white\"}},\"shapedefaults\":{\"line\":{\"color\":\"#2a3f5f\"}},\"ternary\":{\"aaxis\":{\"gridcolor\":\"white\",\"linecolor\":\"white\",\"ticks\":\"\"},\"baxis\":{\"gridcolor\":\"white\",\"linecolor\":\"white\",\"ticks\":\"\"},\"bgcolor\":\"#E5ECF6\",\"caxis\":{\"gridcolor\":\"white\",\"linecolor\":\"white\",\"ticks\":\"\"}},\"title\":{\"x\":0.05},\"xaxis\":{\"automargin\":true,\"gridcolor\":\"white\",\"linecolor\":\"white\",\"ticks\":\"\",\"title\":{\"standoff\":15},\"zerolinecolor\":\"white\",\"zerolinewidth\":2},\"yaxis\":{\"automargin\":true,\"gridcolor\":\"white\",\"linecolor\":\"white\",\"ticks\":\"\",\"title\":{\"standoff\":15},\"zerolinecolor\":\"white\",\"zerolinewidth\":2}}},\"title\":{\"font\":{\"color\":\"#4D5663\"}},\"xaxis\":{\"gridcolor\":\"#E1E5ED\",\"showgrid\":true,\"tickfont\":{\"color\":\"#4D5663\"},\"title\":{\"font\":{\"color\":\"#4D5663\"},\"text\":\"\"},\"zerolinecolor\":\"#E1E5ED\"},\"yaxis\":{\"gridcolor\":\"#E1E5ED\",\"showgrid\":true,\"tickfont\":{\"color\":\"#4D5663\"},\"title\":{\"font\":{\"color\":\"#4D5663\"},\"text\":\"\"},\"zerolinecolor\":\"#E1E5ED\"}},                        {\"showLink\": true, \"linkText\": \"Export to plot.ly\", \"plotlyServerURL\": \"https://plot.ly\", \"responsive\": true}                    ).then(function(){\n",
       "                            \n",
       "var gd = document.getElementById('737cb763-dafb-4a43-bf89-cf246d53cb4a');\n",
       "var x = new MutationObserver(function (mutations, observer) {{\n",
       "        var display = window.getComputedStyle(gd).display;\n",
       "        if (!display || display === 'none') {{\n",
       "            console.log([gd, 'removed!']);\n",
       "            Plotly.purge(gd);\n",
       "            observer.disconnect();\n",
       "        }}\n",
       "}});\n",
       "\n",
       "// Listen for the removal of the full notebook cells\n",
       "var notebookContainer = gd.closest('#notebook-container');\n",
       "if (notebookContainer) {{\n",
       "    x.observe(notebookContainer, {childList: true});\n",
       "}}\n",
       "\n",
       "// Listen for the clearing of the current output cell\n",
       "var outputEl = gd.closest('.output');\n",
       "if (outputEl) {{\n",
       "    x.observe(outputEl, {childList: true});\n",
       "}}\n",
       "\n",
       "                        })                };                });            </script>        </div>"
      ]
     },
     "metadata": {},
     "output_type": "display_data"
    }
   ],
   "source": [
    "df.iplot(kind='box')"
   ]
  },
  {
   "cell_type": "markdown",
   "id": "80ca4d1f",
   "metadata": {},
   "source": [
    "## 3D Surface Plot"
   ]
  },
  {
   "cell_type": "code",
   "execution_count": 15,
   "id": "850b62e7",
   "metadata": {},
   "outputs": [
    {
     "data": {
      "application/vnd.plotly.v1+json": {
       "config": {
        "linkText": "Export to plot.ly",
        "plotlyServerURL": "https://plot.ly",
        "showLink": true
       },
       "data": [
        {
         "colorscale": [
          [
           0,
           "rgb(165,0,38)"
          ],
          [
           0.1,
           "rgb(215,48,39)"
          ],
          [
           0.2,
           "rgb(244,109,67)"
          ],
          [
           0.3,
           "rgb(253,174,97)"
          ],
          [
           0.4,
           "rgb(254,224,144)"
          ],
          [
           0.5,
           "rgb(255,255,191)"
          ],
          [
           0.6,
           "rgb(224,243,248)"
          ],
          [
           0.7,
           "rgb(171,217,233)"
          ],
          [
           0.8,
           "rgb(116,173,209)"
          ],
          [
           0.9,
           "rgb(69,117,180)"
          ],
          [
           1,
           "rgb(49,54,149)"
          ]
         ],
         "type": "surface",
         "x": [
          0,
          1,
          2,
          3,
          4
         ],
         "y": [
          "x",
          "y",
          "z"
         ],
         "z": [
          [
           1,
           2,
           3,
           4,
           5
          ],
          [
           10,
           20,
           30,
           20,
           10
          ],
          [
           5,
           4,
           3,
           2,
           1
          ]
         ]
        }
       ],
       "layout": {
        "legend": {
         "bgcolor": "#F5F6F9",
         "font": {
          "color": "#4D5663"
         }
        },
        "paper_bgcolor": "#F5F6F9",
        "plot_bgcolor": "#F5F6F9",
        "template": {
         "data": {
          "bar": [
           {
            "error_x": {
             "color": "#2a3f5f"
            },
            "error_y": {
             "color": "#2a3f5f"
            },
            "marker": {
             "line": {
              "color": "#E5ECF6",
              "width": 0.5
             },
             "pattern": {
              "fillmode": "overlay",
              "size": 10,
              "solidity": 0.2
             }
            },
            "type": "bar"
           }
          ],
          "barpolar": [
           {
            "marker": {
             "line": {
              "color": "#E5ECF6",
              "width": 0.5
             },
             "pattern": {
              "fillmode": "overlay",
              "size": 10,
              "solidity": 0.2
             }
            },
            "type": "barpolar"
           }
          ],
          "carpet": [
           {
            "aaxis": {
             "endlinecolor": "#2a3f5f",
             "gridcolor": "white",
             "linecolor": "white",
             "minorgridcolor": "white",
             "startlinecolor": "#2a3f5f"
            },
            "baxis": {
             "endlinecolor": "#2a3f5f",
             "gridcolor": "white",
             "linecolor": "white",
             "minorgridcolor": "white",
             "startlinecolor": "#2a3f5f"
            },
            "type": "carpet"
           }
          ],
          "choropleth": [
           {
            "colorbar": {
             "outlinewidth": 0,
             "ticks": ""
            },
            "type": "choropleth"
           }
          ],
          "contour": [
           {
            "colorbar": {
             "outlinewidth": 0,
             "ticks": ""
            },
            "colorscale": [
             [
              0,
              "#0d0887"
             ],
             [
              0.1111111111111111,
              "#46039f"
             ],
             [
              0.2222222222222222,
              "#7201a8"
             ],
             [
              0.3333333333333333,
              "#9c179e"
             ],
             [
              0.4444444444444444,
              "#bd3786"
             ],
             [
              0.5555555555555556,
              "#d8576b"
             ],
             [
              0.6666666666666666,
              "#ed7953"
             ],
             [
              0.7777777777777778,
              "#fb9f3a"
             ],
             [
              0.8888888888888888,
              "#fdca26"
             ],
             [
              1,
              "#f0f921"
             ]
            ],
            "type": "contour"
           }
          ],
          "contourcarpet": [
           {
            "colorbar": {
             "outlinewidth": 0,
             "ticks": ""
            },
            "type": "contourcarpet"
           }
          ],
          "heatmap": [
           {
            "colorbar": {
             "outlinewidth": 0,
             "ticks": ""
            },
            "colorscale": [
             [
              0,
              "#0d0887"
             ],
             [
              0.1111111111111111,
              "#46039f"
             ],
             [
              0.2222222222222222,
              "#7201a8"
             ],
             [
              0.3333333333333333,
              "#9c179e"
             ],
             [
              0.4444444444444444,
              "#bd3786"
             ],
             [
              0.5555555555555556,
              "#d8576b"
             ],
             [
              0.6666666666666666,
              "#ed7953"
             ],
             [
              0.7777777777777778,
              "#fb9f3a"
             ],
             [
              0.8888888888888888,
              "#fdca26"
             ],
             [
              1,
              "#f0f921"
             ]
            ],
            "type": "heatmap"
           }
          ],
          "heatmapgl": [
           {
            "colorbar": {
             "outlinewidth": 0,
             "ticks": ""
            },
            "colorscale": [
             [
              0,
              "#0d0887"
             ],
             [
              0.1111111111111111,
              "#46039f"
             ],
             [
              0.2222222222222222,
              "#7201a8"
             ],
             [
              0.3333333333333333,
              "#9c179e"
             ],
             [
              0.4444444444444444,
              "#bd3786"
             ],
             [
              0.5555555555555556,
              "#d8576b"
             ],
             [
              0.6666666666666666,
              "#ed7953"
             ],
             [
              0.7777777777777778,
              "#fb9f3a"
             ],
             [
              0.8888888888888888,
              "#fdca26"
             ],
             [
              1,
              "#f0f921"
             ]
            ],
            "type": "heatmapgl"
           }
          ],
          "histogram": [
           {
            "marker": {
             "pattern": {
              "fillmode": "overlay",
              "size": 10,
              "solidity": 0.2
             }
            },
            "type": "histogram"
           }
          ],
          "histogram2d": [
           {
            "colorbar": {
             "outlinewidth": 0,
             "ticks": ""
            },
            "colorscale": [
             [
              0,
              "#0d0887"
             ],
             [
              0.1111111111111111,
              "#46039f"
             ],
             [
              0.2222222222222222,
              "#7201a8"
             ],
             [
              0.3333333333333333,
              "#9c179e"
             ],
             [
              0.4444444444444444,
              "#bd3786"
             ],
             [
              0.5555555555555556,
              "#d8576b"
             ],
             [
              0.6666666666666666,
              "#ed7953"
             ],
             [
              0.7777777777777778,
              "#fb9f3a"
             ],
             [
              0.8888888888888888,
              "#fdca26"
             ],
             [
              1,
              "#f0f921"
             ]
            ],
            "type": "histogram2d"
           }
          ],
          "histogram2dcontour": [
           {
            "colorbar": {
             "outlinewidth": 0,
             "ticks": ""
            },
            "colorscale": [
             [
              0,
              "#0d0887"
             ],
             [
              0.1111111111111111,
              "#46039f"
             ],
             [
              0.2222222222222222,
              "#7201a8"
             ],
             [
              0.3333333333333333,
              "#9c179e"
             ],
             [
              0.4444444444444444,
              "#bd3786"
             ],
             [
              0.5555555555555556,
              "#d8576b"
             ],
             [
              0.6666666666666666,
              "#ed7953"
             ],
             [
              0.7777777777777778,
              "#fb9f3a"
             ],
             [
              0.8888888888888888,
              "#fdca26"
             ],
             [
              1,
              "#f0f921"
             ]
            ],
            "type": "histogram2dcontour"
           }
          ],
          "mesh3d": [
           {
            "colorbar": {
             "outlinewidth": 0,
             "ticks": ""
            },
            "type": "mesh3d"
           }
          ],
          "parcoords": [
           {
            "line": {
             "colorbar": {
              "outlinewidth": 0,
              "ticks": ""
             }
            },
            "type": "parcoords"
           }
          ],
          "pie": [
           {
            "automargin": true,
            "type": "pie"
           }
          ],
          "scatter": [
           {
            "fillpattern": {
             "fillmode": "overlay",
             "size": 10,
             "solidity": 0.2
            },
            "type": "scatter"
           }
          ],
          "scatter3d": [
           {
            "line": {
             "colorbar": {
              "outlinewidth": 0,
              "ticks": ""
             }
            },
            "marker": {
             "colorbar": {
              "outlinewidth": 0,
              "ticks": ""
             }
            },
            "type": "scatter3d"
           }
          ],
          "scattercarpet": [
           {
            "marker": {
             "colorbar": {
              "outlinewidth": 0,
              "ticks": ""
             }
            },
            "type": "scattercarpet"
           }
          ],
          "scattergeo": [
           {
            "marker": {
             "colorbar": {
              "outlinewidth": 0,
              "ticks": ""
             }
            },
            "type": "scattergeo"
           }
          ],
          "scattergl": [
           {
            "marker": {
             "colorbar": {
              "outlinewidth": 0,
              "ticks": ""
             }
            },
            "type": "scattergl"
           }
          ],
          "scattermapbox": [
           {
            "marker": {
             "colorbar": {
              "outlinewidth": 0,
              "ticks": ""
             }
            },
            "type": "scattermapbox"
           }
          ],
          "scatterpolar": [
           {
            "marker": {
             "colorbar": {
              "outlinewidth": 0,
              "ticks": ""
             }
            },
            "type": "scatterpolar"
           }
          ],
          "scatterpolargl": [
           {
            "marker": {
             "colorbar": {
              "outlinewidth": 0,
              "ticks": ""
             }
            },
            "type": "scatterpolargl"
           }
          ],
          "scatterternary": [
           {
            "marker": {
             "colorbar": {
              "outlinewidth": 0,
              "ticks": ""
             }
            },
            "type": "scatterternary"
           }
          ],
          "surface": [
           {
            "colorbar": {
             "outlinewidth": 0,
             "ticks": ""
            },
            "colorscale": [
             [
              0,
              "#0d0887"
             ],
             [
              0.1111111111111111,
              "#46039f"
             ],
             [
              0.2222222222222222,
              "#7201a8"
             ],
             [
              0.3333333333333333,
              "#9c179e"
             ],
             [
              0.4444444444444444,
              "#bd3786"
             ],
             [
              0.5555555555555556,
              "#d8576b"
             ],
             [
              0.6666666666666666,
              "#ed7953"
             ],
             [
              0.7777777777777778,
              "#fb9f3a"
             ],
             [
              0.8888888888888888,
              "#fdca26"
             ],
             [
              1,
              "#f0f921"
             ]
            ],
            "type": "surface"
           }
          ],
          "table": [
           {
            "cells": {
             "fill": {
              "color": "#EBF0F8"
             },
             "line": {
              "color": "white"
             }
            },
            "header": {
             "fill": {
              "color": "#C8D4E3"
             },
             "line": {
              "color": "white"
             }
            },
            "type": "table"
           }
          ]
         },
         "layout": {
          "annotationdefaults": {
           "arrowcolor": "#2a3f5f",
           "arrowhead": 0,
           "arrowwidth": 1
          },
          "autotypenumbers": "strict",
          "coloraxis": {
           "colorbar": {
            "outlinewidth": 0,
            "ticks": ""
           }
          },
          "colorscale": {
           "diverging": [
            [
             0,
             "#8e0152"
            ],
            [
             0.1,
             "#c51b7d"
            ],
            [
             0.2,
             "#de77ae"
            ],
            [
             0.3,
             "#f1b6da"
            ],
            [
             0.4,
             "#fde0ef"
            ],
            [
             0.5,
             "#f7f7f7"
            ],
            [
             0.6,
             "#e6f5d0"
            ],
            [
             0.7,
             "#b8e186"
            ],
            [
             0.8,
             "#7fbc41"
            ],
            [
             0.9,
             "#4d9221"
            ],
            [
             1,
             "#276419"
            ]
           ],
           "sequential": [
            [
             0,
             "#0d0887"
            ],
            [
             0.1111111111111111,
             "#46039f"
            ],
            [
             0.2222222222222222,
             "#7201a8"
            ],
            [
             0.3333333333333333,
             "#9c179e"
            ],
            [
             0.4444444444444444,
             "#bd3786"
            ],
            [
             0.5555555555555556,
             "#d8576b"
            ],
            [
             0.6666666666666666,
             "#ed7953"
            ],
            [
             0.7777777777777778,
             "#fb9f3a"
            ],
            [
             0.8888888888888888,
             "#fdca26"
            ],
            [
             1,
             "#f0f921"
            ]
           ],
           "sequentialminus": [
            [
             0,
             "#0d0887"
            ],
            [
             0.1111111111111111,
             "#46039f"
            ],
            [
             0.2222222222222222,
             "#7201a8"
            ],
            [
             0.3333333333333333,
             "#9c179e"
            ],
            [
             0.4444444444444444,
             "#bd3786"
            ],
            [
             0.5555555555555556,
             "#d8576b"
            ],
            [
             0.6666666666666666,
             "#ed7953"
            ],
            [
             0.7777777777777778,
             "#fb9f3a"
            ],
            [
             0.8888888888888888,
             "#fdca26"
            ],
            [
             1,
             "#f0f921"
            ]
           ]
          },
          "colorway": [
           "#636efa",
           "#EF553B",
           "#00cc96",
           "#ab63fa",
           "#FFA15A",
           "#19d3f3",
           "#FF6692",
           "#B6E880",
           "#FF97FF",
           "#FECB52"
          ],
          "font": {
           "color": "#2a3f5f"
          },
          "geo": {
           "bgcolor": "white",
           "lakecolor": "white",
           "landcolor": "#E5ECF6",
           "showlakes": true,
           "showland": true,
           "subunitcolor": "white"
          },
          "hoverlabel": {
           "align": "left"
          },
          "hovermode": "closest",
          "mapbox": {
           "style": "light"
          },
          "paper_bgcolor": "white",
          "plot_bgcolor": "#E5ECF6",
          "polar": {
           "angularaxis": {
            "gridcolor": "white",
            "linecolor": "white",
            "ticks": ""
           },
           "bgcolor": "#E5ECF6",
           "radialaxis": {
            "gridcolor": "white",
            "linecolor": "white",
            "ticks": ""
           }
          },
          "scene": {
           "xaxis": {
            "backgroundcolor": "#E5ECF6",
            "gridcolor": "white",
            "gridwidth": 2,
            "linecolor": "white",
            "showbackground": true,
            "ticks": "",
            "zerolinecolor": "white"
           },
           "yaxis": {
            "backgroundcolor": "#E5ECF6",
            "gridcolor": "white",
            "gridwidth": 2,
            "linecolor": "white",
            "showbackground": true,
            "ticks": "",
            "zerolinecolor": "white"
           },
           "zaxis": {
            "backgroundcolor": "#E5ECF6",
            "gridcolor": "white",
            "gridwidth": 2,
            "linecolor": "white",
            "showbackground": true,
            "ticks": "",
            "zerolinecolor": "white"
           }
          },
          "shapedefaults": {
           "line": {
            "color": "#2a3f5f"
           }
          },
          "ternary": {
           "aaxis": {
            "gridcolor": "white",
            "linecolor": "white",
            "ticks": ""
           },
           "baxis": {
            "gridcolor": "white",
            "linecolor": "white",
            "ticks": ""
           },
           "bgcolor": "#E5ECF6",
           "caxis": {
            "gridcolor": "white",
            "linecolor": "white",
            "ticks": ""
           }
          },
          "title": {
           "x": 0.05
          },
          "xaxis": {
           "automargin": true,
           "gridcolor": "white",
           "linecolor": "white",
           "ticks": "",
           "title": {
            "standoff": 15
           },
           "zerolinecolor": "white",
           "zerolinewidth": 2
          },
          "yaxis": {
           "automargin": true,
           "gridcolor": "white",
           "linecolor": "white",
           "ticks": "",
           "title": {
            "standoff": 15
           },
           "zerolinecolor": "white",
           "zerolinewidth": 2
          }
         }
        },
        "title": {
         "font": {
          "color": "#4D5663"
         }
        },
        "xaxis": {
         "gridcolor": "#E1E5ED",
         "showgrid": true,
         "tickfont": {
          "color": "#4D5663"
         },
         "title": {
          "font": {
           "color": "#4D5663"
          },
          "text": ""
         },
         "zerolinecolor": "#E1E5ED"
        },
        "yaxis": {
         "gridcolor": "#E1E5ED",
         "showgrid": true,
         "tickfont": {
          "color": "#4D5663"
         },
         "title": {
          "font": {
           "color": "#4D5663"
          },
          "text": ""
         },
         "zerolinecolor": "#E1E5ED"
        }
       }
      },
      "text/html": [
       "<div>                            <div id=\"bcf4c011-eaca-467a-8287-3235f945e2a8\" class=\"plotly-graph-div\" style=\"height:525px; width:100%;\"></div>            <script type=\"text/javascript\">                require([\"plotly\"], function(Plotly) {                    window.PLOTLYENV=window.PLOTLYENV || {};\n",
       "                    window.PLOTLYENV.BASE_URL='https://plot.ly';                                    if (document.getElementById(\"bcf4c011-eaca-467a-8287-3235f945e2a8\")) {                    Plotly.newPlot(                        \"bcf4c011-eaca-467a-8287-3235f945e2a8\",                        [{\"colorscale\":[[0.0,\"rgb(165,0,38)\"],[0.1,\"rgb(215,48,39)\"],[0.2,\"rgb(244,109,67)\"],[0.3,\"rgb(253,174,97)\"],[0.4,\"rgb(254,224,144)\"],[0.5,\"rgb(255,255,191)\"],[0.6,\"rgb(224,243,248)\"],[0.7,\"rgb(171,217,233)\"],[0.8,\"rgb(116,173,209)\"],[0.9,\"rgb(69,117,180)\"],[1.0,\"rgb(49,54,149)\"]],\"x\":[0,1,2,3,4],\"y\":[\"x\",\"y\",\"z\"],\"z\":[[1,2,3,4,5],[10,20,30,20,10],[5,4,3,2,1]],\"type\":\"surface\"}],                        {\"legend\":{\"bgcolor\":\"#F5F6F9\",\"font\":{\"color\":\"#4D5663\"}},\"paper_bgcolor\":\"#F5F6F9\",\"plot_bgcolor\":\"#F5F6F9\",\"template\":{\"data\":{\"barpolar\":[{\"marker\":{\"line\":{\"color\":\"#E5ECF6\",\"width\":0.5},\"pattern\":{\"fillmode\":\"overlay\",\"size\":10,\"solidity\":0.2}},\"type\":\"barpolar\"}],\"bar\":[{\"error_x\":{\"color\":\"#2a3f5f\"},\"error_y\":{\"color\":\"#2a3f5f\"},\"marker\":{\"line\":{\"color\":\"#E5ECF6\",\"width\":0.5},\"pattern\":{\"fillmode\":\"overlay\",\"size\":10,\"solidity\":0.2}},\"type\":\"bar\"}],\"carpet\":[{\"aaxis\":{\"endlinecolor\":\"#2a3f5f\",\"gridcolor\":\"white\",\"linecolor\":\"white\",\"minorgridcolor\":\"white\",\"startlinecolor\":\"#2a3f5f\"},\"baxis\":{\"endlinecolor\":\"#2a3f5f\",\"gridcolor\":\"white\",\"linecolor\":\"white\",\"minorgridcolor\":\"white\",\"startlinecolor\":\"#2a3f5f\"},\"type\":\"carpet\"}],\"choropleth\":[{\"colorbar\":{\"outlinewidth\":0,\"ticks\":\"\"},\"type\":\"choropleth\"}],\"contourcarpet\":[{\"colorbar\":{\"outlinewidth\":0,\"ticks\":\"\"},\"type\":\"contourcarpet\"}],\"contour\":[{\"colorbar\":{\"outlinewidth\":0,\"ticks\":\"\"},\"colorscale\":[[0.0,\"#0d0887\"],[0.1111111111111111,\"#46039f\"],[0.2222222222222222,\"#7201a8\"],[0.3333333333333333,\"#9c179e\"],[0.4444444444444444,\"#bd3786\"],[0.5555555555555556,\"#d8576b\"],[0.6666666666666666,\"#ed7953\"],[0.7777777777777778,\"#fb9f3a\"],[0.8888888888888888,\"#fdca26\"],[1.0,\"#f0f921\"]],\"type\":\"contour\"}],\"heatmapgl\":[{\"colorbar\":{\"outlinewidth\":0,\"ticks\":\"\"},\"colorscale\":[[0.0,\"#0d0887\"],[0.1111111111111111,\"#46039f\"],[0.2222222222222222,\"#7201a8\"],[0.3333333333333333,\"#9c179e\"],[0.4444444444444444,\"#bd3786\"],[0.5555555555555556,\"#d8576b\"],[0.6666666666666666,\"#ed7953\"],[0.7777777777777778,\"#fb9f3a\"],[0.8888888888888888,\"#fdca26\"],[1.0,\"#f0f921\"]],\"type\":\"heatmapgl\"}],\"heatmap\":[{\"colorbar\":{\"outlinewidth\":0,\"ticks\":\"\"},\"colorscale\":[[0.0,\"#0d0887\"],[0.1111111111111111,\"#46039f\"],[0.2222222222222222,\"#7201a8\"],[0.3333333333333333,\"#9c179e\"],[0.4444444444444444,\"#bd3786\"],[0.5555555555555556,\"#d8576b\"],[0.6666666666666666,\"#ed7953\"],[0.7777777777777778,\"#fb9f3a\"],[0.8888888888888888,\"#fdca26\"],[1.0,\"#f0f921\"]],\"type\":\"heatmap\"}],\"histogram2dcontour\":[{\"colorbar\":{\"outlinewidth\":0,\"ticks\":\"\"},\"colorscale\":[[0.0,\"#0d0887\"],[0.1111111111111111,\"#46039f\"],[0.2222222222222222,\"#7201a8\"],[0.3333333333333333,\"#9c179e\"],[0.4444444444444444,\"#bd3786\"],[0.5555555555555556,\"#d8576b\"],[0.6666666666666666,\"#ed7953\"],[0.7777777777777778,\"#fb9f3a\"],[0.8888888888888888,\"#fdca26\"],[1.0,\"#f0f921\"]],\"type\":\"histogram2dcontour\"}],\"histogram2d\":[{\"colorbar\":{\"outlinewidth\":0,\"ticks\":\"\"},\"colorscale\":[[0.0,\"#0d0887\"],[0.1111111111111111,\"#46039f\"],[0.2222222222222222,\"#7201a8\"],[0.3333333333333333,\"#9c179e\"],[0.4444444444444444,\"#bd3786\"],[0.5555555555555556,\"#d8576b\"],[0.6666666666666666,\"#ed7953\"],[0.7777777777777778,\"#fb9f3a\"],[0.8888888888888888,\"#fdca26\"],[1.0,\"#f0f921\"]],\"type\":\"histogram2d\"}],\"histogram\":[{\"marker\":{\"pattern\":{\"fillmode\":\"overlay\",\"size\":10,\"solidity\":0.2}},\"type\":\"histogram\"}],\"mesh3d\":[{\"colorbar\":{\"outlinewidth\":0,\"ticks\":\"\"},\"type\":\"mesh3d\"}],\"parcoords\":[{\"line\":{\"colorbar\":{\"outlinewidth\":0,\"ticks\":\"\"}},\"type\":\"parcoords\"}],\"pie\":[{\"automargin\":true,\"type\":\"pie\"}],\"scatter3d\":[{\"line\":{\"colorbar\":{\"outlinewidth\":0,\"ticks\":\"\"}},\"marker\":{\"colorbar\":{\"outlinewidth\":0,\"ticks\":\"\"}},\"type\":\"scatter3d\"}],\"scattercarpet\":[{\"marker\":{\"colorbar\":{\"outlinewidth\":0,\"ticks\":\"\"}},\"type\":\"scattercarpet\"}],\"scattergeo\":[{\"marker\":{\"colorbar\":{\"outlinewidth\":0,\"ticks\":\"\"}},\"type\":\"scattergeo\"}],\"scattergl\":[{\"marker\":{\"colorbar\":{\"outlinewidth\":0,\"ticks\":\"\"}},\"type\":\"scattergl\"}],\"scattermapbox\":[{\"marker\":{\"colorbar\":{\"outlinewidth\":0,\"ticks\":\"\"}},\"type\":\"scattermapbox\"}],\"scatterpolargl\":[{\"marker\":{\"colorbar\":{\"outlinewidth\":0,\"ticks\":\"\"}},\"type\":\"scatterpolargl\"}],\"scatterpolar\":[{\"marker\":{\"colorbar\":{\"outlinewidth\":0,\"ticks\":\"\"}},\"type\":\"scatterpolar\"}],\"scatter\":[{\"fillpattern\":{\"fillmode\":\"overlay\",\"size\":10,\"solidity\":0.2},\"type\":\"scatter\"}],\"scatterternary\":[{\"marker\":{\"colorbar\":{\"outlinewidth\":0,\"ticks\":\"\"}},\"type\":\"scatterternary\"}],\"surface\":[{\"colorbar\":{\"outlinewidth\":0,\"ticks\":\"\"},\"colorscale\":[[0.0,\"#0d0887\"],[0.1111111111111111,\"#46039f\"],[0.2222222222222222,\"#7201a8\"],[0.3333333333333333,\"#9c179e\"],[0.4444444444444444,\"#bd3786\"],[0.5555555555555556,\"#d8576b\"],[0.6666666666666666,\"#ed7953\"],[0.7777777777777778,\"#fb9f3a\"],[0.8888888888888888,\"#fdca26\"],[1.0,\"#f0f921\"]],\"type\":\"surface\"}],\"table\":[{\"cells\":{\"fill\":{\"color\":\"#EBF0F8\"},\"line\":{\"color\":\"white\"}},\"header\":{\"fill\":{\"color\":\"#C8D4E3\"},\"line\":{\"color\":\"white\"}},\"type\":\"table\"}]},\"layout\":{\"annotationdefaults\":{\"arrowcolor\":\"#2a3f5f\",\"arrowhead\":0,\"arrowwidth\":1},\"autotypenumbers\":\"strict\",\"coloraxis\":{\"colorbar\":{\"outlinewidth\":0,\"ticks\":\"\"}},\"colorscale\":{\"diverging\":[[0,\"#8e0152\"],[0.1,\"#c51b7d\"],[0.2,\"#de77ae\"],[0.3,\"#f1b6da\"],[0.4,\"#fde0ef\"],[0.5,\"#f7f7f7\"],[0.6,\"#e6f5d0\"],[0.7,\"#b8e186\"],[0.8,\"#7fbc41\"],[0.9,\"#4d9221\"],[1,\"#276419\"]],\"sequential\":[[0.0,\"#0d0887\"],[0.1111111111111111,\"#46039f\"],[0.2222222222222222,\"#7201a8\"],[0.3333333333333333,\"#9c179e\"],[0.4444444444444444,\"#bd3786\"],[0.5555555555555556,\"#d8576b\"],[0.6666666666666666,\"#ed7953\"],[0.7777777777777778,\"#fb9f3a\"],[0.8888888888888888,\"#fdca26\"],[1.0,\"#f0f921\"]],\"sequentialminus\":[[0.0,\"#0d0887\"],[0.1111111111111111,\"#46039f\"],[0.2222222222222222,\"#7201a8\"],[0.3333333333333333,\"#9c179e\"],[0.4444444444444444,\"#bd3786\"],[0.5555555555555556,\"#d8576b\"],[0.6666666666666666,\"#ed7953\"],[0.7777777777777778,\"#fb9f3a\"],[0.8888888888888888,\"#fdca26\"],[1.0,\"#f0f921\"]]},\"colorway\":[\"#636efa\",\"#EF553B\",\"#00cc96\",\"#ab63fa\",\"#FFA15A\",\"#19d3f3\",\"#FF6692\",\"#B6E880\",\"#FF97FF\",\"#FECB52\"],\"font\":{\"color\":\"#2a3f5f\"},\"geo\":{\"bgcolor\":\"white\",\"lakecolor\":\"white\",\"landcolor\":\"#E5ECF6\",\"showlakes\":true,\"showland\":true,\"subunitcolor\":\"white\"},\"hoverlabel\":{\"align\":\"left\"},\"hovermode\":\"closest\",\"mapbox\":{\"style\":\"light\"},\"paper_bgcolor\":\"white\",\"plot_bgcolor\":\"#E5ECF6\",\"polar\":{\"angularaxis\":{\"gridcolor\":\"white\",\"linecolor\":\"white\",\"ticks\":\"\"},\"bgcolor\":\"#E5ECF6\",\"radialaxis\":{\"gridcolor\":\"white\",\"linecolor\":\"white\",\"ticks\":\"\"}},\"scene\":{\"xaxis\":{\"backgroundcolor\":\"#E5ECF6\",\"gridcolor\":\"white\",\"gridwidth\":2,\"linecolor\":\"white\",\"showbackground\":true,\"ticks\":\"\",\"zerolinecolor\":\"white\"},\"yaxis\":{\"backgroundcolor\":\"#E5ECF6\",\"gridcolor\":\"white\",\"gridwidth\":2,\"linecolor\":\"white\",\"showbackground\":true,\"ticks\":\"\",\"zerolinecolor\":\"white\"},\"zaxis\":{\"backgroundcolor\":\"#E5ECF6\",\"gridcolor\":\"white\",\"gridwidth\":2,\"linecolor\":\"white\",\"showbackground\":true,\"ticks\":\"\",\"zerolinecolor\":\"white\"}},\"shapedefaults\":{\"line\":{\"color\":\"#2a3f5f\"}},\"ternary\":{\"aaxis\":{\"gridcolor\":\"white\",\"linecolor\":\"white\",\"ticks\":\"\"},\"baxis\":{\"gridcolor\":\"white\",\"linecolor\":\"white\",\"ticks\":\"\"},\"bgcolor\":\"#E5ECF6\",\"caxis\":{\"gridcolor\":\"white\",\"linecolor\":\"white\",\"ticks\":\"\"}},\"title\":{\"x\":0.05},\"xaxis\":{\"automargin\":true,\"gridcolor\":\"white\",\"linecolor\":\"white\",\"ticks\":\"\",\"title\":{\"standoff\":15},\"zerolinecolor\":\"white\",\"zerolinewidth\":2},\"yaxis\":{\"automargin\":true,\"gridcolor\":\"white\",\"linecolor\":\"white\",\"ticks\":\"\",\"title\":{\"standoff\":15},\"zerolinecolor\":\"white\",\"zerolinewidth\":2}}},\"title\":{\"font\":{\"color\":\"#4D5663\"}},\"xaxis\":{\"gridcolor\":\"#E1E5ED\",\"showgrid\":true,\"tickfont\":{\"color\":\"#4D5663\"},\"title\":{\"font\":{\"color\":\"#4D5663\"},\"text\":\"\"},\"zerolinecolor\":\"#E1E5ED\"},\"yaxis\":{\"gridcolor\":\"#E1E5ED\",\"showgrid\":true,\"tickfont\":{\"color\":\"#4D5663\"},\"title\":{\"font\":{\"color\":\"#4D5663\"},\"text\":\"\"},\"zerolinecolor\":\"#E1E5ED\"}},                        {\"showLink\": true, \"linkText\": \"Export to plot.ly\", \"plotlyServerURL\": \"https://plot.ly\", \"responsive\": true}                    ).then(function(){\n",
       "                            \n",
       "var gd = document.getElementById('bcf4c011-eaca-467a-8287-3235f945e2a8');\n",
       "var x = new MutationObserver(function (mutations, observer) {{\n",
       "        var display = window.getComputedStyle(gd).display;\n",
       "        if (!display || display === 'none') {{\n",
       "            console.log([gd, 'removed!']);\n",
       "            Plotly.purge(gd);\n",
       "            observer.disconnect();\n",
       "        }}\n",
       "}});\n",
       "\n",
       "// Listen for the removal of the full notebook cells\n",
       "var notebookContainer = gd.closest('#notebook-container');\n",
       "if (notebookContainer) {{\n",
       "    x.observe(notebookContainer, {childList: true});\n",
       "}}\n",
       "\n",
       "// Listen for the clearing of the current output cell\n",
       "var outputEl = gd.closest('.output');\n",
       "if (outputEl) {{\n",
       "    x.observe(outputEl, {childList: true});\n",
       "}}\n",
       "\n",
       "                        })                };                });            </script>        </div>"
      ]
     },
     "metadata": {},
     "output_type": "display_data"
    }
   ],
   "source": [
    "df3 = pd.DataFrame({'x':[1,2,3,4,5],'y':[10,20,30,20,10],'z':[5,4,3,2,1]})\n",
    "df3.iplot(kind='surface',colorscale='rdylbu')"
   ]
  },
  {
   "cell_type": "markdown",
   "id": "05dd68b9",
   "metadata": {},
   "source": [
    "## Histogram Plot"
   ]
  },
  {
   "cell_type": "code",
   "execution_count": 16,
   "id": "d7f5821b",
   "metadata": {},
   "outputs": [
    {
     "data": {
      "application/vnd.plotly.v1+json": {
       "config": {
        "linkText": "Export to plot.ly",
        "plotlyServerURL": "https://plot.ly",
        "showLink": true
       },
       "data": [
        {
         "histfunc": "count",
         "histnorm": "",
         "marker": {
          "color": "rgba(255, 153, 51, 1.0)",
          "line": {
           "color": "#4D5663",
           "width": 1.3
          }
         },
         "name": "A",
         "nbinsx": 50,
         "opacity": 0.8,
         "orientation": "v",
         "type": "histogram",
         "x": [
          -0.28417787083349927,
          0.6413274499391824,
          -0.33336861080745656,
          2.006764818840116,
          1.8728377960165354,
          -0.24882852649873424,
          -0.29861874001993766,
          -0.5527446223333694,
          -0.06284839007619376,
          0.6872961946392325,
          -0.48047030452308376,
          -0.15819211016748583,
          0.3979193283561742,
          -0.9231892579778409,
          0.5315667297247073,
          1.0017781127586238,
          -2.0721385248636266,
          0.9212012857921277,
          -0.25197735935695925,
          -2.5438707821411417,
          -0.9797570746505114,
          -1.785600451605513,
          -1.3677304085261701,
          -0.8597776400411747,
          -0.38161314435598254,
          -0.21955301709234307,
          -0.46962502773123727,
          0.08658003414889327,
          -2.624997706901156,
          1.617799016690096,
          0.2322838968046603,
          -0.5747107444070692,
          1.306245125000283,
          -0.7424921675650964,
          -0.6846539842162228,
          2.1601206807767657,
          -1.1832051219606274,
          0.21698850723985674,
          1.693120559186067,
          -1.4725670406597433,
          0.5268215706826592,
          0.22618522749666412,
          1.3241925977559907,
          -1.1750950935332447,
          0.779369119313454,
          -1.0622472454257539,
          -0.7479801434627531,
          -1.11546714284219,
          0.6490101527890603,
          -0.22489797094481306,
          -1.1740087820316207,
          0.08056535097254833,
          0.615871865696655,
          -0.17445791673987496,
          0.8456171781805357,
          1.8168544512752107,
          0.9067056603187674,
          -0.1318278852951855,
          -0.9806500898254744,
          0.4032491907360089,
          0.5456168400678882,
          1.6799435539133445,
          -1.417466304121186,
          1.1183981281871356,
          -0.5754137503060296,
          -0.4451311781056884,
          0.6524364369982173,
          -0.2531055435068277,
          -1.2238276239485155,
          0.5079425450594325,
          -0.7127247095374196,
          0.5340289009521697,
          -0.45390448707790165,
          -0.004315066126661081,
          0.01607814905285022,
          0.23686645998285866,
          -0.22681193933351268,
          -1.282908829683012,
          1.0598838321126345,
          -0.28086616600779785,
          -1.4665713559786704,
          0.9606502786533506,
          0.30386951258373074,
          0.9913019602065628,
          -0.5343798033042318,
          -1.2672235642375103,
          0.3206869075841262,
          0.059509125355931794,
          -0.7576598946355392,
          -0.5340235908042054,
          -1.1285727143193942,
          2.1140216110955588,
          1.0418469094947094,
          0.2854170485589883,
          -1.9999513786857224,
          0.9479014280894817,
          -1.14631525364236,
          1.6505960122936931,
          0.4751216841159835,
          0.07362728384021043
         ]
        }
       ],
       "layout": {
        "barmode": "overlay",
        "legend": {
         "bgcolor": "#F5F6F9",
         "font": {
          "color": "#4D5663"
         }
        },
        "paper_bgcolor": "#F5F6F9",
        "plot_bgcolor": "#F5F6F9",
        "template": {
         "data": {
          "bar": [
           {
            "error_x": {
             "color": "#2a3f5f"
            },
            "error_y": {
             "color": "#2a3f5f"
            },
            "marker": {
             "line": {
              "color": "#E5ECF6",
              "width": 0.5
             },
             "pattern": {
              "fillmode": "overlay",
              "size": 10,
              "solidity": 0.2
             }
            },
            "type": "bar"
           }
          ],
          "barpolar": [
           {
            "marker": {
             "line": {
              "color": "#E5ECF6",
              "width": 0.5
             },
             "pattern": {
              "fillmode": "overlay",
              "size": 10,
              "solidity": 0.2
             }
            },
            "type": "barpolar"
           }
          ],
          "carpet": [
           {
            "aaxis": {
             "endlinecolor": "#2a3f5f",
             "gridcolor": "white",
             "linecolor": "white",
             "minorgridcolor": "white",
             "startlinecolor": "#2a3f5f"
            },
            "baxis": {
             "endlinecolor": "#2a3f5f",
             "gridcolor": "white",
             "linecolor": "white",
             "minorgridcolor": "white",
             "startlinecolor": "#2a3f5f"
            },
            "type": "carpet"
           }
          ],
          "choropleth": [
           {
            "colorbar": {
             "outlinewidth": 0,
             "ticks": ""
            },
            "type": "choropleth"
           }
          ],
          "contour": [
           {
            "colorbar": {
             "outlinewidth": 0,
             "ticks": ""
            },
            "colorscale": [
             [
              0,
              "#0d0887"
             ],
             [
              0.1111111111111111,
              "#46039f"
             ],
             [
              0.2222222222222222,
              "#7201a8"
             ],
             [
              0.3333333333333333,
              "#9c179e"
             ],
             [
              0.4444444444444444,
              "#bd3786"
             ],
             [
              0.5555555555555556,
              "#d8576b"
             ],
             [
              0.6666666666666666,
              "#ed7953"
             ],
             [
              0.7777777777777778,
              "#fb9f3a"
             ],
             [
              0.8888888888888888,
              "#fdca26"
             ],
             [
              1,
              "#f0f921"
             ]
            ],
            "type": "contour"
           }
          ],
          "contourcarpet": [
           {
            "colorbar": {
             "outlinewidth": 0,
             "ticks": ""
            },
            "type": "contourcarpet"
           }
          ],
          "heatmap": [
           {
            "colorbar": {
             "outlinewidth": 0,
             "ticks": ""
            },
            "colorscale": [
             [
              0,
              "#0d0887"
             ],
             [
              0.1111111111111111,
              "#46039f"
             ],
             [
              0.2222222222222222,
              "#7201a8"
             ],
             [
              0.3333333333333333,
              "#9c179e"
             ],
             [
              0.4444444444444444,
              "#bd3786"
             ],
             [
              0.5555555555555556,
              "#d8576b"
             ],
             [
              0.6666666666666666,
              "#ed7953"
             ],
             [
              0.7777777777777778,
              "#fb9f3a"
             ],
             [
              0.8888888888888888,
              "#fdca26"
             ],
             [
              1,
              "#f0f921"
             ]
            ],
            "type": "heatmap"
           }
          ],
          "heatmapgl": [
           {
            "colorbar": {
             "outlinewidth": 0,
             "ticks": ""
            },
            "colorscale": [
             [
              0,
              "#0d0887"
             ],
             [
              0.1111111111111111,
              "#46039f"
             ],
             [
              0.2222222222222222,
              "#7201a8"
             ],
             [
              0.3333333333333333,
              "#9c179e"
             ],
             [
              0.4444444444444444,
              "#bd3786"
             ],
             [
              0.5555555555555556,
              "#d8576b"
             ],
             [
              0.6666666666666666,
              "#ed7953"
             ],
             [
              0.7777777777777778,
              "#fb9f3a"
             ],
             [
              0.8888888888888888,
              "#fdca26"
             ],
             [
              1,
              "#f0f921"
             ]
            ],
            "type": "heatmapgl"
           }
          ],
          "histogram": [
           {
            "marker": {
             "pattern": {
              "fillmode": "overlay",
              "size": 10,
              "solidity": 0.2
             }
            },
            "type": "histogram"
           }
          ],
          "histogram2d": [
           {
            "colorbar": {
             "outlinewidth": 0,
             "ticks": ""
            },
            "colorscale": [
             [
              0,
              "#0d0887"
             ],
             [
              0.1111111111111111,
              "#46039f"
             ],
             [
              0.2222222222222222,
              "#7201a8"
             ],
             [
              0.3333333333333333,
              "#9c179e"
             ],
             [
              0.4444444444444444,
              "#bd3786"
             ],
             [
              0.5555555555555556,
              "#d8576b"
             ],
             [
              0.6666666666666666,
              "#ed7953"
             ],
             [
              0.7777777777777778,
              "#fb9f3a"
             ],
             [
              0.8888888888888888,
              "#fdca26"
             ],
             [
              1,
              "#f0f921"
             ]
            ],
            "type": "histogram2d"
           }
          ],
          "histogram2dcontour": [
           {
            "colorbar": {
             "outlinewidth": 0,
             "ticks": ""
            },
            "colorscale": [
             [
              0,
              "#0d0887"
             ],
             [
              0.1111111111111111,
              "#46039f"
             ],
             [
              0.2222222222222222,
              "#7201a8"
             ],
             [
              0.3333333333333333,
              "#9c179e"
             ],
             [
              0.4444444444444444,
              "#bd3786"
             ],
             [
              0.5555555555555556,
              "#d8576b"
             ],
             [
              0.6666666666666666,
              "#ed7953"
             ],
             [
              0.7777777777777778,
              "#fb9f3a"
             ],
             [
              0.8888888888888888,
              "#fdca26"
             ],
             [
              1,
              "#f0f921"
             ]
            ],
            "type": "histogram2dcontour"
           }
          ],
          "mesh3d": [
           {
            "colorbar": {
             "outlinewidth": 0,
             "ticks": ""
            },
            "type": "mesh3d"
           }
          ],
          "parcoords": [
           {
            "line": {
             "colorbar": {
              "outlinewidth": 0,
              "ticks": ""
             }
            },
            "type": "parcoords"
           }
          ],
          "pie": [
           {
            "automargin": true,
            "type": "pie"
           }
          ],
          "scatter": [
           {
            "fillpattern": {
             "fillmode": "overlay",
             "size": 10,
             "solidity": 0.2
            },
            "type": "scatter"
           }
          ],
          "scatter3d": [
           {
            "line": {
             "colorbar": {
              "outlinewidth": 0,
              "ticks": ""
             }
            },
            "marker": {
             "colorbar": {
              "outlinewidth": 0,
              "ticks": ""
             }
            },
            "type": "scatter3d"
           }
          ],
          "scattercarpet": [
           {
            "marker": {
             "colorbar": {
              "outlinewidth": 0,
              "ticks": ""
             }
            },
            "type": "scattercarpet"
           }
          ],
          "scattergeo": [
           {
            "marker": {
             "colorbar": {
              "outlinewidth": 0,
              "ticks": ""
             }
            },
            "type": "scattergeo"
           }
          ],
          "scattergl": [
           {
            "marker": {
             "colorbar": {
              "outlinewidth": 0,
              "ticks": ""
             }
            },
            "type": "scattergl"
           }
          ],
          "scattermapbox": [
           {
            "marker": {
             "colorbar": {
              "outlinewidth": 0,
              "ticks": ""
             }
            },
            "type": "scattermapbox"
           }
          ],
          "scatterpolar": [
           {
            "marker": {
             "colorbar": {
              "outlinewidth": 0,
              "ticks": ""
             }
            },
            "type": "scatterpolar"
           }
          ],
          "scatterpolargl": [
           {
            "marker": {
             "colorbar": {
              "outlinewidth": 0,
              "ticks": ""
             }
            },
            "type": "scatterpolargl"
           }
          ],
          "scatterternary": [
           {
            "marker": {
             "colorbar": {
              "outlinewidth": 0,
              "ticks": ""
             }
            },
            "type": "scatterternary"
           }
          ],
          "surface": [
           {
            "colorbar": {
             "outlinewidth": 0,
             "ticks": ""
            },
            "colorscale": [
             [
              0,
              "#0d0887"
             ],
             [
              0.1111111111111111,
              "#46039f"
             ],
             [
              0.2222222222222222,
              "#7201a8"
             ],
             [
              0.3333333333333333,
              "#9c179e"
             ],
             [
              0.4444444444444444,
              "#bd3786"
             ],
             [
              0.5555555555555556,
              "#d8576b"
             ],
             [
              0.6666666666666666,
              "#ed7953"
             ],
             [
              0.7777777777777778,
              "#fb9f3a"
             ],
             [
              0.8888888888888888,
              "#fdca26"
             ],
             [
              1,
              "#f0f921"
             ]
            ],
            "type": "surface"
           }
          ],
          "table": [
           {
            "cells": {
             "fill": {
              "color": "#EBF0F8"
             },
             "line": {
              "color": "white"
             }
            },
            "header": {
             "fill": {
              "color": "#C8D4E3"
             },
             "line": {
              "color": "white"
             }
            },
            "type": "table"
           }
          ]
         },
         "layout": {
          "annotationdefaults": {
           "arrowcolor": "#2a3f5f",
           "arrowhead": 0,
           "arrowwidth": 1
          },
          "autotypenumbers": "strict",
          "coloraxis": {
           "colorbar": {
            "outlinewidth": 0,
            "ticks": ""
           }
          },
          "colorscale": {
           "diverging": [
            [
             0,
             "#8e0152"
            ],
            [
             0.1,
             "#c51b7d"
            ],
            [
             0.2,
             "#de77ae"
            ],
            [
             0.3,
             "#f1b6da"
            ],
            [
             0.4,
             "#fde0ef"
            ],
            [
             0.5,
             "#f7f7f7"
            ],
            [
             0.6,
             "#e6f5d0"
            ],
            [
             0.7,
             "#b8e186"
            ],
            [
             0.8,
             "#7fbc41"
            ],
            [
             0.9,
             "#4d9221"
            ],
            [
             1,
             "#276419"
            ]
           ],
           "sequential": [
            [
             0,
             "#0d0887"
            ],
            [
             0.1111111111111111,
             "#46039f"
            ],
            [
             0.2222222222222222,
             "#7201a8"
            ],
            [
             0.3333333333333333,
             "#9c179e"
            ],
            [
             0.4444444444444444,
             "#bd3786"
            ],
            [
             0.5555555555555556,
             "#d8576b"
            ],
            [
             0.6666666666666666,
             "#ed7953"
            ],
            [
             0.7777777777777778,
             "#fb9f3a"
            ],
            [
             0.8888888888888888,
             "#fdca26"
            ],
            [
             1,
             "#f0f921"
            ]
           ],
           "sequentialminus": [
            [
             0,
             "#0d0887"
            ],
            [
             0.1111111111111111,
             "#46039f"
            ],
            [
             0.2222222222222222,
             "#7201a8"
            ],
            [
             0.3333333333333333,
             "#9c179e"
            ],
            [
             0.4444444444444444,
             "#bd3786"
            ],
            [
             0.5555555555555556,
             "#d8576b"
            ],
            [
             0.6666666666666666,
             "#ed7953"
            ],
            [
             0.7777777777777778,
             "#fb9f3a"
            ],
            [
             0.8888888888888888,
             "#fdca26"
            ],
            [
             1,
             "#f0f921"
            ]
           ]
          },
          "colorway": [
           "#636efa",
           "#EF553B",
           "#00cc96",
           "#ab63fa",
           "#FFA15A",
           "#19d3f3",
           "#FF6692",
           "#B6E880",
           "#FF97FF",
           "#FECB52"
          ],
          "font": {
           "color": "#2a3f5f"
          },
          "geo": {
           "bgcolor": "white",
           "lakecolor": "white",
           "landcolor": "#E5ECF6",
           "showlakes": true,
           "showland": true,
           "subunitcolor": "white"
          },
          "hoverlabel": {
           "align": "left"
          },
          "hovermode": "closest",
          "mapbox": {
           "style": "light"
          },
          "paper_bgcolor": "white",
          "plot_bgcolor": "#E5ECF6",
          "polar": {
           "angularaxis": {
            "gridcolor": "white",
            "linecolor": "white",
            "ticks": ""
           },
           "bgcolor": "#E5ECF6",
           "radialaxis": {
            "gridcolor": "white",
            "linecolor": "white",
            "ticks": ""
           }
          },
          "scene": {
           "xaxis": {
            "backgroundcolor": "#E5ECF6",
            "gridcolor": "white",
            "gridwidth": 2,
            "linecolor": "white",
            "showbackground": true,
            "ticks": "",
            "zerolinecolor": "white"
           },
           "yaxis": {
            "backgroundcolor": "#E5ECF6",
            "gridcolor": "white",
            "gridwidth": 2,
            "linecolor": "white",
            "showbackground": true,
            "ticks": "",
            "zerolinecolor": "white"
           },
           "zaxis": {
            "backgroundcolor": "#E5ECF6",
            "gridcolor": "white",
            "gridwidth": 2,
            "linecolor": "white",
            "showbackground": true,
            "ticks": "",
            "zerolinecolor": "white"
           }
          },
          "shapedefaults": {
           "line": {
            "color": "#2a3f5f"
           }
          },
          "ternary": {
           "aaxis": {
            "gridcolor": "white",
            "linecolor": "white",
            "ticks": ""
           },
           "baxis": {
            "gridcolor": "white",
            "linecolor": "white",
            "ticks": ""
           },
           "bgcolor": "#E5ECF6",
           "caxis": {
            "gridcolor": "white",
            "linecolor": "white",
            "ticks": ""
           }
          },
          "title": {
           "x": 0.05
          },
          "xaxis": {
           "automargin": true,
           "gridcolor": "white",
           "linecolor": "white",
           "ticks": "",
           "title": {
            "standoff": 15
           },
           "zerolinecolor": "white",
           "zerolinewidth": 2
          },
          "yaxis": {
           "automargin": true,
           "gridcolor": "white",
           "linecolor": "white",
           "ticks": "",
           "title": {
            "standoff": 15
           },
           "zerolinecolor": "white",
           "zerolinewidth": 2
          }
         }
        },
        "title": {
         "font": {
          "color": "#4D5663"
         }
        },
        "xaxis": {
         "gridcolor": "#E1E5ED",
         "showgrid": true,
         "tickfont": {
          "color": "#4D5663"
         },
         "title": {
          "font": {
           "color": "#4D5663"
          },
          "text": ""
         },
         "zerolinecolor": "#E1E5ED"
        },
        "yaxis": {
         "gridcolor": "#E1E5ED",
         "showgrid": true,
         "tickfont": {
          "color": "#4D5663"
         },
         "title": {
          "font": {
           "color": "#4D5663"
          },
          "text": ""
         },
         "zerolinecolor": "#E1E5ED"
        }
       }
      },
      "text/html": [
       "<div>                            <div id=\"03c7e055-8bb2-4bdc-9c86-1538c8b31d9c\" class=\"plotly-graph-div\" style=\"height:525px; width:100%;\"></div>            <script type=\"text/javascript\">                require([\"plotly\"], function(Plotly) {                    window.PLOTLYENV=window.PLOTLYENV || {};\n",
       "                    window.PLOTLYENV.BASE_URL='https://plot.ly';                                    if (document.getElementById(\"03c7e055-8bb2-4bdc-9c86-1538c8b31d9c\")) {                    Plotly.newPlot(                        \"03c7e055-8bb2-4bdc-9c86-1538c8b31d9c\",                        [{\"histfunc\":\"count\",\"histnorm\":\"\",\"marker\":{\"color\":\"rgba(255, 153, 51, 1.0)\",\"line\":{\"color\":\"#4D5663\",\"width\":1.3}},\"name\":\"A\",\"nbinsx\":50,\"opacity\":0.8,\"orientation\":\"v\",\"x\":[-0.28417787083349927,0.6413274499391824,-0.33336861080745656,2.006764818840116,1.8728377960165354,-0.24882852649873424,-0.29861874001993766,-0.5527446223333694,-0.06284839007619376,0.6872961946392325,-0.48047030452308376,-0.15819211016748583,0.3979193283561742,-0.9231892579778409,0.5315667297247073,1.0017781127586238,-2.0721385248636266,0.9212012857921277,-0.25197735935695925,-2.5438707821411417,-0.9797570746505114,-1.785600451605513,-1.3677304085261701,-0.8597776400411747,-0.38161314435598254,-0.21955301709234307,-0.46962502773123727,0.08658003414889327,-2.624997706901156,1.617799016690096,0.2322838968046603,-0.5747107444070692,1.306245125000283,-0.7424921675650964,-0.6846539842162228,2.1601206807767657,-1.1832051219606274,0.21698850723985674,1.693120559186067,-1.4725670406597433,0.5268215706826592,0.22618522749666412,1.3241925977559907,-1.1750950935332447,0.779369119313454,-1.0622472454257539,-0.7479801434627531,-1.11546714284219,0.6490101527890603,-0.22489797094481306,-1.1740087820316207,0.08056535097254833,0.615871865696655,-0.17445791673987496,0.8456171781805357,1.8168544512752107,0.9067056603187674,-0.1318278852951855,-0.9806500898254744,0.4032491907360089,0.5456168400678882,1.6799435539133445,-1.417466304121186,1.1183981281871356,-0.5754137503060296,-0.4451311781056884,0.6524364369982173,-0.2531055435068277,-1.2238276239485155,0.5079425450594325,-0.7127247095374196,0.5340289009521697,-0.45390448707790165,-0.004315066126661081,0.01607814905285022,0.23686645998285866,-0.22681193933351268,-1.282908829683012,1.0598838321126345,-0.28086616600779785,-1.4665713559786704,0.9606502786533506,0.30386951258373074,0.9913019602065628,-0.5343798033042318,-1.2672235642375103,0.3206869075841262,0.059509125355931794,-0.7576598946355392,-0.5340235908042054,-1.1285727143193942,2.1140216110955588,1.0418469094947094,0.2854170485589883,-1.9999513786857224,0.9479014280894817,-1.14631525364236,1.6505960122936931,0.4751216841159835,0.07362728384021043],\"type\":\"histogram\"}],                        {\"barmode\":\"overlay\",\"legend\":{\"bgcolor\":\"#F5F6F9\",\"font\":{\"color\":\"#4D5663\"}},\"paper_bgcolor\":\"#F5F6F9\",\"plot_bgcolor\":\"#F5F6F9\",\"template\":{\"data\":{\"barpolar\":[{\"marker\":{\"line\":{\"color\":\"#E5ECF6\",\"width\":0.5},\"pattern\":{\"fillmode\":\"overlay\",\"size\":10,\"solidity\":0.2}},\"type\":\"barpolar\"}],\"bar\":[{\"error_x\":{\"color\":\"#2a3f5f\"},\"error_y\":{\"color\":\"#2a3f5f\"},\"marker\":{\"line\":{\"color\":\"#E5ECF6\",\"width\":0.5},\"pattern\":{\"fillmode\":\"overlay\",\"size\":10,\"solidity\":0.2}},\"type\":\"bar\"}],\"carpet\":[{\"aaxis\":{\"endlinecolor\":\"#2a3f5f\",\"gridcolor\":\"white\",\"linecolor\":\"white\",\"minorgridcolor\":\"white\",\"startlinecolor\":\"#2a3f5f\"},\"baxis\":{\"endlinecolor\":\"#2a3f5f\",\"gridcolor\":\"white\",\"linecolor\":\"white\",\"minorgridcolor\":\"white\",\"startlinecolor\":\"#2a3f5f\"},\"type\":\"carpet\"}],\"choropleth\":[{\"colorbar\":{\"outlinewidth\":0,\"ticks\":\"\"},\"type\":\"choropleth\"}],\"contourcarpet\":[{\"colorbar\":{\"outlinewidth\":0,\"ticks\":\"\"},\"type\":\"contourcarpet\"}],\"contour\":[{\"colorbar\":{\"outlinewidth\":0,\"ticks\":\"\"},\"colorscale\":[[0.0,\"#0d0887\"],[0.1111111111111111,\"#46039f\"],[0.2222222222222222,\"#7201a8\"],[0.3333333333333333,\"#9c179e\"],[0.4444444444444444,\"#bd3786\"],[0.5555555555555556,\"#d8576b\"],[0.6666666666666666,\"#ed7953\"],[0.7777777777777778,\"#fb9f3a\"],[0.8888888888888888,\"#fdca26\"],[1.0,\"#f0f921\"]],\"type\":\"contour\"}],\"heatmapgl\":[{\"colorbar\":{\"outlinewidth\":0,\"ticks\":\"\"},\"colorscale\":[[0.0,\"#0d0887\"],[0.1111111111111111,\"#46039f\"],[0.2222222222222222,\"#7201a8\"],[0.3333333333333333,\"#9c179e\"],[0.4444444444444444,\"#bd3786\"],[0.5555555555555556,\"#d8576b\"],[0.6666666666666666,\"#ed7953\"],[0.7777777777777778,\"#fb9f3a\"],[0.8888888888888888,\"#fdca26\"],[1.0,\"#f0f921\"]],\"type\":\"heatmapgl\"}],\"heatmap\":[{\"colorbar\":{\"outlinewidth\":0,\"ticks\":\"\"},\"colorscale\":[[0.0,\"#0d0887\"],[0.1111111111111111,\"#46039f\"],[0.2222222222222222,\"#7201a8\"],[0.3333333333333333,\"#9c179e\"],[0.4444444444444444,\"#bd3786\"],[0.5555555555555556,\"#d8576b\"],[0.6666666666666666,\"#ed7953\"],[0.7777777777777778,\"#fb9f3a\"],[0.8888888888888888,\"#fdca26\"],[1.0,\"#f0f921\"]],\"type\":\"heatmap\"}],\"histogram2dcontour\":[{\"colorbar\":{\"outlinewidth\":0,\"ticks\":\"\"},\"colorscale\":[[0.0,\"#0d0887\"],[0.1111111111111111,\"#46039f\"],[0.2222222222222222,\"#7201a8\"],[0.3333333333333333,\"#9c179e\"],[0.4444444444444444,\"#bd3786\"],[0.5555555555555556,\"#d8576b\"],[0.6666666666666666,\"#ed7953\"],[0.7777777777777778,\"#fb9f3a\"],[0.8888888888888888,\"#fdca26\"],[1.0,\"#f0f921\"]],\"type\":\"histogram2dcontour\"}],\"histogram2d\":[{\"colorbar\":{\"outlinewidth\":0,\"ticks\":\"\"},\"colorscale\":[[0.0,\"#0d0887\"],[0.1111111111111111,\"#46039f\"],[0.2222222222222222,\"#7201a8\"],[0.3333333333333333,\"#9c179e\"],[0.4444444444444444,\"#bd3786\"],[0.5555555555555556,\"#d8576b\"],[0.6666666666666666,\"#ed7953\"],[0.7777777777777778,\"#fb9f3a\"],[0.8888888888888888,\"#fdca26\"],[1.0,\"#f0f921\"]],\"type\":\"histogram2d\"}],\"histogram\":[{\"marker\":{\"pattern\":{\"fillmode\":\"overlay\",\"size\":10,\"solidity\":0.2}},\"type\":\"histogram\"}],\"mesh3d\":[{\"colorbar\":{\"outlinewidth\":0,\"ticks\":\"\"},\"type\":\"mesh3d\"}],\"parcoords\":[{\"line\":{\"colorbar\":{\"outlinewidth\":0,\"ticks\":\"\"}},\"type\":\"parcoords\"}],\"pie\":[{\"automargin\":true,\"type\":\"pie\"}],\"scatter3d\":[{\"line\":{\"colorbar\":{\"outlinewidth\":0,\"ticks\":\"\"}},\"marker\":{\"colorbar\":{\"outlinewidth\":0,\"ticks\":\"\"}},\"type\":\"scatter3d\"}],\"scattercarpet\":[{\"marker\":{\"colorbar\":{\"outlinewidth\":0,\"ticks\":\"\"}},\"type\":\"scattercarpet\"}],\"scattergeo\":[{\"marker\":{\"colorbar\":{\"outlinewidth\":0,\"ticks\":\"\"}},\"type\":\"scattergeo\"}],\"scattergl\":[{\"marker\":{\"colorbar\":{\"outlinewidth\":0,\"ticks\":\"\"}},\"type\":\"scattergl\"}],\"scattermapbox\":[{\"marker\":{\"colorbar\":{\"outlinewidth\":0,\"ticks\":\"\"}},\"type\":\"scattermapbox\"}],\"scatterpolargl\":[{\"marker\":{\"colorbar\":{\"outlinewidth\":0,\"ticks\":\"\"}},\"type\":\"scatterpolargl\"}],\"scatterpolar\":[{\"marker\":{\"colorbar\":{\"outlinewidth\":0,\"ticks\":\"\"}},\"type\":\"scatterpolar\"}],\"scatter\":[{\"fillpattern\":{\"fillmode\":\"overlay\",\"size\":10,\"solidity\":0.2},\"type\":\"scatter\"}],\"scatterternary\":[{\"marker\":{\"colorbar\":{\"outlinewidth\":0,\"ticks\":\"\"}},\"type\":\"scatterternary\"}],\"surface\":[{\"colorbar\":{\"outlinewidth\":0,\"ticks\":\"\"},\"colorscale\":[[0.0,\"#0d0887\"],[0.1111111111111111,\"#46039f\"],[0.2222222222222222,\"#7201a8\"],[0.3333333333333333,\"#9c179e\"],[0.4444444444444444,\"#bd3786\"],[0.5555555555555556,\"#d8576b\"],[0.6666666666666666,\"#ed7953\"],[0.7777777777777778,\"#fb9f3a\"],[0.8888888888888888,\"#fdca26\"],[1.0,\"#f0f921\"]],\"type\":\"surface\"}],\"table\":[{\"cells\":{\"fill\":{\"color\":\"#EBF0F8\"},\"line\":{\"color\":\"white\"}},\"header\":{\"fill\":{\"color\":\"#C8D4E3\"},\"line\":{\"color\":\"white\"}},\"type\":\"table\"}]},\"layout\":{\"annotationdefaults\":{\"arrowcolor\":\"#2a3f5f\",\"arrowhead\":0,\"arrowwidth\":1},\"autotypenumbers\":\"strict\",\"coloraxis\":{\"colorbar\":{\"outlinewidth\":0,\"ticks\":\"\"}},\"colorscale\":{\"diverging\":[[0,\"#8e0152\"],[0.1,\"#c51b7d\"],[0.2,\"#de77ae\"],[0.3,\"#f1b6da\"],[0.4,\"#fde0ef\"],[0.5,\"#f7f7f7\"],[0.6,\"#e6f5d0\"],[0.7,\"#b8e186\"],[0.8,\"#7fbc41\"],[0.9,\"#4d9221\"],[1,\"#276419\"]],\"sequential\":[[0.0,\"#0d0887\"],[0.1111111111111111,\"#46039f\"],[0.2222222222222222,\"#7201a8\"],[0.3333333333333333,\"#9c179e\"],[0.4444444444444444,\"#bd3786\"],[0.5555555555555556,\"#d8576b\"],[0.6666666666666666,\"#ed7953\"],[0.7777777777777778,\"#fb9f3a\"],[0.8888888888888888,\"#fdca26\"],[1.0,\"#f0f921\"]],\"sequentialminus\":[[0.0,\"#0d0887\"],[0.1111111111111111,\"#46039f\"],[0.2222222222222222,\"#7201a8\"],[0.3333333333333333,\"#9c179e\"],[0.4444444444444444,\"#bd3786\"],[0.5555555555555556,\"#d8576b\"],[0.6666666666666666,\"#ed7953\"],[0.7777777777777778,\"#fb9f3a\"],[0.8888888888888888,\"#fdca26\"],[1.0,\"#f0f921\"]]},\"colorway\":[\"#636efa\",\"#EF553B\",\"#00cc96\",\"#ab63fa\",\"#FFA15A\",\"#19d3f3\",\"#FF6692\",\"#B6E880\",\"#FF97FF\",\"#FECB52\"],\"font\":{\"color\":\"#2a3f5f\"},\"geo\":{\"bgcolor\":\"white\",\"lakecolor\":\"white\",\"landcolor\":\"#E5ECF6\",\"showlakes\":true,\"showland\":true,\"subunitcolor\":\"white\"},\"hoverlabel\":{\"align\":\"left\"},\"hovermode\":\"closest\",\"mapbox\":{\"style\":\"light\"},\"paper_bgcolor\":\"white\",\"plot_bgcolor\":\"#E5ECF6\",\"polar\":{\"angularaxis\":{\"gridcolor\":\"white\",\"linecolor\":\"white\",\"ticks\":\"\"},\"bgcolor\":\"#E5ECF6\",\"radialaxis\":{\"gridcolor\":\"white\",\"linecolor\":\"white\",\"ticks\":\"\"}},\"scene\":{\"xaxis\":{\"backgroundcolor\":\"#E5ECF6\",\"gridcolor\":\"white\",\"gridwidth\":2,\"linecolor\":\"white\",\"showbackground\":true,\"ticks\":\"\",\"zerolinecolor\":\"white\"},\"yaxis\":{\"backgroundcolor\":\"#E5ECF6\",\"gridcolor\":\"white\",\"gridwidth\":2,\"linecolor\":\"white\",\"showbackground\":true,\"ticks\":\"\",\"zerolinecolor\":\"white\"},\"zaxis\":{\"backgroundcolor\":\"#E5ECF6\",\"gridcolor\":\"white\",\"gridwidth\":2,\"linecolor\":\"white\",\"showbackground\":true,\"ticks\":\"\",\"zerolinecolor\":\"white\"}},\"shapedefaults\":{\"line\":{\"color\":\"#2a3f5f\"}},\"ternary\":{\"aaxis\":{\"gridcolor\":\"white\",\"linecolor\":\"white\",\"ticks\":\"\"},\"baxis\":{\"gridcolor\":\"white\",\"linecolor\":\"white\",\"ticks\":\"\"},\"bgcolor\":\"#E5ECF6\",\"caxis\":{\"gridcolor\":\"white\",\"linecolor\":\"white\",\"ticks\":\"\"}},\"title\":{\"x\":0.05},\"xaxis\":{\"automargin\":true,\"gridcolor\":\"white\",\"linecolor\":\"white\",\"ticks\":\"\",\"title\":{\"standoff\":15},\"zerolinecolor\":\"white\",\"zerolinewidth\":2},\"yaxis\":{\"automargin\":true,\"gridcolor\":\"white\",\"linecolor\":\"white\",\"ticks\":\"\",\"title\":{\"standoff\":15},\"zerolinecolor\":\"white\",\"zerolinewidth\":2}}},\"title\":{\"font\":{\"color\":\"#4D5663\"}},\"xaxis\":{\"gridcolor\":\"#E1E5ED\",\"showgrid\":true,\"tickfont\":{\"color\":\"#4D5663\"},\"title\":{\"font\":{\"color\":\"#4D5663\"},\"text\":\"\"},\"zerolinecolor\":\"#E1E5ED\"},\"yaxis\":{\"gridcolor\":\"#E1E5ED\",\"showgrid\":true,\"tickfont\":{\"color\":\"#4D5663\"},\"title\":{\"font\":{\"color\":\"#4D5663\"},\"text\":\"\"},\"zerolinecolor\":\"#E1E5ED\"}},                        {\"showLink\": true, \"linkText\": \"Export to plot.ly\", \"plotlyServerURL\": \"https://plot.ly\", \"responsive\": true}                    ).then(function(){\n",
       "                            \n",
       "var gd = document.getElementById('03c7e055-8bb2-4bdc-9c86-1538c8b31d9c');\n",
       "var x = new MutationObserver(function (mutations, observer) {{\n",
       "        var display = window.getComputedStyle(gd).display;\n",
       "        if (!display || display === 'none') {{\n",
       "            console.log([gd, 'removed!']);\n",
       "            Plotly.purge(gd);\n",
       "            observer.disconnect();\n",
       "        }}\n",
       "}});\n",
       "\n",
       "// Listen for the removal of the full notebook cells\n",
       "var notebookContainer = gd.closest('#notebook-container');\n",
       "if (notebookContainer) {{\n",
       "    x.observe(notebookContainer, {childList: true});\n",
       "}}\n",
       "\n",
       "// Listen for the clearing of the current output cell\n",
       "var outputEl = gd.closest('.output');\n",
       "if (outputEl) {{\n",
       "    x.observe(outputEl, {childList: true});\n",
       "}}\n",
       "\n",
       "                        })                };                });            </script>        </div>"
      ]
     },
     "metadata": {},
     "output_type": "display_data"
    }
   ],
   "source": [
    "df['A'].iplot(kind='hist',bins=50)"
   ]
  },
  {
   "cell_type": "code",
   "execution_count": 17,
   "id": "2853284e",
   "metadata": {},
   "outputs": [
    {
     "data": {
      "application/vnd.plotly.v1+json": {
       "config": {
        "linkText": "Export to plot.ly",
        "plotlyServerURL": "https://plot.ly",
        "showLink": true
       },
       "data": [
        {
         "histfunc": "count",
         "histnorm": "",
         "marker": {
          "color": "rgba(255, 153, 51, 1.0)",
          "line": {
           "color": "#4D5663",
           "width": 1.3
          }
         },
         "name": "A",
         "opacity": 0.8,
         "orientation": "v",
         "type": "histogram",
         "x": [
          -0.28417787083349927,
          0.6413274499391824,
          -0.33336861080745656,
          2.006764818840116,
          1.8728377960165354,
          -0.24882852649873424,
          -0.29861874001993766,
          -0.5527446223333694,
          -0.06284839007619376,
          0.6872961946392325,
          -0.48047030452308376,
          -0.15819211016748583,
          0.3979193283561742,
          -0.9231892579778409,
          0.5315667297247073,
          1.0017781127586238,
          -2.0721385248636266,
          0.9212012857921277,
          -0.25197735935695925,
          -2.5438707821411417,
          -0.9797570746505114,
          -1.785600451605513,
          -1.3677304085261701,
          -0.8597776400411747,
          -0.38161314435598254,
          -0.21955301709234307,
          -0.46962502773123727,
          0.08658003414889327,
          -2.624997706901156,
          1.617799016690096,
          0.2322838968046603,
          -0.5747107444070692,
          1.306245125000283,
          -0.7424921675650964,
          -0.6846539842162228,
          2.1601206807767657,
          -1.1832051219606274,
          0.21698850723985674,
          1.693120559186067,
          -1.4725670406597433,
          0.5268215706826592,
          0.22618522749666412,
          1.3241925977559907,
          -1.1750950935332447,
          0.779369119313454,
          -1.0622472454257539,
          -0.7479801434627531,
          -1.11546714284219,
          0.6490101527890603,
          -0.22489797094481306,
          -1.1740087820316207,
          0.08056535097254833,
          0.615871865696655,
          -0.17445791673987496,
          0.8456171781805357,
          1.8168544512752107,
          0.9067056603187674,
          -0.1318278852951855,
          -0.9806500898254744,
          0.4032491907360089,
          0.5456168400678882,
          1.6799435539133445,
          -1.417466304121186,
          1.1183981281871356,
          -0.5754137503060296,
          -0.4451311781056884,
          0.6524364369982173,
          -0.2531055435068277,
          -1.2238276239485155,
          0.5079425450594325,
          -0.7127247095374196,
          0.5340289009521697,
          -0.45390448707790165,
          -0.004315066126661081,
          0.01607814905285022,
          0.23686645998285866,
          -0.22681193933351268,
          -1.282908829683012,
          1.0598838321126345,
          -0.28086616600779785,
          -1.4665713559786704,
          0.9606502786533506,
          0.30386951258373074,
          0.9913019602065628,
          -0.5343798033042318,
          -1.2672235642375103,
          0.3206869075841262,
          0.059509125355931794,
          -0.7576598946355392,
          -0.5340235908042054,
          -1.1285727143193942,
          2.1140216110955588,
          1.0418469094947094,
          0.2854170485589883,
          -1.9999513786857224,
          0.9479014280894817,
          -1.14631525364236,
          1.6505960122936931,
          0.4751216841159835,
          0.07362728384021043
         ]
        },
        {
         "histfunc": "count",
         "histnorm": "",
         "marker": {
          "color": "rgba(55, 128, 191, 1.0)",
          "line": {
           "color": "#4D5663",
           "width": 1.3
          }
         },
         "name": "B",
         "opacity": 0.8,
         "orientation": "v",
         "type": "histogram",
         "x": [
          -0.9942875062320643,
          0.6693618378433789,
          1.4375270448174466,
          -0.7601350990541826,
          -1.3856509449362089,
          0.7699061108404363,
          0.04944535748246853,
          0.6061305364332712,
          -0.23326162112807344,
          2.1617704129411974,
          0.4182423292502963,
          -0.8119088645105795,
          0.644305020890722,
          0.12994496488584203,
          -1.5914719130541115,
          -0.3958209142720946,
          0.8320625813285379,
          0.3595709913909463,
          0.8608355243878564,
          -0.5121802342042246,
          -0.19251810768470703,
          -1.1025637585273937,
          0.7127282902106402,
          0.9252123054557275,
          0.26684715309611456,
          -2.0304254233704966,
          1.1185689589290568,
          0.12590272762439111,
          -0.4125100158666027,
          -1.3224183185741754,
          0.3344566151898501,
          -2.1168986945450343,
          -0.9081775216742415,
          -1.6901431359280612,
          1.0403812288066845,
          0.22958405742077428,
          -0.8426375495425725,
          2.276061422029563,
          0.5778368449479325,
          1.144721063467178,
          1.8299513587167864,
          1.4621795449801354,
          -2.4368266921099533,
          1.013362811041721,
          -0.5778304519601165,
          1.0356709009219747,
          -0.504355394746898,
          0.35213287720179104,
          -1.2035825393525954,
          0.8106345843941292,
          -1.595771889074104,
          0.2457069745672563,
          -0.8566043574987787,
          0.3918816986658821,
          -0.2636254412853934,
          -1.0805801266361703,
          0.7319184842233384,
          -0.9438163723917274,
          -0.07189078116332594,
          -1.8693359956196978,
          0.2080888807547833,
          -0.14434974751758786,
          -1.0649759862550428,
          0.27727223466743445,
          -0.09036623691422577,
          1.1030507777767082,
          0.6415368409136328,
          -1.3194312808649182,
          0.2572171302463949,
          0.9309998401890984,
          1.4420973248489697,
          0.42381088497255825,
          0.9266947420824746,
          1.0675505254092201,
          1.0591396740258205,
          -0.4130027839015729,
          1.6464567391114484,
          -0.7639222655044755,
          -0.33115201506490505,
          -2.1054031846049996,
          2.0697721097103496,
          0.24439587621825065,
          1.8662383890198717,
          1.138721370400964,
          0.9451389623407138,
          1.6984878039732823,
          -0.6924609238879748,
          0.26861365381914376,
          1.1436079001022867,
          -0.1704130968335762,
          1.112192969720432,
          -0.14059862423431896,
          1.0150879111753266,
          0.3912245979789011,
          -1.0085802974254625,
          0.12489394468227431,
          0.940715803891102,
          0.8522321107876281,
          -0.3210080437331556,
          -0.12446681042664187
         ]
        },
        {
         "histfunc": "count",
         "histnorm": "",
         "marker": {
          "color": "rgba(50, 171, 96, 1.0)",
          "line": {
           "color": "#4D5663",
           "width": 1.3
          }
         },
         "name": "C",
         "opacity": 0.8,
         "orientation": "v",
         "type": "histogram",
         "x": [
          -0.34202531207788545,
          -1.1222644470835623,
          0.7028141803063046,
          -1.480542876628892,
          -0.9233934593064455,
          0.5036205587923401,
          1.4660744366199934,
          -0.21608707226005955,
          -1.1093147070053189,
          1.433557888382385,
          -0.8756375577785833,
          1.8804371359806382,
          0.9652403751072904,
          0.28463325794690736,
          -1.0144520633697285,
          -0.7673921859551343,
          0.6564409778143822,
          -0.5333563310336471,
          -0.39986394721001606,
          0.8305702442813395,
          -0.44809448978486593,
          0.049755930390898345,
          2.6326085049249,
          -0.01833363814526974,
          0.3441520200024451,
          -1.7866472901597523,
          0.3279751470912204,
          -0.651356902544409,
          -1.9274271068441076,
          -1.370102823710896,
          0.7173151301957572,
          -1.5489209310423662,
          0.5376097134578425,
          1.8922423041507017,
          0.809397641924778,
          0.20384111665149685,
          -0.6277025287109835,
          -0.8751068206707202,
          1.0533389203914831,
          -1.2631932199633122,
          1.2306688540802848,
          0.7602783043009048,
          -0.30484670532054464,
          0.7725060250156658,
          -0.8299347589536743,
          -0.8026514561118214,
          0.8530052334858856,
          -1.6020389893628182,
          0.07370833078691273,
          0.6242170813905074,
          -0.7494457547772824,
          1.0713472336931962,
          0.4223421938420806,
          0.42263534449981793,
          1.4646456275285444,
          1.039683827554642,
          -0.30023425832023526,
          0.37404649991939753,
          0.4673122624237375,
          0.18731902338959072,
          1.5542151833418307,
          0.030645771385122117,
          -0.8318116408604491,
          -1.1263419390554672,
          0.5358409341661668,
          -1.9657428068175744,
          0.6348557749007114,
          -0.22126233057382555,
          -0.3574269524949713,
          -0.08599473004005423,
          0.021975676472548403,
          1.4977920735405388,
          -0.8390333265648123,
          -2.2313899182895818,
          1.3614113456212968,
          -1.1755163614388362,
          -1.776343557538182,
          0.29042700200692667,
          -0.838329491264759,
          1.0217453683864703,
          -0.7943644046396928,
          -0.5768203269604888,
          -1.1605826216175161,
          -1.6411546834540554,
          0.31404144741132656,
          0.551072360896318,
          -0.5790178473959828,
          0.008919696842239469,
          1.808423009360889,
          -2.3241472476965597,
          -0.6701412045400894,
          0.5443306706696933,
          0.789808416199637,
          0.06654335004375507,
          -0.3184402371805494,
          -0.8890998642263612,
          -0.4835588721141622,
          -0.6833884018172537,
          0.14227766099943137,
          -0.7282562084320509
         ]
        },
        {
         "histfunc": "count",
         "histnorm": "",
         "marker": {
          "color": "rgba(128, 0, 128, 1.0)",
          "line": {
           "color": "#4D5663",
           "width": 1.3
          }
         },
         "name": "D",
         "opacity": 0.8,
         "orientation": "v",
         "type": "histogram",
         "x": [
          2.3273910288552506,
          -0.6334933422691658,
          -0.4319441967976972,
          0.8577780510833726,
          1.3174059338669621,
          -0.6419320987216489,
          -1.3623116287539814,
          -0.36468518093902114,
          -0.8450845612877584,
          -0.4881826737960272,
          0.09476315850175457,
          1.0707324179943876,
          0.3002091046018555,
          0.9544992905670775,
          -1.5127659587156748,
          -0.5773216582309553,
          -0.9076002676818018,
          -0.523402182113726,
          -0.5149440398200762,
          -0.6431734614961144,
          -1.5370571149551584,
          0.9325810997834867,
          -0.3799828394287921,
          -0.11822808269683163,
          -0.524651240767075,
          0.7897693225404266,
          1.467359904266115,
          0.2537630042514331,
          0.6743251965769663,
          0.5896915024727922,
          -0.045371342409358674,
          0.2182240360478912,
          1.40776850307784,
          0.041593127323566556,
          -0.5319973112214076,
          -0.05599391621882997,
          -0.1061570381773591,
          -0.6161882918476722,
          -0.07818898211415566,
          0.010637516591020602,
          -0.6182877208698392,
          -1.2838999360709513,
          -1.4007084269364891,
          1.427510765925255,
          0.032155487844832034,
          0.28333166882826216,
          1.006725884900438,
          -1.0523893986368669,
          -0.9336714173023393,
          -1.3563112450957753,
          -0.5731588466774825,
          0.4075153149982536,
          -0.3644485580192882,
          0.8600600388065972,
          -0.14234796247850964,
          1.1451547562188789,
          -0.752281620428336,
          0.1577097727954971,
          0.6614599988815082,
          -0.5426977912871537,
          0.21117520713766527,
          1.6280984663042002,
          0.31213880062866084,
          -0.2284117223697516,
          -0.7480587993056564,
          1.7398577171738578,
          0.1915555887976298,
          -0.9612225264785467,
          -0.11257263417371008,
          -0.051376345390612116,
          0.6067179528849395,
          0.2613977081738276,
          0.04367550982255278,
          -0.07256060375107316,
          0.0889325342151191,
          -1.2494846785625786,
          -0.4623623677571795,
          1.581560174643525,
          -0.11297473937727727,
          1.6909755749235467,
          -0.5030135767939994,
          -0.3911481682390143,
          1.0747468470735577,
          0.6833784597022645,
          0.3483076837286668,
          0.8515336574151208,
          0.6247803986944622,
          0.2034486283047299,
          0.24790489952176153,
          -1.124912560396261,
          1.5618180213234496,
          -0.46369657821326493,
          -1.0174996099740776,
          1.097651723730236,
          -0.6130002595398112,
          0.028871294808732635,
          0.3690582224437009,
          0.31554028066586876,
          -0.75027510698757,
          1.1742404037714962
         ]
        }
       ],
       "layout": {
        "barmode": "overlay",
        "legend": {
         "bgcolor": "#F5F6F9",
         "font": {
          "color": "#4D5663"
         }
        },
        "paper_bgcolor": "#F5F6F9",
        "plot_bgcolor": "#F5F6F9",
        "template": {
         "data": {
          "bar": [
           {
            "error_x": {
             "color": "#2a3f5f"
            },
            "error_y": {
             "color": "#2a3f5f"
            },
            "marker": {
             "line": {
              "color": "#E5ECF6",
              "width": 0.5
             },
             "pattern": {
              "fillmode": "overlay",
              "size": 10,
              "solidity": 0.2
             }
            },
            "type": "bar"
           }
          ],
          "barpolar": [
           {
            "marker": {
             "line": {
              "color": "#E5ECF6",
              "width": 0.5
             },
             "pattern": {
              "fillmode": "overlay",
              "size": 10,
              "solidity": 0.2
             }
            },
            "type": "barpolar"
           }
          ],
          "carpet": [
           {
            "aaxis": {
             "endlinecolor": "#2a3f5f",
             "gridcolor": "white",
             "linecolor": "white",
             "minorgridcolor": "white",
             "startlinecolor": "#2a3f5f"
            },
            "baxis": {
             "endlinecolor": "#2a3f5f",
             "gridcolor": "white",
             "linecolor": "white",
             "minorgridcolor": "white",
             "startlinecolor": "#2a3f5f"
            },
            "type": "carpet"
           }
          ],
          "choropleth": [
           {
            "colorbar": {
             "outlinewidth": 0,
             "ticks": ""
            },
            "type": "choropleth"
           }
          ],
          "contour": [
           {
            "colorbar": {
             "outlinewidth": 0,
             "ticks": ""
            },
            "colorscale": [
             [
              0,
              "#0d0887"
             ],
             [
              0.1111111111111111,
              "#46039f"
             ],
             [
              0.2222222222222222,
              "#7201a8"
             ],
             [
              0.3333333333333333,
              "#9c179e"
             ],
             [
              0.4444444444444444,
              "#bd3786"
             ],
             [
              0.5555555555555556,
              "#d8576b"
             ],
             [
              0.6666666666666666,
              "#ed7953"
             ],
             [
              0.7777777777777778,
              "#fb9f3a"
             ],
             [
              0.8888888888888888,
              "#fdca26"
             ],
             [
              1,
              "#f0f921"
             ]
            ],
            "type": "contour"
           }
          ],
          "contourcarpet": [
           {
            "colorbar": {
             "outlinewidth": 0,
             "ticks": ""
            },
            "type": "contourcarpet"
           }
          ],
          "heatmap": [
           {
            "colorbar": {
             "outlinewidth": 0,
             "ticks": ""
            },
            "colorscale": [
             [
              0,
              "#0d0887"
             ],
             [
              0.1111111111111111,
              "#46039f"
             ],
             [
              0.2222222222222222,
              "#7201a8"
             ],
             [
              0.3333333333333333,
              "#9c179e"
             ],
             [
              0.4444444444444444,
              "#bd3786"
             ],
             [
              0.5555555555555556,
              "#d8576b"
             ],
             [
              0.6666666666666666,
              "#ed7953"
             ],
             [
              0.7777777777777778,
              "#fb9f3a"
             ],
             [
              0.8888888888888888,
              "#fdca26"
             ],
             [
              1,
              "#f0f921"
             ]
            ],
            "type": "heatmap"
           }
          ],
          "heatmapgl": [
           {
            "colorbar": {
             "outlinewidth": 0,
             "ticks": ""
            },
            "colorscale": [
             [
              0,
              "#0d0887"
             ],
             [
              0.1111111111111111,
              "#46039f"
             ],
             [
              0.2222222222222222,
              "#7201a8"
             ],
             [
              0.3333333333333333,
              "#9c179e"
             ],
             [
              0.4444444444444444,
              "#bd3786"
             ],
             [
              0.5555555555555556,
              "#d8576b"
             ],
             [
              0.6666666666666666,
              "#ed7953"
             ],
             [
              0.7777777777777778,
              "#fb9f3a"
             ],
             [
              0.8888888888888888,
              "#fdca26"
             ],
             [
              1,
              "#f0f921"
             ]
            ],
            "type": "heatmapgl"
           }
          ],
          "histogram": [
           {
            "marker": {
             "pattern": {
              "fillmode": "overlay",
              "size": 10,
              "solidity": 0.2
             }
            },
            "type": "histogram"
           }
          ],
          "histogram2d": [
           {
            "colorbar": {
             "outlinewidth": 0,
             "ticks": ""
            },
            "colorscale": [
             [
              0,
              "#0d0887"
             ],
             [
              0.1111111111111111,
              "#46039f"
             ],
             [
              0.2222222222222222,
              "#7201a8"
             ],
             [
              0.3333333333333333,
              "#9c179e"
             ],
             [
              0.4444444444444444,
              "#bd3786"
             ],
             [
              0.5555555555555556,
              "#d8576b"
             ],
             [
              0.6666666666666666,
              "#ed7953"
             ],
             [
              0.7777777777777778,
              "#fb9f3a"
             ],
             [
              0.8888888888888888,
              "#fdca26"
             ],
             [
              1,
              "#f0f921"
             ]
            ],
            "type": "histogram2d"
           }
          ],
          "histogram2dcontour": [
           {
            "colorbar": {
             "outlinewidth": 0,
             "ticks": ""
            },
            "colorscale": [
             [
              0,
              "#0d0887"
             ],
             [
              0.1111111111111111,
              "#46039f"
             ],
             [
              0.2222222222222222,
              "#7201a8"
             ],
             [
              0.3333333333333333,
              "#9c179e"
             ],
             [
              0.4444444444444444,
              "#bd3786"
             ],
             [
              0.5555555555555556,
              "#d8576b"
             ],
             [
              0.6666666666666666,
              "#ed7953"
             ],
             [
              0.7777777777777778,
              "#fb9f3a"
             ],
             [
              0.8888888888888888,
              "#fdca26"
             ],
             [
              1,
              "#f0f921"
             ]
            ],
            "type": "histogram2dcontour"
           }
          ],
          "mesh3d": [
           {
            "colorbar": {
             "outlinewidth": 0,
             "ticks": ""
            },
            "type": "mesh3d"
           }
          ],
          "parcoords": [
           {
            "line": {
             "colorbar": {
              "outlinewidth": 0,
              "ticks": ""
             }
            },
            "type": "parcoords"
           }
          ],
          "pie": [
           {
            "automargin": true,
            "type": "pie"
           }
          ],
          "scatter": [
           {
            "fillpattern": {
             "fillmode": "overlay",
             "size": 10,
             "solidity": 0.2
            },
            "type": "scatter"
           }
          ],
          "scatter3d": [
           {
            "line": {
             "colorbar": {
              "outlinewidth": 0,
              "ticks": ""
             }
            },
            "marker": {
             "colorbar": {
              "outlinewidth": 0,
              "ticks": ""
             }
            },
            "type": "scatter3d"
           }
          ],
          "scattercarpet": [
           {
            "marker": {
             "colorbar": {
              "outlinewidth": 0,
              "ticks": ""
             }
            },
            "type": "scattercarpet"
           }
          ],
          "scattergeo": [
           {
            "marker": {
             "colorbar": {
              "outlinewidth": 0,
              "ticks": ""
             }
            },
            "type": "scattergeo"
           }
          ],
          "scattergl": [
           {
            "marker": {
             "colorbar": {
              "outlinewidth": 0,
              "ticks": ""
             }
            },
            "type": "scattergl"
           }
          ],
          "scattermapbox": [
           {
            "marker": {
             "colorbar": {
              "outlinewidth": 0,
              "ticks": ""
             }
            },
            "type": "scattermapbox"
           }
          ],
          "scatterpolar": [
           {
            "marker": {
             "colorbar": {
              "outlinewidth": 0,
              "ticks": ""
             }
            },
            "type": "scatterpolar"
           }
          ],
          "scatterpolargl": [
           {
            "marker": {
             "colorbar": {
              "outlinewidth": 0,
              "ticks": ""
             }
            },
            "type": "scatterpolargl"
           }
          ],
          "scatterternary": [
           {
            "marker": {
             "colorbar": {
              "outlinewidth": 0,
              "ticks": ""
             }
            },
            "type": "scatterternary"
           }
          ],
          "surface": [
           {
            "colorbar": {
             "outlinewidth": 0,
             "ticks": ""
            },
            "colorscale": [
             [
              0,
              "#0d0887"
             ],
             [
              0.1111111111111111,
              "#46039f"
             ],
             [
              0.2222222222222222,
              "#7201a8"
             ],
             [
              0.3333333333333333,
              "#9c179e"
             ],
             [
              0.4444444444444444,
              "#bd3786"
             ],
             [
              0.5555555555555556,
              "#d8576b"
             ],
             [
              0.6666666666666666,
              "#ed7953"
             ],
             [
              0.7777777777777778,
              "#fb9f3a"
             ],
             [
              0.8888888888888888,
              "#fdca26"
             ],
             [
              1,
              "#f0f921"
             ]
            ],
            "type": "surface"
           }
          ],
          "table": [
           {
            "cells": {
             "fill": {
              "color": "#EBF0F8"
             },
             "line": {
              "color": "white"
             }
            },
            "header": {
             "fill": {
              "color": "#C8D4E3"
             },
             "line": {
              "color": "white"
             }
            },
            "type": "table"
           }
          ]
         },
         "layout": {
          "annotationdefaults": {
           "arrowcolor": "#2a3f5f",
           "arrowhead": 0,
           "arrowwidth": 1
          },
          "autotypenumbers": "strict",
          "coloraxis": {
           "colorbar": {
            "outlinewidth": 0,
            "ticks": ""
           }
          },
          "colorscale": {
           "diverging": [
            [
             0,
             "#8e0152"
            ],
            [
             0.1,
             "#c51b7d"
            ],
            [
             0.2,
             "#de77ae"
            ],
            [
             0.3,
             "#f1b6da"
            ],
            [
             0.4,
             "#fde0ef"
            ],
            [
             0.5,
             "#f7f7f7"
            ],
            [
             0.6,
             "#e6f5d0"
            ],
            [
             0.7,
             "#b8e186"
            ],
            [
             0.8,
             "#7fbc41"
            ],
            [
             0.9,
             "#4d9221"
            ],
            [
             1,
             "#276419"
            ]
           ],
           "sequential": [
            [
             0,
             "#0d0887"
            ],
            [
             0.1111111111111111,
             "#46039f"
            ],
            [
             0.2222222222222222,
             "#7201a8"
            ],
            [
             0.3333333333333333,
             "#9c179e"
            ],
            [
             0.4444444444444444,
             "#bd3786"
            ],
            [
             0.5555555555555556,
             "#d8576b"
            ],
            [
             0.6666666666666666,
             "#ed7953"
            ],
            [
             0.7777777777777778,
             "#fb9f3a"
            ],
            [
             0.8888888888888888,
             "#fdca26"
            ],
            [
             1,
             "#f0f921"
            ]
           ],
           "sequentialminus": [
            [
             0,
             "#0d0887"
            ],
            [
             0.1111111111111111,
             "#46039f"
            ],
            [
             0.2222222222222222,
             "#7201a8"
            ],
            [
             0.3333333333333333,
             "#9c179e"
            ],
            [
             0.4444444444444444,
             "#bd3786"
            ],
            [
             0.5555555555555556,
             "#d8576b"
            ],
            [
             0.6666666666666666,
             "#ed7953"
            ],
            [
             0.7777777777777778,
             "#fb9f3a"
            ],
            [
             0.8888888888888888,
             "#fdca26"
            ],
            [
             1,
             "#f0f921"
            ]
           ]
          },
          "colorway": [
           "#636efa",
           "#EF553B",
           "#00cc96",
           "#ab63fa",
           "#FFA15A",
           "#19d3f3",
           "#FF6692",
           "#B6E880",
           "#FF97FF",
           "#FECB52"
          ],
          "font": {
           "color": "#2a3f5f"
          },
          "geo": {
           "bgcolor": "white",
           "lakecolor": "white",
           "landcolor": "#E5ECF6",
           "showlakes": true,
           "showland": true,
           "subunitcolor": "white"
          },
          "hoverlabel": {
           "align": "left"
          },
          "hovermode": "closest",
          "mapbox": {
           "style": "light"
          },
          "paper_bgcolor": "white",
          "plot_bgcolor": "#E5ECF6",
          "polar": {
           "angularaxis": {
            "gridcolor": "white",
            "linecolor": "white",
            "ticks": ""
           },
           "bgcolor": "#E5ECF6",
           "radialaxis": {
            "gridcolor": "white",
            "linecolor": "white",
            "ticks": ""
           }
          },
          "scene": {
           "xaxis": {
            "backgroundcolor": "#E5ECF6",
            "gridcolor": "white",
            "gridwidth": 2,
            "linecolor": "white",
            "showbackground": true,
            "ticks": "",
            "zerolinecolor": "white"
           },
           "yaxis": {
            "backgroundcolor": "#E5ECF6",
            "gridcolor": "white",
            "gridwidth": 2,
            "linecolor": "white",
            "showbackground": true,
            "ticks": "",
            "zerolinecolor": "white"
           },
           "zaxis": {
            "backgroundcolor": "#E5ECF6",
            "gridcolor": "white",
            "gridwidth": 2,
            "linecolor": "white",
            "showbackground": true,
            "ticks": "",
            "zerolinecolor": "white"
           }
          },
          "shapedefaults": {
           "line": {
            "color": "#2a3f5f"
           }
          },
          "ternary": {
           "aaxis": {
            "gridcolor": "white",
            "linecolor": "white",
            "ticks": ""
           },
           "baxis": {
            "gridcolor": "white",
            "linecolor": "white",
            "ticks": ""
           },
           "bgcolor": "#E5ECF6",
           "caxis": {
            "gridcolor": "white",
            "linecolor": "white",
            "ticks": ""
           }
          },
          "title": {
           "x": 0.05
          },
          "xaxis": {
           "automargin": true,
           "gridcolor": "white",
           "linecolor": "white",
           "ticks": "",
           "title": {
            "standoff": 15
           },
           "zerolinecolor": "white",
           "zerolinewidth": 2
          },
          "yaxis": {
           "automargin": true,
           "gridcolor": "white",
           "linecolor": "white",
           "ticks": "",
           "title": {
            "standoff": 15
           },
           "zerolinecolor": "white",
           "zerolinewidth": 2
          }
         }
        },
        "title": {
         "font": {
          "color": "#4D5663"
         }
        },
        "xaxis": {
         "gridcolor": "#E1E5ED",
         "showgrid": true,
         "tickfont": {
          "color": "#4D5663"
         },
         "title": {
          "font": {
           "color": "#4D5663"
          },
          "text": ""
         },
         "zerolinecolor": "#E1E5ED"
        },
        "yaxis": {
         "gridcolor": "#E1E5ED",
         "showgrid": true,
         "tickfont": {
          "color": "#4D5663"
         },
         "title": {
          "font": {
           "color": "#4D5663"
          },
          "text": ""
         },
         "zerolinecolor": "#E1E5ED"
        }
       }
      },
      "text/html": [
       "<div>                            <div id=\"700d9548-c970-4c9e-9417-87d477896239\" class=\"plotly-graph-div\" style=\"height:525px; width:100%;\"></div>            <script type=\"text/javascript\">                require([\"plotly\"], function(Plotly) {                    window.PLOTLYENV=window.PLOTLYENV || {};\n",
       "                    window.PLOTLYENV.BASE_URL='https://plot.ly';                                    if (document.getElementById(\"700d9548-c970-4c9e-9417-87d477896239\")) {                    Plotly.newPlot(                        \"700d9548-c970-4c9e-9417-87d477896239\",                        [{\"histfunc\":\"count\",\"histnorm\":\"\",\"marker\":{\"color\":\"rgba(255, 153, 51, 1.0)\",\"line\":{\"color\":\"#4D5663\",\"width\":1.3}},\"name\":\"A\",\"opacity\":0.8,\"orientation\":\"v\",\"x\":[-0.28417787083349927,0.6413274499391824,-0.33336861080745656,2.006764818840116,1.8728377960165354,-0.24882852649873424,-0.29861874001993766,-0.5527446223333694,-0.06284839007619376,0.6872961946392325,-0.48047030452308376,-0.15819211016748583,0.3979193283561742,-0.9231892579778409,0.5315667297247073,1.0017781127586238,-2.0721385248636266,0.9212012857921277,-0.25197735935695925,-2.5438707821411417,-0.9797570746505114,-1.785600451605513,-1.3677304085261701,-0.8597776400411747,-0.38161314435598254,-0.21955301709234307,-0.46962502773123727,0.08658003414889327,-2.624997706901156,1.617799016690096,0.2322838968046603,-0.5747107444070692,1.306245125000283,-0.7424921675650964,-0.6846539842162228,2.1601206807767657,-1.1832051219606274,0.21698850723985674,1.693120559186067,-1.4725670406597433,0.5268215706826592,0.22618522749666412,1.3241925977559907,-1.1750950935332447,0.779369119313454,-1.0622472454257539,-0.7479801434627531,-1.11546714284219,0.6490101527890603,-0.22489797094481306,-1.1740087820316207,0.08056535097254833,0.615871865696655,-0.17445791673987496,0.8456171781805357,1.8168544512752107,0.9067056603187674,-0.1318278852951855,-0.9806500898254744,0.4032491907360089,0.5456168400678882,1.6799435539133445,-1.417466304121186,1.1183981281871356,-0.5754137503060296,-0.4451311781056884,0.6524364369982173,-0.2531055435068277,-1.2238276239485155,0.5079425450594325,-0.7127247095374196,0.5340289009521697,-0.45390448707790165,-0.004315066126661081,0.01607814905285022,0.23686645998285866,-0.22681193933351268,-1.282908829683012,1.0598838321126345,-0.28086616600779785,-1.4665713559786704,0.9606502786533506,0.30386951258373074,0.9913019602065628,-0.5343798033042318,-1.2672235642375103,0.3206869075841262,0.059509125355931794,-0.7576598946355392,-0.5340235908042054,-1.1285727143193942,2.1140216110955588,1.0418469094947094,0.2854170485589883,-1.9999513786857224,0.9479014280894817,-1.14631525364236,1.6505960122936931,0.4751216841159835,0.07362728384021043],\"type\":\"histogram\"},{\"histfunc\":\"count\",\"histnorm\":\"\",\"marker\":{\"color\":\"rgba(55, 128, 191, 1.0)\",\"line\":{\"color\":\"#4D5663\",\"width\":1.3}},\"name\":\"B\",\"opacity\":0.8,\"orientation\":\"v\",\"x\":[-0.9942875062320643,0.6693618378433789,1.4375270448174466,-0.7601350990541826,-1.3856509449362089,0.7699061108404363,0.04944535748246853,0.6061305364332712,-0.23326162112807344,2.1617704129411974,0.4182423292502963,-0.8119088645105795,0.644305020890722,0.12994496488584203,-1.5914719130541115,-0.3958209142720946,0.8320625813285379,0.3595709913909463,0.8608355243878564,-0.5121802342042246,-0.19251810768470703,-1.1025637585273937,0.7127282902106402,0.9252123054557275,0.26684715309611456,-2.0304254233704966,1.1185689589290568,0.12590272762439111,-0.4125100158666027,-1.3224183185741754,0.3344566151898501,-2.1168986945450343,-0.9081775216742415,-1.6901431359280612,1.0403812288066845,0.22958405742077428,-0.8426375495425725,2.276061422029563,0.5778368449479325,1.144721063467178,1.8299513587167864,1.4621795449801354,-2.4368266921099533,1.013362811041721,-0.5778304519601165,1.0356709009219747,-0.504355394746898,0.35213287720179104,-1.2035825393525954,0.8106345843941292,-1.595771889074104,0.2457069745672563,-0.8566043574987787,0.3918816986658821,-0.2636254412853934,-1.0805801266361703,0.7319184842233384,-0.9438163723917274,-0.07189078116332594,-1.8693359956196978,0.2080888807547833,-0.14434974751758786,-1.0649759862550428,0.27727223466743445,-0.09036623691422577,1.1030507777767082,0.6415368409136328,-1.3194312808649182,0.2572171302463949,0.9309998401890984,1.4420973248489697,0.42381088497255825,0.9266947420824746,1.0675505254092201,1.0591396740258205,-0.4130027839015729,1.6464567391114484,-0.7639222655044755,-0.33115201506490505,-2.1054031846049996,2.0697721097103496,0.24439587621825065,1.8662383890198717,1.138721370400964,0.9451389623407138,1.6984878039732823,-0.6924609238879748,0.26861365381914376,1.1436079001022867,-0.1704130968335762,1.112192969720432,-0.14059862423431896,1.0150879111753266,0.3912245979789011,-1.0085802974254625,0.12489394468227431,0.940715803891102,0.8522321107876281,-0.3210080437331556,-0.12446681042664187],\"type\":\"histogram\"},{\"histfunc\":\"count\",\"histnorm\":\"\",\"marker\":{\"color\":\"rgba(50, 171, 96, 1.0)\",\"line\":{\"color\":\"#4D5663\",\"width\":1.3}},\"name\":\"C\",\"opacity\":0.8,\"orientation\":\"v\",\"x\":[-0.34202531207788545,-1.1222644470835623,0.7028141803063046,-1.480542876628892,-0.9233934593064455,0.5036205587923401,1.4660744366199934,-0.21608707226005955,-1.1093147070053189,1.433557888382385,-0.8756375577785833,1.8804371359806382,0.9652403751072904,0.28463325794690736,-1.0144520633697285,-0.7673921859551343,0.6564409778143822,-0.5333563310336471,-0.39986394721001606,0.8305702442813395,-0.44809448978486593,0.049755930390898345,2.6326085049249,-0.01833363814526974,0.3441520200024451,-1.7866472901597523,0.3279751470912204,-0.651356902544409,-1.9274271068441076,-1.370102823710896,0.7173151301957572,-1.5489209310423662,0.5376097134578425,1.8922423041507017,0.809397641924778,0.20384111665149685,-0.6277025287109835,-0.8751068206707202,1.0533389203914831,-1.2631932199633122,1.2306688540802848,0.7602783043009048,-0.30484670532054464,0.7725060250156658,-0.8299347589536743,-0.8026514561118214,0.8530052334858856,-1.6020389893628182,0.07370833078691273,0.6242170813905074,-0.7494457547772824,1.0713472336931962,0.4223421938420806,0.42263534449981793,1.4646456275285444,1.039683827554642,-0.30023425832023526,0.37404649991939753,0.4673122624237375,0.18731902338959072,1.5542151833418307,0.030645771385122117,-0.8318116408604491,-1.1263419390554672,0.5358409341661668,-1.9657428068175744,0.6348557749007114,-0.22126233057382555,-0.3574269524949713,-0.08599473004005423,0.021975676472548403,1.4977920735405388,-0.8390333265648123,-2.2313899182895818,1.3614113456212968,-1.1755163614388362,-1.776343557538182,0.29042700200692667,-0.838329491264759,1.0217453683864703,-0.7943644046396928,-0.5768203269604888,-1.1605826216175161,-1.6411546834540554,0.31404144741132656,0.551072360896318,-0.5790178473959828,0.008919696842239469,1.808423009360889,-2.3241472476965597,-0.6701412045400894,0.5443306706696933,0.789808416199637,0.06654335004375507,-0.3184402371805494,-0.8890998642263612,-0.4835588721141622,-0.6833884018172537,0.14227766099943137,-0.7282562084320509],\"type\":\"histogram\"},{\"histfunc\":\"count\",\"histnorm\":\"\",\"marker\":{\"color\":\"rgba(128, 0, 128, 1.0)\",\"line\":{\"color\":\"#4D5663\",\"width\":1.3}},\"name\":\"D\",\"opacity\":0.8,\"orientation\":\"v\",\"x\":[2.3273910288552506,-0.6334933422691658,-0.4319441967976972,0.8577780510833726,1.3174059338669621,-0.6419320987216489,-1.3623116287539814,-0.36468518093902114,-0.8450845612877584,-0.4881826737960272,0.09476315850175457,1.0707324179943876,0.3002091046018555,0.9544992905670775,-1.5127659587156748,-0.5773216582309553,-0.9076002676818018,-0.523402182113726,-0.5149440398200762,-0.6431734614961144,-1.5370571149551584,0.9325810997834867,-0.3799828394287921,-0.11822808269683163,-0.524651240767075,0.7897693225404266,1.467359904266115,0.2537630042514331,0.6743251965769663,0.5896915024727922,-0.045371342409358674,0.2182240360478912,1.40776850307784,0.041593127323566556,-0.5319973112214076,-0.05599391621882997,-0.1061570381773591,-0.6161882918476722,-0.07818898211415566,0.010637516591020602,-0.6182877208698392,-1.2838999360709513,-1.4007084269364891,1.427510765925255,0.032155487844832034,0.28333166882826216,1.006725884900438,-1.0523893986368669,-0.9336714173023393,-1.3563112450957753,-0.5731588466774825,0.4075153149982536,-0.3644485580192882,0.8600600388065972,-0.14234796247850964,1.1451547562188789,-0.752281620428336,0.1577097727954971,0.6614599988815082,-0.5426977912871537,0.21117520713766527,1.6280984663042002,0.31213880062866084,-0.2284117223697516,-0.7480587993056564,1.7398577171738578,0.1915555887976298,-0.9612225264785467,-0.11257263417371008,-0.051376345390612116,0.6067179528849395,0.2613977081738276,0.04367550982255278,-0.07256060375107316,0.0889325342151191,-1.2494846785625786,-0.4623623677571795,1.581560174643525,-0.11297473937727727,1.6909755749235467,-0.5030135767939994,-0.3911481682390143,1.0747468470735577,0.6833784597022645,0.3483076837286668,0.8515336574151208,0.6247803986944622,0.2034486283047299,0.24790489952176153,-1.124912560396261,1.5618180213234496,-0.46369657821326493,-1.0174996099740776,1.097651723730236,-0.6130002595398112,0.028871294808732635,0.3690582224437009,0.31554028066586876,-0.75027510698757,1.1742404037714962],\"type\":\"histogram\"}],                        {\"barmode\":\"overlay\",\"legend\":{\"bgcolor\":\"#F5F6F9\",\"font\":{\"color\":\"#4D5663\"}},\"paper_bgcolor\":\"#F5F6F9\",\"plot_bgcolor\":\"#F5F6F9\",\"template\":{\"data\":{\"barpolar\":[{\"marker\":{\"line\":{\"color\":\"#E5ECF6\",\"width\":0.5},\"pattern\":{\"fillmode\":\"overlay\",\"size\":10,\"solidity\":0.2}},\"type\":\"barpolar\"}],\"bar\":[{\"error_x\":{\"color\":\"#2a3f5f\"},\"error_y\":{\"color\":\"#2a3f5f\"},\"marker\":{\"line\":{\"color\":\"#E5ECF6\",\"width\":0.5},\"pattern\":{\"fillmode\":\"overlay\",\"size\":10,\"solidity\":0.2}},\"type\":\"bar\"}],\"carpet\":[{\"aaxis\":{\"endlinecolor\":\"#2a3f5f\",\"gridcolor\":\"white\",\"linecolor\":\"white\",\"minorgridcolor\":\"white\",\"startlinecolor\":\"#2a3f5f\"},\"baxis\":{\"endlinecolor\":\"#2a3f5f\",\"gridcolor\":\"white\",\"linecolor\":\"white\",\"minorgridcolor\":\"white\",\"startlinecolor\":\"#2a3f5f\"},\"type\":\"carpet\"}],\"choropleth\":[{\"colorbar\":{\"outlinewidth\":0,\"ticks\":\"\"},\"type\":\"choropleth\"}],\"contourcarpet\":[{\"colorbar\":{\"outlinewidth\":0,\"ticks\":\"\"},\"type\":\"contourcarpet\"}],\"contour\":[{\"colorbar\":{\"outlinewidth\":0,\"ticks\":\"\"},\"colorscale\":[[0.0,\"#0d0887\"],[0.1111111111111111,\"#46039f\"],[0.2222222222222222,\"#7201a8\"],[0.3333333333333333,\"#9c179e\"],[0.4444444444444444,\"#bd3786\"],[0.5555555555555556,\"#d8576b\"],[0.6666666666666666,\"#ed7953\"],[0.7777777777777778,\"#fb9f3a\"],[0.8888888888888888,\"#fdca26\"],[1.0,\"#f0f921\"]],\"type\":\"contour\"}],\"heatmapgl\":[{\"colorbar\":{\"outlinewidth\":0,\"ticks\":\"\"},\"colorscale\":[[0.0,\"#0d0887\"],[0.1111111111111111,\"#46039f\"],[0.2222222222222222,\"#7201a8\"],[0.3333333333333333,\"#9c179e\"],[0.4444444444444444,\"#bd3786\"],[0.5555555555555556,\"#d8576b\"],[0.6666666666666666,\"#ed7953\"],[0.7777777777777778,\"#fb9f3a\"],[0.8888888888888888,\"#fdca26\"],[1.0,\"#f0f921\"]],\"type\":\"heatmapgl\"}],\"heatmap\":[{\"colorbar\":{\"outlinewidth\":0,\"ticks\":\"\"},\"colorscale\":[[0.0,\"#0d0887\"],[0.1111111111111111,\"#46039f\"],[0.2222222222222222,\"#7201a8\"],[0.3333333333333333,\"#9c179e\"],[0.4444444444444444,\"#bd3786\"],[0.5555555555555556,\"#d8576b\"],[0.6666666666666666,\"#ed7953\"],[0.7777777777777778,\"#fb9f3a\"],[0.8888888888888888,\"#fdca26\"],[1.0,\"#f0f921\"]],\"type\":\"heatmap\"}],\"histogram2dcontour\":[{\"colorbar\":{\"outlinewidth\":0,\"ticks\":\"\"},\"colorscale\":[[0.0,\"#0d0887\"],[0.1111111111111111,\"#46039f\"],[0.2222222222222222,\"#7201a8\"],[0.3333333333333333,\"#9c179e\"],[0.4444444444444444,\"#bd3786\"],[0.5555555555555556,\"#d8576b\"],[0.6666666666666666,\"#ed7953\"],[0.7777777777777778,\"#fb9f3a\"],[0.8888888888888888,\"#fdca26\"],[1.0,\"#f0f921\"]],\"type\":\"histogram2dcontour\"}],\"histogram2d\":[{\"colorbar\":{\"outlinewidth\":0,\"ticks\":\"\"},\"colorscale\":[[0.0,\"#0d0887\"],[0.1111111111111111,\"#46039f\"],[0.2222222222222222,\"#7201a8\"],[0.3333333333333333,\"#9c179e\"],[0.4444444444444444,\"#bd3786\"],[0.5555555555555556,\"#d8576b\"],[0.6666666666666666,\"#ed7953\"],[0.7777777777777778,\"#fb9f3a\"],[0.8888888888888888,\"#fdca26\"],[1.0,\"#f0f921\"]],\"type\":\"histogram2d\"}],\"histogram\":[{\"marker\":{\"pattern\":{\"fillmode\":\"overlay\",\"size\":10,\"solidity\":0.2}},\"type\":\"histogram\"}],\"mesh3d\":[{\"colorbar\":{\"outlinewidth\":0,\"ticks\":\"\"},\"type\":\"mesh3d\"}],\"parcoords\":[{\"line\":{\"colorbar\":{\"outlinewidth\":0,\"ticks\":\"\"}},\"type\":\"parcoords\"}],\"pie\":[{\"automargin\":true,\"type\":\"pie\"}],\"scatter3d\":[{\"line\":{\"colorbar\":{\"outlinewidth\":0,\"ticks\":\"\"}},\"marker\":{\"colorbar\":{\"outlinewidth\":0,\"ticks\":\"\"}},\"type\":\"scatter3d\"}],\"scattercarpet\":[{\"marker\":{\"colorbar\":{\"outlinewidth\":0,\"ticks\":\"\"}},\"type\":\"scattercarpet\"}],\"scattergeo\":[{\"marker\":{\"colorbar\":{\"outlinewidth\":0,\"ticks\":\"\"}},\"type\":\"scattergeo\"}],\"scattergl\":[{\"marker\":{\"colorbar\":{\"outlinewidth\":0,\"ticks\":\"\"}},\"type\":\"scattergl\"}],\"scattermapbox\":[{\"marker\":{\"colorbar\":{\"outlinewidth\":0,\"ticks\":\"\"}},\"type\":\"scattermapbox\"}],\"scatterpolargl\":[{\"marker\":{\"colorbar\":{\"outlinewidth\":0,\"ticks\":\"\"}},\"type\":\"scatterpolargl\"}],\"scatterpolar\":[{\"marker\":{\"colorbar\":{\"outlinewidth\":0,\"ticks\":\"\"}},\"type\":\"scatterpolar\"}],\"scatter\":[{\"fillpattern\":{\"fillmode\":\"overlay\",\"size\":10,\"solidity\":0.2},\"type\":\"scatter\"}],\"scatterternary\":[{\"marker\":{\"colorbar\":{\"outlinewidth\":0,\"ticks\":\"\"}},\"type\":\"scatterternary\"}],\"surface\":[{\"colorbar\":{\"outlinewidth\":0,\"ticks\":\"\"},\"colorscale\":[[0.0,\"#0d0887\"],[0.1111111111111111,\"#46039f\"],[0.2222222222222222,\"#7201a8\"],[0.3333333333333333,\"#9c179e\"],[0.4444444444444444,\"#bd3786\"],[0.5555555555555556,\"#d8576b\"],[0.6666666666666666,\"#ed7953\"],[0.7777777777777778,\"#fb9f3a\"],[0.8888888888888888,\"#fdca26\"],[1.0,\"#f0f921\"]],\"type\":\"surface\"}],\"table\":[{\"cells\":{\"fill\":{\"color\":\"#EBF0F8\"},\"line\":{\"color\":\"white\"}},\"header\":{\"fill\":{\"color\":\"#C8D4E3\"},\"line\":{\"color\":\"white\"}},\"type\":\"table\"}]},\"layout\":{\"annotationdefaults\":{\"arrowcolor\":\"#2a3f5f\",\"arrowhead\":0,\"arrowwidth\":1},\"autotypenumbers\":\"strict\",\"coloraxis\":{\"colorbar\":{\"outlinewidth\":0,\"ticks\":\"\"}},\"colorscale\":{\"diverging\":[[0,\"#8e0152\"],[0.1,\"#c51b7d\"],[0.2,\"#de77ae\"],[0.3,\"#f1b6da\"],[0.4,\"#fde0ef\"],[0.5,\"#f7f7f7\"],[0.6,\"#e6f5d0\"],[0.7,\"#b8e186\"],[0.8,\"#7fbc41\"],[0.9,\"#4d9221\"],[1,\"#276419\"]],\"sequential\":[[0.0,\"#0d0887\"],[0.1111111111111111,\"#46039f\"],[0.2222222222222222,\"#7201a8\"],[0.3333333333333333,\"#9c179e\"],[0.4444444444444444,\"#bd3786\"],[0.5555555555555556,\"#d8576b\"],[0.6666666666666666,\"#ed7953\"],[0.7777777777777778,\"#fb9f3a\"],[0.8888888888888888,\"#fdca26\"],[1.0,\"#f0f921\"]],\"sequentialminus\":[[0.0,\"#0d0887\"],[0.1111111111111111,\"#46039f\"],[0.2222222222222222,\"#7201a8\"],[0.3333333333333333,\"#9c179e\"],[0.4444444444444444,\"#bd3786\"],[0.5555555555555556,\"#d8576b\"],[0.6666666666666666,\"#ed7953\"],[0.7777777777777778,\"#fb9f3a\"],[0.8888888888888888,\"#fdca26\"],[1.0,\"#f0f921\"]]},\"colorway\":[\"#636efa\",\"#EF553B\",\"#00cc96\",\"#ab63fa\",\"#FFA15A\",\"#19d3f3\",\"#FF6692\",\"#B6E880\",\"#FF97FF\",\"#FECB52\"],\"font\":{\"color\":\"#2a3f5f\"},\"geo\":{\"bgcolor\":\"white\",\"lakecolor\":\"white\",\"landcolor\":\"#E5ECF6\",\"showlakes\":true,\"showland\":true,\"subunitcolor\":\"white\"},\"hoverlabel\":{\"align\":\"left\"},\"hovermode\":\"closest\",\"mapbox\":{\"style\":\"light\"},\"paper_bgcolor\":\"white\",\"plot_bgcolor\":\"#E5ECF6\",\"polar\":{\"angularaxis\":{\"gridcolor\":\"white\",\"linecolor\":\"white\",\"ticks\":\"\"},\"bgcolor\":\"#E5ECF6\",\"radialaxis\":{\"gridcolor\":\"white\",\"linecolor\":\"white\",\"ticks\":\"\"}},\"scene\":{\"xaxis\":{\"backgroundcolor\":\"#E5ECF6\",\"gridcolor\":\"white\",\"gridwidth\":2,\"linecolor\":\"white\",\"showbackground\":true,\"ticks\":\"\",\"zerolinecolor\":\"white\"},\"yaxis\":{\"backgroundcolor\":\"#E5ECF6\",\"gridcolor\":\"white\",\"gridwidth\":2,\"linecolor\":\"white\",\"showbackground\":true,\"ticks\":\"\",\"zerolinecolor\":\"white\"},\"zaxis\":{\"backgroundcolor\":\"#E5ECF6\",\"gridcolor\":\"white\",\"gridwidth\":2,\"linecolor\":\"white\",\"showbackground\":true,\"ticks\":\"\",\"zerolinecolor\":\"white\"}},\"shapedefaults\":{\"line\":{\"color\":\"#2a3f5f\"}},\"ternary\":{\"aaxis\":{\"gridcolor\":\"white\",\"linecolor\":\"white\",\"ticks\":\"\"},\"baxis\":{\"gridcolor\":\"white\",\"linecolor\":\"white\",\"ticks\":\"\"},\"bgcolor\":\"#E5ECF6\",\"caxis\":{\"gridcolor\":\"white\",\"linecolor\":\"white\",\"ticks\":\"\"}},\"title\":{\"x\":0.05},\"xaxis\":{\"automargin\":true,\"gridcolor\":\"white\",\"linecolor\":\"white\",\"ticks\":\"\",\"title\":{\"standoff\":15},\"zerolinecolor\":\"white\",\"zerolinewidth\":2},\"yaxis\":{\"automargin\":true,\"gridcolor\":\"white\",\"linecolor\":\"white\",\"ticks\":\"\",\"title\":{\"standoff\":15},\"zerolinecolor\":\"white\",\"zerolinewidth\":2}}},\"title\":{\"font\":{\"color\":\"#4D5663\"}},\"xaxis\":{\"gridcolor\":\"#E1E5ED\",\"showgrid\":true,\"tickfont\":{\"color\":\"#4D5663\"},\"title\":{\"font\":{\"color\":\"#4D5663\"},\"text\":\"\"},\"zerolinecolor\":\"#E1E5ED\"},\"yaxis\":{\"gridcolor\":\"#E1E5ED\",\"showgrid\":true,\"tickfont\":{\"color\":\"#4D5663\"},\"title\":{\"font\":{\"color\":\"#4D5663\"},\"text\":\"\"},\"zerolinecolor\":\"#E1E5ED\"}},                        {\"showLink\": true, \"linkText\": \"Export to plot.ly\", \"plotlyServerURL\": \"https://plot.ly\", \"responsive\": true}                    ).then(function(){\n",
       "                            \n",
       "var gd = document.getElementById('700d9548-c970-4c9e-9417-87d477896239');\n",
       "var x = new MutationObserver(function (mutations, observer) {{\n",
       "        var display = window.getComputedStyle(gd).display;\n",
       "        if (!display || display === 'none') {{\n",
       "            console.log([gd, 'removed!']);\n",
       "            Plotly.purge(gd);\n",
       "            observer.disconnect();\n",
       "        }}\n",
       "}});\n",
       "\n",
       "// Listen for the removal of the full notebook cells\n",
       "var notebookContainer = gd.closest('#notebook-container');\n",
       "if (notebookContainer) {{\n",
       "    x.observe(notebookContainer, {childList: true});\n",
       "}}\n",
       "\n",
       "// Listen for the clearing of the current output cell\n",
       "var outputEl = gd.closest('.output');\n",
       "if (outputEl) {{\n",
       "    x.observe(outputEl, {childList: true});\n",
       "}}\n",
       "\n",
       "                        })                };                });            </script>        </div>"
      ]
     },
     "metadata": {},
     "output_type": "display_data"
    }
   ],
   "source": [
    "df.iplot(kind='hist')"
   ]
  },
  {
   "cell_type": "markdown",
   "id": "5cb4c181",
   "metadata": {},
   "source": [
    "## Spread Plot"
   ]
  },
  {
   "cell_type": "code",
   "execution_count": 19,
   "id": "5eb3e864",
   "metadata": {},
   "outputs": [
    {
     "data": {
      "application/vnd.plotly.v1+json": {
       "config": {
        "linkText": "Export to plot.ly",
        "plotlyServerURL": "https://plot.ly",
        "showLink": true
       },
       "data": [
        {
         "line": {
          "color": "rgba(255, 153, 51, 1.0)",
          "dash": "solid",
          "shape": "linear",
          "width": 1.3
         },
         "mode": "lines",
         "name": "A",
         "text": "",
         "type": "scatter",
         "x": [
          0,
          1,
          2,
          3,
          4,
          5,
          6,
          7,
          8,
          9,
          10,
          11,
          12,
          13,
          14,
          15,
          16,
          17,
          18,
          19,
          20,
          21,
          22,
          23,
          24,
          25,
          26,
          27,
          28,
          29,
          30,
          31,
          32,
          33,
          34,
          35,
          36,
          37,
          38,
          39,
          40,
          41,
          42,
          43,
          44,
          45,
          46,
          47,
          48,
          49,
          50,
          51,
          52,
          53,
          54,
          55,
          56,
          57,
          58,
          59,
          60,
          61,
          62,
          63,
          64,
          65,
          66,
          67,
          68,
          69,
          70,
          71,
          72,
          73,
          74,
          75,
          76,
          77,
          78,
          79,
          80,
          81,
          82,
          83,
          84,
          85,
          86,
          87,
          88,
          89,
          90,
          91,
          92,
          93,
          94,
          95,
          96,
          97,
          98,
          99
         ],
         "y": [
          -0.28417787083349927,
          0.6413274499391824,
          -0.33336861080745656,
          2.006764818840116,
          1.8728377960165354,
          -0.24882852649873424,
          -0.29861874001993766,
          -0.5527446223333694,
          -0.06284839007619376,
          0.6872961946392325,
          -0.48047030452308376,
          -0.15819211016748583,
          0.3979193283561742,
          -0.9231892579778409,
          0.5315667297247073,
          1.0017781127586238,
          -2.0721385248636266,
          0.9212012857921277,
          -0.25197735935695925,
          -2.5438707821411417,
          -0.9797570746505114,
          -1.785600451605513,
          -1.3677304085261701,
          -0.8597776400411747,
          -0.38161314435598254,
          -0.21955301709234307,
          -0.46962502773123727,
          0.08658003414889327,
          -2.624997706901156,
          1.617799016690096,
          0.2322838968046603,
          -0.5747107444070692,
          1.306245125000283,
          -0.7424921675650964,
          -0.6846539842162228,
          2.1601206807767657,
          -1.1832051219606274,
          0.21698850723985674,
          1.693120559186067,
          -1.4725670406597433,
          0.5268215706826592,
          0.22618522749666412,
          1.3241925977559907,
          -1.1750950935332447,
          0.779369119313454,
          -1.0622472454257539,
          -0.7479801434627531,
          -1.11546714284219,
          0.6490101527890603,
          -0.22489797094481306,
          -1.1740087820316207,
          0.08056535097254833,
          0.615871865696655,
          -0.17445791673987496,
          0.8456171781805357,
          1.8168544512752107,
          0.9067056603187674,
          -0.1318278852951855,
          -0.9806500898254744,
          0.4032491907360089,
          0.5456168400678882,
          1.6799435539133445,
          -1.417466304121186,
          1.1183981281871356,
          -0.5754137503060296,
          -0.4451311781056884,
          0.6524364369982173,
          -0.2531055435068277,
          -1.2238276239485155,
          0.5079425450594325,
          -0.7127247095374196,
          0.5340289009521697,
          -0.45390448707790165,
          -0.004315066126661081,
          0.01607814905285022,
          0.23686645998285866,
          -0.22681193933351268,
          -1.282908829683012,
          1.0598838321126345,
          -0.28086616600779785,
          -1.4665713559786704,
          0.9606502786533506,
          0.30386951258373074,
          0.9913019602065628,
          -0.5343798033042318,
          -1.2672235642375103,
          0.3206869075841262,
          0.059509125355931794,
          -0.7576598946355392,
          -0.5340235908042054,
          -1.1285727143193942,
          2.1140216110955588,
          1.0418469094947094,
          0.2854170485589883,
          -1.9999513786857224,
          0.9479014280894817,
          -1.14631525364236,
          1.6505960122936931,
          0.4751216841159835,
          0.07362728384021043
         ]
        },
        {
         "line": {
          "color": "rgba(55, 128, 191, 1.0)",
          "dash": "solid",
          "shape": "linear",
          "width": 1.3
         },
         "mode": "lines",
         "name": "B",
         "text": "",
         "type": "scatter",
         "x": [
          0,
          1,
          2,
          3,
          4,
          5,
          6,
          7,
          8,
          9,
          10,
          11,
          12,
          13,
          14,
          15,
          16,
          17,
          18,
          19,
          20,
          21,
          22,
          23,
          24,
          25,
          26,
          27,
          28,
          29,
          30,
          31,
          32,
          33,
          34,
          35,
          36,
          37,
          38,
          39,
          40,
          41,
          42,
          43,
          44,
          45,
          46,
          47,
          48,
          49,
          50,
          51,
          52,
          53,
          54,
          55,
          56,
          57,
          58,
          59,
          60,
          61,
          62,
          63,
          64,
          65,
          66,
          67,
          68,
          69,
          70,
          71,
          72,
          73,
          74,
          75,
          76,
          77,
          78,
          79,
          80,
          81,
          82,
          83,
          84,
          85,
          86,
          87,
          88,
          89,
          90,
          91,
          92,
          93,
          94,
          95,
          96,
          97,
          98,
          99
         ],
         "y": [
          -0.9942875062320643,
          0.6693618378433789,
          1.4375270448174466,
          -0.7601350990541826,
          -1.3856509449362089,
          0.7699061108404363,
          0.04944535748246853,
          0.6061305364332712,
          -0.23326162112807344,
          2.1617704129411974,
          0.4182423292502963,
          -0.8119088645105795,
          0.644305020890722,
          0.12994496488584203,
          -1.5914719130541115,
          -0.3958209142720946,
          0.8320625813285379,
          0.3595709913909463,
          0.8608355243878564,
          -0.5121802342042246,
          -0.19251810768470703,
          -1.1025637585273937,
          0.7127282902106402,
          0.9252123054557275,
          0.26684715309611456,
          -2.0304254233704966,
          1.1185689589290568,
          0.12590272762439111,
          -0.4125100158666027,
          -1.3224183185741754,
          0.3344566151898501,
          -2.1168986945450343,
          -0.9081775216742415,
          -1.6901431359280612,
          1.0403812288066845,
          0.22958405742077428,
          -0.8426375495425725,
          2.276061422029563,
          0.5778368449479325,
          1.144721063467178,
          1.8299513587167864,
          1.4621795449801354,
          -2.4368266921099533,
          1.013362811041721,
          -0.5778304519601165,
          1.0356709009219747,
          -0.504355394746898,
          0.35213287720179104,
          -1.2035825393525954,
          0.8106345843941292,
          -1.595771889074104,
          0.2457069745672563,
          -0.8566043574987787,
          0.3918816986658821,
          -0.2636254412853934,
          -1.0805801266361703,
          0.7319184842233384,
          -0.9438163723917274,
          -0.07189078116332594,
          -1.8693359956196978,
          0.2080888807547833,
          -0.14434974751758786,
          -1.0649759862550428,
          0.27727223466743445,
          -0.09036623691422577,
          1.1030507777767082,
          0.6415368409136328,
          -1.3194312808649182,
          0.2572171302463949,
          0.9309998401890984,
          1.4420973248489697,
          0.42381088497255825,
          0.9266947420824746,
          1.0675505254092201,
          1.0591396740258205,
          -0.4130027839015729,
          1.6464567391114484,
          -0.7639222655044755,
          -0.33115201506490505,
          -2.1054031846049996,
          2.0697721097103496,
          0.24439587621825065,
          1.8662383890198717,
          1.138721370400964,
          0.9451389623407138,
          1.6984878039732823,
          -0.6924609238879748,
          0.26861365381914376,
          1.1436079001022867,
          -0.1704130968335762,
          1.112192969720432,
          -0.14059862423431896,
          1.0150879111753266,
          0.3912245979789011,
          -1.0085802974254625,
          0.12489394468227431,
          0.940715803891102,
          0.8522321107876281,
          -0.3210080437331556,
          -0.12446681042664187
         ]
        },
        {
         "connectgaps": false,
         "fill": "tozeroy",
         "line": {
          "color": "green",
          "dash": "solid",
          "shape": "linear",
          "width": 0.5
         },
         "mode": "lines",
         "name": "Spread",
         "showlegend": false,
         "type": "scatter",
         "x": [
          0,
          1,
          2,
          3,
          4,
          5,
          6,
          7,
          8,
          9,
          10,
          11,
          12,
          13,
          14,
          15,
          16,
          17,
          18,
          19,
          20,
          21,
          22,
          23,
          24,
          25,
          26,
          27,
          28,
          29,
          30,
          31,
          32,
          33,
          34,
          35,
          36,
          37,
          38,
          39,
          40,
          41,
          42,
          43,
          44,
          45,
          46,
          47,
          48,
          49,
          50,
          51,
          52,
          53,
          54,
          55,
          56,
          57,
          58,
          59,
          60,
          61,
          62,
          63,
          64,
          65,
          66,
          67,
          68,
          69,
          70,
          71,
          72,
          73,
          74,
          75,
          76,
          77,
          78,
          79,
          80,
          81,
          82,
          83,
          84,
          85,
          86,
          87,
          88,
          89,
          90,
          91,
          92,
          93,
          94,
          95,
          96,
          97,
          98,
          99
         ],
         "xaxis": "x2",
         "y": [
          0.710109635398565,
          "",
          "",
          2.766899917894299,
          3.2584887409527443,
          "",
          "",
          "",
          0.17041323105187967,
          "",
          "",
          0.6537167543430937,
          "",
          "",
          2.123038642778819,
          1.3975990270307184,
          "",
          0.5616302944011814,
          "",
          "",
          "",
          "",
          "",
          "",
          "",
          1.8108724062781536,
          "",
          "",
          "",
          2.940217335264271,
          "",
          1.5421879501379652,
          2.2144226466745245,
          0.9476509683629648,
          "",
          1.9305366233559913,
          "",
          "",
          1.1152837142381344,
          "",
          "",
          "",
          3.761019289865944,
          "",
          1.3571995712735705,
          "",
          "",
          "",
          1.8525926921416556,
          "",
          0.4217631070424832,
          "",
          1.4724762231954336,
          "",
          1.109242619465929,
          2.897434577911381,
          0.17478717609542904,
          0.8119884870965419,
          "",
          2.2725851863557067,
          0.337527959313105,
          1.8242933014309324,
          "",
          0.8411258935197011,
          "",
          "",
          0.010899596084584462,
          1.0663257373580906,
          "",
          "",
          "",
          0.11021801597961145,
          "",
          "",
          "",
          0.6498692438844316,
          "",
          "",
          1.3910358471775395,
          1.8245370185972019,
          "",
          0.7162544024351,
          "",
          "",
          "",
          "",
          1.013147831472101,
          "",
          "",
          "",
          "",
          2.254620235329878,
          0.026758998319382776,
          "",
          "",
          0.8230074834072074,
          "",
          0.7983639015060651,
          0.796129727849139,
          0.19809409426685232
         ],
         "yaxis": "y2"
        },
        {
         "connectgaps": false,
         "fill": "tozeroy",
         "line": {
          "color": "red",
          "dash": "solid",
          "shape": "linear",
          "width": 0.5
         },
         "mode": "lines",
         "name": "Spread",
         "showlegend": false,
         "type": "scatter",
         "x": [
          0,
          1,
          2,
          3,
          4,
          5,
          6,
          7,
          8,
          9,
          10,
          11,
          12,
          13,
          14,
          15,
          16,
          17,
          18,
          19,
          20,
          21,
          22,
          23,
          24,
          25,
          26,
          27,
          28,
          29,
          30,
          31,
          32,
          33,
          34,
          35,
          36,
          37,
          38,
          39,
          40,
          41,
          42,
          43,
          44,
          45,
          46,
          47,
          48,
          49,
          50,
          51,
          52,
          53,
          54,
          55,
          56,
          57,
          58,
          59,
          60,
          61,
          62,
          63,
          64,
          65,
          66,
          67,
          68,
          69,
          70,
          71,
          72,
          73,
          74,
          75,
          76,
          77,
          78,
          79,
          80,
          81,
          82,
          83,
          84,
          85,
          86,
          87,
          88,
          89,
          90,
          91,
          92,
          93,
          94,
          95,
          96,
          97,
          98,
          99
         ],
         "xaxis": "x2",
         "y": [
          "",
          -0.028034387904196434,
          -1.7708956556249031,
          "",
          "",
          -1.0187346373391706,
          -0.3480640975024062,
          -1.1588751587666406,
          "",
          -1.4744742183019648,
          -0.8987126337733801,
          "",
          -0.24638569253454773,
          -1.0531342228636829,
          "",
          "",
          -2.9042011061921644,
          "",
          -1.1128128837448157,
          -2.031690547936917,
          -0.7872389669658044,
          -0.6830366930781193,
          -2.0804586987368103,
          -1.7849899454969023,
          -0.6484602974520971,
          "",
          -1.588193986660294,
          -0.03932269347549784,
          -2.212487691034553,
          "",
          -0.10217271838518979,
          "",
          "",
          "",
          -1.7250352130229074,
          "",
          -0.3405675724180549,
          -2.0590729147897067,
          "",
          -2.6172881041269216,
          -1.303129788034127,
          -1.2359943174834713,
          "",
          -2.1884579045749657,
          "",
          -2.0979181463477286,
          -0.24362474871585516,
          -1.4676000200439812,
          "",
          -1.0355325553389423,
          "",
          -0.16514162359470796,
          "",
          -0.5663396154057571,
          "",
          "",
          "",
          "",
          -0.9087593086621485,
          "",
          "",
          "",
          -0.35249031786614315,
          "",
          -0.48504751339180385,
          -1.5481819558823966,
          "",
          "",
          -1.4810447541949103,
          -0.42305729512966594,
          -2.154822034386389,
          "",
          -1.3805992291603761,
          -1.0718655915358812,
          -1.0430615249729702,
          "",
          -1.873268678444961,
          -0.5189865641785365,
          "",
          "",
          -3.5363434656890202,
          "",
          -1.562368876436141,
          -0.1474194101944012,
          -1.4795187656449458,
          -2.9657113682107923,
          "",
          -0.20910452846321198,
          -1.901267794737826,
          -0.36361049397062917,
          -2.2407656840398262,
          "",
          "",
          -0.10580754941991277,
          -0.9913710812602599,
          "",
          -2.087031057533462,
          "",
          "",
          ""
         ],
         "yaxis": "y2"
        }
       ],
       "layout": {
        "hovermode": "x",
        "legend": {
         "bgcolor": "#F5F6F9",
         "font": {
          "color": "#4D5663"
         }
        },
        "paper_bgcolor": "#F5F6F9",
        "plot_bgcolor": "#F5F6F9",
        "template": {
         "data": {
          "bar": [
           {
            "error_x": {
             "color": "#2a3f5f"
            },
            "error_y": {
             "color": "#2a3f5f"
            },
            "marker": {
             "line": {
              "color": "#E5ECF6",
              "width": 0.5
             },
             "pattern": {
              "fillmode": "overlay",
              "size": 10,
              "solidity": 0.2
             }
            },
            "type": "bar"
           }
          ],
          "barpolar": [
           {
            "marker": {
             "line": {
              "color": "#E5ECF6",
              "width": 0.5
             },
             "pattern": {
              "fillmode": "overlay",
              "size": 10,
              "solidity": 0.2
             }
            },
            "type": "barpolar"
           }
          ],
          "carpet": [
           {
            "aaxis": {
             "endlinecolor": "#2a3f5f",
             "gridcolor": "white",
             "linecolor": "white",
             "minorgridcolor": "white",
             "startlinecolor": "#2a3f5f"
            },
            "baxis": {
             "endlinecolor": "#2a3f5f",
             "gridcolor": "white",
             "linecolor": "white",
             "minorgridcolor": "white",
             "startlinecolor": "#2a3f5f"
            },
            "type": "carpet"
           }
          ],
          "choropleth": [
           {
            "colorbar": {
             "outlinewidth": 0,
             "ticks": ""
            },
            "type": "choropleth"
           }
          ],
          "contour": [
           {
            "colorbar": {
             "outlinewidth": 0,
             "ticks": ""
            },
            "colorscale": [
             [
              0,
              "#0d0887"
             ],
             [
              0.1111111111111111,
              "#46039f"
             ],
             [
              0.2222222222222222,
              "#7201a8"
             ],
             [
              0.3333333333333333,
              "#9c179e"
             ],
             [
              0.4444444444444444,
              "#bd3786"
             ],
             [
              0.5555555555555556,
              "#d8576b"
             ],
             [
              0.6666666666666666,
              "#ed7953"
             ],
             [
              0.7777777777777778,
              "#fb9f3a"
             ],
             [
              0.8888888888888888,
              "#fdca26"
             ],
             [
              1,
              "#f0f921"
             ]
            ],
            "type": "contour"
           }
          ],
          "contourcarpet": [
           {
            "colorbar": {
             "outlinewidth": 0,
             "ticks": ""
            },
            "type": "contourcarpet"
           }
          ],
          "heatmap": [
           {
            "colorbar": {
             "outlinewidth": 0,
             "ticks": ""
            },
            "colorscale": [
             [
              0,
              "#0d0887"
             ],
             [
              0.1111111111111111,
              "#46039f"
             ],
             [
              0.2222222222222222,
              "#7201a8"
             ],
             [
              0.3333333333333333,
              "#9c179e"
             ],
             [
              0.4444444444444444,
              "#bd3786"
             ],
             [
              0.5555555555555556,
              "#d8576b"
             ],
             [
              0.6666666666666666,
              "#ed7953"
             ],
             [
              0.7777777777777778,
              "#fb9f3a"
             ],
             [
              0.8888888888888888,
              "#fdca26"
             ],
             [
              1,
              "#f0f921"
             ]
            ],
            "type": "heatmap"
           }
          ],
          "heatmapgl": [
           {
            "colorbar": {
             "outlinewidth": 0,
             "ticks": ""
            },
            "colorscale": [
             [
              0,
              "#0d0887"
             ],
             [
              0.1111111111111111,
              "#46039f"
             ],
             [
              0.2222222222222222,
              "#7201a8"
             ],
             [
              0.3333333333333333,
              "#9c179e"
             ],
             [
              0.4444444444444444,
              "#bd3786"
             ],
             [
              0.5555555555555556,
              "#d8576b"
             ],
             [
              0.6666666666666666,
              "#ed7953"
             ],
             [
              0.7777777777777778,
              "#fb9f3a"
             ],
             [
              0.8888888888888888,
              "#fdca26"
             ],
             [
              1,
              "#f0f921"
             ]
            ],
            "type": "heatmapgl"
           }
          ],
          "histogram": [
           {
            "marker": {
             "pattern": {
              "fillmode": "overlay",
              "size": 10,
              "solidity": 0.2
             }
            },
            "type": "histogram"
           }
          ],
          "histogram2d": [
           {
            "colorbar": {
             "outlinewidth": 0,
             "ticks": ""
            },
            "colorscale": [
             [
              0,
              "#0d0887"
             ],
             [
              0.1111111111111111,
              "#46039f"
             ],
             [
              0.2222222222222222,
              "#7201a8"
             ],
             [
              0.3333333333333333,
              "#9c179e"
             ],
             [
              0.4444444444444444,
              "#bd3786"
             ],
             [
              0.5555555555555556,
              "#d8576b"
             ],
             [
              0.6666666666666666,
              "#ed7953"
             ],
             [
              0.7777777777777778,
              "#fb9f3a"
             ],
             [
              0.8888888888888888,
              "#fdca26"
             ],
             [
              1,
              "#f0f921"
             ]
            ],
            "type": "histogram2d"
           }
          ],
          "histogram2dcontour": [
           {
            "colorbar": {
             "outlinewidth": 0,
             "ticks": ""
            },
            "colorscale": [
             [
              0,
              "#0d0887"
             ],
             [
              0.1111111111111111,
              "#46039f"
             ],
             [
              0.2222222222222222,
              "#7201a8"
             ],
             [
              0.3333333333333333,
              "#9c179e"
             ],
             [
              0.4444444444444444,
              "#bd3786"
             ],
             [
              0.5555555555555556,
              "#d8576b"
             ],
             [
              0.6666666666666666,
              "#ed7953"
             ],
             [
              0.7777777777777778,
              "#fb9f3a"
             ],
             [
              0.8888888888888888,
              "#fdca26"
             ],
             [
              1,
              "#f0f921"
             ]
            ],
            "type": "histogram2dcontour"
           }
          ],
          "mesh3d": [
           {
            "colorbar": {
             "outlinewidth": 0,
             "ticks": ""
            },
            "type": "mesh3d"
           }
          ],
          "parcoords": [
           {
            "line": {
             "colorbar": {
              "outlinewidth": 0,
              "ticks": ""
             }
            },
            "type": "parcoords"
           }
          ],
          "pie": [
           {
            "automargin": true,
            "type": "pie"
           }
          ],
          "scatter": [
           {
            "fillpattern": {
             "fillmode": "overlay",
             "size": 10,
             "solidity": 0.2
            },
            "type": "scatter"
           }
          ],
          "scatter3d": [
           {
            "line": {
             "colorbar": {
              "outlinewidth": 0,
              "ticks": ""
             }
            },
            "marker": {
             "colorbar": {
              "outlinewidth": 0,
              "ticks": ""
             }
            },
            "type": "scatter3d"
           }
          ],
          "scattercarpet": [
           {
            "marker": {
             "colorbar": {
              "outlinewidth": 0,
              "ticks": ""
             }
            },
            "type": "scattercarpet"
           }
          ],
          "scattergeo": [
           {
            "marker": {
             "colorbar": {
              "outlinewidth": 0,
              "ticks": ""
             }
            },
            "type": "scattergeo"
           }
          ],
          "scattergl": [
           {
            "marker": {
             "colorbar": {
              "outlinewidth": 0,
              "ticks": ""
             }
            },
            "type": "scattergl"
           }
          ],
          "scattermapbox": [
           {
            "marker": {
             "colorbar": {
              "outlinewidth": 0,
              "ticks": ""
             }
            },
            "type": "scattermapbox"
           }
          ],
          "scatterpolar": [
           {
            "marker": {
             "colorbar": {
              "outlinewidth": 0,
              "ticks": ""
             }
            },
            "type": "scatterpolar"
           }
          ],
          "scatterpolargl": [
           {
            "marker": {
             "colorbar": {
              "outlinewidth": 0,
              "ticks": ""
             }
            },
            "type": "scatterpolargl"
           }
          ],
          "scatterternary": [
           {
            "marker": {
             "colorbar": {
              "outlinewidth": 0,
              "ticks": ""
             }
            },
            "type": "scatterternary"
           }
          ],
          "surface": [
           {
            "colorbar": {
             "outlinewidth": 0,
             "ticks": ""
            },
            "colorscale": [
             [
              0,
              "#0d0887"
             ],
             [
              0.1111111111111111,
              "#46039f"
             ],
             [
              0.2222222222222222,
              "#7201a8"
             ],
             [
              0.3333333333333333,
              "#9c179e"
             ],
             [
              0.4444444444444444,
              "#bd3786"
             ],
             [
              0.5555555555555556,
              "#d8576b"
             ],
             [
              0.6666666666666666,
              "#ed7953"
             ],
             [
              0.7777777777777778,
              "#fb9f3a"
             ],
             [
              0.8888888888888888,
              "#fdca26"
             ],
             [
              1,
              "#f0f921"
             ]
            ],
            "type": "surface"
           }
          ],
          "table": [
           {
            "cells": {
             "fill": {
              "color": "#EBF0F8"
             },
             "line": {
              "color": "white"
             }
            },
            "header": {
             "fill": {
              "color": "#C8D4E3"
             },
             "line": {
              "color": "white"
             }
            },
            "type": "table"
           }
          ]
         },
         "layout": {
          "annotationdefaults": {
           "arrowcolor": "#2a3f5f",
           "arrowhead": 0,
           "arrowwidth": 1
          },
          "autotypenumbers": "strict",
          "coloraxis": {
           "colorbar": {
            "outlinewidth": 0,
            "ticks": ""
           }
          },
          "colorscale": {
           "diverging": [
            [
             0,
             "#8e0152"
            ],
            [
             0.1,
             "#c51b7d"
            ],
            [
             0.2,
             "#de77ae"
            ],
            [
             0.3,
             "#f1b6da"
            ],
            [
             0.4,
             "#fde0ef"
            ],
            [
             0.5,
             "#f7f7f7"
            ],
            [
             0.6,
             "#e6f5d0"
            ],
            [
             0.7,
             "#b8e186"
            ],
            [
             0.8,
             "#7fbc41"
            ],
            [
             0.9,
             "#4d9221"
            ],
            [
             1,
             "#276419"
            ]
           ],
           "sequential": [
            [
             0,
             "#0d0887"
            ],
            [
             0.1111111111111111,
             "#46039f"
            ],
            [
             0.2222222222222222,
             "#7201a8"
            ],
            [
             0.3333333333333333,
             "#9c179e"
            ],
            [
             0.4444444444444444,
             "#bd3786"
            ],
            [
             0.5555555555555556,
             "#d8576b"
            ],
            [
             0.6666666666666666,
             "#ed7953"
            ],
            [
             0.7777777777777778,
             "#fb9f3a"
            ],
            [
             0.8888888888888888,
             "#fdca26"
            ],
            [
             1,
             "#f0f921"
            ]
           ],
           "sequentialminus": [
            [
             0,
             "#0d0887"
            ],
            [
             0.1111111111111111,
             "#46039f"
            ],
            [
             0.2222222222222222,
             "#7201a8"
            ],
            [
             0.3333333333333333,
             "#9c179e"
            ],
            [
             0.4444444444444444,
             "#bd3786"
            ],
            [
             0.5555555555555556,
             "#d8576b"
            ],
            [
             0.6666666666666666,
             "#ed7953"
            ],
            [
             0.7777777777777778,
             "#fb9f3a"
            ],
            [
             0.8888888888888888,
             "#fdca26"
            ],
            [
             1,
             "#f0f921"
            ]
           ]
          },
          "colorway": [
           "#636efa",
           "#EF553B",
           "#00cc96",
           "#ab63fa",
           "#FFA15A",
           "#19d3f3",
           "#FF6692",
           "#B6E880",
           "#FF97FF",
           "#FECB52"
          ],
          "font": {
           "color": "#2a3f5f"
          },
          "geo": {
           "bgcolor": "white",
           "lakecolor": "white",
           "landcolor": "#E5ECF6",
           "showlakes": true,
           "showland": true,
           "subunitcolor": "white"
          },
          "hoverlabel": {
           "align": "left"
          },
          "hovermode": "closest",
          "mapbox": {
           "style": "light"
          },
          "paper_bgcolor": "white",
          "plot_bgcolor": "#E5ECF6",
          "polar": {
           "angularaxis": {
            "gridcolor": "white",
            "linecolor": "white",
            "ticks": ""
           },
           "bgcolor": "#E5ECF6",
           "radialaxis": {
            "gridcolor": "white",
            "linecolor": "white",
            "ticks": ""
           }
          },
          "scene": {
           "xaxis": {
            "backgroundcolor": "#E5ECF6",
            "gridcolor": "white",
            "gridwidth": 2,
            "linecolor": "white",
            "showbackground": true,
            "ticks": "",
            "zerolinecolor": "white"
           },
           "yaxis": {
            "backgroundcolor": "#E5ECF6",
            "gridcolor": "white",
            "gridwidth": 2,
            "linecolor": "white",
            "showbackground": true,
            "ticks": "",
            "zerolinecolor": "white"
           },
           "zaxis": {
            "backgroundcolor": "#E5ECF6",
            "gridcolor": "white",
            "gridwidth": 2,
            "linecolor": "white",
            "showbackground": true,
            "ticks": "",
            "zerolinecolor": "white"
           }
          },
          "shapedefaults": {
           "line": {
            "color": "#2a3f5f"
           }
          },
          "ternary": {
           "aaxis": {
            "gridcolor": "white",
            "linecolor": "white",
            "ticks": ""
           },
           "baxis": {
            "gridcolor": "white",
            "linecolor": "white",
            "ticks": ""
           },
           "bgcolor": "#E5ECF6",
           "caxis": {
            "gridcolor": "white",
            "linecolor": "white",
            "ticks": ""
           }
          },
          "title": {
           "x": 0.05
          },
          "xaxis": {
           "automargin": true,
           "gridcolor": "white",
           "linecolor": "white",
           "ticks": "",
           "title": {
            "standoff": 15
           },
           "zerolinecolor": "white",
           "zerolinewidth": 2
          },
          "yaxis": {
           "automargin": true,
           "gridcolor": "white",
           "linecolor": "white",
           "ticks": "",
           "title": {
            "standoff": 15
           },
           "zerolinecolor": "white",
           "zerolinewidth": 2
          }
         }
        },
        "title": {
         "font": {
          "color": "#4D5663"
         }
        },
        "xaxis": {
         "gridcolor": "#E1E5ED",
         "showgrid": true,
         "tickfont": {
          "color": "#4D5663"
         },
         "title": {
          "font": {
           "color": "#4D5663"
          },
          "text": ""
         },
         "zerolinecolor": "#E1E5ED"
        },
        "xaxis2": {
         "anchor": "y2",
         "gridcolor": "#E1E5ED",
         "showgrid": true,
         "showticklabels": false,
         "tickfont": {
          "color": "#4D5663"
         },
         "title": {
          "font": {
           "color": "#4D5663"
          },
          "text": ""
         },
         "zerolinecolor": "#E1E5ED"
        },
        "yaxis": {
         "domain": [
          0.3,
          1
         ],
         "gridcolor": "#E1E5ED",
         "showgrid": true,
         "tickfont": {
          "color": "#4D5663"
         },
         "title": {
          "font": {
           "color": "#4D5663"
          },
          "text": ""
         },
         "zerolinecolor": "#E1E5ED"
        },
        "yaxis2": {
         "domain": [
          0,
          0.25
         ],
         "gridcolor": "#E1E5ED",
         "showgrid": true,
         "tickfont": {
          "color": "#4D5663"
         },
         "title": {
          "font": {
           "color": "#4D5663"
          },
          "text": "Spread"
         },
         "zerolinecolor": "#E1E5ED"
        }
       }
      },
      "text/html": [
       "<div>                            <div id=\"f7eaa993-db2f-4896-be66-a631053235be\" class=\"plotly-graph-div\" style=\"height:525px; width:100%;\"></div>            <script type=\"text/javascript\">                require([\"plotly\"], function(Plotly) {                    window.PLOTLYENV=window.PLOTLYENV || {};\n",
       "                    window.PLOTLYENV.BASE_URL='https://plot.ly';                                    if (document.getElementById(\"f7eaa993-db2f-4896-be66-a631053235be\")) {                    Plotly.newPlot(                        \"f7eaa993-db2f-4896-be66-a631053235be\",                        [{\"line\":{\"color\":\"rgba(255, 153, 51, 1.0)\",\"dash\":\"solid\",\"shape\":\"linear\",\"width\":1.3},\"mode\":\"lines\",\"name\":\"A\",\"text\":\"\",\"x\":[0,1,2,3,4,5,6,7,8,9,10,11,12,13,14,15,16,17,18,19,20,21,22,23,24,25,26,27,28,29,30,31,32,33,34,35,36,37,38,39,40,41,42,43,44,45,46,47,48,49,50,51,52,53,54,55,56,57,58,59,60,61,62,63,64,65,66,67,68,69,70,71,72,73,74,75,76,77,78,79,80,81,82,83,84,85,86,87,88,89,90,91,92,93,94,95,96,97,98,99],\"y\":[-0.28417787083349927,0.6413274499391824,-0.33336861080745656,2.006764818840116,1.8728377960165354,-0.24882852649873424,-0.29861874001993766,-0.5527446223333694,-0.06284839007619376,0.6872961946392325,-0.48047030452308376,-0.15819211016748583,0.3979193283561742,-0.9231892579778409,0.5315667297247073,1.0017781127586238,-2.0721385248636266,0.9212012857921277,-0.25197735935695925,-2.5438707821411417,-0.9797570746505114,-1.785600451605513,-1.3677304085261701,-0.8597776400411747,-0.38161314435598254,-0.21955301709234307,-0.46962502773123727,0.08658003414889327,-2.624997706901156,1.617799016690096,0.2322838968046603,-0.5747107444070692,1.306245125000283,-0.7424921675650964,-0.6846539842162228,2.1601206807767657,-1.1832051219606274,0.21698850723985674,1.693120559186067,-1.4725670406597433,0.5268215706826592,0.22618522749666412,1.3241925977559907,-1.1750950935332447,0.779369119313454,-1.0622472454257539,-0.7479801434627531,-1.11546714284219,0.6490101527890603,-0.22489797094481306,-1.1740087820316207,0.08056535097254833,0.615871865696655,-0.17445791673987496,0.8456171781805357,1.8168544512752107,0.9067056603187674,-0.1318278852951855,-0.9806500898254744,0.4032491907360089,0.5456168400678882,1.6799435539133445,-1.417466304121186,1.1183981281871356,-0.5754137503060296,-0.4451311781056884,0.6524364369982173,-0.2531055435068277,-1.2238276239485155,0.5079425450594325,-0.7127247095374196,0.5340289009521697,-0.45390448707790165,-0.004315066126661081,0.01607814905285022,0.23686645998285866,-0.22681193933351268,-1.282908829683012,1.0598838321126345,-0.28086616600779785,-1.4665713559786704,0.9606502786533506,0.30386951258373074,0.9913019602065628,-0.5343798033042318,-1.2672235642375103,0.3206869075841262,0.059509125355931794,-0.7576598946355392,-0.5340235908042054,-1.1285727143193942,2.1140216110955588,1.0418469094947094,0.2854170485589883,-1.9999513786857224,0.9479014280894817,-1.14631525364236,1.6505960122936931,0.4751216841159835,0.07362728384021043],\"type\":\"scatter\"},{\"line\":{\"color\":\"rgba(55, 128, 191, 1.0)\",\"dash\":\"solid\",\"shape\":\"linear\",\"width\":1.3},\"mode\":\"lines\",\"name\":\"B\",\"text\":\"\",\"x\":[0,1,2,3,4,5,6,7,8,9,10,11,12,13,14,15,16,17,18,19,20,21,22,23,24,25,26,27,28,29,30,31,32,33,34,35,36,37,38,39,40,41,42,43,44,45,46,47,48,49,50,51,52,53,54,55,56,57,58,59,60,61,62,63,64,65,66,67,68,69,70,71,72,73,74,75,76,77,78,79,80,81,82,83,84,85,86,87,88,89,90,91,92,93,94,95,96,97,98,99],\"y\":[-0.9942875062320643,0.6693618378433789,1.4375270448174466,-0.7601350990541826,-1.3856509449362089,0.7699061108404363,0.04944535748246853,0.6061305364332712,-0.23326162112807344,2.1617704129411974,0.4182423292502963,-0.8119088645105795,0.644305020890722,0.12994496488584203,-1.5914719130541115,-0.3958209142720946,0.8320625813285379,0.3595709913909463,0.8608355243878564,-0.5121802342042246,-0.19251810768470703,-1.1025637585273937,0.7127282902106402,0.9252123054557275,0.26684715309611456,-2.0304254233704966,1.1185689589290568,0.12590272762439111,-0.4125100158666027,-1.3224183185741754,0.3344566151898501,-2.1168986945450343,-0.9081775216742415,-1.6901431359280612,1.0403812288066845,0.22958405742077428,-0.8426375495425725,2.276061422029563,0.5778368449479325,1.144721063467178,1.8299513587167864,1.4621795449801354,-2.4368266921099533,1.013362811041721,-0.5778304519601165,1.0356709009219747,-0.504355394746898,0.35213287720179104,-1.2035825393525954,0.8106345843941292,-1.595771889074104,0.2457069745672563,-0.8566043574987787,0.3918816986658821,-0.2636254412853934,-1.0805801266361703,0.7319184842233384,-0.9438163723917274,-0.07189078116332594,-1.8693359956196978,0.2080888807547833,-0.14434974751758786,-1.0649759862550428,0.27727223466743445,-0.09036623691422577,1.1030507777767082,0.6415368409136328,-1.3194312808649182,0.2572171302463949,0.9309998401890984,1.4420973248489697,0.42381088497255825,0.9266947420824746,1.0675505254092201,1.0591396740258205,-0.4130027839015729,1.6464567391114484,-0.7639222655044755,-0.33115201506490505,-2.1054031846049996,2.0697721097103496,0.24439587621825065,1.8662383890198717,1.138721370400964,0.9451389623407138,1.6984878039732823,-0.6924609238879748,0.26861365381914376,1.1436079001022867,-0.1704130968335762,1.112192969720432,-0.14059862423431896,1.0150879111753266,0.3912245979789011,-1.0085802974254625,0.12489394468227431,0.940715803891102,0.8522321107876281,-0.3210080437331556,-0.12446681042664187],\"type\":\"scatter\"},{\"connectgaps\":false,\"fill\":\"tozeroy\",\"line\":{\"color\":\"green\",\"dash\":\"solid\",\"shape\":\"linear\",\"width\":0.5},\"mode\":\"lines\",\"name\":\"Spread\",\"showlegend\":false,\"x\":[0,1,2,3,4,5,6,7,8,9,10,11,12,13,14,15,16,17,18,19,20,21,22,23,24,25,26,27,28,29,30,31,32,33,34,35,36,37,38,39,40,41,42,43,44,45,46,47,48,49,50,51,52,53,54,55,56,57,58,59,60,61,62,63,64,65,66,67,68,69,70,71,72,73,74,75,76,77,78,79,80,81,82,83,84,85,86,87,88,89,90,91,92,93,94,95,96,97,98,99],\"xaxis\":\"x2\",\"y\":[0.710109635398565,\"\",\"\",2.766899917894299,3.2584887409527443,\"\",\"\",\"\",0.17041323105187967,\"\",\"\",0.6537167543430937,\"\",\"\",2.123038642778819,1.3975990270307184,\"\",0.5616302944011814,\"\",\"\",\"\",\"\",\"\",\"\",\"\",1.8108724062781536,\"\",\"\",\"\",2.940217335264271,\"\",1.5421879501379652,2.2144226466745245,0.9476509683629648,\"\",1.9305366233559913,\"\",\"\",1.1152837142381344,\"\",\"\",\"\",3.761019289865944,\"\",1.3571995712735705,\"\",\"\",\"\",1.8525926921416556,\"\",0.4217631070424832,\"\",1.4724762231954336,\"\",1.109242619465929,2.897434577911381,0.17478717609542904,0.8119884870965419,\"\",2.2725851863557067,0.337527959313105,1.8242933014309324,\"\",0.8411258935197011,\"\",\"\",0.010899596084584462,1.0663257373580906,\"\",\"\",\"\",0.11021801597961145,\"\",\"\",\"\",0.6498692438844316,\"\",\"\",1.3910358471775395,1.8245370185972019,\"\",0.7162544024351,\"\",\"\",\"\",\"\",1.013147831472101,\"\",\"\",\"\",\"\",2.254620235329878,0.026758998319382776,\"\",\"\",0.8230074834072074,\"\",0.7983639015060651,0.796129727849139,0.19809409426685232],\"yaxis\":\"y2\",\"type\":\"scatter\"},{\"connectgaps\":false,\"fill\":\"tozeroy\",\"line\":{\"color\":\"red\",\"dash\":\"solid\",\"shape\":\"linear\",\"width\":0.5},\"mode\":\"lines\",\"name\":\"Spread\",\"showlegend\":false,\"x\":[0,1,2,3,4,5,6,7,8,9,10,11,12,13,14,15,16,17,18,19,20,21,22,23,24,25,26,27,28,29,30,31,32,33,34,35,36,37,38,39,40,41,42,43,44,45,46,47,48,49,50,51,52,53,54,55,56,57,58,59,60,61,62,63,64,65,66,67,68,69,70,71,72,73,74,75,76,77,78,79,80,81,82,83,84,85,86,87,88,89,90,91,92,93,94,95,96,97,98,99],\"xaxis\":\"x2\",\"y\":[\"\",-0.028034387904196434,-1.7708956556249031,\"\",\"\",-1.0187346373391706,-0.3480640975024062,-1.1588751587666406,\"\",-1.4744742183019648,-0.8987126337733801,\"\",-0.24638569253454773,-1.0531342228636829,\"\",\"\",-2.9042011061921644,\"\",-1.1128128837448157,-2.031690547936917,-0.7872389669658044,-0.6830366930781193,-2.0804586987368103,-1.7849899454969023,-0.6484602974520971,\"\",-1.588193986660294,-0.03932269347549784,-2.212487691034553,\"\",-0.10217271838518979,\"\",\"\",\"\",-1.7250352130229074,\"\",-0.3405675724180549,-2.0590729147897067,\"\",-2.6172881041269216,-1.303129788034127,-1.2359943174834713,\"\",-2.1884579045749657,\"\",-2.0979181463477286,-0.24362474871585516,-1.4676000200439812,\"\",-1.0355325553389423,\"\",-0.16514162359470796,\"\",-0.5663396154057571,\"\",\"\",\"\",\"\",-0.9087593086621485,\"\",\"\",\"\",-0.35249031786614315,\"\",-0.48504751339180385,-1.5481819558823966,\"\",\"\",-1.4810447541949103,-0.42305729512966594,-2.154822034386389,\"\",-1.3805992291603761,-1.0718655915358812,-1.0430615249729702,\"\",-1.873268678444961,-0.5189865641785365,\"\",\"\",-3.5363434656890202,\"\",-1.562368876436141,-0.1474194101944012,-1.4795187656449458,-2.9657113682107923,\"\",-0.20910452846321198,-1.901267794737826,-0.36361049397062917,-2.2407656840398262,\"\",\"\",-0.10580754941991277,-0.9913710812602599,\"\",-2.087031057533462,\"\",\"\",\"\"],\"yaxis\":\"y2\",\"type\":\"scatter\"}],                        {\"hovermode\":\"x\",\"legend\":{\"bgcolor\":\"#F5F6F9\",\"font\":{\"color\":\"#4D5663\"}},\"paper_bgcolor\":\"#F5F6F9\",\"plot_bgcolor\":\"#F5F6F9\",\"template\":{\"data\":{\"barpolar\":[{\"marker\":{\"line\":{\"color\":\"#E5ECF6\",\"width\":0.5},\"pattern\":{\"fillmode\":\"overlay\",\"size\":10,\"solidity\":0.2}},\"type\":\"barpolar\"}],\"bar\":[{\"error_x\":{\"color\":\"#2a3f5f\"},\"error_y\":{\"color\":\"#2a3f5f\"},\"marker\":{\"line\":{\"color\":\"#E5ECF6\",\"width\":0.5},\"pattern\":{\"fillmode\":\"overlay\",\"size\":10,\"solidity\":0.2}},\"type\":\"bar\"}],\"carpet\":[{\"aaxis\":{\"endlinecolor\":\"#2a3f5f\",\"gridcolor\":\"white\",\"linecolor\":\"white\",\"minorgridcolor\":\"white\",\"startlinecolor\":\"#2a3f5f\"},\"baxis\":{\"endlinecolor\":\"#2a3f5f\",\"gridcolor\":\"white\",\"linecolor\":\"white\",\"minorgridcolor\":\"white\",\"startlinecolor\":\"#2a3f5f\"},\"type\":\"carpet\"}],\"choropleth\":[{\"colorbar\":{\"outlinewidth\":0,\"ticks\":\"\"},\"type\":\"choropleth\"}],\"contourcarpet\":[{\"colorbar\":{\"outlinewidth\":0,\"ticks\":\"\"},\"type\":\"contourcarpet\"}],\"contour\":[{\"colorbar\":{\"outlinewidth\":0,\"ticks\":\"\"},\"colorscale\":[[0.0,\"#0d0887\"],[0.1111111111111111,\"#46039f\"],[0.2222222222222222,\"#7201a8\"],[0.3333333333333333,\"#9c179e\"],[0.4444444444444444,\"#bd3786\"],[0.5555555555555556,\"#d8576b\"],[0.6666666666666666,\"#ed7953\"],[0.7777777777777778,\"#fb9f3a\"],[0.8888888888888888,\"#fdca26\"],[1.0,\"#f0f921\"]],\"type\":\"contour\"}],\"heatmapgl\":[{\"colorbar\":{\"outlinewidth\":0,\"ticks\":\"\"},\"colorscale\":[[0.0,\"#0d0887\"],[0.1111111111111111,\"#46039f\"],[0.2222222222222222,\"#7201a8\"],[0.3333333333333333,\"#9c179e\"],[0.4444444444444444,\"#bd3786\"],[0.5555555555555556,\"#d8576b\"],[0.6666666666666666,\"#ed7953\"],[0.7777777777777778,\"#fb9f3a\"],[0.8888888888888888,\"#fdca26\"],[1.0,\"#f0f921\"]],\"type\":\"heatmapgl\"}],\"heatmap\":[{\"colorbar\":{\"outlinewidth\":0,\"ticks\":\"\"},\"colorscale\":[[0.0,\"#0d0887\"],[0.1111111111111111,\"#46039f\"],[0.2222222222222222,\"#7201a8\"],[0.3333333333333333,\"#9c179e\"],[0.4444444444444444,\"#bd3786\"],[0.5555555555555556,\"#d8576b\"],[0.6666666666666666,\"#ed7953\"],[0.7777777777777778,\"#fb9f3a\"],[0.8888888888888888,\"#fdca26\"],[1.0,\"#f0f921\"]],\"type\":\"heatmap\"}],\"histogram2dcontour\":[{\"colorbar\":{\"outlinewidth\":0,\"ticks\":\"\"},\"colorscale\":[[0.0,\"#0d0887\"],[0.1111111111111111,\"#46039f\"],[0.2222222222222222,\"#7201a8\"],[0.3333333333333333,\"#9c179e\"],[0.4444444444444444,\"#bd3786\"],[0.5555555555555556,\"#d8576b\"],[0.6666666666666666,\"#ed7953\"],[0.7777777777777778,\"#fb9f3a\"],[0.8888888888888888,\"#fdca26\"],[1.0,\"#f0f921\"]],\"type\":\"histogram2dcontour\"}],\"histogram2d\":[{\"colorbar\":{\"outlinewidth\":0,\"ticks\":\"\"},\"colorscale\":[[0.0,\"#0d0887\"],[0.1111111111111111,\"#46039f\"],[0.2222222222222222,\"#7201a8\"],[0.3333333333333333,\"#9c179e\"],[0.4444444444444444,\"#bd3786\"],[0.5555555555555556,\"#d8576b\"],[0.6666666666666666,\"#ed7953\"],[0.7777777777777778,\"#fb9f3a\"],[0.8888888888888888,\"#fdca26\"],[1.0,\"#f0f921\"]],\"type\":\"histogram2d\"}],\"histogram\":[{\"marker\":{\"pattern\":{\"fillmode\":\"overlay\",\"size\":10,\"solidity\":0.2}},\"type\":\"histogram\"}],\"mesh3d\":[{\"colorbar\":{\"outlinewidth\":0,\"ticks\":\"\"},\"type\":\"mesh3d\"}],\"parcoords\":[{\"line\":{\"colorbar\":{\"outlinewidth\":0,\"ticks\":\"\"}},\"type\":\"parcoords\"}],\"pie\":[{\"automargin\":true,\"type\":\"pie\"}],\"scatter3d\":[{\"line\":{\"colorbar\":{\"outlinewidth\":0,\"ticks\":\"\"}},\"marker\":{\"colorbar\":{\"outlinewidth\":0,\"ticks\":\"\"}},\"type\":\"scatter3d\"}],\"scattercarpet\":[{\"marker\":{\"colorbar\":{\"outlinewidth\":0,\"ticks\":\"\"}},\"type\":\"scattercarpet\"}],\"scattergeo\":[{\"marker\":{\"colorbar\":{\"outlinewidth\":0,\"ticks\":\"\"}},\"type\":\"scattergeo\"}],\"scattergl\":[{\"marker\":{\"colorbar\":{\"outlinewidth\":0,\"ticks\":\"\"}},\"type\":\"scattergl\"}],\"scattermapbox\":[{\"marker\":{\"colorbar\":{\"outlinewidth\":0,\"ticks\":\"\"}},\"type\":\"scattermapbox\"}],\"scatterpolargl\":[{\"marker\":{\"colorbar\":{\"outlinewidth\":0,\"ticks\":\"\"}},\"type\":\"scatterpolargl\"}],\"scatterpolar\":[{\"marker\":{\"colorbar\":{\"outlinewidth\":0,\"ticks\":\"\"}},\"type\":\"scatterpolar\"}],\"scatter\":[{\"fillpattern\":{\"fillmode\":\"overlay\",\"size\":10,\"solidity\":0.2},\"type\":\"scatter\"}],\"scatterternary\":[{\"marker\":{\"colorbar\":{\"outlinewidth\":0,\"ticks\":\"\"}},\"type\":\"scatterternary\"}],\"surface\":[{\"colorbar\":{\"outlinewidth\":0,\"ticks\":\"\"},\"colorscale\":[[0.0,\"#0d0887\"],[0.1111111111111111,\"#46039f\"],[0.2222222222222222,\"#7201a8\"],[0.3333333333333333,\"#9c179e\"],[0.4444444444444444,\"#bd3786\"],[0.5555555555555556,\"#d8576b\"],[0.6666666666666666,\"#ed7953\"],[0.7777777777777778,\"#fb9f3a\"],[0.8888888888888888,\"#fdca26\"],[1.0,\"#f0f921\"]],\"type\":\"surface\"}],\"table\":[{\"cells\":{\"fill\":{\"color\":\"#EBF0F8\"},\"line\":{\"color\":\"white\"}},\"header\":{\"fill\":{\"color\":\"#C8D4E3\"},\"line\":{\"color\":\"white\"}},\"type\":\"table\"}]},\"layout\":{\"annotationdefaults\":{\"arrowcolor\":\"#2a3f5f\",\"arrowhead\":0,\"arrowwidth\":1},\"autotypenumbers\":\"strict\",\"coloraxis\":{\"colorbar\":{\"outlinewidth\":0,\"ticks\":\"\"}},\"colorscale\":{\"diverging\":[[0,\"#8e0152\"],[0.1,\"#c51b7d\"],[0.2,\"#de77ae\"],[0.3,\"#f1b6da\"],[0.4,\"#fde0ef\"],[0.5,\"#f7f7f7\"],[0.6,\"#e6f5d0\"],[0.7,\"#b8e186\"],[0.8,\"#7fbc41\"],[0.9,\"#4d9221\"],[1,\"#276419\"]],\"sequential\":[[0.0,\"#0d0887\"],[0.1111111111111111,\"#46039f\"],[0.2222222222222222,\"#7201a8\"],[0.3333333333333333,\"#9c179e\"],[0.4444444444444444,\"#bd3786\"],[0.5555555555555556,\"#d8576b\"],[0.6666666666666666,\"#ed7953\"],[0.7777777777777778,\"#fb9f3a\"],[0.8888888888888888,\"#fdca26\"],[1.0,\"#f0f921\"]],\"sequentialminus\":[[0.0,\"#0d0887\"],[0.1111111111111111,\"#46039f\"],[0.2222222222222222,\"#7201a8\"],[0.3333333333333333,\"#9c179e\"],[0.4444444444444444,\"#bd3786\"],[0.5555555555555556,\"#d8576b\"],[0.6666666666666666,\"#ed7953\"],[0.7777777777777778,\"#fb9f3a\"],[0.8888888888888888,\"#fdca26\"],[1.0,\"#f0f921\"]]},\"colorway\":[\"#636efa\",\"#EF553B\",\"#00cc96\",\"#ab63fa\",\"#FFA15A\",\"#19d3f3\",\"#FF6692\",\"#B6E880\",\"#FF97FF\",\"#FECB52\"],\"font\":{\"color\":\"#2a3f5f\"},\"geo\":{\"bgcolor\":\"white\",\"lakecolor\":\"white\",\"landcolor\":\"#E5ECF6\",\"showlakes\":true,\"showland\":true,\"subunitcolor\":\"white\"},\"hoverlabel\":{\"align\":\"left\"},\"hovermode\":\"closest\",\"mapbox\":{\"style\":\"light\"},\"paper_bgcolor\":\"white\",\"plot_bgcolor\":\"#E5ECF6\",\"polar\":{\"angularaxis\":{\"gridcolor\":\"white\",\"linecolor\":\"white\",\"ticks\":\"\"},\"bgcolor\":\"#E5ECF6\",\"radialaxis\":{\"gridcolor\":\"white\",\"linecolor\":\"white\",\"ticks\":\"\"}},\"scene\":{\"xaxis\":{\"backgroundcolor\":\"#E5ECF6\",\"gridcolor\":\"white\",\"gridwidth\":2,\"linecolor\":\"white\",\"showbackground\":true,\"ticks\":\"\",\"zerolinecolor\":\"white\"},\"yaxis\":{\"backgroundcolor\":\"#E5ECF6\",\"gridcolor\":\"white\",\"gridwidth\":2,\"linecolor\":\"white\",\"showbackground\":true,\"ticks\":\"\",\"zerolinecolor\":\"white\"},\"zaxis\":{\"backgroundcolor\":\"#E5ECF6\",\"gridcolor\":\"white\",\"gridwidth\":2,\"linecolor\":\"white\",\"showbackground\":true,\"ticks\":\"\",\"zerolinecolor\":\"white\"}},\"shapedefaults\":{\"line\":{\"color\":\"#2a3f5f\"}},\"ternary\":{\"aaxis\":{\"gridcolor\":\"white\",\"linecolor\":\"white\",\"ticks\":\"\"},\"baxis\":{\"gridcolor\":\"white\",\"linecolor\":\"white\",\"ticks\":\"\"},\"bgcolor\":\"#E5ECF6\",\"caxis\":{\"gridcolor\":\"white\",\"linecolor\":\"white\",\"ticks\":\"\"}},\"title\":{\"x\":0.05},\"xaxis\":{\"automargin\":true,\"gridcolor\":\"white\",\"linecolor\":\"white\",\"ticks\":\"\",\"title\":{\"standoff\":15},\"zerolinecolor\":\"white\",\"zerolinewidth\":2},\"yaxis\":{\"automargin\":true,\"gridcolor\":\"white\",\"linecolor\":\"white\",\"ticks\":\"\",\"title\":{\"standoff\":15},\"zerolinecolor\":\"white\",\"zerolinewidth\":2}}},\"title\":{\"font\":{\"color\":\"#4D5663\"}},\"xaxis\":{\"gridcolor\":\"#E1E5ED\",\"showgrid\":true,\"tickfont\":{\"color\":\"#4D5663\"},\"title\":{\"font\":{\"color\":\"#4D5663\"},\"text\":\"\"},\"zerolinecolor\":\"#E1E5ED\"},\"yaxis\":{\"domain\":[0.3,1],\"gridcolor\":\"#E1E5ED\",\"showgrid\":true,\"tickfont\":{\"color\":\"#4D5663\"},\"title\":{\"font\":{\"color\":\"#4D5663\"},\"text\":\"\"},\"zerolinecolor\":\"#E1E5ED\"},\"yaxis2\":{\"domain\":[0,0.25],\"gridcolor\":\"#E1E5ED\",\"showgrid\":true,\"tickfont\":{\"color\":\"#4D5663\"},\"title\":{\"font\":{\"color\":\"#4D5663\"},\"text\":\"Spread\"},\"zerolinecolor\":\"#E1E5ED\"},\"xaxis2\":{\"anchor\":\"y2\",\"gridcolor\":\"#E1E5ED\",\"showgrid\":true,\"showticklabels\":false,\"tickfont\":{\"color\":\"#4D5663\"},\"title\":{\"font\":{\"color\":\"#4D5663\"},\"text\":\"\"},\"zerolinecolor\":\"#E1E5ED\"}},                        {\"showLink\": true, \"linkText\": \"Export to plot.ly\", \"plotlyServerURL\": \"https://plot.ly\", \"responsive\": true}                    ).then(function(){\n",
       "                            \n",
       "var gd = document.getElementById('f7eaa993-db2f-4896-be66-a631053235be');\n",
       "var x = new MutationObserver(function (mutations, observer) {{\n",
       "        var display = window.getComputedStyle(gd).display;\n",
       "        if (!display || display === 'none') {{\n",
       "            console.log([gd, 'removed!']);\n",
       "            Plotly.purge(gd);\n",
       "            observer.disconnect();\n",
       "        }}\n",
       "}});\n",
       "\n",
       "// Listen for the removal of the full notebook cells\n",
       "var notebookContainer = gd.closest('#notebook-container');\n",
       "if (notebookContainer) {{\n",
       "    x.observe(notebookContainer, {childList: true});\n",
       "}}\n",
       "\n",
       "// Listen for the clearing of the current output cell\n",
       "var outputEl = gd.closest('.output');\n",
       "if (outputEl) {{\n",
       "    x.observe(outputEl, {childList: true});\n",
       "}}\n",
       "\n",
       "                        })                };                });            </script>        </div>"
      ]
     },
     "metadata": {},
     "output_type": "display_data"
    }
   ],
   "source": [
    "# For stockes\n",
    "import numpy\n",
    "df[['A','B']].iplot(kind='spread')"
   ]
  },
  {
   "cell_type": "markdown",
   "id": "bd362218",
   "metadata": {},
   "source": [
    "## Bubble Plot"
   ]
  },
  {
   "cell_type": "code",
   "execution_count": 20,
   "id": "0aa0b6fe",
   "metadata": {},
   "outputs": [
    {
     "data": {
      "application/vnd.plotly.v1+json": {
       "config": {
        "linkText": "Export to plot.ly",
        "plotlyServerURL": "https://plot.ly",
        "showLink": true
       },
       "data": [
        {
         "marker": {
          "color": [
           "rgb(255, 153, 51)",
           "rgb(55, 128, 191)",
           "rgb(50, 171, 96)",
           "rgb(128, 0, 128)",
           "rgb(219, 64, 82)",
           "rgb(0, 128, 128)",
           "rgb(255, 255, 51)",
           "rgb(128, 128, 0)",
           "rgb(251, 128, 114)",
           "rgb(128, 177, 211)"
          ],
          "line": {
           "width": 1.3
          },
          "size": [
           51,
           36,
           73,
           29,
           40,
           69,
           88,
           54,
           36,
           87,
           41,
           96,
           78,
           64,
           38,
           43,
           72,
           48,
           50,
           75,
           49,
           59,
           112,
           58,
           65,
           22,
           65,
           45,
           20,
           31,
           73,
           27,
           69,
           97,
           75,
           63,
           46,
           41,
           80,
           33,
           83,
           74,
           52,
           74,
           42,
           42,
           76,
           26,
           60,
           71,
           43,
           80,
           67,
           67,
           88,
           79,
           52,
           66,
           68,
           62,
           90,
           59,
           42,
           36,
           69,
           19,
           71,
           54,
           51,
           57,
           59,
           89,
           41,
           13,
           86,
           35,
           23,
           64,
           41,
           79,
           42,
           47,
           35,
           25,
           65,
           70,
           47,
           59,
           95,
           12,
           45,
           69,
           74,
           60,
           52,
           40,
           49,
           45,
           61,
           44
          ],
          "symbol": "circle"
         },
         "mode": "markers",
         "text": "",
         "type": "scatter",
         "x": [
          -0.28417787083349927,
          0.6413274499391824,
          -0.33336861080745656,
          2.006764818840116,
          1.8728377960165354,
          -0.24882852649873424,
          -0.29861874001993766,
          -0.5527446223333694,
          -0.06284839007619376,
          0.6872961946392325,
          -0.48047030452308376,
          -0.15819211016748583,
          0.3979193283561742,
          -0.9231892579778409,
          0.5315667297247073,
          1.0017781127586238,
          -2.0721385248636266,
          0.9212012857921277,
          -0.25197735935695925,
          -2.5438707821411417,
          -0.9797570746505114,
          -1.785600451605513,
          -1.3677304085261701,
          -0.8597776400411747,
          -0.38161314435598254,
          -0.21955301709234307,
          -0.46962502773123727,
          0.08658003414889327,
          -2.624997706901156,
          1.617799016690096,
          0.2322838968046603,
          -0.5747107444070692,
          1.306245125000283,
          -0.7424921675650964,
          -0.6846539842162228,
          2.1601206807767657,
          -1.1832051219606274,
          0.21698850723985674,
          1.693120559186067,
          -1.4725670406597433,
          0.5268215706826592,
          0.22618522749666412,
          1.3241925977559907,
          -1.1750950935332447,
          0.779369119313454,
          -1.0622472454257539,
          -0.7479801434627531,
          -1.11546714284219,
          0.6490101527890603,
          -0.22489797094481306,
          -1.1740087820316207,
          0.08056535097254833,
          0.615871865696655,
          -0.17445791673987496,
          0.8456171781805357,
          1.8168544512752107,
          0.9067056603187674,
          -0.1318278852951855,
          -0.9806500898254744,
          0.4032491907360089,
          0.5456168400678882,
          1.6799435539133445,
          -1.417466304121186,
          1.1183981281871356,
          -0.5754137503060296,
          -0.4451311781056884,
          0.6524364369982173,
          -0.2531055435068277,
          -1.2238276239485155,
          0.5079425450594325,
          -0.7127247095374196,
          0.5340289009521697,
          -0.45390448707790165,
          -0.004315066126661081,
          0.01607814905285022,
          0.23686645998285866,
          -0.22681193933351268,
          -1.282908829683012,
          1.0598838321126345,
          -0.28086616600779785,
          -1.4665713559786704,
          0.9606502786533506,
          0.30386951258373074,
          0.9913019602065628,
          -0.5343798033042318,
          -1.2672235642375103,
          0.3206869075841262,
          0.059509125355931794,
          -0.7576598946355392,
          -0.5340235908042054,
          -1.1285727143193942,
          2.1140216110955588,
          1.0418469094947094,
          0.2854170485589883,
          -1.9999513786857224,
          0.9479014280894817,
          -1.14631525364236,
          1.6505960122936931,
          0.4751216841159835,
          0.07362728384021043
         ],
         "y": [
          -0.9942875062320643,
          0.6693618378433789,
          1.4375270448174466,
          -0.7601350990541826,
          -1.3856509449362089,
          0.7699061108404363,
          0.04944535748246853,
          0.6061305364332712,
          -0.23326162112807344,
          2.1617704129411974,
          0.4182423292502963,
          -0.8119088645105795,
          0.644305020890722,
          0.12994496488584203,
          -1.5914719130541115,
          -0.3958209142720946,
          0.8320625813285379,
          0.3595709913909463,
          0.8608355243878564,
          -0.5121802342042246,
          -0.19251810768470703,
          -1.1025637585273937,
          0.7127282902106402,
          0.9252123054557275,
          0.26684715309611456,
          -2.0304254233704966,
          1.1185689589290568,
          0.12590272762439111,
          -0.4125100158666027,
          -1.3224183185741754,
          0.3344566151898501,
          -2.1168986945450343,
          -0.9081775216742415,
          -1.6901431359280612,
          1.0403812288066845,
          0.22958405742077428,
          -0.8426375495425725,
          2.276061422029563,
          0.5778368449479325,
          1.144721063467178,
          1.8299513587167864,
          1.4621795449801354,
          -2.4368266921099533,
          1.013362811041721,
          -0.5778304519601165,
          1.0356709009219747,
          -0.504355394746898,
          0.35213287720179104,
          -1.2035825393525954,
          0.8106345843941292,
          -1.595771889074104,
          0.2457069745672563,
          -0.8566043574987787,
          0.3918816986658821,
          -0.2636254412853934,
          -1.0805801266361703,
          0.7319184842233384,
          -0.9438163723917274,
          -0.07189078116332594,
          -1.8693359956196978,
          0.2080888807547833,
          -0.14434974751758786,
          -1.0649759862550428,
          0.27727223466743445,
          -0.09036623691422577,
          1.1030507777767082,
          0.6415368409136328,
          -1.3194312808649182,
          0.2572171302463949,
          0.9309998401890984,
          1.4420973248489697,
          0.42381088497255825,
          0.9266947420824746,
          1.0675505254092201,
          1.0591396740258205,
          -0.4130027839015729,
          1.6464567391114484,
          -0.7639222655044755,
          -0.33115201506490505,
          -2.1054031846049996,
          2.0697721097103496,
          0.24439587621825065,
          1.8662383890198717,
          1.138721370400964,
          0.9451389623407138,
          1.6984878039732823,
          -0.6924609238879748,
          0.26861365381914376,
          1.1436079001022867,
          -0.1704130968335762,
          1.112192969720432,
          -0.14059862423431896,
          1.0150879111753266,
          0.3912245979789011,
          -1.0085802974254625,
          0.12489394468227431,
          0.940715803891102,
          0.8522321107876281,
          -0.3210080437331556,
          -0.12446681042664187
         ]
        }
       ],
       "layout": {
        "legend": {
         "bgcolor": "#F5F6F9",
         "font": {
          "color": "#4D5663"
         }
        },
        "paper_bgcolor": "#F5F6F9",
        "plot_bgcolor": "#F5F6F9",
        "template": {
         "data": {
          "bar": [
           {
            "error_x": {
             "color": "#2a3f5f"
            },
            "error_y": {
             "color": "#2a3f5f"
            },
            "marker": {
             "line": {
              "color": "#E5ECF6",
              "width": 0.5
             },
             "pattern": {
              "fillmode": "overlay",
              "size": 10,
              "solidity": 0.2
             }
            },
            "type": "bar"
           }
          ],
          "barpolar": [
           {
            "marker": {
             "line": {
              "color": "#E5ECF6",
              "width": 0.5
             },
             "pattern": {
              "fillmode": "overlay",
              "size": 10,
              "solidity": 0.2
             }
            },
            "type": "barpolar"
           }
          ],
          "carpet": [
           {
            "aaxis": {
             "endlinecolor": "#2a3f5f",
             "gridcolor": "white",
             "linecolor": "white",
             "minorgridcolor": "white",
             "startlinecolor": "#2a3f5f"
            },
            "baxis": {
             "endlinecolor": "#2a3f5f",
             "gridcolor": "white",
             "linecolor": "white",
             "minorgridcolor": "white",
             "startlinecolor": "#2a3f5f"
            },
            "type": "carpet"
           }
          ],
          "choropleth": [
           {
            "colorbar": {
             "outlinewidth": 0,
             "ticks": ""
            },
            "type": "choropleth"
           }
          ],
          "contour": [
           {
            "colorbar": {
             "outlinewidth": 0,
             "ticks": ""
            },
            "colorscale": [
             [
              0,
              "#0d0887"
             ],
             [
              0.1111111111111111,
              "#46039f"
             ],
             [
              0.2222222222222222,
              "#7201a8"
             ],
             [
              0.3333333333333333,
              "#9c179e"
             ],
             [
              0.4444444444444444,
              "#bd3786"
             ],
             [
              0.5555555555555556,
              "#d8576b"
             ],
             [
              0.6666666666666666,
              "#ed7953"
             ],
             [
              0.7777777777777778,
              "#fb9f3a"
             ],
             [
              0.8888888888888888,
              "#fdca26"
             ],
             [
              1,
              "#f0f921"
             ]
            ],
            "type": "contour"
           }
          ],
          "contourcarpet": [
           {
            "colorbar": {
             "outlinewidth": 0,
             "ticks": ""
            },
            "type": "contourcarpet"
           }
          ],
          "heatmap": [
           {
            "colorbar": {
             "outlinewidth": 0,
             "ticks": ""
            },
            "colorscale": [
             [
              0,
              "#0d0887"
             ],
             [
              0.1111111111111111,
              "#46039f"
             ],
             [
              0.2222222222222222,
              "#7201a8"
             ],
             [
              0.3333333333333333,
              "#9c179e"
             ],
             [
              0.4444444444444444,
              "#bd3786"
             ],
             [
              0.5555555555555556,
              "#d8576b"
             ],
             [
              0.6666666666666666,
              "#ed7953"
             ],
             [
              0.7777777777777778,
              "#fb9f3a"
             ],
             [
              0.8888888888888888,
              "#fdca26"
             ],
             [
              1,
              "#f0f921"
             ]
            ],
            "type": "heatmap"
           }
          ],
          "heatmapgl": [
           {
            "colorbar": {
             "outlinewidth": 0,
             "ticks": ""
            },
            "colorscale": [
             [
              0,
              "#0d0887"
             ],
             [
              0.1111111111111111,
              "#46039f"
             ],
             [
              0.2222222222222222,
              "#7201a8"
             ],
             [
              0.3333333333333333,
              "#9c179e"
             ],
             [
              0.4444444444444444,
              "#bd3786"
             ],
             [
              0.5555555555555556,
              "#d8576b"
             ],
             [
              0.6666666666666666,
              "#ed7953"
             ],
             [
              0.7777777777777778,
              "#fb9f3a"
             ],
             [
              0.8888888888888888,
              "#fdca26"
             ],
             [
              1,
              "#f0f921"
             ]
            ],
            "type": "heatmapgl"
           }
          ],
          "histogram": [
           {
            "marker": {
             "pattern": {
              "fillmode": "overlay",
              "size": 10,
              "solidity": 0.2
             }
            },
            "type": "histogram"
           }
          ],
          "histogram2d": [
           {
            "colorbar": {
             "outlinewidth": 0,
             "ticks": ""
            },
            "colorscale": [
             [
              0,
              "#0d0887"
             ],
             [
              0.1111111111111111,
              "#46039f"
             ],
             [
              0.2222222222222222,
              "#7201a8"
             ],
             [
              0.3333333333333333,
              "#9c179e"
             ],
             [
              0.4444444444444444,
              "#bd3786"
             ],
             [
              0.5555555555555556,
              "#d8576b"
             ],
             [
              0.6666666666666666,
              "#ed7953"
             ],
             [
              0.7777777777777778,
              "#fb9f3a"
             ],
             [
              0.8888888888888888,
              "#fdca26"
             ],
             [
              1,
              "#f0f921"
             ]
            ],
            "type": "histogram2d"
           }
          ],
          "histogram2dcontour": [
           {
            "colorbar": {
             "outlinewidth": 0,
             "ticks": ""
            },
            "colorscale": [
             [
              0,
              "#0d0887"
             ],
             [
              0.1111111111111111,
              "#46039f"
             ],
             [
              0.2222222222222222,
              "#7201a8"
             ],
             [
              0.3333333333333333,
              "#9c179e"
             ],
             [
              0.4444444444444444,
              "#bd3786"
             ],
             [
              0.5555555555555556,
              "#d8576b"
             ],
             [
              0.6666666666666666,
              "#ed7953"
             ],
             [
              0.7777777777777778,
              "#fb9f3a"
             ],
             [
              0.8888888888888888,
              "#fdca26"
             ],
             [
              1,
              "#f0f921"
             ]
            ],
            "type": "histogram2dcontour"
           }
          ],
          "mesh3d": [
           {
            "colorbar": {
             "outlinewidth": 0,
             "ticks": ""
            },
            "type": "mesh3d"
           }
          ],
          "parcoords": [
           {
            "line": {
             "colorbar": {
              "outlinewidth": 0,
              "ticks": ""
             }
            },
            "type": "parcoords"
           }
          ],
          "pie": [
           {
            "automargin": true,
            "type": "pie"
           }
          ],
          "scatter": [
           {
            "fillpattern": {
             "fillmode": "overlay",
             "size": 10,
             "solidity": 0.2
            },
            "type": "scatter"
           }
          ],
          "scatter3d": [
           {
            "line": {
             "colorbar": {
              "outlinewidth": 0,
              "ticks": ""
             }
            },
            "marker": {
             "colorbar": {
              "outlinewidth": 0,
              "ticks": ""
             }
            },
            "type": "scatter3d"
           }
          ],
          "scattercarpet": [
           {
            "marker": {
             "colorbar": {
              "outlinewidth": 0,
              "ticks": ""
             }
            },
            "type": "scattercarpet"
           }
          ],
          "scattergeo": [
           {
            "marker": {
             "colorbar": {
              "outlinewidth": 0,
              "ticks": ""
             }
            },
            "type": "scattergeo"
           }
          ],
          "scattergl": [
           {
            "marker": {
             "colorbar": {
              "outlinewidth": 0,
              "ticks": ""
             }
            },
            "type": "scattergl"
           }
          ],
          "scattermapbox": [
           {
            "marker": {
             "colorbar": {
              "outlinewidth": 0,
              "ticks": ""
             }
            },
            "type": "scattermapbox"
           }
          ],
          "scatterpolar": [
           {
            "marker": {
             "colorbar": {
              "outlinewidth": 0,
              "ticks": ""
             }
            },
            "type": "scatterpolar"
           }
          ],
          "scatterpolargl": [
           {
            "marker": {
             "colorbar": {
              "outlinewidth": 0,
              "ticks": ""
             }
            },
            "type": "scatterpolargl"
           }
          ],
          "scatterternary": [
           {
            "marker": {
             "colorbar": {
              "outlinewidth": 0,
              "ticks": ""
             }
            },
            "type": "scatterternary"
           }
          ],
          "surface": [
           {
            "colorbar": {
             "outlinewidth": 0,
             "ticks": ""
            },
            "colorscale": [
             [
              0,
              "#0d0887"
             ],
             [
              0.1111111111111111,
              "#46039f"
             ],
             [
              0.2222222222222222,
              "#7201a8"
             ],
             [
              0.3333333333333333,
              "#9c179e"
             ],
             [
              0.4444444444444444,
              "#bd3786"
             ],
             [
              0.5555555555555556,
              "#d8576b"
             ],
             [
              0.6666666666666666,
              "#ed7953"
             ],
             [
              0.7777777777777778,
              "#fb9f3a"
             ],
             [
              0.8888888888888888,
              "#fdca26"
             ],
             [
              1,
              "#f0f921"
             ]
            ],
            "type": "surface"
           }
          ],
          "table": [
           {
            "cells": {
             "fill": {
              "color": "#EBF0F8"
             },
             "line": {
              "color": "white"
             }
            },
            "header": {
             "fill": {
              "color": "#C8D4E3"
             },
             "line": {
              "color": "white"
             }
            },
            "type": "table"
           }
          ]
         },
         "layout": {
          "annotationdefaults": {
           "arrowcolor": "#2a3f5f",
           "arrowhead": 0,
           "arrowwidth": 1
          },
          "autotypenumbers": "strict",
          "coloraxis": {
           "colorbar": {
            "outlinewidth": 0,
            "ticks": ""
           }
          },
          "colorscale": {
           "diverging": [
            [
             0,
             "#8e0152"
            ],
            [
             0.1,
             "#c51b7d"
            ],
            [
             0.2,
             "#de77ae"
            ],
            [
             0.3,
             "#f1b6da"
            ],
            [
             0.4,
             "#fde0ef"
            ],
            [
             0.5,
             "#f7f7f7"
            ],
            [
             0.6,
             "#e6f5d0"
            ],
            [
             0.7,
             "#b8e186"
            ],
            [
             0.8,
             "#7fbc41"
            ],
            [
             0.9,
             "#4d9221"
            ],
            [
             1,
             "#276419"
            ]
           ],
           "sequential": [
            [
             0,
             "#0d0887"
            ],
            [
             0.1111111111111111,
             "#46039f"
            ],
            [
             0.2222222222222222,
             "#7201a8"
            ],
            [
             0.3333333333333333,
             "#9c179e"
            ],
            [
             0.4444444444444444,
             "#bd3786"
            ],
            [
             0.5555555555555556,
             "#d8576b"
            ],
            [
             0.6666666666666666,
             "#ed7953"
            ],
            [
             0.7777777777777778,
             "#fb9f3a"
            ],
            [
             0.8888888888888888,
             "#fdca26"
            ],
            [
             1,
             "#f0f921"
            ]
           ],
           "sequentialminus": [
            [
             0,
             "#0d0887"
            ],
            [
             0.1111111111111111,
             "#46039f"
            ],
            [
             0.2222222222222222,
             "#7201a8"
            ],
            [
             0.3333333333333333,
             "#9c179e"
            ],
            [
             0.4444444444444444,
             "#bd3786"
            ],
            [
             0.5555555555555556,
             "#d8576b"
            ],
            [
             0.6666666666666666,
             "#ed7953"
            ],
            [
             0.7777777777777778,
             "#fb9f3a"
            ],
            [
             0.8888888888888888,
             "#fdca26"
            ],
            [
             1,
             "#f0f921"
            ]
           ]
          },
          "colorway": [
           "#636efa",
           "#EF553B",
           "#00cc96",
           "#ab63fa",
           "#FFA15A",
           "#19d3f3",
           "#FF6692",
           "#B6E880",
           "#FF97FF",
           "#FECB52"
          ],
          "font": {
           "color": "#2a3f5f"
          },
          "geo": {
           "bgcolor": "white",
           "lakecolor": "white",
           "landcolor": "#E5ECF6",
           "showlakes": true,
           "showland": true,
           "subunitcolor": "white"
          },
          "hoverlabel": {
           "align": "left"
          },
          "hovermode": "closest",
          "mapbox": {
           "style": "light"
          },
          "paper_bgcolor": "white",
          "plot_bgcolor": "#E5ECF6",
          "polar": {
           "angularaxis": {
            "gridcolor": "white",
            "linecolor": "white",
            "ticks": ""
           },
           "bgcolor": "#E5ECF6",
           "radialaxis": {
            "gridcolor": "white",
            "linecolor": "white",
            "ticks": ""
           }
          },
          "scene": {
           "xaxis": {
            "backgroundcolor": "#E5ECF6",
            "gridcolor": "white",
            "gridwidth": 2,
            "linecolor": "white",
            "showbackground": true,
            "ticks": "",
            "zerolinecolor": "white"
           },
           "yaxis": {
            "backgroundcolor": "#E5ECF6",
            "gridcolor": "white",
            "gridwidth": 2,
            "linecolor": "white",
            "showbackground": true,
            "ticks": "",
            "zerolinecolor": "white"
           },
           "zaxis": {
            "backgroundcolor": "#E5ECF6",
            "gridcolor": "white",
            "gridwidth": 2,
            "linecolor": "white",
            "showbackground": true,
            "ticks": "",
            "zerolinecolor": "white"
           }
          },
          "shapedefaults": {
           "line": {
            "color": "#2a3f5f"
           }
          },
          "ternary": {
           "aaxis": {
            "gridcolor": "white",
            "linecolor": "white",
            "ticks": ""
           },
           "baxis": {
            "gridcolor": "white",
            "linecolor": "white",
            "ticks": ""
           },
           "bgcolor": "#E5ECF6",
           "caxis": {
            "gridcolor": "white",
            "linecolor": "white",
            "ticks": ""
           }
          },
          "title": {
           "x": 0.05
          },
          "xaxis": {
           "automargin": true,
           "gridcolor": "white",
           "linecolor": "white",
           "ticks": "",
           "title": {
            "standoff": 15
           },
           "zerolinecolor": "white",
           "zerolinewidth": 2
          },
          "yaxis": {
           "automargin": true,
           "gridcolor": "white",
           "linecolor": "white",
           "ticks": "",
           "title": {
            "standoff": 15
           },
           "zerolinecolor": "white",
           "zerolinewidth": 2
          }
         }
        },
        "title": {
         "font": {
          "color": "#4D5663"
         }
        },
        "xaxis": {
         "gridcolor": "#E1E5ED",
         "showgrid": true,
         "tickfont": {
          "color": "#4D5663"
         },
         "title": {
          "font": {
           "color": "#4D5663"
          },
          "text": ""
         },
         "zerolinecolor": "#E1E5ED"
        },
        "yaxis": {
         "gridcolor": "#E1E5ED",
         "showgrid": true,
         "tickfont": {
          "color": "#4D5663"
         },
         "title": {
          "font": {
           "color": "#4D5663"
          },
          "text": ""
         },
         "zerolinecolor": "#E1E5ED"
        }
       }
      },
      "text/html": [
       "<div>                            <div id=\"4900237d-70c5-45a5-b1ef-ba701cb2d881\" class=\"plotly-graph-div\" style=\"height:525px; width:100%;\"></div>            <script type=\"text/javascript\">                require([\"plotly\"], function(Plotly) {                    window.PLOTLYENV=window.PLOTLYENV || {};\n",
       "                    window.PLOTLYENV.BASE_URL='https://plot.ly';                                    if (document.getElementById(\"4900237d-70c5-45a5-b1ef-ba701cb2d881\")) {                    Plotly.newPlot(                        \"4900237d-70c5-45a5-b1ef-ba701cb2d881\",                        [{\"marker\":{\"color\":[\"rgb(255, 153, 51)\",\"rgb(55, 128, 191)\",\"rgb(50, 171, 96)\",\"rgb(128, 0, 128)\",\"rgb(219, 64, 82)\",\"rgb(0, 128, 128)\",\"rgb(255, 255, 51)\",\"rgb(128, 128, 0)\",\"rgb(251, 128, 114)\",\"rgb(128, 177, 211)\"],\"line\":{\"width\":1.3},\"size\":[51,36,73,29,40,69,88,54,36,87,41,96,78,64,38,43,72,48,50,75,49,59,112,58,65,22,65,45,20,31,73,27,69,97,75,63,46,41,80,33,83,74,52,74,42,42,76,26,60,71,43,80,67,67,88,79,52,66,68,62,90,59,42,36,69,19,71,54,51,57,59,89,41,13,86,35,23,64,41,79,42,47,35,25,65,70,47,59,95,12,45,69,74,60,52,40,49,45,61,44],\"symbol\":\"circle\"},\"mode\":\"markers\",\"text\":\"\",\"x\":[-0.28417787083349927,0.6413274499391824,-0.33336861080745656,2.006764818840116,1.8728377960165354,-0.24882852649873424,-0.29861874001993766,-0.5527446223333694,-0.06284839007619376,0.6872961946392325,-0.48047030452308376,-0.15819211016748583,0.3979193283561742,-0.9231892579778409,0.5315667297247073,1.0017781127586238,-2.0721385248636266,0.9212012857921277,-0.25197735935695925,-2.5438707821411417,-0.9797570746505114,-1.785600451605513,-1.3677304085261701,-0.8597776400411747,-0.38161314435598254,-0.21955301709234307,-0.46962502773123727,0.08658003414889327,-2.624997706901156,1.617799016690096,0.2322838968046603,-0.5747107444070692,1.306245125000283,-0.7424921675650964,-0.6846539842162228,2.1601206807767657,-1.1832051219606274,0.21698850723985674,1.693120559186067,-1.4725670406597433,0.5268215706826592,0.22618522749666412,1.3241925977559907,-1.1750950935332447,0.779369119313454,-1.0622472454257539,-0.7479801434627531,-1.11546714284219,0.6490101527890603,-0.22489797094481306,-1.1740087820316207,0.08056535097254833,0.615871865696655,-0.17445791673987496,0.8456171781805357,1.8168544512752107,0.9067056603187674,-0.1318278852951855,-0.9806500898254744,0.4032491907360089,0.5456168400678882,1.6799435539133445,-1.417466304121186,1.1183981281871356,-0.5754137503060296,-0.4451311781056884,0.6524364369982173,-0.2531055435068277,-1.2238276239485155,0.5079425450594325,-0.7127247095374196,0.5340289009521697,-0.45390448707790165,-0.004315066126661081,0.01607814905285022,0.23686645998285866,-0.22681193933351268,-1.282908829683012,1.0598838321126345,-0.28086616600779785,-1.4665713559786704,0.9606502786533506,0.30386951258373074,0.9913019602065628,-0.5343798033042318,-1.2672235642375103,0.3206869075841262,0.059509125355931794,-0.7576598946355392,-0.5340235908042054,-1.1285727143193942,2.1140216110955588,1.0418469094947094,0.2854170485589883,-1.9999513786857224,0.9479014280894817,-1.14631525364236,1.6505960122936931,0.4751216841159835,0.07362728384021043],\"y\":[-0.9942875062320643,0.6693618378433789,1.4375270448174466,-0.7601350990541826,-1.3856509449362089,0.7699061108404363,0.04944535748246853,0.6061305364332712,-0.23326162112807344,2.1617704129411974,0.4182423292502963,-0.8119088645105795,0.644305020890722,0.12994496488584203,-1.5914719130541115,-0.3958209142720946,0.8320625813285379,0.3595709913909463,0.8608355243878564,-0.5121802342042246,-0.19251810768470703,-1.1025637585273937,0.7127282902106402,0.9252123054557275,0.26684715309611456,-2.0304254233704966,1.1185689589290568,0.12590272762439111,-0.4125100158666027,-1.3224183185741754,0.3344566151898501,-2.1168986945450343,-0.9081775216742415,-1.6901431359280612,1.0403812288066845,0.22958405742077428,-0.8426375495425725,2.276061422029563,0.5778368449479325,1.144721063467178,1.8299513587167864,1.4621795449801354,-2.4368266921099533,1.013362811041721,-0.5778304519601165,1.0356709009219747,-0.504355394746898,0.35213287720179104,-1.2035825393525954,0.8106345843941292,-1.595771889074104,0.2457069745672563,-0.8566043574987787,0.3918816986658821,-0.2636254412853934,-1.0805801266361703,0.7319184842233384,-0.9438163723917274,-0.07189078116332594,-1.8693359956196978,0.2080888807547833,-0.14434974751758786,-1.0649759862550428,0.27727223466743445,-0.09036623691422577,1.1030507777767082,0.6415368409136328,-1.3194312808649182,0.2572171302463949,0.9309998401890984,1.4420973248489697,0.42381088497255825,0.9266947420824746,1.0675505254092201,1.0591396740258205,-0.4130027839015729,1.6464567391114484,-0.7639222655044755,-0.33115201506490505,-2.1054031846049996,2.0697721097103496,0.24439587621825065,1.8662383890198717,1.138721370400964,0.9451389623407138,1.6984878039732823,-0.6924609238879748,0.26861365381914376,1.1436079001022867,-0.1704130968335762,1.112192969720432,-0.14059862423431896,1.0150879111753266,0.3912245979789011,-1.0085802974254625,0.12489394468227431,0.940715803891102,0.8522321107876281,-0.3210080437331556,-0.12446681042664187],\"type\":\"scatter\"}],                        {\"legend\":{\"bgcolor\":\"#F5F6F9\",\"font\":{\"color\":\"#4D5663\"}},\"paper_bgcolor\":\"#F5F6F9\",\"plot_bgcolor\":\"#F5F6F9\",\"template\":{\"data\":{\"barpolar\":[{\"marker\":{\"line\":{\"color\":\"#E5ECF6\",\"width\":0.5},\"pattern\":{\"fillmode\":\"overlay\",\"size\":10,\"solidity\":0.2}},\"type\":\"barpolar\"}],\"bar\":[{\"error_x\":{\"color\":\"#2a3f5f\"},\"error_y\":{\"color\":\"#2a3f5f\"},\"marker\":{\"line\":{\"color\":\"#E5ECF6\",\"width\":0.5},\"pattern\":{\"fillmode\":\"overlay\",\"size\":10,\"solidity\":0.2}},\"type\":\"bar\"}],\"carpet\":[{\"aaxis\":{\"endlinecolor\":\"#2a3f5f\",\"gridcolor\":\"white\",\"linecolor\":\"white\",\"minorgridcolor\":\"white\",\"startlinecolor\":\"#2a3f5f\"},\"baxis\":{\"endlinecolor\":\"#2a3f5f\",\"gridcolor\":\"white\",\"linecolor\":\"white\",\"minorgridcolor\":\"white\",\"startlinecolor\":\"#2a3f5f\"},\"type\":\"carpet\"}],\"choropleth\":[{\"colorbar\":{\"outlinewidth\":0,\"ticks\":\"\"},\"type\":\"choropleth\"}],\"contourcarpet\":[{\"colorbar\":{\"outlinewidth\":0,\"ticks\":\"\"},\"type\":\"contourcarpet\"}],\"contour\":[{\"colorbar\":{\"outlinewidth\":0,\"ticks\":\"\"},\"colorscale\":[[0.0,\"#0d0887\"],[0.1111111111111111,\"#46039f\"],[0.2222222222222222,\"#7201a8\"],[0.3333333333333333,\"#9c179e\"],[0.4444444444444444,\"#bd3786\"],[0.5555555555555556,\"#d8576b\"],[0.6666666666666666,\"#ed7953\"],[0.7777777777777778,\"#fb9f3a\"],[0.8888888888888888,\"#fdca26\"],[1.0,\"#f0f921\"]],\"type\":\"contour\"}],\"heatmapgl\":[{\"colorbar\":{\"outlinewidth\":0,\"ticks\":\"\"},\"colorscale\":[[0.0,\"#0d0887\"],[0.1111111111111111,\"#46039f\"],[0.2222222222222222,\"#7201a8\"],[0.3333333333333333,\"#9c179e\"],[0.4444444444444444,\"#bd3786\"],[0.5555555555555556,\"#d8576b\"],[0.6666666666666666,\"#ed7953\"],[0.7777777777777778,\"#fb9f3a\"],[0.8888888888888888,\"#fdca26\"],[1.0,\"#f0f921\"]],\"type\":\"heatmapgl\"}],\"heatmap\":[{\"colorbar\":{\"outlinewidth\":0,\"ticks\":\"\"},\"colorscale\":[[0.0,\"#0d0887\"],[0.1111111111111111,\"#46039f\"],[0.2222222222222222,\"#7201a8\"],[0.3333333333333333,\"#9c179e\"],[0.4444444444444444,\"#bd3786\"],[0.5555555555555556,\"#d8576b\"],[0.6666666666666666,\"#ed7953\"],[0.7777777777777778,\"#fb9f3a\"],[0.8888888888888888,\"#fdca26\"],[1.0,\"#f0f921\"]],\"type\":\"heatmap\"}],\"histogram2dcontour\":[{\"colorbar\":{\"outlinewidth\":0,\"ticks\":\"\"},\"colorscale\":[[0.0,\"#0d0887\"],[0.1111111111111111,\"#46039f\"],[0.2222222222222222,\"#7201a8\"],[0.3333333333333333,\"#9c179e\"],[0.4444444444444444,\"#bd3786\"],[0.5555555555555556,\"#d8576b\"],[0.6666666666666666,\"#ed7953\"],[0.7777777777777778,\"#fb9f3a\"],[0.8888888888888888,\"#fdca26\"],[1.0,\"#f0f921\"]],\"type\":\"histogram2dcontour\"}],\"histogram2d\":[{\"colorbar\":{\"outlinewidth\":0,\"ticks\":\"\"},\"colorscale\":[[0.0,\"#0d0887\"],[0.1111111111111111,\"#46039f\"],[0.2222222222222222,\"#7201a8\"],[0.3333333333333333,\"#9c179e\"],[0.4444444444444444,\"#bd3786\"],[0.5555555555555556,\"#d8576b\"],[0.6666666666666666,\"#ed7953\"],[0.7777777777777778,\"#fb9f3a\"],[0.8888888888888888,\"#fdca26\"],[1.0,\"#f0f921\"]],\"type\":\"histogram2d\"}],\"histogram\":[{\"marker\":{\"pattern\":{\"fillmode\":\"overlay\",\"size\":10,\"solidity\":0.2}},\"type\":\"histogram\"}],\"mesh3d\":[{\"colorbar\":{\"outlinewidth\":0,\"ticks\":\"\"},\"type\":\"mesh3d\"}],\"parcoords\":[{\"line\":{\"colorbar\":{\"outlinewidth\":0,\"ticks\":\"\"}},\"type\":\"parcoords\"}],\"pie\":[{\"automargin\":true,\"type\":\"pie\"}],\"scatter3d\":[{\"line\":{\"colorbar\":{\"outlinewidth\":0,\"ticks\":\"\"}},\"marker\":{\"colorbar\":{\"outlinewidth\":0,\"ticks\":\"\"}},\"type\":\"scatter3d\"}],\"scattercarpet\":[{\"marker\":{\"colorbar\":{\"outlinewidth\":0,\"ticks\":\"\"}},\"type\":\"scattercarpet\"}],\"scattergeo\":[{\"marker\":{\"colorbar\":{\"outlinewidth\":0,\"ticks\":\"\"}},\"type\":\"scattergeo\"}],\"scattergl\":[{\"marker\":{\"colorbar\":{\"outlinewidth\":0,\"ticks\":\"\"}},\"type\":\"scattergl\"}],\"scattermapbox\":[{\"marker\":{\"colorbar\":{\"outlinewidth\":0,\"ticks\":\"\"}},\"type\":\"scattermapbox\"}],\"scatterpolargl\":[{\"marker\":{\"colorbar\":{\"outlinewidth\":0,\"ticks\":\"\"}},\"type\":\"scatterpolargl\"}],\"scatterpolar\":[{\"marker\":{\"colorbar\":{\"outlinewidth\":0,\"ticks\":\"\"}},\"type\":\"scatterpolar\"}],\"scatter\":[{\"fillpattern\":{\"fillmode\":\"overlay\",\"size\":10,\"solidity\":0.2},\"type\":\"scatter\"}],\"scatterternary\":[{\"marker\":{\"colorbar\":{\"outlinewidth\":0,\"ticks\":\"\"}},\"type\":\"scatterternary\"}],\"surface\":[{\"colorbar\":{\"outlinewidth\":0,\"ticks\":\"\"},\"colorscale\":[[0.0,\"#0d0887\"],[0.1111111111111111,\"#46039f\"],[0.2222222222222222,\"#7201a8\"],[0.3333333333333333,\"#9c179e\"],[0.4444444444444444,\"#bd3786\"],[0.5555555555555556,\"#d8576b\"],[0.6666666666666666,\"#ed7953\"],[0.7777777777777778,\"#fb9f3a\"],[0.8888888888888888,\"#fdca26\"],[1.0,\"#f0f921\"]],\"type\":\"surface\"}],\"table\":[{\"cells\":{\"fill\":{\"color\":\"#EBF0F8\"},\"line\":{\"color\":\"white\"}},\"header\":{\"fill\":{\"color\":\"#C8D4E3\"},\"line\":{\"color\":\"white\"}},\"type\":\"table\"}]},\"layout\":{\"annotationdefaults\":{\"arrowcolor\":\"#2a3f5f\",\"arrowhead\":0,\"arrowwidth\":1},\"autotypenumbers\":\"strict\",\"coloraxis\":{\"colorbar\":{\"outlinewidth\":0,\"ticks\":\"\"}},\"colorscale\":{\"diverging\":[[0,\"#8e0152\"],[0.1,\"#c51b7d\"],[0.2,\"#de77ae\"],[0.3,\"#f1b6da\"],[0.4,\"#fde0ef\"],[0.5,\"#f7f7f7\"],[0.6,\"#e6f5d0\"],[0.7,\"#b8e186\"],[0.8,\"#7fbc41\"],[0.9,\"#4d9221\"],[1,\"#276419\"]],\"sequential\":[[0.0,\"#0d0887\"],[0.1111111111111111,\"#46039f\"],[0.2222222222222222,\"#7201a8\"],[0.3333333333333333,\"#9c179e\"],[0.4444444444444444,\"#bd3786\"],[0.5555555555555556,\"#d8576b\"],[0.6666666666666666,\"#ed7953\"],[0.7777777777777778,\"#fb9f3a\"],[0.8888888888888888,\"#fdca26\"],[1.0,\"#f0f921\"]],\"sequentialminus\":[[0.0,\"#0d0887\"],[0.1111111111111111,\"#46039f\"],[0.2222222222222222,\"#7201a8\"],[0.3333333333333333,\"#9c179e\"],[0.4444444444444444,\"#bd3786\"],[0.5555555555555556,\"#d8576b\"],[0.6666666666666666,\"#ed7953\"],[0.7777777777777778,\"#fb9f3a\"],[0.8888888888888888,\"#fdca26\"],[1.0,\"#f0f921\"]]},\"colorway\":[\"#636efa\",\"#EF553B\",\"#00cc96\",\"#ab63fa\",\"#FFA15A\",\"#19d3f3\",\"#FF6692\",\"#B6E880\",\"#FF97FF\",\"#FECB52\"],\"font\":{\"color\":\"#2a3f5f\"},\"geo\":{\"bgcolor\":\"white\",\"lakecolor\":\"white\",\"landcolor\":\"#E5ECF6\",\"showlakes\":true,\"showland\":true,\"subunitcolor\":\"white\"},\"hoverlabel\":{\"align\":\"left\"},\"hovermode\":\"closest\",\"mapbox\":{\"style\":\"light\"},\"paper_bgcolor\":\"white\",\"plot_bgcolor\":\"#E5ECF6\",\"polar\":{\"angularaxis\":{\"gridcolor\":\"white\",\"linecolor\":\"white\",\"ticks\":\"\"},\"bgcolor\":\"#E5ECF6\",\"radialaxis\":{\"gridcolor\":\"white\",\"linecolor\":\"white\",\"ticks\":\"\"}},\"scene\":{\"xaxis\":{\"backgroundcolor\":\"#E5ECF6\",\"gridcolor\":\"white\",\"gridwidth\":2,\"linecolor\":\"white\",\"showbackground\":true,\"ticks\":\"\",\"zerolinecolor\":\"white\"},\"yaxis\":{\"backgroundcolor\":\"#E5ECF6\",\"gridcolor\":\"white\",\"gridwidth\":2,\"linecolor\":\"white\",\"showbackground\":true,\"ticks\":\"\",\"zerolinecolor\":\"white\"},\"zaxis\":{\"backgroundcolor\":\"#E5ECF6\",\"gridcolor\":\"white\",\"gridwidth\":2,\"linecolor\":\"white\",\"showbackground\":true,\"ticks\":\"\",\"zerolinecolor\":\"white\"}},\"shapedefaults\":{\"line\":{\"color\":\"#2a3f5f\"}},\"ternary\":{\"aaxis\":{\"gridcolor\":\"white\",\"linecolor\":\"white\",\"ticks\":\"\"},\"baxis\":{\"gridcolor\":\"white\",\"linecolor\":\"white\",\"ticks\":\"\"},\"bgcolor\":\"#E5ECF6\",\"caxis\":{\"gridcolor\":\"white\",\"linecolor\":\"white\",\"ticks\":\"\"}},\"title\":{\"x\":0.05},\"xaxis\":{\"automargin\":true,\"gridcolor\":\"white\",\"linecolor\":\"white\",\"ticks\":\"\",\"title\":{\"standoff\":15},\"zerolinecolor\":\"white\",\"zerolinewidth\":2},\"yaxis\":{\"automargin\":true,\"gridcolor\":\"white\",\"linecolor\":\"white\",\"ticks\":\"\",\"title\":{\"standoff\":15},\"zerolinecolor\":\"white\",\"zerolinewidth\":2}}},\"title\":{\"font\":{\"color\":\"#4D5663\"}},\"xaxis\":{\"gridcolor\":\"#E1E5ED\",\"showgrid\":true,\"tickfont\":{\"color\":\"#4D5663\"},\"title\":{\"font\":{\"color\":\"#4D5663\"},\"text\":\"\"},\"zerolinecolor\":\"#E1E5ED\"},\"yaxis\":{\"gridcolor\":\"#E1E5ED\",\"showgrid\":true,\"tickfont\":{\"color\":\"#4D5663\"},\"title\":{\"font\":{\"color\":\"#4D5663\"},\"text\":\"\"},\"zerolinecolor\":\"#E1E5ED\"}},                        {\"showLink\": true, \"linkText\": \"Export to plot.ly\", \"plotlyServerURL\": \"https://plot.ly\", \"responsive\": true}                    ).then(function(){\n",
       "                            \n",
       "var gd = document.getElementById('4900237d-70c5-45a5-b1ef-ba701cb2d881');\n",
       "var x = new MutationObserver(function (mutations, observer) {{\n",
       "        var display = window.getComputedStyle(gd).display;\n",
       "        if (!display || display === 'none') {{\n",
       "            console.log([gd, 'removed!']);\n",
       "            Plotly.purge(gd);\n",
       "            observer.disconnect();\n",
       "        }}\n",
       "}});\n",
       "\n",
       "// Listen for the removal of the full notebook cells\n",
       "var notebookContainer = gd.closest('#notebook-container');\n",
       "if (notebookContainer) {{\n",
       "    x.observe(notebookContainer, {childList: true});\n",
       "}}\n",
       "\n",
       "// Listen for the clearing of the current output cell\n",
       "var outputEl = gd.closest('.output');\n",
       "if (outputEl) {{\n",
       "    x.observe(outputEl, {childList: true});\n",
       "}}\n",
       "\n",
       "                        })                };                });            </script>        </div>"
      ]
     },
     "metadata": {},
     "output_type": "display_data"
    }
   ],
   "source": [
    "df.iplot(kind='bubble',x='A',y='B',size='C')\n",
    "\n",
    "# e.g for united nations reports"
   ]
  },
  {
   "cell_type": "markdown",
   "id": "106864a6",
   "metadata": {},
   "source": [
    "## Scatter_matrix()"
   ]
  },
  {
   "cell_type": "code",
   "execution_count": 21,
   "id": "79be4329",
   "metadata": {},
   "outputs": [
    {
     "data": {
      "application/vnd.plotly.v1+json": {
       "config": {
        "linkText": "Export to plot.ly",
        "plotlyServerURL": "https://plot.ly",
        "showLink": true
       },
       "data": [
        {
         "histfunc": "count",
         "histnorm": "",
         "marker": {
          "color": "rgba(255, 153, 51, 1.0)",
          "line": {
           "color": "#4D5663",
           "width": 1.3
          }
         },
         "name": "A",
         "nbinsx": 10,
         "opacity": 0.8,
         "orientation": "v",
         "type": "histogram",
         "x": [
          -0.28417787083349927,
          0.6413274499391824,
          -0.33336861080745656,
          2.006764818840116,
          1.8728377960165354,
          -0.24882852649873424,
          -0.29861874001993766,
          -0.5527446223333694,
          -0.06284839007619376,
          0.6872961946392325,
          -0.48047030452308376,
          -0.15819211016748583,
          0.3979193283561742,
          -0.9231892579778409,
          0.5315667297247073,
          1.0017781127586238,
          -2.0721385248636266,
          0.9212012857921277,
          -0.25197735935695925,
          -2.5438707821411417,
          -0.9797570746505114,
          -1.785600451605513,
          -1.3677304085261701,
          -0.8597776400411747,
          -0.38161314435598254,
          -0.21955301709234307,
          -0.46962502773123727,
          0.08658003414889327,
          -2.624997706901156,
          1.617799016690096,
          0.2322838968046603,
          -0.5747107444070692,
          1.306245125000283,
          -0.7424921675650964,
          -0.6846539842162228,
          2.1601206807767657,
          -1.1832051219606274,
          0.21698850723985674,
          1.693120559186067,
          -1.4725670406597433,
          0.5268215706826592,
          0.22618522749666412,
          1.3241925977559907,
          -1.1750950935332447,
          0.779369119313454,
          -1.0622472454257539,
          -0.7479801434627531,
          -1.11546714284219,
          0.6490101527890603,
          -0.22489797094481306,
          -1.1740087820316207,
          0.08056535097254833,
          0.615871865696655,
          -0.17445791673987496,
          0.8456171781805357,
          1.8168544512752107,
          0.9067056603187674,
          -0.1318278852951855,
          -0.9806500898254744,
          0.4032491907360089,
          0.5456168400678882,
          1.6799435539133445,
          -1.417466304121186,
          1.1183981281871356,
          -0.5754137503060296,
          -0.4451311781056884,
          0.6524364369982173,
          -0.2531055435068277,
          -1.2238276239485155,
          0.5079425450594325,
          -0.7127247095374196,
          0.5340289009521697,
          -0.45390448707790165,
          -0.004315066126661081,
          0.01607814905285022,
          0.23686645998285866,
          -0.22681193933351268,
          -1.282908829683012,
          1.0598838321126345,
          -0.28086616600779785,
          -1.4665713559786704,
          0.9606502786533506,
          0.30386951258373074,
          0.9913019602065628,
          -0.5343798033042318,
          -1.2672235642375103,
          0.3206869075841262,
          0.059509125355931794,
          -0.7576598946355392,
          -0.5340235908042054,
          -1.1285727143193942,
          2.1140216110955588,
          1.0418469094947094,
          0.2854170485589883,
          -1.9999513786857224,
          0.9479014280894817,
          -1.14631525364236,
          1.6505960122936931,
          0.4751216841159835,
          0.07362728384021043
         ],
         "xaxis": "x",
         "yaxis": "y"
        },
        {
         "line": {
          "color": "rgba(128, 128, 128, 1.0)",
          "dash": "solid",
          "shape": "linear",
          "width": 1.3
         },
         "marker": {
          "size": 2,
          "symbol": "circle"
         },
         "mode": "markers",
         "name": "A",
         "text": "",
         "type": "scatter",
         "x": [
          -0.9942875062320643,
          0.6693618378433789,
          1.4375270448174466,
          -0.7601350990541826,
          -1.3856509449362089,
          0.7699061108404363,
          0.04944535748246853,
          0.6061305364332712,
          -0.23326162112807344,
          2.1617704129411974,
          0.4182423292502963,
          -0.8119088645105795,
          0.644305020890722,
          0.12994496488584203,
          -1.5914719130541115,
          -0.3958209142720946,
          0.8320625813285379,
          0.3595709913909463,
          0.8608355243878564,
          -0.5121802342042246,
          -0.19251810768470703,
          -1.1025637585273937,
          0.7127282902106402,
          0.9252123054557275,
          0.26684715309611456,
          -2.0304254233704966,
          1.1185689589290568,
          0.12590272762439111,
          -0.4125100158666027,
          -1.3224183185741754,
          0.3344566151898501,
          -2.1168986945450343,
          -0.9081775216742415,
          -1.6901431359280612,
          1.0403812288066845,
          0.22958405742077428,
          -0.8426375495425725,
          2.276061422029563,
          0.5778368449479325,
          1.144721063467178,
          1.8299513587167864,
          1.4621795449801354,
          -2.4368266921099533,
          1.013362811041721,
          -0.5778304519601165,
          1.0356709009219747,
          -0.504355394746898,
          0.35213287720179104,
          -1.2035825393525954,
          0.8106345843941292,
          -1.595771889074104,
          0.2457069745672563,
          -0.8566043574987787,
          0.3918816986658821,
          -0.2636254412853934,
          -1.0805801266361703,
          0.7319184842233384,
          -0.9438163723917274,
          -0.07189078116332594,
          -1.8693359956196978,
          0.2080888807547833,
          -0.14434974751758786,
          -1.0649759862550428,
          0.27727223466743445,
          -0.09036623691422577,
          1.1030507777767082,
          0.6415368409136328,
          -1.3194312808649182,
          0.2572171302463949,
          0.9309998401890984,
          1.4420973248489697,
          0.42381088497255825,
          0.9266947420824746,
          1.0675505254092201,
          1.0591396740258205,
          -0.4130027839015729,
          1.6464567391114484,
          -0.7639222655044755,
          -0.33115201506490505,
          -2.1054031846049996,
          2.0697721097103496,
          0.24439587621825065,
          1.8662383890198717,
          1.138721370400964,
          0.9451389623407138,
          1.6984878039732823,
          -0.6924609238879748,
          0.26861365381914376,
          1.1436079001022867,
          -0.1704130968335762,
          1.112192969720432,
          -0.14059862423431896,
          1.0150879111753266,
          0.3912245979789011,
          -1.0085802974254625,
          0.12489394468227431,
          0.940715803891102,
          0.8522321107876281,
          -0.3210080437331556,
          -0.12446681042664187
         ],
         "xaxis": "x2",
         "y": [
          -0.28417787083349927,
          0.6413274499391824,
          -0.33336861080745656,
          2.006764818840116,
          1.8728377960165354,
          -0.24882852649873424,
          -0.29861874001993766,
          -0.5527446223333694,
          -0.06284839007619376,
          0.6872961946392325,
          -0.48047030452308376,
          -0.15819211016748583,
          0.3979193283561742,
          -0.9231892579778409,
          0.5315667297247073,
          1.0017781127586238,
          -2.0721385248636266,
          0.9212012857921277,
          -0.25197735935695925,
          -2.5438707821411417,
          -0.9797570746505114,
          -1.785600451605513,
          -1.3677304085261701,
          -0.8597776400411747,
          -0.38161314435598254,
          -0.21955301709234307,
          -0.46962502773123727,
          0.08658003414889327,
          -2.624997706901156,
          1.617799016690096,
          0.2322838968046603,
          -0.5747107444070692,
          1.306245125000283,
          -0.7424921675650964,
          -0.6846539842162228,
          2.1601206807767657,
          -1.1832051219606274,
          0.21698850723985674,
          1.693120559186067,
          -1.4725670406597433,
          0.5268215706826592,
          0.22618522749666412,
          1.3241925977559907,
          -1.1750950935332447,
          0.779369119313454,
          -1.0622472454257539,
          -0.7479801434627531,
          -1.11546714284219,
          0.6490101527890603,
          -0.22489797094481306,
          -1.1740087820316207,
          0.08056535097254833,
          0.615871865696655,
          -0.17445791673987496,
          0.8456171781805357,
          1.8168544512752107,
          0.9067056603187674,
          -0.1318278852951855,
          -0.9806500898254744,
          0.4032491907360089,
          0.5456168400678882,
          1.6799435539133445,
          -1.417466304121186,
          1.1183981281871356,
          -0.5754137503060296,
          -0.4451311781056884,
          0.6524364369982173,
          -0.2531055435068277,
          -1.2238276239485155,
          0.5079425450594325,
          -0.7127247095374196,
          0.5340289009521697,
          -0.45390448707790165,
          -0.004315066126661081,
          0.01607814905285022,
          0.23686645998285866,
          -0.22681193933351268,
          -1.282908829683012,
          1.0598838321126345,
          -0.28086616600779785,
          -1.4665713559786704,
          0.9606502786533506,
          0.30386951258373074,
          0.9913019602065628,
          -0.5343798033042318,
          -1.2672235642375103,
          0.3206869075841262,
          0.059509125355931794,
          -0.7576598946355392,
          -0.5340235908042054,
          -1.1285727143193942,
          2.1140216110955588,
          1.0418469094947094,
          0.2854170485589883,
          -1.9999513786857224,
          0.9479014280894817,
          -1.14631525364236,
          1.6505960122936931,
          0.4751216841159835,
          0.07362728384021043
         ],
         "yaxis": "y2"
        },
        {
         "line": {
          "color": "rgba(128, 128, 128, 1.0)",
          "dash": "solid",
          "shape": "linear",
          "width": 1.3
         },
         "marker": {
          "size": 2,
          "symbol": "circle"
         },
         "mode": "markers",
         "name": "A",
         "text": "",
         "type": "scatter",
         "x": [
          -0.34202531207788545,
          -1.1222644470835623,
          0.7028141803063046,
          -1.480542876628892,
          -0.9233934593064455,
          0.5036205587923401,
          1.4660744366199934,
          -0.21608707226005955,
          -1.1093147070053189,
          1.433557888382385,
          -0.8756375577785833,
          1.8804371359806382,
          0.9652403751072904,
          0.28463325794690736,
          -1.0144520633697285,
          -0.7673921859551343,
          0.6564409778143822,
          -0.5333563310336471,
          -0.39986394721001606,
          0.8305702442813395,
          -0.44809448978486593,
          0.049755930390898345,
          2.6326085049249,
          -0.01833363814526974,
          0.3441520200024451,
          -1.7866472901597523,
          0.3279751470912204,
          -0.651356902544409,
          -1.9274271068441076,
          -1.370102823710896,
          0.7173151301957572,
          -1.5489209310423662,
          0.5376097134578425,
          1.8922423041507017,
          0.809397641924778,
          0.20384111665149685,
          -0.6277025287109835,
          -0.8751068206707202,
          1.0533389203914831,
          -1.2631932199633122,
          1.2306688540802848,
          0.7602783043009048,
          -0.30484670532054464,
          0.7725060250156658,
          -0.8299347589536743,
          -0.8026514561118214,
          0.8530052334858856,
          -1.6020389893628182,
          0.07370833078691273,
          0.6242170813905074,
          -0.7494457547772824,
          1.0713472336931962,
          0.4223421938420806,
          0.42263534449981793,
          1.4646456275285444,
          1.039683827554642,
          -0.30023425832023526,
          0.37404649991939753,
          0.4673122624237375,
          0.18731902338959072,
          1.5542151833418307,
          0.030645771385122117,
          -0.8318116408604491,
          -1.1263419390554672,
          0.5358409341661668,
          -1.9657428068175744,
          0.6348557749007114,
          -0.22126233057382555,
          -0.3574269524949713,
          -0.08599473004005423,
          0.021975676472548403,
          1.4977920735405388,
          -0.8390333265648123,
          -2.2313899182895818,
          1.3614113456212968,
          -1.1755163614388362,
          -1.776343557538182,
          0.29042700200692667,
          -0.838329491264759,
          1.0217453683864703,
          -0.7943644046396928,
          -0.5768203269604888,
          -1.1605826216175161,
          -1.6411546834540554,
          0.31404144741132656,
          0.551072360896318,
          -0.5790178473959828,
          0.008919696842239469,
          1.808423009360889,
          -2.3241472476965597,
          -0.6701412045400894,
          0.5443306706696933,
          0.789808416199637,
          0.06654335004375507,
          -0.3184402371805494,
          -0.8890998642263612,
          -0.4835588721141622,
          -0.6833884018172537,
          0.14227766099943137,
          -0.7282562084320509
         ],
         "xaxis": "x3",
         "y": [
          -0.28417787083349927,
          0.6413274499391824,
          -0.33336861080745656,
          2.006764818840116,
          1.8728377960165354,
          -0.24882852649873424,
          -0.29861874001993766,
          -0.5527446223333694,
          -0.06284839007619376,
          0.6872961946392325,
          -0.48047030452308376,
          -0.15819211016748583,
          0.3979193283561742,
          -0.9231892579778409,
          0.5315667297247073,
          1.0017781127586238,
          -2.0721385248636266,
          0.9212012857921277,
          -0.25197735935695925,
          -2.5438707821411417,
          -0.9797570746505114,
          -1.785600451605513,
          -1.3677304085261701,
          -0.8597776400411747,
          -0.38161314435598254,
          -0.21955301709234307,
          -0.46962502773123727,
          0.08658003414889327,
          -2.624997706901156,
          1.617799016690096,
          0.2322838968046603,
          -0.5747107444070692,
          1.306245125000283,
          -0.7424921675650964,
          -0.6846539842162228,
          2.1601206807767657,
          -1.1832051219606274,
          0.21698850723985674,
          1.693120559186067,
          -1.4725670406597433,
          0.5268215706826592,
          0.22618522749666412,
          1.3241925977559907,
          -1.1750950935332447,
          0.779369119313454,
          -1.0622472454257539,
          -0.7479801434627531,
          -1.11546714284219,
          0.6490101527890603,
          -0.22489797094481306,
          -1.1740087820316207,
          0.08056535097254833,
          0.615871865696655,
          -0.17445791673987496,
          0.8456171781805357,
          1.8168544512752107,
          0.9067056603187674,
          -0.1318278852951855,
          -0.9806500898254744,
          0.4032491907360089,
          0.5456168400678882,
          1.6799435539133445,
          -1.417466304121186,
          1.1183981281871356,
          -0.5754137503060296,
          -0.4451311781056884,
          0.6524364369982173,
          -0.2531055435068277,
          -1.2238276239485155,
          0.5079425450594325,
          -0.7127247095374196,
          0.5340289009521697,
          -0.45390448707790165,
          -0.004315066126661081,
          0.01607814905285022,
          0.23686645998285866,
          -0.22681193933351268,
          -1.282908829683012,
          1.0598838321126345,
          -0.28086616600779785,
          -1.4665713559786704,
          0.9606502786533506,
          0.30386951258373074,
          0.9913019602065628,
          -0.5343798033042318,
          -1.2672235642375103,
          0.3206869075841262,
          0.059509125355931794,
          -0.7576598946355392,
          -0.5340235908042054,
          -1.1285727143193942,
          2.1140216110955588,
          1.0418469094947094,
          0.2854170485589883,
          -1.9999513786857224,
          0.9479014280894817,
          -1.14631525364236,
          1.6505960122936931,
          0.4751216841159835,
          0.07362728384021043
         ],
         "yaxis": "y3"
        },
        {
         "line": {
          "color": "rgba(128, 128, 128, 1.0)",
          "dash": "solid",
          "shape": "linear",
          "width": 1.3
         },
         "marker": {
          "size": 2,
          "symbol": "circle"
         },
         "mode": "markers",
         "name": "A",
         "text": "",
         "type": "scatter",
         "x": [
          2.3273910288552506,
          -0.6334933422691658,
          -0.4319441967976972,
          0.8577780510833726,
          1.3174059338669621,
          -0.6419320987216489,
          -1.3623116287539814,
          -0.36468518093902114,
          -0.8450845612877584,
          -0.4881826737960272,
          0.09476315850175457,
          1.0707324179943876,
          0.3002091046018555,
          0.9544992905670775,
          -1.5127659587156748,
          -0.5773216582309553,
          -0.9076002676818018,
          -0.523402182113726,
          -0.5149440398200762,
          -0.6431734614961144,
          -1.5370571149551584,
          0.9325810997834867,
          -0.3799828394287921,
          -0.11822808269683163,
          -0.524651240767075,
          0.7897693225404266,
          1.467359904266115,
          0.2537630042514331,
          0.6743251965769663,
          0.5896915024727922,
          -0.045371342409358674,
          0.2182240360478912,
          1.40776850307784,
          0.041593127323566556,
          -0.5319973112214076,
          -0.05599391621882997,
          -0.1061570381773591,
          -0.6161882918476722,
          -0.07818898211415566,
          0.010637516591020602,
          -0.6182877208698392,
          -1.2838999360709513,
          -1.4007084269364891,
          1.427510765925255,
          0.032155487844832034,
          0.28333166882826216,
          1.006725884900438,
          -1.0523893986368669,
          -0.9336714173023393,
          -1.3563112450957753,
          -0.5731588466774825,
          0.4075153149982536,
          -0.3644485580192882,
          0.8600600388065972,
          -0.14234796247850964,
          1.1451547562188789,
          -0.752281620428336,
          0.1577097727954971,
          0.6614599988815082,
          -0.5426977912871537,
          0.21117520713766527,
          1.6280984663042002,
          0.31213880062866084,
          -0.2284117223697516,
          -0.7480587993056564,
          1.7398577171738578,
          0.1915555887976298,
          -0.9612225264785467,
          -0.11257263417371008,
          -0.051376345390612116,
          0.6067179528849395,
          0.2613977081738276,
          0.04367550982255278,
          -0.07256060375107316,
          0.0889325342151191,
          -1.2494846785625786,
          -0.4623623677571795,
          1.581560174643525,
          -0.11297473937727727,
          1.6909755749235467,
          -0.5030135767939994,
          -0.3911481682390143,
          1.0747468470735577,
          0.6833784597022645,
          0.3483076837286668,
          0.8515336574151208,
          0.6247803986944622,
          0.2034486283047299,
          0.24790489952176153,
          -1.124912560396261,
          1.5618180213234496,
          -0.46369657821326493,
          -1.0174996099740776,
          1.097651723730236,
          -0.6130002595398112,
          0.028871294808732635,
          0.3690582224437009,
          0.31554028066586876,
          -0.75027510698757,
          1.1742404037714962
         ],
         "xaxis": "x4",
         "y": [
          -0.28417787083349927,
          0.6413274499391824,
          -0.33336861080745656,
          2.006764818840116,
          1.8728377960165354,
          -0.24882852649873424,
          -0.29861874001993766,
          -0.5527446223333694,
          -0.06284839007619376,
          0.6872961946392325,
          -0.48047030452308376,
          -0.15819211016748583,
          0.3979193283561742,
          -0.9231892579778409,
          0.5315667297247073,
          1.0017781127586238,
          -2.0721385248636266,
          0.9212012857921277,
          -0.25197735935695925,
          -2.5438707821411417,
          -0.9797570746505114,
          -1.785600451605513,
          -1.3677304085261701,
          -0.8597776400411747,
          -0.38161314435598254,
          -0.21955301709234307,
          -0.46962502773123727,
          0.08658003414889327,
          -2.624997706901156,
          1.617799016690096,
          0.2322838968046603,
          -0.5747107444070692,
          1.306245125000283,
          -0.7424921675650964,
          -0.6846539842162228,
          2.1601206807767657,
          -1.1832051219606274,
          0.21698850723985674,
          1.693120559186067,
          -1.4725670406597433,
          0.5268215706826592,
          0.22618522749666412,
          1.3241925977559907,
          -1.1750950935332447,
          0.779369119313454,
          -1.0622472454257539,
          -0.7479801434627531,
          -1.11546714284219,
          0.6490101527890603,
          -0.22489797094481306,
          -1.1740087820316207,
          0.08056535097254833,
          0.615871865696655,
          -0.17445791673987496,
          0.8456171781805357,
          1.8168544512752107,
          0.9067056603187674,
          -0.1318278852951855,
          -0.9806500898254744,
          0.4032491907360089,
          0.5456168400678882,
          1.6799435539133445,
          -1.417466304121186,
          1.1183981281871356,
          -0.5754137503060296,
          -0.4451311781056884,
          0.6524364369982173,
          -0.2531055435068277,
          -1.2238276239485155,
          0.5079425450594325,
          -0.7127247095374196,
          0.5340289009521697,
          -0.45390448707790165,
          -0.004315066126661081,
          0.01607814905285022,
          0.23686645998285866,
          -0.22681193933351268,
          -1.282908829683012,
          1.0598838321126345,
          -0.28086616600779785,
          -1.4665713559786704,
          0.9606502786533506,
          0.30386951258373074,
          0.9913019602065628,
          -0.5343798033042318,
          -1.2672235642375103,
          0.3206869075841262,
          0.059509125355931794,
          -0.7576598946355392,
          -0.5340235908042054,
          -1.1285727143193942,
          2.1140216110955588,
          1.0418469094947094,
          0.2854170485589883,
          -1.9999513786857224,
          0.9479014280894817,
          -1.14631525364236,
          1.6505960122936931,
          0.4751216841159835,
          0.07362728384021043
         ],
         "yaxis": "y4"
        },
        {
         "line": {
          "color": "rgba(128, 128, 128, 1.0)",
          "dash": "solid",
          "shape": "linear",
          "width": 1.3
         },
         "marker": {
          "size": 2,
          "symbol": "circle"
         },
         "mode": "markers",
         "name": "B",
         "text": "",
         "type": "scatter",
         "x": [
          -0.28417787083349927,
          0.6413274499391824,
          -0.33336861080745656,
          2.006764818840116,
          1.8728377960165354,
          -0.24882852649873424,
          -0.29861874001993766,
          -0.5527446223333694,
          -0.06284839007619376,
          0.6872961946392325,
          -0.48047030452308376,
          -0.15819211016748583,
          0.3979193283561742,
          -0.9231892579778409,
          0.5315667297247073,
          1.0017781127586238,
          -2.0721385248636266,
          0.9212012857921277,
          -0.25197735935695925,
          -2.5438707821411417,
          -0.9797570746505114,
          -1.785600451605513,
          -1.3677304085261701,
          -0.8597776400411747,
          -0.38161314435598254,
          -0.21955301709234307,
          -0.46962502773123727,
          0.08658003414889327,
          -2.624997706901156,
          1.617799016690096,
          0.2322838968046603,
          -0.5747107444070692,
          1.306245125000283,
          -0.7424921675650964,
          -0.6846539842162228,
          2.1601206807767657,
          -1.1832051219606274,
          0.21698850723985674,
          1.693120559186067,
          -1.4725670406597433,
          0.5268215706826592,
          0.22618522749666412,
          1.3241925977559907,
          -1.1750950935332447,
          0.779369119313454,
          -1.0622472454257539,
          -0.7479801434627531,
          -1.11546714284219,
          0.6490101527890603,
          -0.22489797094481306,
          -1.1740087820316207,
          0.08056535097254833,
          0.615871865696655,
          -0.17445791673987496,
          0.8456171781805357,
          1.8168544512752107,
          0.9067056603187674,
          -0.1318278852951855,
          -0.9806500898254744,
          0.4032491907360089,
          0.5456168400678882,
          1.6799435539133445,
          -1.417466304121186,
          1.1183981281871356,
          -0.5754137503060296,
          -0.4451311781056884,
          0.6524364369982173,
          -0.2531055435068277,
          -1.2238276239485155,
          0.5079425450594325,
          -0.7127247095374196,
          0.5340289009521697,
          -0.45390448707790165,
          -0.004315066126661081,
          0.01607814905285022,
          0.23686645998285866,
          -0.22681193933351268,
          -1.282908829683012,
          1.0598838321126345,
          -0.28086616600779785,
          -1.4665713559786704,
          0.9606502786533506,
          0.30386951258373074,
          0.9913019602065628,
          -0.5343798033042318,
          -1.2672235642375103,
          0.3206869075841262,
          0.059509125355931794,
          -0.7576598946355392,
          -0.5340235908042054,
          -1.1285727143193942,
          2.1140216110955588,
          1.0418469094947094,
          0.2854170485589883,
          -1.9999513786857224,
          0.9479014280894817,
          -1.14631525364236,
          1.6505960122936931,
          0.4751216841159835,
          0.07362728384021043
         ],
         "xaxis": "x5",
         "y": [
          -0.9942875062320643,
          0.6693618378433789,
          1.4375270448174466,
          -0.7601350990541826,
          -1.3856509449362089,
          0.7699061108404363,
          0.04944535748246853,
          0.6061305364332712,
          -0.23326162112807344,
          2.1617704129411974,
          0.4182423292502963,
          -0.8119088645105795,
          0.644305020890722,
          0.12994496488584203,
          -1.5914719130541115,
          -0.3958209142720946,
          0.8320625813285379,
          0.3595709913909463,
          0.8608355243878564,
          -0.5121802342042246,
          -0.19251810768470703,
          -1.1025637585273937,
          0.7127282902106402,
          0.9252123054557275,
          0.26684715309611456,
          -2.0304254233704966,
          1.1185689589290568,
          0.12590272762439111,
          -0.4125100158666027,
          -1.3224183185741754,
          0.3344566151898501,
          -2.1168986945450343,
          -0.9081775216742415,
          -1.6901431359280612,
          1.0403812288066845,
          0.22958405742077428,
          -0.8426375495425725,
          2.276061422029563,
          0.5778368449479325,
          1.144721063467178,
          1.8299513587167864,
          1.4621795449801354,
          -2.4368266921099533,
          1.013362811041721,
          -0.5778304519601165,
          1.0356709009219747,
          -0.504355394746898,
          0.35213287720179104,
          -1.2035825393525954,
          0.8106345843941292,
          -1.595771889074104,
          0.2457069745672563,
          -0.8566043574987787,
          0.3918816986658821,
          -0.2636254412853934,
          -1.0805801266361703,
          0.7319184842233384,
          -0.9438163723917274,
          -0.07189078116332594,
          -1.8693359956196978,
          0.2080888807547833,
          -0.14434974751758786,
          -1.0649759862550428,
          0.27727223466743445,
          -0.09036623691422577,
          1.1030507777767082,
          0.6415368409136328,
          -1.3194312808649182,
          0.2572171302463949,
          0.9309998401890984,
          1.4420973248489697,
          0.42381088497255825,
          0.9266947420824746,
          1.0675505254092201,
          1.0591396740258205,
          -0.4130027839015729,
          1.6464567391114484,
          -0.7639222655044755,
          -0.33115201506490505,
          -2.1054031846049996,
          2.0697721097103496,
          0.24439587621825065,
          1.8662383890198717,
          1.138721370400964,
          0.9451389623407138,
          1.6984878039732823,
          -0.6924609238879748,
          0.26861365381914376,
          1.1436079001022867,
          -0.1704130968335762,
          1.112192969720432,
          -0.14059862423431896,
          1.0150879111753266,
          0.3912245979789011,
          -1.0085802974254625,
          0.12489394468227431,
          0.940715803891102,
          0.8522321107876281,
          -0.3210080437331556,
          -0.12446681042664187
         ],
         "yaxis": "y5"
        },
        {
         "histfunc": "count",
         "histnorm": "",
         "marker": {
          "color": "rgba(55, 128, 191, 1.0)",
          "line": {
           "color": "#4D5663",
           "width": 1.3
          }
         },
         "name": "B",
         "nbinsx": 10,
         "opacity": 0.8,
         "orientation": "v",
         "type": "histogram",
         "x": [
          -0.9942875062320643,
          0.6693618378433789,
          1.4375270448174466,
          -0.7601350990541826,
          -1.3856509449362089,
          0.7699061108404363,
          0.04944535748246853,
          0.6061305364332712,
          -0.23326162112807344,
          2.1617704129411974,
          0.4182423292502963,
          -0.8119088645105795,
          0.644305020890722,
          0.12994496488584203,
          -1.5914719130541115,
          -0.3958209142720946,
          0.8320625813285379,
          0.3595709913909463,
          0.8608355243878564,
          -0.5121802342042246,
          -0.19251810768470703,
          -1.1025637585273937,
          0.7127282902106402,
          0.9252123054557275,
          0.26684715309611456,
          -2.0304254233704966,
          1.1185689589290568,
          0.12590272762439111,
          -0.4125100158666027,
          -1.3224183185741754,
          0.3344566151898501,
          -2.1168986945450343,
          -0.9081775216742415,
          -1.6901431359280612,
          1.0403812288066845,
          0.22958405742077428,
          -0.8426375495425725,
          2.276061422029563,
          0.5778368449479325,
          1.144721063467178,
          1.8299513587167864,
          1.4621795449801354,
          -2.4368266921099533,
          1.013362811041721,
          -0.5778304519601165,
          1.0356709009219747,
          -0.504355394746898,
          0.35213287720179104,
          -1.2035825393525954,
          0.8106345843941292,
          -1.595771889074104,
          0.2457069745672563,
          -0.8566043574987787,
          0.3918816986658821,
          -0.2636254412853934,
          -1.0805801266361703,
          0.7319184842233384,
          -0.9438163723917274,
          -0.07189078116332594,
          -1.8693359956196978,
          0.2080888807547833,
          -0.14434974751758786,
          -1.0649759862550428,
          0.27727223466743445,
          -0.09036623691422577,
          1.1030507777767082,
          0.6415368409136328,
          -1.3194312808649182,
          0.2572171302463949,
          0.9309998401890984,
          1.4420973248489697,
          0.42381088497255825,
          0.9266947420824746,
          1.0675505254092201,
          1.0591396740258205,
          -0.4130027839015729,
          1.6464567391114484,
          -0.7639222655044755,
          -0.33115201506490505,
          -2.1054031846049996,
          2.0697721097103496,
          0.24439587621825065,
          1.8662383890198717,
          1.138721370400964,
          0.9451389623407138,
          1.6984878039732823,
          -0.6924609238879748,
          0.26861365381914376,
          1.1436079001022867,
          -0.1704130968335762,
          1.112192969720432,
          -0.14059862423431896,
          1.0150879111753266,
          0.3912245979789011,
          -1.0085802974254625,
          0.12489394468227431,
          0.940715803891102,
          0.8522321107876281,
          -0.3210080437331556,
          -0.12446681042664187
         ],
         "xaxis": "x6",
         "yaxis": "y6"
        },
        {
         "line": {
          "color": "rgba(128, 128, 128, 1.0)",
          "dash": "solid",
          "shape": "linear",
          "width": 1.3
         },
         "marker": {
          "size": 2,
          "symbol": "circle"
         },
         "mode": "markers",
         "name": "B",
         "text": "",
         "type": "scatter",
         "x": [
          -0.34202531207788545,
          -1.1222644470835623,
          0.7028141803063046,
          -1.480542876628892,
          -0.9233934593064455,
          0.5036205587923401,
          1.4660744366199934,
          -0.21608707226005955,
          -1.1093147070053189,
          1.433557888382385,
          -0.8756375577785833,
          1.8804371359806382,
          0.9652403751072904,
          0.28463325794690736,
          -1.0144520633697285,
          -0.7673921859551343,
          0.6564409778143822,
          -0.5333563310336471,
          -0.39986394721001606,
          0.8305702442813395,
          -0.44809448978486593,
          0.049755930390898345,
          2.6326085049249,
          -0.01833363814526974,
          0.3441520200024451,
          -1.7866472901597523,
          0.3279751470912204,
          -0.651356902544409,
          -1.9274271068441076,
          -1.370102823710896,
          0.7173151301957572,
          -1.5489209310423662,
          0.5376097134578425,
          1.8922423041507017,
          0.809397641924778,
          0.20384111665149685,
          -0.6277025287109835,
          -0.8751068206707202,
          1.0533389203914831,
          -1.2631932199633122,
          1.2306688540802848,
          0.7602783043009048,
          -0.30484670532054464,
          0.7725060250156658,
          -0.8299347589536743,
          -0.8026514561118214,
          0.8530052334858856,
          -1.6020389893628182,
          0.07370833078691273,
          0.6242170813905074,
          -0.7494457547772824,
          1.0713472336931962,
          0.4223421938420806,
          0.42263534449981793,
          1.4646456275285444,
          1.039683827554642,
          -0.30023425832023526,
          0.37404649991939753,
          0.4673122624237375,
          0.18731902338959072,
          1.5542151833418307,
          0.030645771385122117,
          -0.8318116408604491,
          -1.1263419390554672,
          0.5358409341661668,
          -1.9657428068175744,
          0.6348557749007114,
          -0.22126233057382555,
          -0.3574269524949713,
          -0.08599473004005423,
          0.021975676472548403,
          1.4977920735405388,
          -0.8390333265648123,
          -2.2313899182895818,
          1.3614113456212968,
          -1.1755163614388362,
          -1.776343557538182,
          0.29042700200692667,
          -0.838329491264759,
          1.0217453683864703,
          -0.7943644046396928,
          -0.5768203269604888,
          -1.1605826216175161,
          -1.6411546834540554,
          0.31404144741132656,
          0.551072360896318,
          -0.5790178473959828,
          0.008919696842239469,
          1.808423009360889,
          -2.3241472476965597,
          -0.6701412045400894,
          0.5443306706696933,
          0.789808416199637,
          0.06654335004375507,
          -0.3184402371805494,
          -0.8890998642263612,
          -0.4835588721141622,
          -0.6833884018172537,
          0.14227766099943137,
          -0.7282562084320509
         ],
         "xaxis": "x7",
         "y": [
          -0.9942875062320643,
          0.6693618378433789,
          1.4375270448174466,
          -0.7601350990541826,
          -1.3856509449362089,
          0.7699061108404363,
          0.04944535748246853,
          0.6061305364332712,
          -0.23326162112807344,
          2.1617704129411974,
          0.4182423292502963,
          -0.8119088645105795,
          0.644305020890722,
          0.12994496488584203,
          -1.5914719130541115,
          -0.3958209142720946,
          0.8320625813285379,
          0.3595709913909463,
          0.8608355243878564,
          -0.5121802342042246,
          -0.19251810768470703,
          -1.1025637585273937,
          0.7127282902106402,
          0.9252123054557275,
          0.26684715309611456,
          -2.0304254233704966,
          1.1185689589290568,
          0.12590272762439111,
          -0.4125100158666027,
          -1.3224183185741754,
          0.3344566151898501,
          -2.1168986945450343,
          -0.9081775216742415,
          -1.6901431359280612,
          1.0403812288066845,
          0.22958405742077428,
          -0.8426375495425725,
          2.276061422029563,
          0.5778368449479325,
          1.144721063467178,
          1.8299513587167864,
          1.4621795449801354,
          -2.4368266921099533,
          1.013362811041721,
          -0.5778304519601165,
          1.0356709009219747,
          -0.504355394746898,
          0.35213287720179104,
          -1.2035825393525954,
          0.8106345843941292,
          -1.595771889074104,
          0.2457069745672563,
          -0.8566043574987787,
          0.3918816986658821,
          -0.2636254412853934,
          -1.0805801266361703,
          0.7319184842233384,
          -0.9438163723917274,
          -0.07189078116332594,
          -1.8693359956196978,
          0.2080888807547833,
          -0.14434974751758786,
          -1.0649759862550428,
          0.27727223466743445,
          -0.09036623691422577,
          1.1030507777767082,
          0.6415368409136328,
          -1.3194312808649182,
          0.2572171302463949,
          0.9309998401890984,
          1.4420973248489697,
          0.42381088497255825,
          0.9266947420824746,
          1.0675505254092201,
          1.0591396740258205,
          -0.4130027839015729,
          1.6464567391114484,
          -0.7639222655044755,
          -0.33115201506490505,
          -2.1054031846049996,
          2.0697721097103496,
          0.24439587621825065,
          1.8662383890198717,
          1.138721370400964,
          0.9451389623407138,
          1.6984878039732823,
          -0.6924609238879748,
          0.26861365381914376,
          1.1436079001022867,
          -0.1704130968335762,
          1.112192969720432,
          -0.14059862423431896,
          1.0150879111753266,
          0.3912245979789011,
          -1.0085802974254625,
          0.12489394468227431,
          0.940715803891102,
          0.8522321107876281,
          -0.3210080437331556,
          -0.12446681042664187
         ],
         "yaxis": "y7"
        },
        {
         "line": {
          "color": "rgba(128, 128, 128, 1.0)",
          "dash": "solid",
          "shape": "linear",
          "width": 1.3
         },
         "marker": {
          "size": 2,
          "symbol": "circle"
         },
         "mode": "markers",
         "name": "B",
         "text": "",
         "type": "scatter",
         "x": [
          2.3273910288552506,
          -0.6334933422691658,
          -0.4319441967976972,
          0.8577780510833726,
          1.3174059338669621,
          -0.6419320987216489,
          -1.3623116287539814,
          -0.36468518093902114,
          -0.8450845612877584,
          -0.4881826737960272,
          0.09476315850175457,
          1.0707324179943876,
          0.3002091046018555,
          0.9544992905670775,
          -1.5127659587156748,
          -0.5773216582309553,
          -0.9076002676818018,
          -0.523402182113726,
          -0.5149440398200762,
          -0.6431734614961144,
          -1.5370571149551584,
          0.9325810997834867,
          -0.3799828394287921,
          -0.11822808269683163,
          -0.524651240767075,
          0.7897693225404266,
          1.467359904266115,
          0.2537630042514331,
          0.6743251965769663,
          0.5896915024727922,
          -0.045371342409358674,
          0.2182240360478912,
          1.40776850307784,
          0.041593127323566556,
          -0.5319973112214076,
          -0.05599391621882997,
          -0.1061570381773591,
          -0.6161882918476722,
          -0.07818898211415566,
          0.010637516591020602,
          -0.6182877208698392,
          -1.2838999360709513,
          -1.4007084269364891,
          1.427510765925255,
          0.032155487844832034,
          0.28333166882826216,
          1.006725884900438,
          -1.0523893986368669,
          -0.9336714173023393,
          -1.3563112450957753,
          -0.5731588466774825,
          0.4075153149982536,
          -0.3644485580192882,
          0.8600600388065972,
          -0.14234796247850964,
          1.1451547562188789,
          -0.752281620428336,
          0.1577097727954971,
          0.6614599988815082,
          -0.5426977912871537,
          0.21117520713766527,
          1.6280984663042002,
          0.31213880062866084,
          -0.2284117223697516,
          -0.7480587993056564,
          1.7398577171738578,
          0.1915555887976298,
          -0.9612225264785467,
          -0.11257263417371008,
          -0.051376345390612116,
          0.6067179528849395,
          0.2613977081738276,
          0.04367550982255278,
          -0.07256060375107316,
          0.0889325342151191,
          -1.2494846785625786,
          -0.4623623677571795,
          1.581560174643525,
          -0.11297473937727727,
          1.6909755749235467,
          -0.5030135767939994,
          -0.3911481682390143,
          1.0747468470735577,
          0.6833784597022645,
          0.3483076837286668,
          0.8515336574151208,
          0.6247803986944622,
          0.2034486283047299,
          0.24790489952176153,
          -1.124912560396261,
          1.5618180213234496,
          -0.46369657821326493,
          -1.0174996099740776,
          1.097651723730236,
          -0.6130002595398112,
          0.028871294808732635,
          0.3690582224437009,
          0.31554028066586876,
          -0.75027510698757,
          1.1742404037714962
         ],
         "xaxis": "x8",
         "y": [
          -0.9942875062320643,
          0.6693618378433789,
          1.4375270448174466,
          -0.7601350990541826,
          -1.3856509449362089,
          0.7699061108404363,
          0.04944535748246853,
          0.6061305364332712,
          -0.23326162112807344,
          2.1617704129411974,
          0.4182423292502963,
          -0.8119088645105795,
          0.644305020890722,
          0.12994496488584203,
          -1.5914719130541115,
          -0.3958209142720946,
          0.8320625813285379,
          0.3595709913909463,
          0.8608355243878564,
          -0.5121802342042246,
          -0.19251810768470703,
          -1.1025637585273937,
          0.7127282902106402,
          0.9252123054557275,
          0.26684715309611456,
          -2.0304254233704966,
          1.1185689589290568,
          0.12590272762439111,
          -0.4125100158666027,
          -1.3224183185741754,
          0.3344566151898501,
          -2.1168986945450343,
          -0.9081775216742415,
          -1.6901431359280612,
          1.0403812288066845,
          0.22958405742077428,
          -0.8426375495425725,
          2.276061422029563,
          0.5778368449479325,
          1.144721063467178,
          1.8299513587167864,
          1.4621795449801354,
          -2.4368266921099533,
          1.013362811041721,
          -0.5778304519601165,
          1.0356709009219747,
          -0.504355394746898,
          0.35213287720179104,
          -1.2035825393525954,
          0.8106345843941292,
          -1.595771889074104,
          0.2457069745672563,
          -0.8566043574987787,
          0.3918816986658821,
          -0.2636254412853934,
          -1.0805801266361703,
          0.7319184842233384,
          -0.9438163723917274,
          -0.07189078116332594,
          -1.8693359956196978,
          0.2080888807547833,
          -0.14434974751758786,
          -1.0649759862550428,
          0.27727223466743445,
          -0.09036623691422577,
          1.1030507777767082,
          0.6415368409136328,
          -1.3194312808649182,
          0.2572171302463949,
          0.9309998401890984,
          1.4420973248489697,
          0.42381088497255825,
          0.9266947420824746,
          1.0675505254092201,
          1.0591396740258205,
          -0.4130027839015729,
          1.6464567391114484,
          -0.7639222655044755,
          -0.33115201506490505,
          -2.1054031846049996,
          2.0697721097103496,
          0.24439587621825065,
          1.8662383890198717,
          1.138721370400964,
          0.9451389623407138,
          1.6984878039732823,
          -0.6924609238879748,
          0.26861365381914376,
          1.1436079001022867,
          -0.1704130968335762,
          1.112192969720432,
          -0.14059862423431896,
          1.0150879111753266,
          0.3912245979789011,
          -1.0085802974254625,
          0.12489394468227431,
          0.940715803891102,
          0.8522321107876281,
          -0.3210080437331556,
          -0.12446681042664187
         ],
         "yaxis": "y8"
        },
        {
         "line": {
          "color": "rgba(128, 128, 128, 1.0)",
          "dash": "solid",
          "shape": "linear",
          "width": 1.3
         },
         "marker": {
          "size": 2,
          "symbol": "circle"
         },
         "mode": "markers",
         "name": "C",
         "text": "",
         "type": "scatter",
         "x": [
          -0.28417787083349927,
          0.6413274499391824,
          -0.33336861080745656,
          2.006764818840116,
          1.8728377960165354,
          -0.24882852649873424,
          -0.29861874001993766,
          -0.5527446223333694,
          -0.06284839007619376,
          0.6872961946392325,
          -0.48047030452308376,
          -0.15819211016748583,
          0.3979193283561742,
          -0.9231892579778409,
          0.5315667297247073,
          1.0017781127586238,
          -2.0721385248636266,
          0.9212012857921277,
          -0.25197735935695925,
          -2.5438707821411417,
          -0.9797570746505114,
          -1.785600451605513,
          -1.3677304085261701,
          -0.8597776400411747,
          -0.38161314435598254,
          -0.21955301709234307,
          -0.46962502773123727,
          0.08658003414889327,
          -2.624997706901156,
          1.617799016690096,
          0.2322838968046603,
          -0.5747107444070692,
          1.306245125000283,
          -0.7424921675650964,
          -0.6846539842162228,
          2.1601206807767657,
          -1.1832051219606274,
          0.21698850723985674,
          1.693120559186067,
          -1.4725670406597433,
          0.5268215706826592,
          0.22618522749666412,
          1.3241925977559907,
          -1.1750950935332447,
          0.779369119313454,
          -1.0622472454257539,
          -0.7479801434627531,
          -1.11546714284219,
          0.6490101527890603,
          -0.22489797094481306,
          -1.1740087820316207,
          0.08056535097254833,
          0.615871865696655,
          -0.17445791673987496,
          0.8456171781805357,
          1.8168544512752107,
          0.9067056603187674,
          -0.1318278852951855,
          -0.9806500898254744,
          0.4032491907360089,
          0.5456168400678882,
          1.6799435539133445,
          -1.417466304121186,
          1.1183981281871356,
          -0.5754137503060296,
          -0.4451311781056884,
          0.6524364369982173,
          -0.2531055435068277,
          -1.2238276239485155,
          0.5079425450594325,
          -0.7127247095374196,
          0.5340289009521697,
          -0.45390448707790165,
          -0.004315066126661081,
          0.01607814905285022,
          0.23686645998285866,
          -0.22681193933351268,
          -1.282908829683012,
          1.0598838321126345,
          -0.28086616600779785,
          -1.4665713559786704,
          0.9606502786533506,
          0.30386951258373074,
          0.9913019602065628,
          -0.5343798033042318,
          -1.2672235642375103,
          0.3206869075841262,
          0.059509125355931794,
          -0.7576598946355392,
          -0.5340235908042054,
          -1.1285727143193942,
          2.1140216110955588,
          1.0418469094947094,
          0.2854170485589883,
          -1.9999513786857224,
          0.9479014280894817,
          -1.14631525364236,
          1.6505960122936931,
          0.4751216841159835,
          0.07362728384021043
         ],
         "xaxis": "x9",
         "y": [
          -0.34202531207788545,
          -1.1222644470835623,
          0.7028141803063046,
          -1.480542876628892,
          -0.9233934593064455,
          0.5036205587923401,
          1.4660744366199934,
          -0.21608707226005955,
          -1.1093147070053189,
          1.433557888382385,
          -0.8756375577785833,
          1.8804371359806382,
          0.9652403751072904,
          0.28463325794690736,
          -1.0144520633697285,
          -0.7673921859551343,
          0.6564409778143822,
          -0.5333563310336471,
          -0.39986394721001606,
          0.8305702442813395,
          -0.44809448978486593,
          0.049755930390898345,
          2.6326085049249,
          -0.01833363814526974,
          0.3441520200024451,
          -1.7866472901597523,
          0.3279751470912204,
          -0.651356902544409,
          -1.9274271068441076,
          -1.370102823710896,
          0.7173151301957572,
          -1.5489209310423662,
          0.5376097134578425,
          1.8922423041507017,
          0.809397641924778,
          0.20384111665149685,
          -0.6277025287109835,
          -0.8751068206707202,
          1.0533389203914831,
          -1.2631932199633122,
          1.2306688540802848,
          0.7602783043009048,
          -0.30484670532054464,
          0.7725060250156658,
          -0.8299347589536743,
          -0.8026514561118214,
          0.8530052334858856,
          -1.6020389893628182,
          0.07370833078691273,
          0.6242170813905074,
          -0.7494457547772824,
          1.0713472336931962,
          0.4223421938420806,
          0.42263534449981793,
          1.4646456275285444,
          1.039683827554642,
          -0.30023425832023526,
          0.37404649991939753,
          0.4673122624237375,
          0.18731902338959072,
          1.5542151833418307,
          0.030645771385122117,
          -0.8318116408604491,
          -1.1263419390554672,
          0.5358409341661668,
          -1.9657428068175744,
          0.6348557749007114,
          -0.22126233057382555,
          -0.3574269524949713,
          -0.08599473004005423,
          0.021975676472548403,
          1.4977920735405388,
          -0.8390333265648123,
          -2.2313899182895818,
          1.3614113456212968,
          -1.1755163614388362,
          -1.776343557538182,
          0.29042700200692667,
          -0.838329491264759,
          1.0217453683864703,
          -0.7943644046396928,
          -0.5768203269604888,
          -1.1605826216175161,
          -1.6411546834540554,
          0.31404144741132656,
          0.551072360896318,
          -0.5790178473959828,
          0.008919696842239469,
          1.808423009360889,
          -2.3241472476965597,
          -0.6701412045400894,
          0.5443306706696933,
          0.789808416199637,
          0.06654335004375507,
          -0.3184402371805494,
          -0.8890998642263612,
          -0.4835588721141622,
          -0.6833884018172537,
          0.14227766099943137,
          -0.7282562084320509
         ],
         "yaxis": "y9"
        },
        {
         "line": {
          "color": "rgba(128, 128, 128, 1.0)",
          "dash": "solid",
          "shape": "linear",
          "width": 1.3
         },
         "marker": {
          "size": 2,
          "symbol": "circle"
         },
         "mode": "markers",
         "name": "C",
         "text": "",
         "type": "scatter",
         "x": [
          -0.9942875062320643,
          0.6693618378433789,
          1.4375270448174466,
          -0.7601350990541826,
          -1.3856509449362089,
          0.7699061108404363,
          0.04944535748246853,
          0.6061305364332712,
          -0.23326162112807344,
          2.1617704129411974,
          0.4182423292502963,
          -0.8119088645105795,
          0.644305020890722,
          0.12994496488584203,
          -1.5914719130541115,
          -0.3958209142720946,
          0.8320625813285379,
          0.3595709913909463,
          0.8608355243878564,
          -0.5121802342042246,
          -0.19251810768470703,
          -1.1025637585273937,
          0.7127282902106402,
          0.9252123054557275,
          0.26684715309611456,
          -2.0304254233704966,
          1.1185689589290568,
          0.12590272762439111,
          -0.4125100158666027,
          -1.3224183185741754,
          0.3344566151898501,
          -2.1168986945450343,
          -0.9081775216742415,
          -1.6901431359280612,
          1.0403812288066845,
          0.22958405742077428,
          -0.8426375495425725,
          2.276061422029563,
          0.5778368449479325,
          1.144721063467178,
          1.8299513587167864,
          1.4621795449801354,
          -2.4368266921099533,
          1.013362811041721,
          -0.5778304519601165,
          1.0356709009219747,
          -0.504355394746898,
          0.35213287720179104,
          -1.2035825393525954,
          0.8106345843941292,
          -1.595771889074104,
          0.2457069745672563,
          -0.8566043574987787,
          0.3918816986658821,
          -0.2636254412853934,
          -1.0805801266361703,
          0.7319184842233384,
          -0.9438163723917274,
          -0.07189078116332594,
          -1.8693359956196978,
          0.2080888807547833,
          -0.14434974751758786,
          -1.0649759862550428,
          0.27727223466743445,
          -0.09036623691422577,
          1.1030507777767082,
          0.6415368409136328,
          -1.3194312808649182,
          0.2572171302463949,
          0.9309998401890984,
          1.4420973248489697,
          0.42381088497255825,
          0.9266947420824746,
          1.0675505254092201,
          1.0591396740258205,
          -0.4130027839015729,
          1.6464567391114484,
          -0.7639222655044755,
          -0.33115201506490505,
          -2.1054031846049996,
          2.0697721097103496,
          0.24439587621825065,
          1.8662383890198717,
          1.138721370400964,
          0.9451389623407138,
          1.6984878039732823,
          -0.6924609238879748,
          0.26861365381914376,
          1.1436079001022867,
          -0.1704130968335762,
          1.112192969720432,
          -0.14059862423431896,
          1.0150879111753266,
          0.3912245979789011,
          -1.0085802974254625,
          0.12489394468227431,
          0.940715803891102,
          0.8522321107876281,
          -0.3210080437331556,
          -0.12446681042664187
         ],
         "xaxis": "x10",
         "y": [
          -0.34202531207788545,
          -1.1222644470835623,
          0.7028141803063046,
          -1.480542876628892,
          -0.9233934593064455,
          0.5036205587923401,
          1.4660744366199934,
          -0.21608707226005955,
          -1.1093147070053189,
          1.433557888382385,
          -0.8756375577785833,
          1.8804371359806382,
          0.9652403751072904,
          0.28463325794690736,
          -1.0144520633697285,
          -0.7673921859551343,
          0.6564409778143822,
          -0.5333563310336471,
          -0.39986394721001606,
          0.8305702442813395,
          -0.44809448978486593,
          0.049755930390898345,
          2.6326085049249,
          -0.01833363814526974,
          0.3441520200024451,
          -1.7866472901597523,
          0.3279751470912204,
          -0.651356902544409,
          -1.9274271068441076,
          -1.370102823710896,
          0.7173151301957572,
          -1.5489209310423662,
          0.5376097134578425,
          1.8922423041507017,
          0.809397641924778,
          0.20384111665149685,
          -0.6277025287109835,
          -0.8751068206707202,
          1.0533389203914831,
          -1.2631932199633122,
          1.2306688540802848,
          0.7602783043009048,
          -0.30484670532054464,
          0.7725060250156658,
          -0.8299347589536743,
          -0.8026514561118214,
          0.8530052334858856,
          -1.6020389893628182,
          0.07370833078691273,
          0.6242170813905074,
          -0.7494457547772824,
          1.0713472336931962,
          0.4223421938420806,
          0.42263534449981793,
          1.4646456275285444,
          1.039683827554642,
          -0.30023425832023526,
          0.37404649991939753,
          0.4673122624237375,
          0.18731902338959072,
          1.5542151833418307,
          0.030645771385122117,
          -0.8318116408604491,
          -1.1263419390554672,
          0.5358409341661668,
          -1.9657428068175744,
          0.6348557749007114,
          -0.22126233057382555,
          -0.3574269524949713,
          -0.08599473004005423,
          0.021975676472548403,
          1.4977920735405388,
          -0.8390333265648123,
          -2.2313899182895818,
          1.3614113456212968,
          -1.1755163614388362,
          -1.776343557538182,
          0.29042700200692667,
          -0.838329491264759,
          1.0217453683864703,
          -0.7943644046396928,
          -0.5768203269604888,
          -1.1605826216175161,
          -1.6411546834540554,
          0.31404144741132656,
          0.551072360896318,
          -0.5790178473959828,
          0.008919696842239469,
          1.808423009360889,
          -2.3241472476965597,
          -0.6701412045400894,
          0.5443306706696933,
          0.789808416199637,
          0.06654335004375507,
          -0.3184402371805494,
          -0.8890998642263612,
          -0.4835588721141622,
          -0.6833884018172537,
          0.14227766099943137,
          -0.7282562084320509
         ],
         "yaxis": "y10"
        },
        {
         "histfunc": "count",
         "histnorm": "",
         "marker": {
          "color": "rgba(50, 171, 96, 1.0)",
          "line": {
           "color": "#4D5663",
           "width": 1.3
          }
         },
         "name": "C",
         "nbinsx": 10,
         "opacity": 0.8,
         "orientation": "v",
         "type": "histogram",
         "x": [
          -0.34202531207788545,
          -1.1222644470835623,
          0.7028141803063046,
          -1.480542876628892,
          -0.9233934593064455,
          0.5036205587923401,
          1.4660744366199934,
          -0.21608707226005955,
          -1.1093147070053189,
          1.433557888382385,
          -0.8756375577785833,
          1.8804371359806382,
          0.9652403751072904,
          0.28463325794690736,
          -1.0144520633697285,
          -0.7673921859551343,
          0.6564409778143822,
          -0.5333563310336471,
          -0.39986394721001606,
          0.8305702442813395,
          -0.44809448978486593,
          0.049755930390898345,
          2.6326085049249,
          -0.01833363814526974,
          0.3441520200024451,
          -1.7866472901597523,
          0.3279751470912204,
          -0.651356902544409,
          -1.9274271068441076,
          -1.370102823710896,
          0.7173151301957572,
          -1.5489209310423662,
          0.5376097134578425,
          1.8922423041507017,
          0.809397641924778,
          0.20384111665149685,
          -0.6277025287109835,
          -0.8751068206707202,
          1.0533389203914831,
          -1.2631932199633122,
          1.2306688540802848,
          0.7602783043009048,
          -0.30484670532054464,
          0.7725060250156658,
          -0.8299347589536743,
          -0.8026514561118214,
          0.8530052334858856,
          -1.6020389893628182,
          0.07370833078691273,
          0.6242170813905074,
          -0.7494457547772824,
          1.0713472336931962,
          0.4223421938420806,
          0.42263534449981793,
          1.4646456275285444,
          1.039683827554642,
          -0.30023425832023526,
          0.37404649991939753,
          0.4673122624237375,
          0.18731902338959072,
          1.5542151833418307,
          0.030645771385122117,
          -0.8318116408604491,
          -1.1263419390554672,
          0.5358409341661668,
          -1.9657428068175744,
          0.6348557749007114,
          -0.22126233057382555,
          -0.3574269524949713,
          -0.08599473004005423,
          0.021975676472548403,
          1.4977920735405388,
          -0.8390333265648123,
          -2.2313899182895818,
          1.3614113456212968,
          -1.1755163614388362,
          -1.776343557538182,
          0.29042700200692667,
          -0.838329491264759,
          1.0217453683864703,
          -0.7943644046396928,
          -0.5768203269604888,
          -1.1605826216175161,
          -1.6411546834540554,
          0.31404144741132656,
          0.551072360896318,
          -0.5790178473959828,
          0.008919696842239469,
          1.808423009360889,
          -2.3241472476965597,
          -0.6701412045400894,
          0.5443306706696933,
          0.789808416199637,
          0.06654335004375507,
          -0.3184402371805494,
          -0.8890998642263612,
          -0.4835588721141622,
          -0.6833884018172537,
          0.14227766099943137,
          -0.7282562084320509
         ],
         "xaxis": "x11",
         "yaxis": "y11"
        },
        {
         "line": {
          "color": "rgba(128, 128, 128, 1.0)",
          "dash": "solid",
          "shape": "linear",
          "width": 1.3
         },
         "marker": {
          "size": 2,
          "symbol": "circle"
         },
         "mode": "markers",
         "name": "C",
         "text": "",
         "type": "scatter",
         "x": [
          2.3273910288552506,
          -0.6334933422691658,
          -0.4319441967976972,
          0.8577780510833726,
          1.3174059338669621,
          -0.6419320987216489,
          -1.3623116287539814,
          -0.36468518093902114,
          -0.8450845612877584,
          -0.4881826737960272,
          0.09476315850175457,
          1.0707324179943876,
          0.3002091046018555,
          0.9544992905670775,
          -1.5127659587156748,
          -0.5773216582309553,
          -0.9076002676818018,
          -0.523402182113726,
          -0.5149440398200762,
          -0.6431734614961144,
          -1.5370571149551584,
          0.9325810997834867,
          -0.3799828394287921,
          -0.11822808269683163,
          -0.524651240767075,
          0.7897693225404266,
          1.467359904266115,
          0.2537630042514331,
          0.6743251965769663,
          0.5896915024727922,
          -0.045371342409358674,
          0.2182240360478912,
          1.40776850307784,
          0.041593127323566556,
          -0.5319973112214076,
          -0.05599391621882997,
          -0.1061570381773591,
          -0.6161882918476722,
          -0.07818898211415566,
          0.010637516591020602,
          -0.6182877208698392,
          -1.2838999360709513,
          -1.4007084269364891,
          1.427510765925255,
          0.032155487844832034,
          0.28333166882826216,
          1.006725884900438,
          -1.0523893986368669,
          -0.9336714173023393,
          -1.3563112450957753,
          -0.5731588466774825,
          0.4075153149982536,
          -0.3644485580192882,
          0.8600600388065972,
          -0.14234796247850964,
          1.1451547562188789,
          -0.752281620428336,
          0.1577097727954971,
          0.6614599988815082,
          -0.5426977912871537,
          0.21117520713766527,
          1.6280984663042002,
          0.31213880062866084,
          -0.2284117223697516,
          -0.7480587993056564,
          1.7398577171738578,
          0.1915555887976298,
          -0.9612225264785467,
          -0.11257263417371008,
          -0.051376345390612116,
          0.6067179528849395,
          0.2613977081738276,
          0.04367550982255278,
          -0.07256060375107316,
          0.0889325342151191,
          -1.2494846785625786,
          -0.4623623677571795,
          1.581560174643525,
          -0.11297473937727727,
          1.6909755749235467,
          -0.5030135767939994,
          -0.3911481682390143,
          1.0747468470735577,
          0.6833784597022645,
          0.3483076837286668,
          0.8515336574151208,
          0.6247803986944622,
          0.2034486283047299,
          0.24790489952176153,
          -1.124912560396261,
          1.5618180213234496,
          -0.46369657821326493,
          -1.0174996099740776,
          1.097651723730236,
          -0.6130002595398112,
          0.028871294808732635,
          0.3690582224437009,
          0.31554028066586876,
          -0.75027510698757,
          1.1742404037714962
         ],
         "xaxis": "x12",
         "y": [
          -0.34202531207788545,
          -1.1222644470835623,
          0.7028141803063046,
          -1.480542876628892,
          -0.9233934593064455,
          0.5036205587923401,
          1.4660744366199934,
          -0.21608707226005955,
          -1.1093147070053189,
          1.433557888382385,
          -0.8756375577785833,
          1.8804371359806382,
          0.9652403751072904,
          0.28463325794690736,
          -1.0144520633697285,
          -0.7673921859551343,
          0.6564409778143822,
          -0.5333563310336471,
          -0.39986394721001606,
          0.8305702442813395,
          -0.44809448978486593,
          0.049755930390898345,
          2.6326085049249,
          -0.01833363814526974,
          0.3441520200024451,
          -1.7866472901597523,
          0.3279751470912204,
          -0.651356902544409,
          -1.9274271068441076,
          -1.370102823710896,
          0.7173151301957572,
          -1.5489209310423662,
          0.5376097134578425,
          1.8922423041507017,
          0.809397641924778,
          0.20384111665149685,
          -0.6277025287109835,
          -0.8751068206707202,
          1.0533389203914831,
          -1.2631932199633122,
          1.2306688540802848,
          0.7602783043009048,
          -0.30484670532054464,
          0.7725060250156658,
          -0.8299347589536743,
          -0.8026514561118214,
          0.8530052334858856,
          -1.6020389893628182,
          0.07370833078691273,
          0.6242170813905074,
          -0.7494457547772824,
          1.0713472336931962,
          0.4223421938420806,
          0.42263534449981793,
          1.4646456275285444,
          1.039683827554642,
          -0.30023425832023526,
          0.37404649991939753,
          0.4673122624237375,
          0.18731902338959072,
          1.5542151833418307,
          0.030645771385122117,
          -0.8318116408604491,
          -1.1263419390554672,
          0.5358409341661668,
          -1.9657428068175744,
          0.6348557749007114,
          -0.22126233057382555,
          -0.3574269524949713,
          -0.08599473004005423,
          0.021975676472548403,
          1.4977920735405388,
          -0.8390333265648123,
          -2.2313899182895818,
          1.3614113456212968,
          -1.1755163614388362,
          -1.776343557538182,
          0.29042700200692667,
          -0.838329491264759,
          1.0217453683864703,
          -0.7943644046396928,
          -0.5768203269604888,
          -1.1605826216175161,
          -1.6411546834540554,
          0.31404144741132656,
          0.551072360896318,
          -0.5790178473959828,
          0.008919696842239469,
          1.808423009360889,
          -2.3241472476965597,
          -0.6701412045400894,
          0.5443306706696933,
          0.789808416199637,
          0.06654335004375507,
          -0.3184402371805494,
          -0.8890998642263612,
          -0.4835588721141622,
          -0.6833884018172537,
          0.14227766099943137,
          -0.7282562084320509
         ],
         "yaxis": "y12"
        },
        {
         "line": {
          "color": "rgba(128, 128, 128, 1.0)",
          "dash": "solid",
          "shape": "linear",
          "width": 1.3
         },
         "marker": {
          "size": 2,
          "symbol": "circle"
         },
         "mode": "markers",
         "name": "D",
         "text": "",
         "type": "scatter",
         "x": [
          -0.28417787083349927,
          0.6413274499391824,
          -0.33336861080745656,
          2.006764818840116,
          1.8728377960165354,
          -0.24882852649873424,
          -0.29861874001993766,
          -0.5527446223333694,
          -0.06284839007619376,
          0.6872961946392325,
          -0.48047030452308376,
          -0.15819211016748583,
          0.3979193283561742,
          -0.9231892579778409,
          0.5315667297247073,
          1.0017781127586238,
          -2.0721385248636266,
          0.9212012857921277,
          -0.25197735935695925,
          -2.5438707821411417,
          -0.9797570746505114,
          -1.785600451605513,
          -1.3677304085261701,
          -0.8597776400411747,
          -0.38161314435598254,
          -0.21955301709234307,
          -0.46962502773123727,
          0.08658003414889327,
          -2.624997706901156,
          1.617799016690096,
          0.2322838968046603,
          -0.5747107444070692,
          1.306245125000283,
          -0.7424921675650964,
          -0.6846539842162228,
          2.1601206807767657,
          -1.1832051219606274,
          0.21698850723985674,
          1.693120559186067,
          -1.4725670406597433,
          0.5268215706826592,
          0.22618522749666412,
          1.3241925977559907,
          -1.1750950935332447,
          0.779369119313454,
          -1.0622472454257539,
          -0.7479801434627531,
          -1.11546714284219,
          0.6490101527890603,
          -0.22489797094481306,
          -1.1740087820316207,
          0.08056535097254833,
          0.615871865696655,
          -0.17445791673987496,
          0.8456171781805357,
          1.8168544512752107,
          0.9067056603187674,
          -0.1318278852951855,
          -0.9806500898254744,
          0.4032491907360089,
          0.5456168400678882,
          1.6799435539133445,
          -1.417466304121186,
          1.1183981281871356,
          -0.5754137503060296,
          -0.4451311781056884,
          0.6524364369982173,
          -0.2531055435068277,
          -1.2238276239485155,
          0.5079425450594325,
          -0.7127247095374196,
          0.5340289009521697,
          -0.45390448707790165,
          -0.004315066126661081,
          0.01607814905285022,
          0.23686645998285866,
          -0.22681193933351268,
          -1.282908829683012,
          1.0598838321126345,
          -0.28086616600779785,
          -1.4665713559786704,
          0.9606502786533506,
          0.30386951258373074,
          0.9913019602065628,
          -0.5343798033042318,
          -1.2672235642375103,
          0.3206869075841262,
          0.059509125355931794,
          -0.7576598946355392,
          -0.5340235908042054,
          -1.1285727143193942,
          2.1140216110955588,
          1.0418469094947094,
          0.2854170485589883,
          -1.9999513786857224,
          0.9479014280894817,
          -1.14631525364236,
          1.6505960122936931,
          0.4751216841159835,
          0.07362728384021043
         ],
         "xaxis": "x13",
         "y": [
          2.3273910288552506,
          -0.6334933422691658,
          -0.4319441967976972,
          0.8577780510833726,
          1.3174059338669621,
          -0.6419320987216489,
          -1.3623116287539814,
          -0.36468518093902114,
          -0.8450845612877584,
          -0.4881826737960272,
          0.09476315850175457,
          1.0707324179943876,
          0.3002091046018555,
          0.9544992905670775,
          -1.5127659587156748,
          -0.5773216582309553,
          -0.9076002676818018,
          -0.523402182113726,
          -0.5149440398200762,
          -0.6431734614961144,
          -1.5370571149551584,
          0.9325810997834867,
          -0.3799828394287921,
          -0.11822808269683163,
          -0.524651240767075,
          0.7897693225404266,
          1.467359904266115,
          0.2537630042514331,
          0.6743251965769663,
          0.5896915024727922,
          -0.045371342409358674,
          0.2182240360478912,
          1.40776850307784,
          0.041593127323566556,
          -0.5319973112214076,
          -0.05599391621882997,
          -0.1061570381773591,
          -0.6161882918476722,
          -0.07818898211415566,
          0.010637516591020602,
          -0.6182877208698392,
          -1.2838999360709513,
          -1.4007084269364891,
          1.427510765925255,
          0.032155487844832034,
          0.28333166882826216,
          1.006725884900438,
          -1.0523893986368669,
          -0.9336714173023393,
          -1.3563112450957753,
          -0.5731588466774825,
          0.4075153149982536,
          -0.3644485580192882,
          0.8600600388065972,
          -0.14234796247850964,
          1.1451547562188789,
          -0.752281620428336,
          0.1577097727954971,
          0.6614599988815082,
          -0.5426977912871537,
          0.21117520713766527,
          1.6280984663042002,
          0.31213880062866084,
          -0.2284117223697516,
          -0.7480587993056564,
          1.7398577171738578,
          0.1915555887976298,
          -0.9612225264785467,
          -0.11257263417371008,
          -0.051376345390612116,
          0.6067179528849395,
          0.2613977081738276,
          0.04367550982255278,
          -0.07256060375107316,
          0.0889325342151191,
          -1.2494846785625786,
          -0.4623623677571795,
          1.581560174643525,
          -0.11297473937727727,
          1.6909755749235467,
          -0.5030135767939994,
          -0.3911481682390143,
          1.0747468470735577,
          0.6833784597022645,
          0.3483076837286668,
          0.8515336574151208,
          0.6247803986944622,
          0.2034486283047299,
          0.24790489952176153,
          -1.124912560396261,
          1.5618180213234496,
          -0.46369657821326493,
          -1.0174996099740776,
          1.097651723730236,
          -0.6130002595398112,
          0.028871294808732635,
          0.3690582224437009,
          0.31554028066586876,
          -0.75027510698757,
          1.1742404037714962
         ],
         "yaxis": "y13"
        },
        {
         "line": {
          "color": "rgba(128, 128, 128, 1.0)",
          "dash": "solid",
          "shape": "linear",
          "width": 1.3
         },
         "marker": {
          "size": 2,
          "symbol": "circle"
         },
         "mode": "markers",
         "name": "D",
         "text": "",
         "type": "scatter",
         "x": [
          -0.9942875062320643,
          0.6693618378433789,
          1.4375270448174466,
          -0.7601350990541826,
          -1.3856509449362089,
          0.7699061108404363,
          0.04944535748246853,
          0.6061305364332712,
          -0.23326162112807344,
          2.1617704129411974,
          0.4182423292502963,
          -0.8119088645105795,
          0.644305020890722,
          0.12994496488584203,
          -1.5914719130541115,
          -0.3958209142720946,
          0.8320625813285379,
          0.3595709913909463,
          0.8608355243878564,
          -0.5121802342042246,
          -0.19251810768470703,
          -1.1025637585273937,
          0.7127282902106402,
          0.9252123054557275,
          0.26684715309611456,
          -2.0304254233704966,
          1.1185689589290568,
          0.12590272762439111,
          -0.4125100158666027,
          -1.3224183185741754,
          0.3344566151898501,
          -2.1168986945450343,
          -0.9081775216742415,
          -1.6901431359280612,
          1.0403812288066845,
          0.22958405742077428,
          -0.8426375495425725,
          2.276061422029563,
          0.5778368449479325,
          1.144721063467178,
          1.8299513587167864,
          1.4621795449801354,
          -2.4368266921099533,
          1.013362811041721,
          -0.5778304519601165,
          1.0356709009219747,
          -0.504355394746898,
          0.35213287720179104,
          -1.2035825393525954,
          0.8106345843941292,
          -1.595771889074104,
          0.2457069745672563,
          -0.8566043574987787,
          0.3918816986658821,
          -0.2636254412853934,
          -1.0805801266361703,
          0.7319184842233384,
          -0.9438163723917274,
          -0.07189078116332594,
          -1.8693359956196978,
          0.2080888807547833,
          -0.14434974751758786,
          -1.0649759862550428,
          0.27727223466743445,
          -0.09036623691422577,
          1.1030507777767082,
          0.6415368409136328,
          -1.3194312808649182,
          0.2572171302463949,
          0.9309998401890984,
          1.4420973248489697,
          0.42381088497255825,
          0.9266947420824746,
          1.0675505254092201,
          1.0591396740258205,
          -0.4130027839015729,
          1.6464567391114484,
          -0.7639222655044755,
          -0.33115201506490505,
          -2.1054031846049996,
          2.0697721097103496,
          0.24439587621825065,
          1.8662383890198717,
          1.138721370400964,
          0.9451389623407138,
          1.6984878039732823,
          -0.6924609238879748,
          0.26861365381914376,
          1.1436079001022867,
          -0.1704130968335762,
          1.112192969720432,
          -0.14059862423431896,
          1.0150879111753266,
          0.3912245979789011,
          -1.0085802974254625,
          0.12489394468227431,
          0.940715803891102,
          0.8522321107876281,
          -0.3210080437331556,
          -0.12446681042664187
         ],
         "xaxis": "x14",
         "y": [
          2.3273910288552506,
          -0.6334933422691658,
          -0.4319441967976972,
          0.8577780510833726,
          1.3174059338669621,
          -0.6419320987216489,
          -1.3623116287539814,
          -0.36468518093902114,
          -0.8450845612877584,
          -0.4881826737960272,
          0.09476315850175457,
          1.0707324179943876,
          0.3002091046018555,
          0.9544992905670775,
          -1.5127659587156748,
          -0.5773216582309553,
          -0.9076002676818018,
          -0.523402182113726,
          -0.5149440398200762,
          -0.6431734614961144,
          -1.5370571149551584,
          0.9325810997834867,
          -0.3799828394287921,
          -0.11822808269683163,
          -0.524651240767075,
          0.7897693225404266,
          1.467359904266115,
          0.2537630042514331,
          0.6743251965769663,
          0.5896915024727922,
          -0.045371342409358674,
          0.2182240360478912,
          1.40776850307784,
          0.041593127323566556,
          -0.5319973112214076,
          -0.05599391621882997,
          -0.1061570381773591,
          -0.6161882918476722,
          -0.07818898211415566,
          0.010637516591020602,
          -0.6182877208698392,
          -1.2838999360709513,
          -1.4007084269364891,
          1.427510765925255,
          0.032155487844832034,
          0.28333166882826216,
          1.006725884900438,
          -1.0523893986368669,
          -0.9336714173023393,
          -1.3563112450957753,
          -0.5731588466774825,
          0.4075153149982536,
          -0.3644485580192882,
          0.8600600388065972,
          -0.14234796247850964,
          1.1451547562188789,
          -0.752281620428336,
          0.1577097727954971,
          0.6614599988815082,
          -0.5426977912871537,
          0.21117520713766527,
          1.6280984663042002,
          0.31213880062866084,
          -0.2284117223697516,
          -0.7480587993056564,
          1.7398577171738578,
          0.1915555887976298,
          -0.9612225264785467,
          -0.11257263417371008,
          -0.051376345390612116,
          0.6067179528849395,
          0.2613977081738276,
          0.04367550982255278,
          -0.07256060375107316,
          0.0889325342151191,
          -1.2494846785625786,
          -0.4623623677571795,
          1.581560174643525,
          -0.11297473937727727,
          1.6909755749235467,
          -0.5030135767939994,
          -0.3911481682390143,
          1.0747468470735577,
          0.6833784597022645,
          0.3483076837286668,
          0.8515336574151208,
          0.6247803986944622,
          0.2034486283047299,
          0.24790489952176153,
          -1.124912560396261,
          1.5618180213234496,
          -0.46369657821326493,
          -1.0174996099740776,
          1.097651723730236,
          -0.6130002595398112,
          0.028871294808732635,
          0.3690582224437009,
          0.31554028066586876,
          -0.75027510698757,
          1.1742404037714962
         ],
         "yaxis": "y14"
        },
        {
         "line": {
          "color": "rgba(128, 128, 128, 1.0)",
          "dash": "solid",
          "shape": "linear",
          "width": 1.3
         },
         "marker": {
          "size": 2,
          "symbol": "circle"
         },
         "mode": "markers",
         "name": "D",
         "text": "",
         "type": "scatter",
         "x": [
          -0.34202531207788545,
          -1.1222644470835623,
          0.7028141803063046,
          -1.480542876628892,
          -0.9233934593064455,
          0.5036205587923401,
          1.4660744366199934,
          -0.21608707226005955,
          -1.1093147070053189,
          1.433557888382385,
          -0.8756375577785833,
          1.8804371359806382,
          0.9652403751072904,
          0.28463325794690736,
          -1.0144520633697285,
          -0.7673921859551343,
          0.6564409778143822,
          -0.5333563310336471,
          -0.39986394721001606,
          0.8305702442813395,
          -0.44809448978486593,
          0.049755930390898345,
          2.6326085049249,
          -0.01833363814526974,
          0.3441520200024451,
          -1.7866472901597523,
          0.3279751470912204,
          -0.651356902544409,
          -1.9274271068441076,
          -1.370102823710896,
          0.7173151301957572,
          -1.5489209310423662,
          0.5376097134578425,
          1.8922423041507017,
          0.809397641924778,
          0.20384111665149685,
          -0.6277025287109835,
          -0.8751068206707202,
          1.0533389203914831,
          -1.2631932199633122,
          1.2306688540802848,
          0.7602783043009048,
          -0.30484670532054464,
          0.7725060250156658,
          -0.8299347589536743,
          -0.8026514561118214,
          0.8530052334858856,
          -1.6020389893628182,
          0.07370833078691273,
          0.6242170813905074,
          -0.7494457547772824,
          1.0713472336931962,
          0.4223421938420806,
          0.42263534449981793,
          1.4646456275285444,
          1.039683827554642,
          -0.30023425832023526,
          0.37404649991939753,
          0.4673122624237375,
          0.18731902338959072,
          1.5542151833418307,
          0.030645771385122117,
          -0.8318116408604491,
          -1.1263419390554672,
          0.5358409341661668,
          -1.9657428068175744,
          0.6348557749007114,
          -0.22126233057382555,
          -0.3574269524949713,
          -0.08599473004005423,
          0.021975676472548403,
          1.4977920735405388,
          -0.8390333265648123,
          -2.2313899182895818,
          1.3614113456212968,
          -1.1755163614388362,
          -1.776343557538182,
          0.29042700200692667,
          -0.838329491264759,
          1.0217453683864703,
          -0.7943644046396928,
          -0.5768203269604888,
          -1.1605826216175161,
          -1.6411546834540554,
          0.31404144741132656,
          0.551072360896318,
          -0.5790178473959828,
          0.008919696842239469,
          1.808423009360889,
          -2.3241472476965597,
          -0.6701412045400894,
          0.5443306706696933,
          0.789808416199637,
          0.06654335004375507,
          -0.3184402371805494,
          -0.8890998642263612,
          -0.4835588721141622,
          -0.6833884018172537,
          0.14227766099943137,
          -0.7282562084320509
         ],
         "xaxis": "x15",
         "y": [
          2.3273910288552506,
          -0.6334933422691658,
          -0.4319441967976972,
          0.8577780510833726,
          1.3174059338669621,
          -0.6419320987216489,
          -1.3623116287539814,
          -0.36468518093902114,
          -0.8450845612877584,
          -0.4881826737960272,
          0.09476315850175457,
          1.0707324179943876,
          0.3002091046018555,
          0.9544992905670775,
          -1.5127659587156748,
          -0.5773216582309553,
          -0.9076002676818018,
          -0.523402182113726,
          -0.5149440398200762,
          -0.6431734614961144,
          -1.5370571149551584,
          0.9325810997834867,
          -0.3799828394287921,
          -0.11822808269683163,
          -0.524651240767075,
          0.7897693225404266,
          1.467359904266115,
          0.2537630042514331,
          0.6743251965769663,
          0.5896915024727922,
          -0.045371342409358674,
          0.2182240360478912,
          1.40776850307784,
          0.041593127323566556,
          -0.5319973112214076,
          -0.05599391621882997,
          -0.1061570381773591,
          -0.6161882918476722,
          -0.07818898211415566,
          0.010637516591020602,
          -0.6182877208698392,
          -1.2838999360709513,
          -1.4007084269364891,
          1.427510765925255,
          0.032155487844832034,
          0.28333166882826216,
          1.006725884900438,
          -1.0523893986368669,
          -0.9336714173023393,
          -1.3563112450957753,
          -0.5731588466774825,
          0.4075153149982536,
          -0.3644485580192882,
          0.8600600388065972,
          -0.14234796247850964,
          1.1451547562188789,
          -0.752281620428336,
          0.1577097727954971,
          0.6614599988815082,
          -0.5426977912871537,
          0.21117520713766527,
          1.6280984663042002,
          0.31213880062866084,
          -0.2284117223697516,
          -0.7480587993056564,
          1.7398577171738578,
          0.1915555887976298,
          -0.9612225264785467,
          -0.11257263417371008,
          -0.051376345390612116,
          0.6067179528849395,
          0.2613977081738276,
          0.04367550982255278,
          -0.07256060375107316,
          0.0889325342151191,
          -1.2494846785625786,
          -0.4623623677571795,
          1.581560174643525,
          -0.11297473937727727,
          1.6909755749235467,
          -0.5030135767939994,
          -0.3911481682390143,
          1.0747468470735577,
          0.6833784597022645,
          0.3483076837286668,
          0.8515336574151208,
          0.6247803986944622,
          0.2034486283047299,
          0.24790489952176153,
          -1.124912560396261,
          1.5618180213234496,
          -0.46369657821326493,
          -1.0174996099740776,
          1.097651723730236,
          -0.6130002595398112,
          0.028871294808732635,
          0.3690582224437009,
          0.31554028066586876,
          -0.75027510698757,
          1.1742404037714962
         ],
         "yaxis": "y15"
        },
        {
         "histfunc": "count",
         "histnorm": "",
         "marker": {
          "color": "rgba(128, 0, 128, 1.0)",
          "line": {
           "color": "#4D5663",
           "width": 1.3
          }
         },
         "name": "D",
         "nbinsx": 10,
         "opacity": 0.8,
         "orientation": "v",
         "type": "histogram",
         "x": [
          2.3273910288552506,
          -0.6334933422691658,
          -0.4319441967976972,
          0.8577780510833726,
          1.3174059338669621,
          -0.6419320987216489,
          -1.3623116287539814,
          -0.36468518093902114,
          -0.8450845612877584,
          -0.4881826737960272,
          0.09476315850175457,
          1.0707324179943876,
          0.3002091046018555,
          0.9544992905670775,
          -1.5127659587156748,
          -0.5773216582309553,
          -0.9076002676818018,
          -0.523402182113726,
          -0.5149440398200762,
          -0.6431734614961144,
          -1.5370571149551584,
          0.9325810997834867,
          -0.3799828394287921,
          -0.11822808269683163,
          -0.524651240767075,
          0.7897693225404266,
          1.467359904266115,
          0.2537630042514331,
          0.6743251965769663,
          0.5896915024727922,
          -0.045371342409358674,
          0.2182240360478912,
          1.40776850307784,
          0.041593127323566556,
          -0.5319973112214076,
          -0.05599391621882997,
          -0.1061570381773591,
          -0.6161882918476722,
          -0.07818898211415566,
          0.010637516591020602,
          -0.6182877208698392,
          -1.2838999360709513,
          -1.4007084269364891,
          1.427510765925255,
          0.032155487844832034,
          0.28333166882826216,
          1.006725884900438,
          -1.0523893986368669,
          -0.9336714173023393,
          -1.3563112450957753,
          -0.5731588466774825,
          0.4075153149982536,
          -0.3644485580192882,
          0.8600600388065972,
          -0.14234796247850964,
          1.1451547562188789,
          -0.752281620428336,
          0.1577097727954971,
          0.6614599988815082,
          -0.5426977912871537,
          0.21117520713766527,
          1.6280984663042002,
          0.31213880062866084,
          -0.2284117223697516,
          -0.7480587993056564,
          1.7398577171738578,
          0.1915555887976298,
          -0.9612225264785467,
          -0.11257263417371008,
          -0.051376345390612116,
          0.6067179528849395,
          0.2613977081738276,
          0.04367550982255278,
          -0.07256060375107316,
          0.0889325342151191,
          -1.2494846785625786,
          -0.4623623677571795,
          1.581560174643525,
          -0.11297473937727727,
          1.6909755749235467,
          -0.5030135767939994,
          -0.3911481682390143,
          1.0747468470735577,
          0.6833784597022645,
          0.3483076837286668,
          0.8515336574151208,
          0.6247803986944622,
          0.2034486283047299,
          0.24790489952176153,
          -1.124912560396261,
          1.5618180213234496,
          -0.46369657821326493,
          -1.0174996099740776,
          1.097651723730236,
          -0.6130002595398112,
          0.028871294808732635,
          0.3690582224437009,
          0.31554028066586876,
          -0.75027510698757,
          1.1742404037714962
         ],
         "xaxis": "x16",
         "yaxis": "y16"
        }
       ],
       "layout": {
        "bargap": 0.02,
        "legend": {
         "bgcolor": "#F5F6F9",
         "font": {
          "color": "#4D5663"
         }
        },
        "paper_bgcolor": "#F5F6F9",
        "plot_bgcolor": "#F5F6F9",
        "showlegend": false,
        "template": {
         "data": {
          "bar": [
           {
            "error_x": {
             "color": "#2a3f5f"
            },
            "error_y": {
             "color": "#2a3f5f"
            },
            "marker": {
             "line": {
              "color": "#E5ECF6",
              "width": 0.5
             },
             "pattern": {
              "fillmode": "overlay",
              "size": 10,
              "solidity": 0.2
             }
            },
            "type": "bar"
           }
          ],
          "barpolar": [
           {
            "marker": {
             "line": {
              "color": "#E5ECF6",
              "width": 0.5
             },
             "pattern": {
              "fillmode": "overlay",
              "size": 10,
              "solidity": 0.2
             }
            },
            "type": "barpolar"
           }
          ],
          "carpet": [
           {
            "aaxis": {
             "endlinecolor": "#2a3f5f",
             "gridcolor": "white",
             "linecolor": "white",
             "minorgridcolor": "white",
             "startlinecolor": "#2a3f5f"
            },
            "baxis": {
             "endlinecolor": "#2a3f5f",
             "gridcolor": "white",
             "linecolor": "white",
             "minorgridcolor": "white",
             "startlinecolor": "#2a3f5f"
            },
            "type": "carpet"
           }
          ],
          "choropleth": [
           {
            "colorbar": {
             "outlinewidth": 0,
             "ticks": ""
            },
            "type": "choropleth"
           }
          ],
          "contour": [
           {
            "colorbar": {
             "outlinewidth": 0,
             "ticks": ""
            },
            "colorscale": [
             [
              0,
              "#0d0887"
             ],
             [
              0.1111111111111111,
              "#46039f"
             ],
             [
              0.2222222222222222,
              "#7201a8"
             ],
             [
              0.3333333333333333,
              "#9c179e"
             ],
             [
              0.4444444444444444,
              "#bd3786"
             ],
             [
              0.5555555555555556,
              "#d8576b"
             ],
             [
              0.6666666666666666,
              "#ed7953"
             ],
             [
              0.7777777777777778,
              "#fb9f3a"
             ],
             [
              0.8888888888888888,
              "#fdca26"
             ],
             [
              1,
              "#f0f921"
             ]
            ],
            "type": "contour"
           }
          ],
          "contourcarpet": [
           {
            "colorbar": {
             "outlinewidth": 0,
             "ticks": ""
            },
            "type": "contourcarpet"
           }
          ],
          "heatmap": [
           {
            "colorbar": {
             "outlinewidth": 0,
             "ticks": ""
            },
            "colorscale": [
             [
              0,
              "#0d0887"
             ],
             [
              0.1111111111111111,
              "#46039f"
             ],
             [
              0.2222222222222222,
              "#7201a8"
             ],
             [
              0.3333333333333333,
              "#9c179e"
             ],
             [
              0.4444444444444444,
              "#bd3786"
             ],
             [
              0.5555555555555556,
              "#d8576b"
             ],
             [
              0.6666666666666666,
              "#ed7953"
             ],
             [
              0.7777777777777778,
              "#fb9f3a"
             ],
             [
              0.8888888888888888,
              "#fdca26"
             ],
             [
              1,
              "#f0f921"
             ]
            ],
            "type": "heatmap"
           }
          ],
          "heatmapgl": [
           {
            "colorbar": {
             "outlinewidth": 0,
             "ticks": ""
            },
            "colorscale": [
             [
              0,
              "#0d0887"
             ],
             [
              0.1111111111111111,
              "#46039f"
             ],
             [
              0.2222222222222222,
              "#7201a8"
             ],
             [
              0.3333333333333333,
              "#9c179e"
             ],
             [
              0.4444444444444444,
              "#bd3786"
             ],
             [
              0.5555555555555556,
              "#d8576b"
             ],
             [
              0.6666666666666666,
              "#ed7953"
             ],
             [
              0.7777777777777778,
              "#fb9f3a"
             ],
             [
              0.8888888888888888,
              "#fdca26"
             ],
             [
              1,
              "#f0f921"
             ]
            ],
            "type": "heatmapgl"
           }
          ],
          "histogram": [
           {
            "marker": {
             "pattern": {
              "fillmode": "overlay",
              "size": 10,
              "solidity": 0.2
             }
            },
            "type": "histogram"
           }
          ],
          "histogram2d": [
           {
            "colorbar": {
             "outlinewidth": 0,
             "ticks": ""
            },
            "colorscale": [
             [
              0,
              "#0d0887"
             ],
             [
              0.1111111111111111,
              "#46039f"
             ],
             [
              0.2222222222222222,
              "#7201a8"
             ],
             [
              0.3333333333333333,
              "#9c179e"
             ],
             [
              0.4444444444444444,
              "#bd3786"
             ],
             [
              0.5555555555555556,
              "#d8576b"
             ],
             [
              0.6666666666666666,
              "#ed7953"
             ],
             [
              0.7777777777777778,
              "#fb9f3a"
             ],
             [
              0.8888888888888888,
              "#fdca26"
             ],
             [
              1,
              "#f0f921"
             ]
            ],
            "type": "histogram2d"
           }
          ],
          "histogram2dcontour": [
           {
            "colorbar": {
             "outlinewidth": 0,
             "ticks": ""
            },
            "colorscale": [
             [
              0,
              "#0d0887"
             ],
             [
              0.1111111111111111,
              "#46039f"
             ],
             [
              0.2222222222222222,
              "#7201a8"
             ],
             [
              0.3333333333333333,
              "#9c179e"
             ],
             [
              0.4444444444444444,
              "#bd3786"
             ],
             [
              0.5555555555555556,
              "#d8576b"
             ],
             [
              0.6666666666666666,
              "#ed7953"
             ],
             [
              0.7777777777777778,
              "#fb9f3a"
             ],
             [
              0.8888888888888888,
              "#fdca26"
             ],
             [
              1,
              "#f0f921"
             ]
            ],
            "type": "histogram2dcontour"
           }
          ],
          "mesh3d": [
           {
            "colorbar": {
             "outlinewidth": 0,
             "ticks": ""
            },
            "type": "mesh3d"
           }
          ],
          "parcoords": [
           {
            "line": {
             "colorbar": {
              "outlinewidth": 0,
              "ticks": ""
             }
            },
            "type": "parcoords"
           }
          ],
          "pie": [
           {
            "automargin": true,
            "type": "pie"
           }
          ],
          "scatter": [
           {
            "fillpattern": {
             "fillmode": "overlay",
             "size": 10,
             "solidity": 0.2
            },
            "type": "scatter"
           }
          ],
          "scatter3d": [
           {
            "line": {
             "colorbar": {
              "outlinewidth": 0,
              "ticks": ""
             }
            },
            "marker": {
             "colorbar": {
              "outlinewidth": 0,
              "ticks": ""
             }
            },
            "type": "scatter3d"
           }
          ],
          "scattercarpet": [
           {
            "marker": {
             "colorbar": {
              "outlinewidth": 0,
              "ticks": ""
             }
            },
            "type": "scattercarpet"
           }
          ],
          "scattergeo": [
           {
            "marker": {
             "colorbar": {
              "outlinewidth": 0,
              "ticks": ""
             }
            },
            "type": "scattergeo"
           }
          ],
          "scattergl": [
           {
            "marker": {
             "colorbar": {
              "outlinewidth": 0,
              "ticks": ""
             }
            },
            "type": "scattergl"
           }
          ],
          "scattermapbox": [
           {
            "marker": {
             "colorbar": {
              "outlinewidth": 0,
              "ticks": ""
             }
            },
            "type": "scattermapbox"
           }
          ],
          "scatterpolar": [
           {
            "marker": {
             "colorbar": {
              "outlinewidth": 0,
              "ticks": ""
             }
            },
            "type": "scatterpolar"
           }
          ],
          "scatterpolargl": [
           {
            "marker": {
             "colorbar": {
              "outlinewidth": 0,
              "ticks": ""
             }
            },
            "type": "scatterpolargl"
           }
          ],
          "scatterternary": [
           {
            "marker": {
             "colorbar": {
              "outlinewidth": 0,
              "ticks": ""
             }
            },
            "type": "scatterternary"
           }
          ],
          "surface": [
           {
            "colorbar": {
             "outlinewidth": 0,
             "ticks": ""
            },
            "colorscale": [
             [
              0,
              "#0d0887"
             ],
             [
              0.1111111111111111,
              "#46039f"
             ],
             [
              0.2222222222222222,
              "#7201a8"
             ],
             [
              0.3333333333333333,
              "#9c179e"
             ],
             [
              0.4444444444444444,
              "#bd3786"
             ],
             [
              0.5555555555555556,
              "#d8576b"
             ],
             [
              0.6666666666666666,
              "#ed7953"
             ],
             [
              0.7777777777777778,
              "#fb9f3a"
             ],
             [
              0.8888888888888888,
              "#fdca26"
             ],
             [
              1,
              "#f0f921"
             ]
            ],
            "type": "surface"
           }
          ],
          "table": [
           {
            "cells": {
             "fill": {
              "color": "#EBF0F8"
             },
             "line": {
              "color": "white"
             }
            },
            "header": {
             "fill": {
              "color": "#C8D4E3"
             },
             "line": {
              "color": "white"
             }
            },
            "type": "table"
           }
          ]
         },
         "layout": {
          "annotationdefaults": {
           "arrowcolor": "#2a3f5f",
           "arrowhead": 0,
           "arrowwidth": 1
          },
          "autotypenumbers": "strict",
          "coloraxis": {
           "colorbar": {
            "outlinewidth": 0,
            "ticks": ""
           }
          },
          "colorscale": {
           "diverging": [
            [
             0,
             "#8e0152"
            ],
            [
             0.1,
             "#c51b7d"
            ],
            [
             0.2,
             "#de77ae"
            ],
            [
             0.3,
             "#f1b6da"
            ],
            [
             0.4,
             "#fde0ef"
            ],
            [
             0.5,
             "#f7f7f7"
            ],
            [
             0.6,
             "#e6f5d0"
            ],
            [
             0.7,
             "#b8e186"
            ],
            [
             0.8,
             "#7fbc41"
            ],
            [
             0.9,
             "#4d9221"
            ],
            [
             1,
             "#276419"
            ]
           ],
           "sequential": [
            [
             0,
             "#0d0887"
            ],
            [
             0.1111111111111111,
             "#46039f"
            ],
            [
             0.2222222222222222,
             "#7201a8"
            ],
            [
             0.3333333333333333,
             "#9c179e"
            ],
            [
             0.4444444444444444,
             "#bd3786"
            ],
            [
             0.5555555555555556,
             "#d8576b"
            ],
            [
             0.6666666666666666,
             "#ed7953"
            ],
            [
             0.7777777777777778,
             "#fb9f3a"
            ],
            [
             0.8888888888888888,
             "#fdca26"
            ],
            [
             1,
             "#f0f921"
            ]
           ],
           "sequentialminus": [
            [
             0,
             "#0d0887"
            ],
            [
             0.1111111111111111,
             "#46039f"
            ],
            [
             0.2222222222222222,
             "#7201a8"
            ],
            [
             0.3333333333333333,
             "#9c179e"
            ],
            [
             0.4444444444444444,
             "#bd3786"
            ],
            [
             0.5555555555555556,
             "#d8576b"
            ],
            [
             0.6666666666666666,
             "#ed7953"
            ],
            [
             0.7777777777777778,
             "#fb9f3a"
            ],
            [
             0.8888888888888888,
             "#fdca26"
            ],
            [
             1,
             "#f0f921"
            ]
           ]
          },
          "colorway": [
           "#636efa",
           "#EF553B",
           "#00cc96",
           "#ab63fa",
           "#FFA15A",
           "#19d3f3",
           "#FF6692",
           "#B6E880",
           "#FF97FF",
           "#FECB52"
          ],
          "font": {
           "color": "#2a3f5f"
          },
          "geo": {
           "bgcolor": "white",
           "lakecolor": "white",
           "landcolor": "#E5ECF6",
           "showlakes": true,
           "showland": true,
           "subunitcolor": "white"
          },
          "hoverlabel": {
           "align": "left"
          },
          "hovermode": "closest",
          "mapbox": {
           "style": "light"
          },
          "paper_bgcolor": "white",
          "plot_bgcolor": "#E5ECF6",
          "polar": {
           "angularaxis": {
            "gridcolor": "white",
            "linecolor": "white",
            "ticks": ""
           },
           "bgcolor": "#E5ECF6",
           "radialaxis": {
            "gridcolor": "white",
            "linecolor": "white",
            "ticks": ""
           }
          },
          "scene": {
           "xaxis": {
            "backgroundcolor": "#E5ECF6",
            "gridcolor": "white",
            "gridwidth": 2,
            "linecolor": "white",
            "showbackground": true,
            "ticks": "",
            "zerolinecolor": "white"
           },
           "yaxis": {
            "backgroundcolor": "#E5ECF6",
            "gridcolor": "white",
            "gridwidth": 2,
            "linecolor": "white",
            "showbackground": true,
            "ticks": "",
            "zerolinecolor": "white"
           },
           "zaxis": {
            "backgroundcolor": "#E5ECF6",
            "gridcolor": "white",
            "gridwidth": 2,
            "linecolor": "white",
            "showbackground": true,
            "ticks": "",
            "zerolinecolor": "white"
           }
          },
          "shapedefaults": {
           "line": {
            "color": "#2a3f5f"
           }
          },
          "ternary": {
           "aaxis": {
            "gridcolor": "white",
            "linecolor": "white",
            "ticks": ""
           },
           "baxis": {
            "gridcolor": "white",
            "linecolor": "white",
            "ticks": ""
           },
           "bgcolor": "#E5ECF6",
           "caxis": {
            "gridcolor": "white",
            "linecolor": "white",
            "ticks": ""
           }
          },
          "title": {
           "x": 0.05
          },
          "xaxis": {
           "automargin": true,
           "gridcolor": "white",
           "linecolor": "white",
           "ticks": "",
           "title": {
            "standoff": 15
           },
           "zerolinecolor": "white",
           "zerolinewidth": 2
          },
          "yaxis": {
           "automargin": true,
           "gridcolor": "white",
           "linecolor": "white",
           "ticks": "",
           "title": {
            "standoff": 15
           },
           "zerolinecolor": "white",
           "zerolinewidth": 2
          }
         }
        },
        "title": {
         "font": {
          "color": "#4D5663"
         }
        },
        "xaxis": {
         "anchor": "y",
         "domain": [
          0,
          0.2125
         ],
         "gridcolor": "#E1E5ED",
         "showgrid": false,
         "tickfont": {
          "color": "#4D5663"
         },
         "title": {
          "font": {
           "color": "#4D5663"
          },
          "text": ""
         },
         "zerolinecolor": "#E1E5ED"
        },
        "xaxis10": {
         "anchor": "y10",
         "domain": [
          0.2625,
          0.475
         ],
         "gridcolor": "#E1E5ED",
         "showgrid": false,
         "tickfont": {
          "color": "#4D5663"
         },
         "title": {
          "font": {
           "color": "#4D5663"
          },
          "text": ""
         },
         "zerolinecolor": "#E1E5ED"
        },
        "xaxis11": {
         "anchor": "y11",
         "domain": [
          0.525,
          0.7375
         ],
         "gridcolor": "#E1E5ED",
         "showgrid": false,
         "tickfont": {
          "color": "#4D5663"
         },
         "title": {
          "font": {
           "color": "#4D5663"
          },
          "text": ""
         },
         "zerolinecolor": "#E1E5ED"
        },
        "xaxis12": {
         "anchor": "y12",
         "domain": [
          0.7875,
          1
         ],
         "gridcolor": "#E1E5ED",
         "showgrid": false,
         "tickfont": {
          "color": "#4D5663"
         },
         "title": {
          "font": {
           "color": "#4D5663"
          },
          "text": ""
         },
         "zerolinecolor": "#E1E5ED"
        },
        "xaxis13": {
         "anchor": "y13",
         "domain": [
          0,
          0.2125
         ],
         "gridcolor": "#E1E5ED",
         "showgrid": false,
         "tickfont": {
          "color": "#4D5663"
         },
         "title": {
          "font": {
           "color": "#4D5663"
          },
          "text": ""
         },
         "zerolinecolor": "#E1E5ED"
        },
        "xaxis14": {
         "anchor": "y14",
         "domain": [
          0.2625,
          0.475
         ],
         "gridcolor": "#E1E5ED",
         "showgrid": false,
         "tickfont": {
          "color": "#4D5663"
         },
         "title": {
          "font": {
           "color": "#4D5663"
          },
          "text": ""
         },
         "zerolinecolor": "#E1E5ED"
        },
        "xaxis15": {
         "anchor": "y15",
         "domain": [
          0.525,
          0.7375
         ],
         "gridcolor": "#E1E5ED",
         "showgrid": false,
         "tickfont": {
          "color": "#4D5663"
         },
         "title": {
          "font": {
           "color": "#4D5663"
          },
          "text": ""
         },
         "zerolinecolor": "#E1E5ED"
        },
        "xaxis16": {
         "anchor": "y16",
         "domain": [
          0.7875,
          1
         ],
         "gridcolor": "#E1E5ED",
         "showgrid": false,
         "tickfont": {
          "color": "#4D5663"
         },
         "title": {
          "font": {
           "color": "#4D5663"
          },
          "text": ""
         },
         "zerolinecolor": "#E1E5ED"
        },
        "xaxis2": {
         "anchor": "y2",
         "domain": [
          0.2625,
          0.475
         ],
         "gridcolor": "#E1E5ED",
         "showgrid": false,
         "tickfont": {
          "color": "#4D5663"
         },
         "title": {
          "font": {
           "color": "#4D5663"
          },
          "text": ""
         },
         "zerolinecolor": "#E1E5ED"
        },
        "xaxis3": {
         "anchor": "y3",
         "domain": [
          0.525,
          0.7375
         ],
         "gridcolor": "#E1E5ED",
         "showgrid": false,
         "tickfont": {
          "color": "#4D5663"
         },
         "title": {
          "font": {
           "color": "#4D5663"
          },
          "text": ""
         },
         "zerolinecolor": "#E1E5ED"
        },
        "xaxis4": {
         "anchor": "y4",
         "domain": [
          0.7875,
          1
         ],
         "gridcolor": "#E1E5ED",
         "showgrid": false,
         "tickfont": {
          "color": "#4D5663"
         },
         "title": {
          "font": {
           "color": "#4D5663"
          },
          "text": ""
         },
         "zerolinecolor": "#E1E5ED"
        },
        "xaxis5": {
         "anchor": "y5",
         "domain": [
          0,
          0.2125
         ],
         "gridcolor": "#E1E5ED",
         "showgrid": false,
         "tickfont": {
          "color": "#4D5663"
         },
         "title": {
          "font": {
           "color": "#4D5663"
          },
          "text": ""
         },
         "zerolinecolor": "#E1E5ED"
        },
        "xaxis6": {
         "anchor": "y6",
         "domain": [
          0.2625,
          0.475
         ],
         "gridcolor": "#E1E5ED",
         "showgrid": false,
         "tickfont": {
          "color": "#4D5663"
         },
         "title": {
          "font": {
           "color": "#4D5663"
          },
          "text": ""
         },
         "zerolinecolor": "#E1E5ED"
        },
        "xaxis7": {
         "anchor": "y7",
         "domain": [
          0.525,
          0.7375
         ],
         "gridcolor": "#E1E5ED",
         "showgrid": false,
         "tickfont": {
          "color": "#4D5663"
         },
         "title": {
          "font": {
           "color": "#4D5663"
          },
          "text": ""
         },
         "zerolinecolor": "#E1E5ED"
        },
        "xaxis8": {
         "anchor": "y8",
         "domain": [
          0.7875,
          1
         ],
         "gridcolor": "#E1E5ED",
         "showgrid": false,
         "tickfont": {
          "color": "#4D5663"
         },
         "title": {
          "font": {
           "color": "#4D5663"
          },
          "text": ""
         },
         "zerolinecolor": "#E1E5ED"
        },
        "xaxis9": {
         "anchor": "y9",
         "domain": [
          0,
          0.2125
         ],
         "gridcolor": "#E1E5ED",
         "showgrid": false,
         "tickfont": {
          "color": "#4D5663"
         },
         "title": {
          "font": {
           "color": "#4D5663"
          },
          "text": ""
         },
         "zerolinecolor": "#E1E5ED"
        },
        "yaxis": {
         "anchor": "x",
         "domain": [
          0.8025,
          1
         ],
         "gridcolor": "#E1E5ED",
         "showgrid": false,
         "tickfont": {
          "color": "#4D5663"
         },
         "title": {
          "font": {
           "color": "#4D5663"
          },
          "text": ""
         },
         "zerolinecolor": "#E1E5ED"
        },
        "yaxis10": {
         "anchor": "x10",
         "domain": [
          0.2675,
          0.465
         ],
         "gridcolor": "#E1E5ED",
         "showgrid": false,
         "tickfont": {
          "color": "#4D5663"
         },
         "title": {
          "font": {
           "color": "#4D5663"
          },
          "text": ""
         },
         "zerolinecolor": "#E1E5ED"
        },
        "yaxis11": {
         "anchor": "x11",
         "domain": [
          0.2675,
          0.465
         ],
         "gridcolor": "#E1E5ED",
         "showgrid": false,
         "tickfont": {
          "color": "#4D5663"
         },
         "title": {
          "font": {
           "color": "#4D5663"
          },
          "text": ""
         },
         "zerolinecolor": "#E1E5ED"
        },
        "yaxis12": {
         "anchor": "x12",
         "domain": [
          0.2675,
          0.465
         ],
         "gridcolor": "#E1E5ED",
         "showgrid": false,
         "tickfont": {
          "color": "#4D5663"
         },
         "title": {
          "font": {
           "color": "#4D5663"
          },
          "text": ""
         },
         "zerolinecolor": "#E1E5ED"
        },
        "yaxis13": {
         "anchor": "x13",
         "domain": [
          0,
          0.1975
         ],
         "gridcolor": "#E1E5ED",
         "showgrid": false,
         "tickfont": {
          "color": "#4D5663"
         },
         "title": {
          "font": {
           "color": "#4D5663"
          },
          "text": ""
         },
         "zerolinecolor": "#E1E5ED"
        },
        "yaxis14": {
         "anchor": "x14",
         "domain": [
          0,
          0.1975
         ],
         "gridcolor": "#E1E5ED",
         "showgrid": false,
         "tickfont": {
          "color": "#4D5663"
         },
         "title": {
          "font": {
           "color": "#4D5663"
          },
          "text": ""
         },
         "zerolinecolor": "#E1E5ED"
        },
        "yaxis15": {
         "anchor": "x15",
         "domain": [
          0,
          0.1975
         ],
         "gridcolor": "#E1E5ED",
         "showgrid": false,
         "tickfont": {
          "color": "#4D5663"
         },
         "title": {
          "font": {
           "color": "#4D5663"
          },
          "text": ""
         },
         "zerolinecolor": "#E1E5ED"
        },
        "yaxis16": {
         "anchor": "x16",
         "domain": [
          0,
          0.1975
         ],
         "gridcolor": "#E1E5ED",
         "showgrid": false,
         "tickfont": {
          "color": "#4D5663"
         },
         "title": {
          "font": {
           "color": "#4D5663"
          },
          "text": ""
         },
         "zerolinecolor": "#E1E5ED"
        },
        "yaxis2": {
         "anchor": "x2",
         "domain": [
          0.8025,
          1
         ],
         "gridcolor": "#E1E5ED",
         "showgrid": false,
         "tickfont": {
          "color": "#4D5663"
         },
         "title": {
          "font": {
           "color": "#4D5663"
          },
          "text": ""
         },
         "zerolinecolor": "#E1E5ED"
        },
        "yaxis3": {
         "anchor": "x3",
         "domain": [
          0.8025,
          1
         ],
         "gridcolor": "#E1E5ED",
         "showgrid": false,
         "tickfont": {
          "color": "#4D5663"
         },
         "title": {
          "font": {
           "color": "#4D5663"
          },
          "text": ""
         },
         "zerolinecolor": "#E1E5ED"
        },
        "yaxis4": {
         "anchor": "x4",
         "domain": [
          0.8025,
          1
         ],
         "gridcolor": "#E1E5ED",
         "showgrid": false,
         "tickfont": {
          "color": "#4D5663"
         },
         "title": {
          "font": {
           "color": "#4D5663"
          },
          "text": ""
         },
         "zerolinecolor": "#E1E5ED"
        },
        "yaxis5": {
         "anchor": "x5",
         "domain": [
          0.535,
          0.7325
         ],
         "gridcolor": "#E1E5ED",
         "showgrid": false,
         "tickfont": {
          "color": "#4D5663"
         },
         "title": {
          "font": {
           "color": "#4D5663"
          },
          "text": ""
         },
         "zerolinecolor": "#E1E5ED"
        },
        "yaxis6": {
         "anchor": "x6",
         "domain": [
          0.535,
          0.7325
         ],
         "gridcolor": "#E1E5ED",
         "showgrid": false,
         "tickfont": {
          "color": "#4D5663"
         },
         "title": {
          "font": {
           "color": "#4D5663"
          },
          "text": ""
         },
         "zerolinecolor": "#E1E5ED"
        },
        "yaxis7": {
         "anchor": "x7",
         "domain": [
          0.535,
          0.7325
         ],
         "gridcolor": "#E1E5ED",
         "showgrid": false,
         "tickfont": {
          "color": "#4D5663"
         },
         "title": {
          "font": {
           "color": "#4D5663"
          },
          "text": ""
         },
         "zerolinecolor": "#E1E5ED"
        },
        "yaxis8": {
         "anchor": "x8",
         "domain": [
          0.535,
          0.7325
         ],
         "gridcolor": "#E1E5ED",
         "showgrid": false,
         "tickfont": {
          "color": "#4D5663"
         },
         "title": {
          "font": {
           "color": "#4D5663"
          },
          "text": ""
         },
         "zerolinecolor": "#E1E5ED"
        },
        "yaxis9": {
         "anchor": "x9",
         "domain": [
          0.2675,
          0.465
         ],
         "gridcolor": "#E1E5ED",
         "showgrid": false,
         "tickfont": {
          "color": "#4D5663"
         },
         "title": {
          "font": {
           "color": "#4D5663"
          },
          "text": ""
         },
         "zerolinecolor": "#E1E5ED"
        }
       }
      },
      "text/html": [
       "<div>                            <div id=\"58356c6d-0780-43f2-89dc-437693a41a44\" class=\"plotly-graph-div\" style=\"height:525px; width:100%;\"></div>            <script type=\"text/javascript\">                require([\"plotly\"], function(Plotly) {                    window.PLOTLYENV=window.PLOTLYENV || {};\n",
       "                    window.PLOTLYENV.BASE_URL='https://plot.ly';                                    if (document.getElementById(\"58356c6d-0780-43f2-89dc-437693a41a44\")) {                    Plotly.newPlot(                        \"58356c6d-0780-43f2-89dc-437693a41a44\",                        [{\"histfunc\":\"count\",\"histnorm\":\"\",\"marker\":{\"color\":\"rgba(255, 153, 51, 1.0)\",\"line\":{\"color\":\"#4D5663\",\"width\":1.3}},\"name\":\"A\",\"nbinsx\":10,\"opacity\":0.8,\"orientation\":\"v\",\"x\":[-0.28417787083349927,0.6413274499391824,-0.33336861080745656,2.006764818840116,1.8728377960165354,-0.24882852649873424,-0.29861874001993766,-0.5527446223333694,-0.06284839007619376,0.6872961946392325,-0.48047030452308376,-0.15819211016748583,0.3979193283561742,-0.9231892579778409,0.5315667297247073,1.0017781127586238,-2.0721385248636266,0.9212012857921277,-0.25197735935695925,-2.5438707821411417,-0.9797570746505114,-1.785600451605513,-1.3677304085261701,-0.8597776400411747,-0.38161314435598254,-0.21955301709234307,-0.46962502773123727,0.08658003414889327,-2.624997706901156,1.617799016690096,0.2322838968046603,-0.5747107444070692,1.306245125000283,-0.7424921675650964,-0.6846539842162228,2.1601206807767657,-1.1832051219606274,0.21698850723985674,1.693120559186067,-1.4725670406597433,0.5268215706826592,0.22618522749666412,1.3241925977559907,-1.1750950935332447,0.779369119313454,-1.0622472454257539,-0.7479801434627531,-1.11546714284219,0.6490101527890603,-0.22489797094481306,-1.1740087820316207,0.08056535097254833,0.615871865696655,-0.17445791673987496,0.8456171781805357,1.8168544512752107,0.9067056603187674,-0.1318278852951855,-0.9806500898254744,0.4032491907360089,0.5456168400678882,1.6799435539133445,-1.417466304121186,1.1183981281871356,-0.5754137503060296,-0.4451311781056884,0.6524364369982173,-0.2531055435068277,-1.2238276239485155,0.5079425450594325,-0.7127247095374196,0.5340289009521697,-0.45390448707790165,-0.004315066126661081,0.01607814905285022,0.23686645998285866,-0.22681193933351268,-1.282908829683012,1.0598838321126345,-0.28086616600779785,-1.4665713559786704,0.9606502786533506,0.30386951258373074,0.9913019602065628,-0.5343798033042318,-1.2672235642375103,0.3206869075841262,0.059509125355931794,-0.7576598946355392,-0.5340235908042054,-1.1285727143193942,2.1140216110955588,1.0418469094947094,0.2854170485589883,-1.9999513786857224,0.9479014280894817,-1.14631525364236,1.6505960122936931,0.4751216841159835,0.07362728384021043],\"xaxis\":\"x\",\"yaxis\":\"y\",\"type\":\"histogram\"},{\"line\":{\"color\":\"rgba(128, 128, 128, 1.0)\",\"dash\":\"solid\",\"shape\":\"linear\",\"width\":1.3},\"marker\":{\"size\":2,\"symbol\":\"circle\"},\"mode\":\"markers\",\"name\":\"A\",\"text\":\"\",\"x\":[-0.9942875062320643,0.6693618378433789,1.4375270448174466,-0.7601350990541826,-1.3856509449362089,0.7699061108404363,0.04944535748246853,0.6061305364332712,-0.23326162112807344,2.1617704129411974,0.4182423292502963,-0.8119088645105795,0.644305020890722,0.12994496488584203,-1.5914719130541115,-0.3958209142720946,0.8320625813285379,0.3595709913909463,0.8608355243878564,-0.5121802342042246,-0.19251810768470703,-1.1025637585273937,0.7127282902106402,0.9252123054557275,0.26684715309611456,-2.0304254233704966,1.1185689589290568,0.12590272762439111,-0.4125100158666027,-1.3224183185741754,0.3344566151898501,-2.1168986945450343,-0.9081775216742415,-1.6901431359280612,1.0403812288066845,0.22958405742077428,-0.8426375495425725,2.276061422029563,0.5778368449479325,1.144721063467178,1.8299513587167864,1.4621795449801354,-2.4368266921099533,1.013362811041721,-0.5778304519601165,1.0356709009219747,-0.504355394746898,0.35213287720179104,-1.2035825393525954,0.8106345843941292,-1.595771889074104,0.2457069745672563,-0.8566043574987787,0.3918816986658821,-0.2636254412853934,-1.0805801266361703,0.7319184842233384,-0.9438163723917274,-0.07189078116332594,-1.8693359956196978,0.2080888807547833,-0.14434974751758786,-1.0649759862550428,0.27727223466743445,-0.09036623691422577,1.1030507777767082,0.6415368409136328,-1.3194312808649182,0.2572171302463949,0.9309998401890984,1.4420973248489697,0.42381088497255825,0.9266947420824746,1.0675505254092201,1.0591396740258205,-0.4130027839015729,1.6464567391114484,-0.7639222655044755,-0.33115201506490505,-2.1054031846049996,2.0697721097103496,0.24439587621825065,1.8662383890198717,1.138721370400964,0.9451389623407138,1.6984878039732823,-0.6924609238879748,0.26861365381914376,1.1436079001022867,-0.1704130968335762,1.112192969720432,-0.14059862423431896,1.0150879111753266,0.3912245979789011,-1.0085802974254625,0.12489394468227431,0.940715803891102,0.8522321107876281,-0.3210080437331556,-0.12446681042664187],\"xaxis\":\"x2\",\"y\":[-0.28417787083349927,0.6413274499391824,-0.33336861080745656,2.006764818840116,1.8728377960165354,-0.24882852649873424,-0.29861874001993766,-0.5527446223333694,-0.06284839007619376,0.6872961946392325,-0.48047030452308376,-0.15819211016748583,0.3979193283561742,-0.9231892579778409,0.5315667297247073,1.0017781127586238,-2.0721385248636266,0.9212012857921277,-0.25197735935695925,-2.5438707821411417,-0.9797570746505114,-1.785600451605513,-1.3677304085261701,-0.8597776400411747,-0.38161314435598254,-0.21955301709234307,-0.46962502773123727,0.08658003414889327,-2.624997706901156,1.617799016690096,0.2322838968046603,-0.5747107444070692,1.306245125000283,-0.7424921675650964,-0.6846539842162228,2.1601206807767657,-1.1832051219606274,0.21698850723985674,1.693120559186067,-1.4725670406597433,0.5268215706826592,0.22618522749666412,1.3241925977559907,-1.1750950935332447,0.779369119313454,-1.0622472454257539,-0.7479801434627531,-1.11546714284219,0.6490101527890603,-0.22489797094481306,-1.1740087820316207,0.08056535097254833,0.615871865696655,-0.17445791673987496,0.8456171781805357,1.8168544512752107,0.9067056603187674,-0.1318278852951855,-0.9806500898254744,0.4032491907360089,0.5456168400678882,1.6799435539133445,-1.417466304121186,1.1183981281871356,-0.5754137503060296,-0.4451311781056884,0.6524364369982173,-0.2531055435068277,-1.2238276239485155,0.5079425450594325,-0.7127247095374196,0.5340289009521697,-0.45390448707790165,-0.004315066126661081,0.01607814905285022,0.23686645998285866,-0.22681193933351268,-1.282908829683012,1.0598838321126345,-0.28086616600779785,-1.4665713559786704,0.9606502786533506,0.30386951258373074,0.9913019602065628,-0.5343798033042318,-1.2672235642375103,0.3206869075841262,0.059509125355931794,-0.7576598946355392,-0.5340235908042054,-1.1285727143193942,2.1140216110955588,1.0418469094947094,0.2854170485589883,-1.9999513786857224,0.9479014280894817,-1.14631525364236,1.6505960122936931,0.4751216841159835,0.07362728384021043],\"yaxis\":\"y2\",\"type\":\"scatter\"},{\"line\":{\"color\":\"rgba(128, 128, 128, 1.0)\",\"dash\":\"solid\",\"shape\":\"linear\",\"width\":1.3},\"marker\":{\"size\":2,\"symbol\":\"circle\"},\"mode\":\"markers\",\"name\":\"A\",\"text\":\"\",\"x\":[-0.34202531207788545,-1.1222644470835623,0.7028141803063046,-1.480542876628892,-0.9233934593064455,0.5036205587923401,1.4660744366199934,-0.21608707226005955,-1.1093147070053189,1.433557888382385,-0.8756375577785833,1.8804371359806382,0.9652403751072904,0.28463325794690736,-1.0144520633697285,-0.7673921859551343,0.6564409778143822,-0.5333563310336471,-0.39986394721001606,0.8305702442813395,-0.44809448978486593,0.049755930390898345,2.6326085049249,-0.01833363814526974,0.3441520200024451,-1.7866472901597523,0.3279751470912204,-0.651356902544409,-1.9274271068441076,-1.370102823710896,0.7173151301957572,-1.5489209310423662,0.5376097134578425,1.8922423041507017,0.809397641924778,0.20384111665149685,-0.6277025287109835,-0.8751068206707202,1.0533389203914831,-1.2631932199633122,1.2306688540802848,0.7602783043009048,-0.30484670532054464,0.7725060250156658,-0.8299347589536743,-0.8026514561118214,0.8530052334858856,-1.6020389893628182,0.07370833078691273,0.6242170813905074,-0.7494457547772824,1.0713472336931962,0.4223421938420806,0.42263534449981793,1.4646456275285444,1.039683827554642,-0.30023425832023526,0.37404649991939753,0.4673122624237375,0.18731902338959072,1.5542151833418307,0.030645771385122117,-0.8318116408604491,-1.1263419390554672,0.5358409341661668,-1.9657428068175744,0.6348557749007114,-0.22126233057382555,-0.3574269524949713,-0.08599473004005423,0.021975676472548403,1.4977920735405388,-0.8390333265648123,-2.2313899182895818,1.3614113456212968,-1.1755163614388362,-1.776343557538182,0.29042700200692667,-0.838329491264759,1.0217453683864703,-0.7943644046396928,-0.5768203269604888,-1.1605826216175161,-1.6411546834540554,0.31404144741132656,0.551072360896318,-0.5790178473959828,0.008919696842239469,1.808423009360889,-2.3241472476965597,-0.6701412045400894,0.5443306706696933,0.789808416199637,0.06654335004375507,-0.3184402371805494,-0.8890998642263612,-0.4835588721141622,-0.6833884018172537,0.14227766099943137,-0.7282562084320509],\"xaxis\":\"x3\",\"y\":[-0.28417787083349927,0.6413274499391824,-0.33336861080745656,2.006764818840116,1.8728377960165354,-0.24882852649873424,-0.29861874001993766,-0.5527446223333694,-0.06284839007619376,0.6872961946392325,-0.48047030452308376,-0.15819211016748583,0.3979193283561742,-0.9231892579778409,0.5315667297247073,1.0017781127586238,-2.0721385248636266,0.9212012857921277,-0.25197735935695925,-2.5438707821411417,-0.9797570746505114,-1.785600451605513,-1.3677304085261701,-0.8597776400411747,-0.38161314435598254,-0.21955301709234307,-0.46962502773123727,0.08658003414889327,-2.624997706901156,1.617799016690096,0.2322838968046603,-0.5747107444070692,1.306245125000283,-0.7424921675650964,-0.6846539842162228,2.1601206807767657,-1.1832051219606274,0.21698850723985674,1.693120559186067,-1.4725670406597433,0.5268215706826592,0.22618522749666412,1.3241925977559907,-1.1750950935332447,0.779369119313454,-1.0622472454257539,-0.7479801434627531,-1.11546714284219,0.6490101527890603,-0.22489797094481306,-1.1740087820316207,0.08056535097254833,0.615871865696655,-0.17445791673987496,0.8456171781805357,1.8168544512752107,0.9067056603187674,-0.1318278852951855,-0.9806500898254744,0.4032491907360089,0.5456168400678882,1.6799435539133445,-1.417466304121186,1.1183981281871356,-0.5754137503060296,-0.4451311781056884,0.6524364369982173,-0.2531055435068277,-1.2238276239485155,0.5079425450594325,-0.7127247095374196,0.5340289009521697,-0.45390448707790165,-0.004315066126661081,0.01607814905285022,0.23686645998285866,-0.22681193933351268,-1.282908829683012,1.0598838321126345,-0.28086616600779785,-1.4665713559786704,0.9606502786533506,0.30386951258373074,0.9913019602065628,-0.5343798033042318,-1.2672235642375103,0.3206869075841262,0.059509125355931794,-0.7576598946355392,-0.5340235908042054,-1.1285727143193942,2.1140216110955588,1.0418469094947094,0.2854170485589883,-1.9999513786857224,0.9479014280894817,-1.14631525364236,1.6505960122936931,0.4751216841159835,0.07362728384021043],\"yaxis\":\"y3\",\"type\":\"scatter\"},{\"line\":{\"color\":\"rgba(128, 128, 128, 1.0)\",\"dash\":\"solid\",\"shape\":\"linear\",\"width\":1.3},\"marker\":{\"size\":2,\"symbol\":\"circle\"},\"mode\":\"markers\",\"name\":\"A\",\"text\":\"\",\"x\":[2.3273910288552506,-0.6334933422691658,-0.4319441967976972,0.8577780510833726,1.3174059338669621,-0.6419320987216489,-1.3623116287539814,-0.36468518093902114,-0.8450845612877584,-0.4881826737960272,0.09476315850175457,1.0707324179943876,0.3002091046018555,0.9544992905670775,-1.5127659587156748,-0.5773216582309553,-0.9076002676818018,-0.523402182113726,-0.5149440398200762,-0.6431734614961144,-1.5370571149551584,0.9325810997834867,-0.3799828394287921,-0.11822808269683163,-0.524651240767075,0.7897693225404266,1.467359904266115,0.2537630042514331,0.6743251965769663,0.5896915024727922,-0.045371342409358674,0.2182240360478912,1.40776850307784,0.041593127323566556,-0.5319973112214076,-0.05599391621882997,-0.1061570381773591,-0.6161882918476722,-0.07818898211415566,0.010637516591020602,-0.6182877208698392,-1.2838999360709513,-1.4007084269364891,1.427510765925255,0.032155487844832034,0.28333166882826216,1.006725884900438,-1.0523893986368669,-0.9336714173023393,-1.3563112450957753,-0.5731588466774825,0.4075153149982536,-0.3644485580192882,0.8600600388065972,-0.14234796247850964,1.1451547562188789,-0.752281620428336,0.1577097727954971,0.6614599988815082,-0.5426977912871537,0.21117520713766527,1.6280984663042002,0.31213880062866084,-0.2284117223697516,-0.7480587993056564,1.7398577171738578,0.1915555887976298,-0.9612225264785467,-0.11257263417371008,-0.051376345390612116,0.6067179528849395,0.2613977081738276,0.04367550982255278,-0.07256060375107316,0.0889325342151191,-1.2494846785625786,-0.4623623677571795,1.581560174643525,-0.11297473937727727,1.6909755749235467,-0.5030135767939994,-0.3911481682390143,1.0747468470735577,0.6833784597022645,0.3483076837286668,0.8515336574151208,0.6247803986944622,0.2034486283047299,0.24790489952176153,-1.124912560396261,1.5618180213234496,-0.46369657821326493,-1.0174996099740776,1.097651723730236,-0.6130002595398112,0.028871294808732635,0.3690582224437009,0.31554028066586876,-0.75027510698757,1.1742404037714962],\"xaxis\":\"x4\",\"y\":[-0.28417787083349927,0.6413274499391824,-0.33336861080745656,2.006764818840116,1.8728377960165354,-0.24882852649873424,-0.29861874001993766,-0.5527446223333694,-0.06284839007619376,0.6872961946392325,-0.48047030452308376,-0.15819211016748583,0.3979193283561742,-0.9231892579778409,0.5315667297247073,1.0017781127586238,-2.0721385248636266,0.9212012857921277,-0.25197735935695925,-2.5438707821411417,-0.9797570746505114,-1.785600451605513,-1.3677304085261701,-0.8597776400411747,-0.38161314435598254,-0.21955301709234307,-0.46962502773123727,0.08658003414889327,-2.624997706901156,1.617799016690096,0.2322838968046603,-0.5747107444070692,1.306245125000283,-0.7424921675650964,-0.6846539842162228,2.1601206807767657,-1.1832051219606274,0.21698850723985674,1.693120559186067,-1.4725670406597433,0.5268215706826592,0.22618522749666412,1.3241925977559907,-1.1750950935332447,0.779369119313454,-1.0622472454257539,-0.7479801434627531,-1.11546714284219,0.6490101527890603,-0.22489797094481306,-1.1740087820316207,0.08056535097254833,0.615871865696655,-0.17445791673987496,0.8456171781805357,1.8168544512752107,0.9067056603187674,-0.1318278852951855,-0.9806500898254744,0.4032491907360089,0.5456168400678882,1.6799435539133445,-1.417466304121186,1.1183981281871356,-0.5754137503060296,-0.4451311781056884,0.6524364369982173,-0.2531055435068277,-1.2238276239485155,0.5079425450594325,-0.7127247095374196,0.5340289009521697,-0.45390448707790165,-0.004315066126661081,0.01607814905285022,0.23686645998285866,-0.22681193933351268,-1.282908829683012,1.0598838321126345,-0.28086616600779785,-1.4665713559786704,0.9606502786533506,0.30386951258373074,0.9913019602065628,-0.5343798033042318,-1.2672235642375103,0.3206869075841262,0.059509125355931794,-0.7576598946355392,-0.5340235908042054,-1.1285727143193942,2.1140216110955588,1.0418469094947094,0.2854170485589883,-1.9999513786857224,0.9479014280894817,-1.14631525364236,1.6505960122936931,0.4751216841159835,0.07362728384021043],\"yaxis\":\"y4\",\"type\":\"scatter\"},{\"line\":{\"color\":\"rgba(128, 128, 128, 1.0)\",\"dash\":\"solid\",\"shape\":\"linear\",\"width\":1.3},\"marker\":{\"size\":2,\"symbol\":\"circle\"},\"mode\":\"markers\",\"name\":\"B\",\"text\":\"\",\"x\":[-0.28417787083349927,0.6413274499391824,-0.33336861080745656,2.006764818840116,1.8728377960165354,-0.24882852649873424,-0.29861874001993766,-0.5527446223333694,-0.06284839007619376,0.6872961946392325,-0.48047030452308376,-0.15819211016748583,0.3979193283561742,-0.9231892579778409,0.5315667297247073,1.0017781127586238,-2.0721385248636266,0.9212012857921277,-0.25197735935695925,-2.5438707821411417,-0.9797570746505114,-1.785600451605513,-1.3677304085261701,-0.8597776400411747,-0.38161314435598254,-0.21955301709234307,-0.46962502773123727,0.08658003414889327,-2.624997706901156,1.617799016690096,0.2322838968046603,-0.5747107444070692,1.306245125000283,-0.7424921675650964,-0.6846539842162228,2.1601206807767657,-1.1832051219606274,0.21698850723985674,1.693120559186067,-1.4725670406597433,0.5268215706826592,0.22618522749666412,1.3241925977559907,-1.1750950935332447,0.779369119313454,-1.0622472454257539,-0.7479801434627531,-1.11546714284219,0.6490101527890603,-0.22489797094481306,-1.1740087820316207,0.08056535097254833,0.615871865696655,-0.17445791673987496,0.8456171781805357,1.8168544512752107,0.9067056603187674,-0.1318278852951855,-0.9806500898254744,0.4032491907360089,0.5456168400678882,1.6799435539133445,-1.417466304121186,1.1183981281871356,-0.5754137503060296,-0.4451311781056884,0.6524364369982173,-0.2531055435068277,-1.2238276239485155,0.5079425450594325,-0.7127247095374196,0.5340289009521697,-0.45390448707790165,-0.004315066126661081,0.01607814905285022,0.23686645998285866,-0.22681193933351268,-1.282908829683012,1.0598838321126345,-0.28086616600779785,-1.4665713559786704,0.9606502786533506,0.30386951258373074,0.9913019602065628,-0.5343798033042318,-1.2672235642375103,0.3206869075841262,0.059509125355931794,-0.7576598946355392,-0.5340235908042054,-1.1285727143193942,2.1140216110955588,1.0418469094947094,0.2854170485589883,-1.9999513786857224,0.9479014280894817,-1.14631525364236,1.6505960122936931,0.4751216841159835,0.07362728384021043],\"xaxis\":\"x5\",\"y\":[-0.9942875062320643,0.6693618378433789,1.4375270448174466,-0.7601350990541826,-1.3856509449362089,0.7699061108404363,0.04944535748246853,0.6061305364332712,-0.23326162112807344,2.1617704129411974,0.4182423292502963,-0.8119088645105795,0.644305020890722,0.12994496488584203,-1.5914719130541115,-0.3958209142720946,0.8320625813285379,0.3595709913909463,0.8608355243878564,-0.5121802342042246,-0.19251810768470703,-1.1025637585273937,0.7127282902106402,0.9252123054557275,0.26684715309611456,-2.0304254233704966,1.1185689589290568,0.12590272762439111,-0.4125100158666027,-1.3224183185741754,0.3344566151898501,-2.1168986945450343,-0.9081775216742415,-1.6901431359280612,1.0403812288066845,0.22958405742077428,-0.8426375495425725,2.276061422029563,0.5778368449479325,1.144721063467178,1.8299513587167864,1.4621795449801354,-2.4368266921099533,1.013362811041721,-0.5778304519601165,1.0356709009219747,-0.504355394746898,0.35213287720179104,-1.2035825393525954,0.8106345843941292,-1.595771889074104,0.2457069745672563,-0.8566043574987787,0.3918816986658821,-0.2636254412853934,-1.0805801266361703,0.7319184842233384,-0.9438163723917274,-0.07189078116332594,-1.8693359956196978,0.2080888807547833,-0.14434974751758786,-1.0649759862550428,0.27727223466743445,-0.09036623691422577,1.1030507777767082,0.6415368409136328,-1.3194312808649182,0.2572171302463949,0.9309998401890984,1.4420973248489697,0.42381088497255825,0.9266947420824746,1.0675505254092201,1.0591396740258205,-0.4130027839015729,1.6464567391114484,-0.7639222655044755,-0.33115201506490505,-2.1054031846049996,2.0697721097103496,0.24439587621825065,1.8662383890198717,1.138721370400964,0.9451389623407138,1.6984878039732823,-0.6924609238879748,0.26861365381914376,1.1436079001022867,-0.1704130968335762,1.112192969720432,-0.14059862423431896,1.0150879111753266,0.3912245979789011,-1.0085802974254625,0.12489394468227431,0.940715803891102,0.8522321107876281,-0.3210080437331556,-0.12446681042664187],\"yaxis\":\"y5\",\"type\":\"scatter\"},{\"histfunc\":\"count\",\"histnorm\":\"\",\"marker\":{\"color\":\"rgba(55, 128, 191, 1.0)\",\"line\":{\"color\":\"#4D5663\",\"width\":1.3}},\"name\":\"B\",\"nbinsx\":10,\"opacity\":0.8,\"orientation\":\"v\",\"x\":[-0.9942875062320643,0.6693618378433789,1.4375270448174466,-0.7601350990541826,-1.3856509449362089,0.7699061108404363,0.04944535748246853,0.6061305364332712,-0.23326162112807344,2.1617704129411974,0.4182423292502963,-0.8119088645105795,0.644305020890722,0.12994496488584203,-1.5914719130541115,-0.3958209142720946,0.8320625813285379,0.3595709913909463,0.8608355243878564,-0.5121802342042246,-0.19251810768470703,-1.1025637585273937,0.7127282902106402,0.9252123054557275,0.26684715309611456,-2.0304254233704966,1.1185689589290568,0.12590272762439111,-0.4125100158666027,-1.3224183185741754,0.3344566151898501,-2.1168986945450343,-0.9081775216742415,-1.6901431359280612,1.0403812288066845,0.22958405742077428,-0.8426375495425725,2.276061422029563,0.5778368449479325,1.144721063467178,1.8299513587167864,1.4621795449801354,-2.4368266921099533,1.013362811041721,-0.5778304519601165,1.0356709009219747,-0.504355394746898,0.35213287720179104,-1.2035825393525954,0.8106345843941292,-1.595771889074104,0.2457069745672563,-0.8566043574987787,0.3918816986658821,-0.2636254412853934,-1.0805801266361703,0.7319184842233384,-0.9438163723917274,-0.07189078116332594,-1.8693359956196978,0.2080888807547833,-0.14434974751758786,-1.0649759862550428,0.27727223466743445,-0.09036623691422577,1.1030507777767082,0.6415368409136328,-1.3194312808649182,0.2572171302463949,0.9309998401890984,1.4420973248489697,0.42381088497255825,0.9266947420824746,1.0675505254092201,1.0591396740258205,-0.4130027839015729,1.6464567391114484,-0.7639222655044755,-0.33115201506490505,-2.1054031846049996,2.0697721097103496,0.24439587621825065,1.8662383890198717,1.138721370400964,0.9451389623407138,1.6984878039732823,-0.6924609238879748,0.26861365381914376,1.1436079001022867,-0.1704130968335762,1.112192969720432,-0.14059862423431896,1.0150879111753266,0.3912245979789011,-1.0085802974254625,0.12489394468227431,0.940715803891102,0.8522321107876281,-0.3210080437331556,-0.12446681042664187],\"xaxis\":\"x6\",\"yaxis\":\"y6\",\"type\":\"histogram\"},{\"line\":{\"color\":\"rgba(128, 128, 128, 1.0)\",\"dash\":\"solid\",\"shape\":\"linear\",\"width\":1.3},\"marker\":{\"size\":2,\"symbol\":\"circle\"},\"mode\":\"markers\",\"name\":\"B\",\"text\":\"\",\"x\":[-0.34202531207788545,-1.1222644470835623,0.7028141803063046,-1.480542876628892,-0.9233934593064455,0.5036205587923401,1.4660744366199934,-0.21608707226005955,-1.1093147070053189,1.433557888382385,-0.8756375577785833,1.8804371359806382,0.9652403751072904,0.28463325794690736,-1.0144520633697285,-0.7673921859551343,0.6564409778143822,-0.5333563310336471,-0.39986394721001606,0.8305702442813395,-0.44809448978486593,0.049755930390898345,2.6326085049249,-0.01833363814526974,0.3441520200024451,-1.7866472901597523,0.3279751470912204,-0.651356902544409,-1.9274271068441076,-1.370102823710896,0.7173151301957572,-1.5489209310423662,0.5376097134578425,1.8922423041507017,0.809397641924778,0.20384111665149685,-0.6277025287109835,-0.8751068206707202,1.0533389203914831,-1.2631932199633122,1.2306688540802848,0.7602783043009048,-0.30484670532054464,0.7725060250156658,-0.8299347589536743,-0.8026514561118214,0.8530052334858856,-1.6020389893628182,0.07370833078691273,0.6242170813905074,-0.7494457547772824,1.0713472336931962,0.4223421938420806,0.42263534449981793,1.4646456275285444,1.039683827554642,-0.30023425832023526,0.37404649991939753,0.4673122624237375,0.18731902338959072,1.5542151833418307,0.030645771385122117,-0.8318116408604491,-1.1263419390554672,0.5358409341661668,-1.9657428068175744,0.6348557749007114,-0.22126233057382555,-0.3574269524949713,-0.08599473004005423,0.021975676472548403,1.4977920735405388,-0.8390333265648123,-2.2313899182895818,1.3614113456212968,-1.1755163614388362,-1.776343557538182,0.29042700200692667,-0.838329491264759,1.0217453683864703,-0.7943644046396928,-0.5768203269604888,-1.1605826216175161,-1.6411546834540554,0.31404144741132656,0.551072360896318,-0.5790178473959828,0.008919696842239469,1.808423009360889,-2.3241472476965597,-0.6701412045400894,0.5443306706696933,0.789808416199637,0.06654335004375507,-0.3184402371805494,-0.8890998642263612,-0.4835588721141622,-0.6833884018172537,0.14227766099943137,-0.7282562084320509],\"xaxis\":\"x7\",\"y\":[-0.9942875062320643,0.6693618378433789,1.4375270448174466,-0.7601350990541826,-1.3856509449362089,0.7699061108404363,0.04944535748246853,0.6061305364332712,-0.23326162112807344,2.1617704129411974,0.4182423292502963,-0.8119088645105795,0.644305020890722,0.12994496488584203,-1.5914719130541115,-0.3958209142720946,0.8320625813285379,0.3595709913909463,0.8608355243878564,-0.5121802342042246,-0.19251810768470703,-1.1025637585273937,0.7127282902106402,0.9252123054557275,0.26684715309611456,-2.0304254233704966,1.1185689589290568,0.12590272762439111,-0.4125100158666027,-1.3224183185741754,0.3344566151898501,-2.1168986945450343,-0.9081775216742415,-1.6901431359280612,1.0403812288066845,0.22958405742077428,-0.8426375495425725,2.276061422029563,0.5778368449479325,1.144721063467178,1.8299513587167864,1.4621795449801354,-2.4368266921099533,1.013362811041721,-0.5778304519601165,1.0356709009219747,-0.504355394746898,0.35213287720179104,-1.2035825393525954,0.8106345843941292,-1.595771889074104,0.2457069745672563,-0.8566043574987787,0.3918816986658821,-0.2636254412853934,-1.0805801266361703,0.7319184842233384,-0.9438163723917274,-0.07189078116332594,-1.8693359956196978,0.2080888807547833,-0.14434974751758786,-1.0649759862550428,0.27727223466743445,-0.09036623691422577,1.1030507777767082,0.6415368409136328,-1.3194312808649182,0.2572171302463949,0.9309998401890984,1.4420973248489697,0.42381088497255825,0.9266947420824746,1.0675505254092201,1.0591396740258205,-0.4130027839015729,1.6464567391114484,-0.7639222655044755,-0.33115201506490505,-2.1054031846049996,2.0697721097103496,0.24439587621825065,1.8662383890198717,1.138721370400964,0.9451389623407138,1.6984878039732823,-0.6924609238879748,0.26861365381914376,1.1436079001022867,-0.1704130968335762,1.112192969720432,-0.14059862423431896,1.0150879111753266,0.3912245979789011,-1.0085802974254625,0.12489394468227431,0.940715803891102,0.8522321107876281,-0.3210080437331556,-0.12446681042664187],\"yaxis\":\"y7\",\"type\":\"scatter\"},{\"line\":{\"color\":\"rgba(128, 128, 128, 1.0)\",\"dash\":\"solid\",\"shape\":\"linear\",\"width\":1.3},\"marker\":{\"size\":2,\"symbol\":\"circle\"},\"mode\":\"markers\",\"name\":\"B\",\"text\":\"\",\"x\":[2.3273910288552506,-0.6334933422691658,-0.4319441967976972,0.8577780510833726,1.3174059338669621,-0.6419320987216489,-1.3623116287539814,-0.36468518093902114,-0.8450845612877584,-0.4881826737960272,0.09476315850175457,1.0707324179943876,0.3002091046018555,0.9544992905670775,-1.5127659587156748,-0.5773216582309553,-0.9076002676818018,-0.523402182113726,-0.5149440398200762,-0.6431734614961144,-1.5370571149551584,0.9325810997834867,-0.3799828394287921,-0.11822808269683163,-0.524651240767075,0.7897693225404266,1.467359904266115,0.2537630042514331,0.6743251965769663,0.5896915024727922,-0.045371342409358674,0.2182240360478912,1.40776850307784,0.041593127323566556,-0.5319973112214076,-0.05599391621882997,-0.1061570381773591,-0.6161882918476722,-0.07818898211415566,0.010637516591020602,-0.6182877208698392,-1.2838999360709513,-1.4007084269364891,1.427510765925255,0.032155487844832034,0.28333166882826216,1.006725884900438,-1.0523893986368669,-0.9336714173023393,-1.3563112450957753,-0.5731588466774825,0.4075153149982536,-0.3644485580192882,0.8600600388065972,-0.14234796247850964,1.1451547562188789,-0.752281620428336,0.1577097727954971,0.6614599988815082,-0.5426977912871537,0.21117520713766527,1.6280984663042002,0.31213880062866084,-0.2284117223697516,-0.7480587993056564,1.7398577171738578,0.1915555887976298,-0.9612225264785467,-0.11257263417371008,-0.051376345390612116,0.6067179528849395,0.2613977081738276,0.04367550982255278,-0.07256060375107316,0.0889325342151191,-1.2494846785625786,-0.4623623677571795,1.581560174643525,-0.11297473937727727,1.6909755749235467,-0.5030135767939994,-0.3911481682390143,1.0747468470735577,0.6833784597022645,0.3483076837286668,0.8515336574151208,0.6247803986944622,0.2034486283047299,0.24790489952176153,-1.124912560396261,1.5618180213234496,-0.46369657821326493,-1.0174996099740776,1.097651723730236,-0.6130002595398112,0.028871294808732635,0.3690582224437009,0.31554028066586876,-0.75027510698757,1.1742404037714962],\"xaxis\":\"x8\",\"y\":[-0.9942875062320643,0.6693618378433789,1.4375270448174466,-0.7601350990541826,-1.3856509449362089,0.7699061108404363,0.04944535748246853,0.6061305364332712,-0.23326162112807344,2.1617704129411974,0.4182423292502963,-0.8119088645105795,0.644305020890722,0.12994496488584203,-1.5914719130541115,-0.3958209142720946,0.8320625813285379,0.3595709913909463,0.8608355243878564,-0.5121802342042246,-0.19251810768470703,-1.1025637585273937,0.7127282902106402,0.9252123054557275,0.26684715309611456,-2.0304254233704966,1.1185689589290568,0.12590272762439111,-0.4125100158666027,-1.3224183185741754,0.3344566151898501,-2.1168986945450343,-0.9081775216742415,-1.6901431359280612,1.0403812288066845,0.22958405742077428,-0.8426375495425725,2.276061422029563,0.5778368449479325,1.144721063467178,1.8299513587167864,1.4621795449801354,-2.4368266921099533,1.013362811041721,-0.5778304519601165,1.0356709009219747,-0.504355394746898,0.35213287720179104,-1.2035825393525954,0.8106345843941292,-1.595771889074104,0.2457069745672563,-0.8566043574987787,0.3918816986658821,-0.2636254412853934,-1.0805801266361703,0.7319184842233384,-0.9438163723917274,-0.07189078116332594,-1.8693359956196978,0.2080888807547833,-0.14434974751758786,-1.0649759862550428,0.27727223466743445,-0.09036623691422577,1.1030507777767082,0.6415368409136328,-1.3194312808649182,0.2572171302463949,0.9309998401890984,1.4420973248489697,0.42381088497255825,0.9266947420824746,1.0675505254092201,1.0591396740258205,-0.4130027839015729,1.6464567391114484,-0.7639222655044755,-0.33115201506490505,-2.1054031846049996,2.0697721097103496,0.24439587621825065,1.8662383890198717,1.138721370400964,0.9451389623407138,1.6984878039732823,-0.6924609238879748,0.26861365381914376,1.1436079001022867,-0.1704130968335762,1.112192969720432,-0.14059862423431896,1.0150879111753266,0.3912245979789011,-1.0085802974254625,0.12489394468227431,0.940715803891102,0.8522321107876281,-0.3210080437331556,-0.12446681042664187],\"yaxis\":\"y8\",\"type\":\"scatter\"},{\"line\":{\"color\":\"rgba(128, 128, 128, 1.0)\",\"dash\":\"solid\",\"shape\":\"linear\",\"width\":1.3},\"marker\":{\"size\":2,\"symbol\":\"circle\"},\"mode\":\"markers\",\"name\":\"C\",\"text\":\"\",\"x\":[-0.28417787083349927,0.6413274499391824,-0.33336861080745656,2.006764818840116,1.8728377960165354,-0.24882852649873424,-0.29861874001993766,-0.5527446223333694,-0.06284839007619376,0.6872961946392325,-0.48047030452308376,-0.15819211016748583,0.3979193283561742,-0.9231892579778409,0.5315667297247073,1.0017781127586238,-2.0721385248636266,0.9212012857921277,-0.25197735935695925,-2.5438707821411417,-0.9797570746505114,-1.785600451605513,-1.3677304085261701,-0.8597776400411747,-0.38161314435598254,-0.21955301709234307,-0.46962502773123727,0.08658003414889327,-2.624997706901156,1.617799016690096,0.2322838968046603,-0.5747107444070692,1.306245125000283,-0.7424921675650964,-0.6846539842162228,2.1601206807767657,-1.1832051219606274,0.21698850723985674,1.693120559186067,-1.4725670406597433,0.5268215706826592,0.22618522749666412,1.3241925977559907,-1.1750950935332447,0.779369119313454,-1.0622472454257539,-0.7479801434627531,-1.11546714284219,0.6490101527890603,-0.22489797094481306,-1.1740087820316207,0.08056535097254833,0.615871865696655,-0.17445791673987496,0.8456171781805357,1.8168544512752107,0.9067056603187674,-0.1318278852951855,-0.9806500898254744,0.4032491907360089,0.5456168400678882,1.6799435539133445,-1.417466304121186,1.1183981281871356,-0.5754137503060296,-0.4451311781056884,0.6524364369982173,-0.2531055435068277,-1.2238276239485155,0.5079425450594325,-0.7127247095374196,0.5340289009521697,-0.45390448707790165,-0.004315066126661081,0.01607814905285022,0.23686645998285866,-0.22681193933351268,-1.282908829683012,1.0598838321126345,-0.28086616600779785,-1.4665713559786704,0.9606502786533506,0.30386951258373074,0.9913019602065628,-0.5343798033042318,-1.2672235642375103,0.3206869075841262,0.059509125355931794,-0.7576598946355392,-0.5340235908042054,-1.1285727143193942,2.1140216110955588,1.0418469094947094,0.2854170485589883,-1.9999513786857224,0.9479014280894817,-1.14631525364236,1.6505960122936931,0.4751216841159835,0.07362728384021043],\"xaxis\":\"x9\",\"y\":[-0.34202531207788545,-1.1222644470835623,0.7028141803063046,-1.480542876628892,-0.9233934593064455,0.5036205587923401,1.4660744366199934,-0.21608707226005955,-1.1093147070053189,1.433557888382385,-0.8756375577785833,1.8804371359806382,0.9652403751072904,0.28463325794690736,-1.0144520633697285,-0.7673921859551343,0.6564409778143822,-0.5333563310336471,-0.39986394721001606,0.8305702442813395,-0.44809448978486593,0.049755930390898345,2.6326085049249,-0.01833363814526974,0.3441520200024451,-1.7866472901597523,0.3279751470912204,-0.651356902544409,-1.9274271068441076,-1.370102823710896,0.7173151301957572,-1.5489209310423662,0.5376097134578425,1.8922423041507017,0.809397641924778,0.20384111665149685,-0.6277025287109835,-0.8751068206707202,1.0533389203914831,-1.2631932199633122,1.2306688540802848,0.7602783043009048,-0.30484670532054464,0.7725060250156658,-0.8299347589536743,-0.8026514561118214,0.8530052334858856,-1.6020389893628182,0.07370833078691273,0.6242170813905074,-0.7494457547772824,1.0713472336931962,0.4223421938420806,0.42263534449981793,1.4646456275285444,1.039683827554642,-0.30023425832023526,0.37404649991939753,0.4673122624237375,0.18731902338959072,1.5542151833418307,0.030645771385122117,-0.8318116408604491,-1.1263419390554672,0.5358409341661668,-1.9657428068175744,0.6348557749007114,-0.22126233057382555,-0.3574269524949713,-0.08599473004005423,0.021975676472548403,1.4977920735405388,-0.8390333265648123,-2.2313899182895818,1.3614113456212968,-1.1755163614388362,-1.776343557538182,0.29042700200692667,-0.838329491264759,1.0217453683864703,-0.7943644046396928,-0.5768203269604888,-1.1605826216175161,-1.6411546834540554,0.31404144741132656,0.551072360896318,-0.5790178473959828,0.008919696842239469,1.808423009360889,-2.3241472476965597,-0.6701412045400894,0.5443306706696933,0.789808416199637,0.06654335004375507,-0.3184402371805494,-0.8890998642263612,-0.4835588721141622,-0.6833884018172537,0.14227766099943137,-0.7282562084320509],\"yaxis\":\"y9\",\"type\":\"scatter\"},{\"line\":{\"color\":\"rgba(128, 128, 128, 1.0)\",\"dash\":\"solid\",\"shape\":\"linear\",\"width\":1.3},\"marker\":{\"size\":2,\"symbol\":\"circle\"},\"mode\":\"markers\",\"name\":\"C\",\"text\":\"\",\"x\":[-0.9942875062320643,0.6693618378433789,1.4375270448174466,-0.7601350990541826,-1.3856509449362089,0.7699061108404363,0.04944535748246853,0.6061305364332712,-0.23326162112807344,2.1617704129411974,0.4182423292502963,-0.8119088645105795,0.644305020890722,0.12994496488584203,-1.5914719130541115,-0.3958209142720946,0.8320625813285379,0.3595709913909463,0.8608355243878564,-0.5121802342042246,-0.19251810768470703,-1.1025637585273937,0.7127282902106402,0.9252123054557275,0.26684715309611456,-2.0304254233704966,1.1185689589290568,0.12590272762439111,-0.4125100158666027,-1.3224183185741754,0.3344566151898501,-2.1168986945450343,-0.9081775216742415,-1.6901431359280612,1.0403812288066845,0.22958405742077428,-0.8426375495425725,2.276061422029563,0.5778368449479325,1.144721063467178,1.8299513587167864,1.4621795449801354,-2.4368266921099533,1.013362811041721,-0.5778304519601165,1.0356709009219747,-0.504355394746898,0.35213287720179104,-1.2035825393525954,0.8106345843941292,-1.595771889074104,0.2457069745672563,-0.8566043574987787,0.3918816986658821,-0.2636254412853934,-1.0805801266361703,0.7319184842233384,-0.9438163723917274,-0.07189078116332594,-1.8693359956196978,0.2080888807547833,-0.14434974751758786,-1.0649759862550428,0.27727223466743445,-0.09036623691422577,1.1030507777767082,0.6415368409136328,-1.3194312808649182,0.2572171302463949,0.9309998401890984,1.4420973248489697,0.42381088497255825,0.9266947420824746,1.0675505254092201,1.0591396740258205,-0.4130027839015729,1.6464567391114484,-0.7639222655044755,-0.33115201506490505,-2.1054031846049996,2.0697721097103496,0.24439587621825065,1.8662383890198717,1.138721370400964,0.9451389623407138,1.6984878039732823,-0.6924609238879748,0.26861365381914376,1.1436079001022867,-0.1704130968335762,1.112192969720432,-0.14059862423431896,1.0150879111753266,0.3912245979789011,-1.0085802974254625,0.12489394468227431,0.940715803891102,0.8522321107876281,-0.3210080437331556,-0.12446681042664187],\"xaxis\":\"x10\",\"y\":[-0.34202531207788545,-1.1222644470835623,0.7028141803063046,-1.480542876628892,-0.9233934593064455,0.5036205587923401,1.4660744366199934,-0.21608707226005955,-1.1093147070053189,1.433557888382385,-0.8756375577785833,1.8804371359806382,0.9652403751072904,0.28463325794690736,-1.0144520633697285,-0.7673921859551343,0.6564409778143822,-0.5333563310336471,-0.39986394721001606,0.8305702442813395,-0.44809448978486593,0.049755930390898345,2.6326085049249,-0.01833363814526974,0.3441520200024451,-1.7866472901597523,0.3279751470912204,-0.651356902544409,-1.9274271068441076,-1.370102823710896,0.7173151301957572,-1.5489209310423662,0.5376097134578425,1.8922423041507017,0.809397641924778,0.20384111665149685,-0.6277025287109835,-0.8751068206707202,1.0533389203914831,-1.2631932199633122,1.2306688540802848,0.7602783043009048,-0.30484670532054464,0.7725060250156658,-0.8299347589536743,-0.8026514561118214,0.8530052334858856,-1.6020389893628182,0.07370833078691273,0.6242170813905074,-0.7494457547772824,1.0713472336931962,0.4223421938420806,0.42263534449981793,1.4646456275285444,1.039683827554642,-0.30023425832023526,0.37404649991939753,0.4673122624237375,0.18731902338959072,1.5542151833418307,0.030645771385122117,-0.8318116408604491,-1.1263419390554672,0.5358409341661668,-1.9657428068175744,0.6348557749007114,-0.22126233057382555,-0.3574269524949713,-0.08599473004005423,0.021975676472548403,1.4977920735405388,-0.8390333265648123,-2.2313899182895818,1.3614113456212968,-1.1755163614388362,-1.776343557538182,0.29042700200692667,-0.838329491264759,1.0217453683864703,-0.7943644046396928,-0.5768203269604888,-1.1605826216175161,-1.6411546834540554,0.31404144741132656,0.551072360896318,-0.5790178473959828,0.008919696842239469,1.808423009360889,-2.3241472476965597,-0.6701412045400894,0.5443306706696933,0.789808416199637,0.06654335004375507,-0.3184402371805494,-0.8890998642263612,-0.4835588721141622,-0.6833884018172537,0.14227766099943137,-0.7282562084320509],\"yaxis\":\"y10\",\"type\":\"scatter\"},{\"histfunc\":\"count\",\"histnorm\":\"\",\"marker\":{\"color\":\"rgba(50, 171, 96, 1.0)\",\"line\":{\"color\":\"#4D5663\",\"width\":1.3}},\"name\":\"C\",\"nbinsx\":10,\"opacity\":0.8,\"orientation\":\"v\",\"x\":[-0.34202531207788545,-1.1222644470835623,0.7028141803063046,-1.480542876628892,-0.9233934593064455,0.5036205587923401,1.4660744366199934,-0.21608707226005955,-1.1093147070053189,1.433557888382385,-0.8756375577785833,1.8804371359806382,0.9652403751072904,0.28463325794690736,-1.0144520633697285,-0.7673921859551343,0.6564409778143822,-0.5333563310336471,-0.39986394721001606,0.8305702442813395,-0.44809448978486593,0.049755930390898345,2.6326085049249,-0.01833363814526974,0.3441520200024451,-1.7866472901597523,0.3279751470912204,-0.651356902544409,-1.9274271068441076,-1.370102823710896,0.7173151301957572,-1.5489209310423662,0.5376097134578425,1.8922423041507017,0.809397641924778,0.20384111665149685,-0.6277025287109835,-0.8751068206707202,1.0533389203914831,-1.2631932199633122,1.2306688540802848,0.7602783043009048,-0.30484670532054464,0.7725060250156658,-0.8299347589536743,-0.8026514561118214,0.8530052334858856,-1.6020389893628182,0.07370833078691273,0.6242170813905074,-0.7494457547772824,1.0713472336931962,0.4223421938420806,0.42263534449981793,1.4646456275285444,1.039683827554642,-0.30023425832023526,0.37404649991939753,0.4673122624237375,0.18731902338959072,1.5542151833418307,0.030645771385122117,-0.8318116408604491,-1.1263419390554672,0.5358409341661668,-1.9657428068175744,0.6348557749007114,-0.22126233057382555,-0.3574269524949713,-0.08599473004005423,0.021975676472548403,1.4977920735405388,-0.8390333265648123,-2.2313899182895818,1.3614113456212968,-1.1755163614388362,-1.776343557538182,0.29042700200692667,-0.838329491264759,1.0217453683864703,-0.7943644046396928,-0.5768203269604888,-1.1605826216175161,-1.6411546834540554,0.31404144741132656,0.551072360896318,-0.5790178473959828,0.008919696842239469,1.808423009360889,-2.3241472476965597,-0.6701412045400894,0.5443306706696933,0.789808416199637,0.06654335004375507,-0.3184402371805494,-0.8890998642263612,-0.4835588721141622,-0.6833884018172537,0.14227766099943137,-0.7282562084320509],\"xaxis\":\"x11\",\"yaxis\":\"y11\",\"type\":\"histogram\"},{\"line\":{\"color\":\"rgba(128, 128, 128, 1.0)\",\"dash\":\"solid\",\"shape\":\"linear\",\"width\":1.3},\"marker\":{\"size\":2,\"symbol\":\"circle\"},\"mode\":\"markers\",\"name\":\"C\",\"text\":\"\",\"x\":[2.3273910288552506,-0.6334933422691658,-0.4319441967976972,0.8577780510833726,1.3174059338669621,-0.6419320987216489,-1.3623116287539814,-0.36468518093902114,-0.8450845612877584,-0.4881826737960272,0.09476315850175457,1.0707324179943876,0.3002091046018555,0.9544992905670775,-1.5127659587156748,-0.5773216582309553,-0.9076002676818018,-0.523402182113726,-0.5149440398200762,-0.6431734614961144,-1.5370571149551584,0.9325810997834867,-0.3799828394287921,-0.11822808269683163,-0.524651240767075,0.7897693225404266,1.467359904266115,0.2537630042514331,0.6743251965769663,0.5896915024727922,-0.045371342409358674,0.2182240360478912,1.40776850307784,0.041593127323566556,-0.5319973112214076,-0.05599391621882997,-0.1061570381773591,-0.6161882918476722,-0.07818898211415566,0.010637516591020602,-0.6182877208698392,-1.2838999360709513,-1.4007084269364891,1.427510765925255,0.032155487844832034,0.28333166882826216,1.006725884900438,-1.0523893986368669,-0.9336714173023393,-1.3563112450957753,-0.5731588466774825,0.4075153149982536,-0.3644485580192882,0.8600600388065972,-0.14234796247850964,1.1451547562188789,-0.752281620428336,0.1577097727954971,0.6614599988815082,-0.5426977912871537,0.21117520713766527,1.6280984663042002,0.31213880062866084,-0.2284117223697516,-0.7480587993056564,1.7398577171738578,0.1915555887976298,-0.9612225264785467,-0.11257263417371008,-0.051376345390612116,0.6067179528849395,0.2613977081738276,0.04367550982255278,-0.07256060375107316,0.0889325342151191,-1.2494846785625786,-0.4623623677571795,1.581560174643525,-0.11297473937727727,1.6909755749235467,-0.5030135767939994,-0.3911481682390143,1.0747468470735577,0.6833784597022645,0.3483076837286668,0.8515336574151208,0.6247803986944622,0.2034486283047299,0.24790489952176153,-1.124912560396261,1.5618180213234496,-0.46369657821326493,-1.0174996099740776,1.097651723730236,-0.6130002595398112,0.028871294808732635,0.3690582224437009,0.31554028066586876,-0.75027510698757,1.1742404037714962],\"xaxis\":\"x12\",\"y\":[-0.34202531207788545,-1.1222644470835623,0.7028141803063046,-1.480542876628892,-0.9233934593064455,0.5036205587923401,1.4660744366199934,-0.21608707226005955,-1.1093147070053189,1.433557888382385,-0.8756375577785833,1.8804371359806382,0.9652403751072904,0.28463325794690736,-1.0144520633697285,-0.7673921859551343,0.6564409778143822,-0.5333563310336471,-0.39986394721001606,0.8305702442813395,-0.44809448978486593,0.049755930390898345,2.6326085049249,-0.01833363814526974,0.3441520200024451,-1.7866472901597523,0.3279751470912204,-0.651356902544409,-1.9274271068441076,-1.370102823710896,0.7173151301957572,-1.5489209310423662,0.5376097134578425,1.8922423041507017,0.809397641924778,0.20384111665149685,-0.6277025287109835,-0.8751068206707202,1.0533389203914831,-1.2631932199633122,1.2306688540802848,0.7602783043009048,-0.30484670532054464,0.7725060250156658,-0.8299347589536743,-0.8026514561118214,0.8530052334858856,-1.6020389893628182,0.07370833078691273,0.6242170813905074,-0.7494457547772824,1.0713472336931962,0.4223421938420806,0.42263534449981793,1.4646456275285444,1.039683827554642,-0.30023425832023526,0.37404649991939753,0.4673122624237375,0.18731902338959072,1.5542151833418307,0.030645771385122117,-0.8318116408604491,-1.1263419390554672,0.5358409341661668,-1.9657428068175744,0.6348557749007114,-0.22126233057382555,-0.3574269524949713,-0.08599473004005423,0.021975676472548403,1.4977920735405388,-0.8390333265648123,-2.2313899182895818,1.3614113456212968,-1.1755163614388362,-1.776343557538182,0.29042700200692667,-0.838329491264759,1.0217453683864703,-0.7943644046396928,-0.5768203269604888,-1.1605826216175161,-1.6411546834540554,0.31404144741132656,0.551072360896318,-0.5790178473959828,0.008919696842239469,1.808423009360889,-2.3241472476965597,-0.6701412045400894,0.5443306706696933,0.789808416199637,0.06654335004375507,-0.3184402371805494,-0.8890998642263612,-0.4835588721141622,-0.6833884018172537,0.14227766099943137,-0.7282562084320509],\"yaxis\":\"y12\",\"type\":\"scatter\"},{\"line\":{\"color\":\"rgba(128, 128, 128, 1.0)\",\"dash\":\"solid\",\"shape\":\"linear\",\"width\":1.3},\"marker\":{\"size\":2,\"symbol\":\"circle\"},\"mode\":\"markers\",\"name\":\"D\",\"text\":\"\",\"x\":[-0.28417787083349927,0.6413274499391824,-0.33336861080745656,2.006764818840116,1.8728377960165354,-0.24882852649873424,-0.29861874001993766,-0.5527446223333694,-0.06284839007619376,0.6872961946392325,-0.48047030452308376,-0.15819211016748583,0.3979193283561742,-0.9231892579778409,0.5315667297247073,1.0017781127586238,-2.0721385248636266,0.9212012857921277,-0.25197735935695925,-2.5438707821411417,-0.9797570746505114,-1.785600451605513,-1.3677304085261701,-0.8597776400411747,-0.38161314435598254,-0.21955301709234307,-0.46962502773123727,0.08658003414889327,-2.624997706901156,1.617799016690096,0.2322838968046603,-0.5747107444070692,1.306245125000283,-0.7424921675650964,-0.6846539842162228,2.1601206807767657,-1.1832051219606274,0.21698850723985674,1.693120559186067,-1.4725670406597433,0.5268215706826592,0.22618522749666412,1.3241925977559907,-1.1750950935332447,0.779369119313454,-1.0622472454257539,-0.7479801434627531,-1.11546714284219,0.6490101527890603,-0.22489797094481306,-1.1740087820316207,0.08056535097254833,0.615871865696655,-0.17445791673987496,0.8456171781805357,1.8168544512752107,0.9067056603187674,-0.1318278852951855,-0.9806500898254744,0.4032491907360089,0.5456168400678882,1.6799435539133445,-1.417466304121186,1.1183981281871356,-0.5754137503060296,-0.4451311781056884,0.6524364369982173,-0.2531055435068277,-1.2238276239485155,0.5079425450594325,-0.7127247095374196,0.5340289009521697,-0.45390448707790165,-0.004315066126661081,0.01607814905285022,0.23686645998285866,-0.22681193933351268,-1.282908829683012,1.0598838321126345,-0.28086616600779785,-1.4665713559786704,0.9606502786533506,0.30386951258373074,0.9913019602065628,-0.5343798033042318,-1.2672235642375103,0.3206869075841262,0.059509125355931794,-0.7576598946355392,-0.5340235908042054,-1.1285727143193942,2.1140216110955588,1.0418469094947094,0.2854170485589883,-1.9999513786857224,0.9479014280894817,-1.14631525364236,1.6505960122936931,0.4751216841159835,0.07362728384021043],\"xaxis\":\"x13\",\"y\":[2.3273910288552506,-0.6334933422691658,-0.4319441967976972,0.8577780510833726,1.3174059338669621,-0.6419320987216489,-1.3623116287539814,-0.36468518093902114,-0.8450845612877584,-0.4881826737960272,0.09476315850175457,1.0707324179943876,0.3002091046018555,0.9544992905670775,-1.5127659587156748,-0.5773216582309553,-0.9076002676818018,-0.523402182113726,-0.5149440398200762,-0.6431734614961144,-1.5370571149551584,0.9325810997834867,-0.3799828394287921,-0.11822808269683163,-0.524651240767075,0.7897693225404266,1.467359904266115,0.2537630042514331,0.6743251965769663,0.5896915024727922,-0.045371342409358674,0.2182240360478912,1.40776850307784,0.041593127323566556,-0.5319973112214076,-0.05599391621882997,-0.1061570381773591,-0.6161882918476722,-0.07818898211415566,0.010637516591020602,-0.6182877208698392,-1.2838999360709513,-1.4007084269364891,1.427510765925255,0.032155487844832034,0.28333166882826216,1.006725884900438,-1.0523893986368669,-0.9336714173023393,-1.3563112450957753,-0.5731588466774825,0.4075153149982536,-0.3644485580192882,0.8600600388065972,-0.14234796247850964,1.1451547562188789,-0.752281620428336,0.1577097727954971,0.6614599988815082,-0.5426977912871537,0.21117520713766527,1.6280984663042002,0.31213880062866084,-0.2284117223697516,-0.7480587993056564,1.7398577171738578,0.1915555887976298,-0.9612225264785467,-0.11257263417371008,-0.051376345390612116,0.6067179528849395,0.2613977081738276,0.04367550982255278,-0.07256060375107316,0.0889325342151191,-1.2494846785625786,-0.4623623677571795,1.581560174643525,-0.11297473937727727,1.6909755749235467,-0.5030135767939994,-0.3911481682390143,1.0747468470735577,0.6833784597022645,0.3483076837286668,0.8515336574151208,0.6247803986944622,0.2034486283047299,0.24790489952176153,-1.124912560396261,1.5618180213234496,-0.46369657821326493,-1.0174996099740776,1.097651723730236,-0.6130002595398112,0.028871294808732635,0.3690582224437009,0.31554028066586876,-0.75027510698757,1.1742404037714962],\"yaxis\":\"y13\",\"type\":\"scatter\"},{\"line\":{\"color\":\"rgba(128, 128, 128, 1.0)\",\"dash\":\"solid\",\"shape\":\"linear\",\"width\":1.3},\"marker\":{\"size\":2,\"symbol\":\"circle\"},\"mode\":\"markers\",\"name\":\"D\",\"text\":\"\",\"x\":[-0.9942875062320643,0.6693618378433789,1.4375270448174466,-0.7601350990541826,-1.3856509449362089,0.7699061108404363,0.04944535748246853,0.6061305364332712,-0.23326162112807344,2.1617704129411974,0.4182423292502963,-0.8119088645105795,0.644305020890722,0.12994496488584203,-1.5914719130541115,-0.3958209142720946,0.8320625813285379,0.3595709913909463,0.8608355243878564,-0.5121802342042246,-0.19251810768470703,-1.1025637585273937,0.7127282902106402,0.9252123054557275,0.26684715309611456,-2.0304254233704966,1.1185689589290568,0.12590272762439111,-0.4125100158666027,-1.3224183185741754,0.3344566151898501,-2.1168986945450343,-0.9081775216742415,-1.6901431359280612,1.0403812288066845,0.22958405742077428,-0.8426375495425725,2.276061422029563,0.5778368449479325,1.144721063467178,1.8299513587167864,1.4621795449801354,-2.4368266921099533,1.013362811041721,-0.5778304519601165,1.0356709009219747,-0.504355394746898,0.35213287720179104,-1.2035825393525954,0.8106345843941292,-1.595771889074104,0.2457069745672563,-0.8566043574987787,0.3918816986658821,-0.2636254412853934,-1.0805801266361703,0.7319184842233384,-0.9438163723917274,-0.07189078116332594,-1.8693359956196978,0.2080888807547833,-0.14434974751758786,-1.0649759862550428,0.27727223466743445,-0.09036623691422577,1.1030507777767082,0.6415368409136328,-1.3194312808649182,0.2572171302463949,0.9309998401890984,1.4420973248489697,0.42381088497255825,0.9266947420824746,1.0675505254092201,1.0591396740258205,-0.4130027839015729,1.6464567391114484,-0.7639222655044755,-0.33115201506490505,-2.1054031846049996,2.0697721097103496,0.24439587621825065,1.8662383890198717,1.138721370400964,0.9451389623407138,1.6984878039732823,-0.6924609238879748,0.26861365381914376,1.1436079001022867,-0.1704130968335762,1.112192969720432,-0.14059862423431896,1.0150879111753266,0.3912245979789011,-1.0085802974254625,0.12489394468227431,0.940715803891102,0.8522321107876281,-0.3210080437331556,-0.12446681042664187],\"xaxis\":\"x14\",\"y\":[2.3273910288552506,-0.6334933422691658,-0.4319441967976972,0.8577780510833726,1.3174059338669621,-0.6419320987216489,-1.3623116287539814,-0.36468518093902114,-0.8450845612877584,-0.4881826737960272,0.09476315850175457,1.0707324179943876,0.3002091046018555,0.9544992905670775,-1.5127659587156748,-0.5773216582309553,-0.9076002676818018,-0.523402182113726,-0.5149440398200762,-0.6431734614961144,-1.5370571149551584,0.9325810997834867,-0.3799828394287921,-0.11822808269683163,-0.524651240767075,0.7897693225404266,1.467359904266115,0.2537630042514331,0.6743251965769663,0.5896915024727922,-0.045371342409358674,0.2182240360478912,1.40776850307784,0.041593127323566556,-0.5319973112214076,-0.05599391621882997,-0.1061570381773591,-0.6161882918476722,-0.07818898211415566,0.010637516591020602,-0.6182877208698392,-1.2838999360709513,-1.4007084269364891,1.427510765925255,0.032155487844832034,0.28333166882826216,1.006725884900438,-1.0523893986368669,-0.9336714173023393,-1.3563112450957753,-0.5731588466774825,0.4075153149982536,-0.3644485580192882,0.8600600388065972,-0.14234796247850964,1.1451547562188789,-0.752281620428336,0.1577097727954971,0.6614599988815082,-0.5426977912871537,0.21117520713766527,1.6280984663042002,0.31213880062866084,-0.2284117223697516,-0.7480587993056564,1.7398577171738578,0.1915555887976298,-0.9612225264785467,-0.11257263417371008,-0.051376345390612116,0.6067179528849395,0.2613977081738276,0.04367550982255278,-0.07256060375107316,0.0889325342151191,-1.2494846785625786,-0.4623623677571795,1.581560174643525,-0.11297473937727727,1.6909755749235467,-0.5030135767939994,-0.3911481682390143,1.0747468470735577,0.6833784597022645,0.3483076837286668,0.8515336574151208,0.6247803986944622,0.2034486283047299,0.24790489952176153,-1.124912560396261,1.5618180213234496,-0.46369657821326493,-1.0174996099740776,1.097651723730236,-0.6130002595398112,0.028871294808732635,0.3690582224437009,0.31554028066586876,-0.75027510698757,1.1742404037714962],\"yaxis\":\"y14\",\"type\":\"scatter\"},{\"line\":{\"color\":\"rgba(128, 128, 128, 1.0)\",\"dash\":\"solid\",\"shape\":\"linear\",\"width\":1.3},\"marker\":{\"size\":2,\"symbol\":\"circle\"},\"mode\":\"markers\",\"name\":\"D\",\"text\":\"\",\"x\":[-0.34202531207788545,-1.1222644470835623,0.7028141803063046,-1.480542876628892,-0.9233934593064455,0.5036205587923401,1.4660744366199934,-0.21608707226005955,-1.1093147070053189,1.433557888382385,-0.8756375577785833,1.8804371359806382,0.9652403751072904,0.28463325794690736,-1.0144520633697285,-0.7673921859551343,0.6564409778143822,-0.5333563310336471,-0.39986394721001606,0.8305702442813395,-0.44809448978486593,0.049755930390898345,2.6326085049249,-0.01833363814526974,0.3441520200024451,-1.7866472901597523,0.3279751470912204,-0.651356902544409,-1.9274271068441076,-1.370102823710896,0.7173151301957572,-1.5489209310423662,0.5376097134578425,1.8922423041507017,0.809397641924778,0.20384111665149685,-0.6277025287109835,-0.8751068206707202,1.0533389203914831,-1.2631932199633122,1.2306688540802848,0.7602783043009048,-0.30484670532054464,0.7725060250156658,-0.8299347589536743,-0.8026514561118214,0.8530052334858856,-1.6020389893628182,0.07370833078691273,0.6242170813905074,-0.7494457547772824,1.0713472336931962,0.4223421938420806,0.42263534449981793,1.4646456275285444,1.039683827554642,-0.30023425832023526,0.37404649991939753,0.4673122624237375,0.18731902338959072,1.5542151833418307,0.030645771385122117,-0.8318116408604491,-1.1263419390554672,0.5358409341661668,-1.9657428068175744,0.6348557749007114,-0.22126233057382555,-0.3574269524949713,-0.08599473004005423,0.021975676472548403,1.4977920735405388,-0.8390333265648123,-2.2313899182895818,1.3614113456212968,-1.1755163614388362,-1.776343557538182,0.29042700200692667,-0.838329491264759,1.0217453683864703,-0.7943644046396928,-0.5768203269604888,-1.1605826216175161,-1.6411546834540554,0.31404144741132656,0.551072360896318,-0.5790178473959828,0.008919696842239469,1.808423009360889,-2.3241472476965597,-0.6701412045400894,0.5443306706696933,0.789808416199637,0.06654335004375507,-0.3184402371805494,-0.8890998642263612,-0.4835588721141622,-0.6833884018172537,0.14227766099943137,-0.7282562084320509],\"xaxis\":\"x15\",\"y\":[2.3273910288552506,-0.6334933422691658,-0.4319441967976972,0.8577780510833726,1.3174059338669621,-0.6419320987216489,-1.3623116287539814,-0.36468518093902114,-0.8450845612877584,-0.4881826737960272,0.09476315850175457,1.0707324179943876,0.3002091046018555,0.9544992905670775,-1.5127659587156748,-0.5773216582309553,-0.9076002676818018,-0.523402182113726,-0.5149440398200762,-0.6431734614961144,-1.5370571149551584,0.9325810997834867,-0.3799828394287921,-0.11822808269683163,-0.524651240767075,0.7897693225404266,1.467359904266115,0.2537630042514331,0.6743251965769663,0.5896915024727922,-0.045371342409358674,0.2182240360478912,1.40776850307784,0.041593127323566556,-0.5319973112214076,-0.05599391621882997,-0.1061570381773591,-0.6161882918476722,-0.07818898211415566,0.010637516591020602,-0.6182877208698392,-1.2838999360709513,-1.4007084269364891,1.427510765925255,0.032155487844832034,0.28333166882826216,1.006725884900438,-1.0523893986368669,-0.9336714173023393,-1.3563112450957753,-0.5731588466774825,0.4075153149982536,-0.3644485580192882,0.8600600388065972,-0.14234796247850964,1.1451547562188789,-0.752281620428336,0.1577097727954971,0.6614599988815082,-0.5426977912871537,0.21117520713766527,1.6280984663042002,0.31213880062866084,-0.2284117223697516,-0.7480587993056564,1.7398577171738578,0.1915555887976298,-0.9612225264785467,-0.11257263417371008,-0.051376345390612116,0.6067179528849395,0.2613977081738276,0.04367550982255278,-0.07256060375107316,0.0889325342151191,-1.2494846785625786,-0.4623623677571795,1.581560174643525,-0.11297473937727727,1.6909755749235467,-0.5030135767939994,-0.3911481682390143,1.0747468470735577,0.6833784597022645,0.3483076837286668,0.8515336574151208,0.6247803986944622,0.2034486283047299,0.24790489952176153,-1.124912560396261,1.5618180213234496,-0.46369657821326493,-1.0174996099740776,1.097651723730236,-0.6130002595398112,0.028871294808732635,0.3690582224437009,0.31554028066586876,-0.75027510698757,1.1742404037714962],\"yaxis\":\"y15\",\"type\":\"scatter\"},{\"histfunc\":\"count\",\"histnorm\":\"\",\"marker\":{\"color\":\"rgba(128, 0, 128, 1.0)\",\"line\":{\"color\":\"#4D5663\",\"width\":1.3}},\"name\":\"D\",\"nbinsx\":10,\"opacity\":0.8,\"orientation\":\"v\",\"x\":[2.3273910288552506,-0.6334933422691658,-0.4319441967976972,0.8577780510833726,1.3174059338669621,-0.6419320987216489,-1.3623116287539814,-0.36468518093902114,-0.8450845612877584,-0.4881826737960272,0.09476315850175457,1.0707324179943876,0.3002091046018555,0.9544992905670775,-1.5127659587156748,-0.5773216582309553,-0.9076002676818018,-0.523402182113726,-0.5149440398200762,-0.6431734614961144,-1.5370571149551584,0.9325810997834867,-0.3799828394287921,-0.11822808269683163,-0.524651240767075,0.7897693225404266,1.467359904266115,0.2537630042514331,0.6743251965769663,0.5896915024727922,-0.045371342409358674,0.2182240360478912,1.40776850307784,0.041593127323566556,-0.5319973112214076,-0.05599391621882997,-0.1061570381773591,-0.6161882918476722,-0.07818898211415566,0.010637516591020602,-0.6182877208698392,-1.2838999360709513,-1.4007084269364891,1.427510765925255,0.032155487844832034,0.28333166882826216,1.006725884900438,-1.0523893986368669,-0.9336714173023393,-1.3563112450957753,-0.5731588466774825,0.4075153149982536,-0.3644485580192882,0.8600600388065972,-0.14234796247850964,1.1451547562188789,-0.752281620428336,0.1577097727954971,0.6614599988815082,-0.5426977912871537,0.21117520713766527,1.6280984663042002,0.31213880062866084,-0.2284117223697516,-0.7480587993056564,1.7398577171738578,0.1915555887976298,-0.9612225264785467,-0.11257263417371008,-0.051376345390612116,0.6067179528849395,0.2613977081738276,0.04367550982255278,-0.07256060375107316,0.0889325342151191,-1.2494846785625786,-0.4623623677571795,1.581560174643525,-0.11297473937727727,1.6909755749235467,-0.5030135767939994,-0.3911481682390143,1.0747468470735577,0.6833784597022645,0.3483076837286668,0.8515336574151208,0.6247803986944622,0.2034486283047299,0.24790489952176153,-1.124912560396261,1.5618180213234496,-0.46369657821326493,-1.0174996099740776,1.097651723730236,-0.6130002595398112,0.028871294808732635,0.3690582224437009,0.31554028066586876,-0.75027510698757,1.1742404037714962],\"xaxis\":\"x16\",\"yaxis\":\"y16\",\"type\":\"histogram\"}],                        {\"bargap\":0.02,\"legend\":{\"bgcolor\":\"#F5F6F9\",\"font\":{\"color\":\"#4D5663\"}},\"paper_bgcolor\":\"#F5F6F9\",\"plot_bgcolor\":\"#F5F6F9\",\"showlegend\":false,\"template\":{\"data\":{\"barpolar\":[{\"marker\":{\"line\":{\"color\":\"#E5ECF6\",\"width\":0.5},\"pattern\":{\"fillmode\":\"overlay\",\"size\":10,\"solidity\":0.2}},\"type\":\"barpolar\"}],\"bar\":[{\"error_x\":{\"color\":\"#2a3f5f\"},\"error_y\":{\"color\":\"#2a3f5f\"},\"marker\":{\"line\":{\"color\":\"#E5ECF6\",\"width\":0.5},\"pattern\":{\"fillmode\":\"overlay\",\"size\":10,\"solidity\":0.2}},\"type\":\"bar\"}],\"carpet\":[{\"aaxis\":{\"endlinecolor\":\"#2a3f5f\",\"gridcolor\":\"white\",\"linecolor\":\"white\",\"minorgridcolor\":\"white\",\"startlinecolor\":\"#2a3f5f\"},\"baxis\":{\"endlinecolor\":\"#2a3f5f\",\"gridcolor\":\"white\",\"linecolor\":\"white\",\"minorgridcolor\":\"white\",\"startlinecolor\":\"#2a3f5f\"},\"type\":\"carpet\"}],\"choropleth\":[{\"colorbar\":{\"outlinewidth\":0,\"ticks\":\"\"},\"type\":\"choropleth\"}],\"contourcarpet\":[{\"colorbar\":{\"outlinewidth\":0,\"ticks\":\"\"},\"type\":\"contourcarpet\"}],\"contour\":[{\"colorbar\":{\"outlinewidth\":0,\"ticks\":\"\"},\"colorscale\":[[0.0,\"#0d0887\"],[0.1111111111111111,\"#46039f\"],[0.2222222222222222,\"#7201a8\"],[0.3333333333333333,\"#9c179e\"],[0.4444444444444444,\"#bd3786\"],[0.5555555555555556,\"#d8576b\"],[0.6666666666666666,\"#ed7953\"],[0.7777777777777778,\"#fb9f3a\"],[0.8888888888888888,\"#fdca26\"],[1.0,\"#f0f921\"]],\"type\":\"contour\"}],\"heatmapgl\":[{\"colorbar\":{\"outlinewidth\":0,\"ticks\":\"\"},\"colorscale\":[[0.0,\"#0d0887\"],[0.1111111111111111,\"#46039f\"],[0.2222222222222222,\"#7201a8\"],[0.3333333333333333,\"#9c179e\"],[0.4444444444444444,\"#bd3786\"],[0.5555555555555556,\"#d8576b\"],[0.6666666666666666,\"#ed7953\"],[0.7777777777777778,\"#fb9f3a\"],[0.8888888888888888,\"#fdca26\"],[1.0,\"#f0f921\"]],\"type\":\"heatmapgl\"}],\"heatmap\":[{\"colorbar\":{\"outlinewidth\":0,\"ticks\":\"\"},\"colorscale\":[[0.0,\"#0d0887\"],[0.1111111111111111,\"#46039f\"],[0.2222222222222222,\"#7201a8\"],[0.3333333333333333,\"#9c179e\"],[0.4444444444444444,\"#bd3786\"],[0.5555555555555556,\"#d8576b\"],[0.6666666666666666,\"#ed7953\"],[0.7777777777777778,\"#fb9f3a\"],[0.8888888888888888,\"#fdca26\"],[1.0,\"#f0f921\"]],\"type\":\"heatmap\"}],\"histogram2dcontour\":[{\"colorbar\":{\"outlinewidth\":0,\"ticks\":\"\"},\"colorscale\":[[0.0,\"#0d0887\"],[0.1111111111111111,\"#46039f\"],[0.2222222222222222,\"#7201a8\"],[0.3333333333333333,\"#9c179e\"],[0.4444444444444444,\"#bd3786\"],[0.5555555555555556,\"#d8576b\"],[0.6666666666666666,\"#ed7953\"],[0.7777777777777778,\"#fb9f3a\"],[0.8888888888888888,\"#fdca26\"],[1.0,\"#f0f921\"]],\"type\":\"histogram2dcontour\"}],\"histogram2d\":[{\"colorbar\":{\"outlinewidth\":0,\"ticks\":\"\"},\"colorscale\":[[0.0,\"#0d0887\"],[0.1111111111111111,\"#46039f\"],[0.2222222222222222,\"#7201a8\"],[0.3333333333333333,\"#9c179e\"],[0.4444444444444444,\"#bd3786\"],[0.5555555555555556,\"#d8576b\"],[0.6666666666666666,\"#ed7953\"],[0.7777777777777778,\"#fb9f3a\"],[0.8888888888888888,\"#fdca26\"],[1.0,\"#f0f921\"]],\"type\":\"histogram2d\"}],\"histogram\":[{\"marker\":{\"pattern\":{\"fillmode\":\"overlay\",\"size\":10,\"solidity\":0.2}},\"type\":\"histogram\"}],\"mesh3d\":[{\"colorbar\":{\"outlinewidth\":0,\"ticks\":\"\"},\"type\":\"mesh3d\"}],\"parcoords\":[{\"line\":{\"colorbar\":{\"outlinewidth\":0,\"ticks\":\"\"}},\"type\":\"parcoords\"}],\"pie\":[{\"automargin\":true,\"type\":\"pie\"}],\"scatter3d\":[{\"line\":{\"colorbar\":{\"outlinewidth\":0,\"ticks\":\"\"}},\"marker\":{\"colorbar\":{\"outlinewidth\":0,\"ticks\":\"\"}},\"type\":\"scatter3d\"}],\"scattercarpet\":[{\"marker\":{\"colorbar\":{\"outlinewidth\":0,\"ticks\":\"\"}},\"type\":\"scattercarpet\"}],\"scattergeo\":[{\"marker\":{\"colorbar\":{\"outlinewidth\":0,\"ticks\":\"\"}},\"type\":\"scattergeo\"}],\"scattergl\":[{\"marker\":{\"colorbar\":{\"outlinewidth\":0,\"ticks\":\"\"}},\"type\":\"scattergl\"}],\"scattermapbox\":[{\"marker\":{\"colorbar\":{\"outlinewidth\":0,\"ticks\":\"\"}},\"type\":\"scattermapbox\"}],\"scatterpolargl\":[{\"marker\":{\"colorbar\":{\"outlinewidth\":0,\"ticks\":\"\"}},\"type\":\"scatterpolargl\"}],\"scatterpolar\":[{\"marker\":{\"colorbar\":{\"outlinewidth\":0,\"ticks\":\"\"}},\"type\":\"scatterpolar\"}],\"scatter\":[{\"fillpattern\":{\"fillmode\":\"overlay\",\"size\":10,\"solidity\":0.2},\"type\":\"scatter\"}],\"scatterternary\":[{\"marker\":{\"colorbar\":{\"outlinewidth\":0,\"ticks\":\"\"}},\"type\":\"scatterternary\"}],\"surface\":[{\"colorbar\":{\"outlinewidth\":0,\"ticks\":\"\"},\"colorscale\":[[0.0,\"#0d0887\"],[0.1111111111111111,\"#46039f\"],[0.2222222222222222,\"#7201a8\"],[0.3333333333333333,\"#9c179e\"],[0.4444444444444444,\"#bd3786\"],[0.5555555555555556,\"#d8576b\"],[0.6666666666666666,\"#ed7953\"],[0.7777777777777778,\"#fb9f3a\"],[0.8888888888888888,\"#fdca26\"],[1.0,\"#f0f921\"]],\"type\":\"surface\"}],\"table\":[{\"cells\":{\"fill\":{\"color\":\"#EBF0F8\"},\"line\":{\"color\":\"white\"}},\"header\":{\"fill\":{\"color\":\"#C8D4E3\"},\"line\":{\"color\":\"white\"}},\"type\":\"table\"}]},\"layout\":{\"annotationdefaults\":{\"arrowcolor\":\"#2a3f5f\",\"arrowhead\":0,\"arrowwidth\":1},\"autotypenumbers\":\"strict\",\"coloraxis\":{\"colorbar\":{\"outlinewidth\":0,\"ticks\":\"\"}},\"colorscale\":{\"diverging\":[[0,\"#8e0152\"],[0.1,\"#c51b7d\"],[0.2,\"#de77ae\"],[0.3,\"#f1b6da\"],[0.4,\"#fde0ef\"],[0.5,\"#f7f7f7\"],[0.6,\"#e6f5d0\"],[0.7,\"#b8e186\"],[0.8,\"#7fbc41\"],[0.9,\"#4d9221\"],[1,\"#276419\"]],\"sequential\":[[0.0,\"#0d0887\"],[0.1111111111111111,\"#46039f\"],[0.2222222222222222,\"#7201a8\"],[0.3333333333333333,\"#9c179e\"],[0.4444444444444444,\"#bd3786\"],[0.5555555555555556,\"#d8576b\"],[0.6666666666666666,\"#ed7953\"],[0.7777777777777778,\"#fb9f3a\"],[0.8888888888888888,\"#fdca26\"],[1.0,\"#f0f921\"]],\"sequentialminus\":[[0.0,\"#0d0887\"],[0.1111111111111111,\"#46039f\"],[0.2222222222222222,\"#7201a8\"],[0.3333333333333333,\"#9c179e\"],[0.4444444444444444,\"#bd3786\"],[0.5555555555555556,\"#d8576b\"],[0.6666666666666666,\"#ed7953\"],[0.7777777777777778,\"#fb9f3a\"],[0.8888888888888888,\"#fdca26\"],[1.0,\"#f0f921\"]]},\"colorway\":[\"#636efa\",\"#EF553B\",\"#00cc96\",\"#ab63fa\",\"#FFA15A\",\"#19d3f3\",\"#FF6692\",\"#B6E880\",\"#FF97FF\",\"#FECB52\"],\"font\":{\"color\":\"#2a3f5f\"},\"geo\":{\"bgcolor\":\"white\",\"lakecolor\":\"white\",\"landcolor\":\"#E5ECF6\",\"showlakes\":true,\"showland\":true,\"subunitcolor\":\"white\"},\"hoverlabel\":{\"align\":\"left\"},\"hovermode\":\"closest\",\"mapbox\":{\"style\":\"light\"},\"paper_bgcolor\":\"white\",\"plot_bgcolor\":\"#E5ECF6\",\"polar\":{\"angularaxis\":{\"gridcolor\":\"white\",\"linecolor\":\"white\",\"ticks\":\"\"},\"bgcolor\":\"#E5ECF6\",\"radialaxis\":{\"gridcolor\":\"white\",\"linecolor\":\"white\",\"ticks\":\"\"}},\"scene\":{\"xaxis\":{\"backgroundcolor\":\"#E5ECF6\",\"gridcolor\":\"white\",\"gridwidth\":2,\"linecolor\":\"white\",\"showbackground\":true,\"ticks\":\"\",\"zerolinecolor\":\"white\"},\"yaxis\":{\"backgroundcolor\":\"#E5ECF6\",\"gridcolor\":\"white\",\"gridwidth\":2,\"linecolor\":\"white\",\"showbackground\":true,\"ticks\":\"\",\"zerolinecolor\":\"white\"},\"zaxis\":{\"backgroundcolor\":\"#E5ECF6\",\"gridcolor\":\"white\",\"gridwidth\":2,\"linecolor\":\"white\",\"showbackground\":true,\"ticks\":\"\",\"zerolinecolor\":\"white\"}},\"shapedefaults\":{\"line\":{\"color\":\"#2a3f5f\"}},\"ternary\":{\"aaxis\":{\"gridcolor\":\"white\",\"linecolor\":\"white\",\"ticks\":\"\"},\"baxis\":{\"gridcolor\":\"white\",\"linecolor\":\"white\",\"ticks\":\"\"},\"bgcolor\":\"#E5ECF6\",\"caxis\":{\"gridcolor\":\"white\",\"linecolor\":\"white\",\"ticks\":\"\"}},\"title\":{\"x\":0.05},\"xaxis\":{\"automargin\":true,\"gridcolor\":\"white\",\"linecolor\":\"white\",\"ticks\":\"\",\"title\":{\"standoff\":15},\"zerolinecolor\":\"white\",\"zerolinewidth\":2},\"yaxis\":{\"automargin\":true,\"gridcolor\":\"white\",\"linecolor\":\"white\",\"ticks\":\"\",\"title\":{\"standoff\":15},\"zerolinecolor\":\"white\",\"zerolinewidth\":2}}},\"title\":{\"font\":{\"color\":\"#4D5663\"}},\"xaxis\":{\"anchor\":\"y\",\"domain\":[0.0,0.2125],\"gridcolor\":\"#E1E5ED\",\"showgrid\":false,\"tickfont\":{\"color\":\"#4D5663\"},\"title\":{\"font\":{\"color\":\"#4D5663\"},\"text\":\"\"},\"zerolinecolor\":\"#E1E5ED\"},\"yaxis\":{\"anchor\":\"x\",\"domain\":[0.8025,1.0],\"gridcolor\":\"#E1E5ED\",\"showgrid\":false,\"tickfont\":{\"color\":\"#4D5663\"},\"title\":{\"font\":{\"color\":\"#4D5663\"},\"text\":\"\"},\"zerolinecolor\":\"#E1E5ED\"},\"xaxis2\":{\"anchor\":\"y2\",\"domain\":[0.2625,0.475],\"gridcolor\":\"#E1E5ED\",\"showgrid\":false,\"tickfont\":{\"color\":\"#4D5663\"},\"title\":{\"font\":{\"color\":\"#4D5663\"},\"text\":\"\"},\"zerolinecolor\":\"#E1E5ED\"},\"yaxis2\":{\"anchor\":\"x2\",\"domain\":[0.8025,1.0],\"gridcolor\":\"#E1E5ED\",\"showgrid\":false,\"tickfont\":{\"color\":\"#4D5663\"},\"title\":{\"font\":{\"color\":\"#4D5663\"},\"text\":\"\"},\"zerolinecolor\":\"#E1E5ED\"},\"xaxis3\":{\"anchor\":\"y3\",\"domain\":[0.525,0.7375],\"gridcolor\":\"#E1E5ED\",\"showgrid\":false,\"tickfont\":{\"color\":\"#4D5663\"},\"title\":{\"font\":{\"color\":\"#4D5663\"},\"text\":\"\"},\"zerolinecolor\":\"#E1E5ED\"},\"yaxis3\":{\"anchor\":\"x3\",\"domain\":[0.8025,1.0],\"gridcolor\":\"#E1E5ED\",\"showgrid\":false,\"tickfont\":{\"color\":\"#4D5663\"},\"title\":{\"font\":{\"color\":\"#4D5663\"},\"text\":\"\"},\"zerolinecolor\":\"#E1E5ED\"},\"xaxis4\":{\"anchor\":\"y4\",\"domain\":[0.7875,1.0],\"gridcolor\":\"#E1E5ED\",\"showgrid\":false,\"tickfont\":{\"color\":\"#4D5663\"},\"title\":{\"font\":{\"color\":\"#4D5663\"},\"text\":\"\"},\"zerolinecolor\":\"#E1E5ED\"},\"yaxis4\":{\"anchor\":\"x4\",\"domain\":[0.8025,1.0],\"gridcolor\":\"#E1E5ED\",\"showgrid\":false,\"tickfont\":{\"color\":\"#4D5663\"},\"title\":{\"font\":{\"color\":\"#4D5663\"},\"text\":\"\"},\"zerolinecolor\":\"#E1E5ED\"},\"xaxis5\":{\"anchor\":\"y5\",\"domain\":[0.0,0.2125],\"gridcolor\":\"#E1E5ED\",\"showgrid\":false,\"tickfont\":{\"color\":\"#4D5663\"},\"title\":{\"font\":{\"color\":\"#4D5663\"},\"text\":\"\"},\"zerolinecolor\":\"#E1E5ED\"},\"yaxis5\":{\"anchor\":\"x5\",\"domain\":[0.535,0.7325],\"gridcolor\":\"#E1E5ED\",\"showgrid\":false,\"tickfont\":{\"color\":\"#4D5663\"},\"title\":{\"font\":{\"color\":\"#4D5663\"},\"text\":\"\"},\"zerolinecolor\":\"#E1E5ED\"},\"xaxis6\":{\"anchor\":\"y6\",\"domain\":[0.2625,0.475],\"gridcolor\":\"#E1E5ED\",\"showgrid\":false,\"tickfont\":{\"color\":\"#4D5663\"},\"title\":{\"font\":{\"color\":\"#4D5663\"},\"text\":\"\"},\"zerolinecolor\":\"#E1E5ED\"},\"yaxis6\":{\"anchor\":\"x6\",\"domain\":[0.535,0.7325],\"gridcolor\":\"#E1E5ED\",\"showgrid\":false,\"tickfont\":{\"color\":\"#4D5663\"},\"title\":{\"font\":{\"color\":\"#4D5663\"},\"text\":\"\"},\"zerolinecolor\":\"#E1E5ED\"},\"xaxis7\":{\"anchor\":\"y7\",\"domain\":[0.525,0.7375],\"gridcolor\":\"#E1E5ED\",\"showgrid\":false,\"tickfont\":{\"color\":\"#4D5663\"},\"title\":{\"font\":{\"color\":\"#4D5663\"},\"text\":\"\"},\"zerolinecolor\":\"#E1E5ED\"},\"yaxis7\":{\"anchor\":\"x7\",\"domain\":[0.535,0.7325],\"gridcolor\":\"#E1E5ED\",\"showgrid\":false,\"tickfont\":{\"color\":\"#4D5663\"},\"title\":{\"font\":{\"color\":\"#4D5663\"},\"text\":\"\"},\"zerolinecolor\":\"#E1E5ED\"},\"xaxis8\":{\"anchor\":\"y8\",\"domain\":[0.7875,1.0],\"gridcolor\":\"#E1E5ED\",\"showgrid\":false,\"tickfont\":{\"color\":\"#4D5663\"},\"title\":{\"font\":{\"color\":\"#4D5663\"},\"text\":\"\"},\"zerolinecolor\":\"#E1E5ED\"},\"yaxis8\":{\"anchor\":\"x8\",\"domain\":[0.535,0.7325],\"gridcolor\":\"#E1E5ED\",\"showgrid\":false,\"tickfont\":{\"color\":\"#4D5663\"},\"title\":{\"font\":{\"color\":\"#4D5663\"},\"text\":\"\"},\"zerolinecolor\":\"#E1E5ED\"},\"xaxis9\":{\"anchor\":\"y9\",\"domain\":[0.0,0.2125],\"gridcolor\":\"#E1E5ED\",\"showgrid\":false,\"tickfont\":{\"color\":\"#4D5663\"},\"title\":{\"font\":{\"color\":\"#4D5663\"},\"text\":\"\"},\"zerolinecolor\":\"#E1E5ED\"},\"yaxis9\":{\"anchor\":\"x9\",\"domain\":[0.2675,0.465],\"gridcolor\":\"#E1E5ED\",\"showgrid\":false,\"tickfont\":{\"color\":\"#4D5663\"},\"title\":{\"font\":{\"color\":\"#4D5663\"},\"text\":\"\"},\"zerolinecolor\":\"#E1E5ED\"},\"xaxis10\":{\"anchor\":\"y10\",\"domain\":[0.2625,0.475],\"gridcolor\":\"#E1E5ED\",\"showgrid\":false,\"tickfont\":{\"color\":\"#4D5663\"},\"title\":{\"font\":{\"color\":\"#4D5663\"},\"text\":\"\"},\"zerolinecolor\":\"#E1E5ED\"},\"yaxis10\":{\"anchor\":\"x10\",\"domain\":[0.2675,0.465],\"gridcolor\":\"#E1E5ED\",\"showgrid\":false,\"tickfont\":{\"color\":\"#4D5663\"},\"title\":{\"font\":{\"color\":\"#4D5663\"},\"text\":\"\"},\"zerolinecolor\":\"#E1E5ED\"},\"xaxis11\":{\"anchor\":\"y11\",\"domain\":[0.525,0.7375],\"gridcolor\":\"#E1E5ED\",\"showgrid\":false,\"tickfont\":{\"color\":\"#4D5663\"},\"title\":{\"font\":{\"color\":\"#4D5663\"},\"text\":\"\"},\"zerolinecolor\":\"#E1E5ED\"},\"yaxis11\":{\"anchor\":\"x11\",\"domain\":[0.2675,0.465],\"gridcolor\":\"#E1E5ED\",\"showgrid\":false,\"tickfont\":{\"color\":\"#4D5663\"},\"title\":{\"font\":{\"color\":\"#4D5663\"},\"text\":\"\"},\"zerolinecolor\":\"#E1E5ED\"},\"xaxis12\":{\"anchor\":\"y12\",\"domain\":[0.7875,1.0],\"gridcolor\":\"#E1E5ED\",\"showgrid\":false,\"tickfont\":{\"color\":\"#4D5663\"},\"title\":{\"font\":{\"color\":\"#4D5663\"},\"text\":\"\"},\"zerolinecolor\":\"#E1E5ED\"},\"yaxis12\":{\"anchor\":\"x12\",\"domain\":[0.2675,0.465],\"gridcolor\":\"#E1E5ED\",\"showgrid\":false,\"tickfont\":{\"color\":\"#4D5663\"},\"title\":{\"font\":{\"color\":\"#4D5663\"},\"text\":\"\"},\"zerolinecolor\":\"#E1E5ED\"},\"xaxis13\":{\"anchor\":\"y13\",\"domain\":[0.0,0.2125],\"gridcolor\":\"#E1E5ED\",\"showgrid\":false,\"tickfont\":{\"color\":\"#4D5663\"},\"title\":{\"font\":{\"color\":\"#4D5663\"},\"text\":\"\"},\"zerolinecolor\":\"#E1E5ED\"},\"yaxis13\":{\"anchor\":\"x13\",\"domain\":[0.0,0.1975],\"gridcolor\":\"#E1E5ED\",\"showgrid\":false,\"tickfont\":{\"color\":\"#4D5663\"},\"title\":{\"font\":{\"color\":\"#4D5663\"},\"text\":\"\"},\"zerolinecolor\":\"#E1E5ED\"},\"xaxis14\":{\"anchor\":\"y14\",\"domain\":[0.2625,0.475],\"gridcolor\":\"#E1E5ED\",\"showgrid\":false,\"tickfont\":{\"color\":\"#4D5663\"},\"title\":{\"font\":{\"color\":\"#4D5663\"},\"text\":\"\"},\"zerolinecolor\":\"#E1E5ED\"},\"yaxis14\":{\"anchor\":\"x14\",\"domain\":[0.0,0.1975],\"gridcolor\":\"#E1E5ED\",\"showgrid\":false,\"tickfont\":{\"color\":\"#4D5663\"},\"title\":{\"font\":{\"color\":\"#4D5663\"},\"text\":\"\"},\"zerolinecolor\":\"#E1E5ED\"},\"xaxis15\":{\"anchor\":\"y15\",\"domain\":[0.525,0.7375],\"gridcolor\":\"#E1E5ED\",\"showgrid\":false,\"tickfont\":{\"color\":\"#4D5663\"},\"title\":{\"font\":{\"color\":\"#4D5663\"},\"text\":\"\"},\"zerolinecolor\":\"#E1E5ED\"},\"yaxis15\":{\"anchor\":\"x15\",\"domain\":[0.0,0.1975],\"gridcolor\":\"#E1E5ED\",\"showgrid\":false,\"tickfont\":{\"color\":\"#4D5663\"},\"title\":{\"font\":{\"color\":\"#4D5663\"},\"text\":\"\"},\"zerolinecolor\":\"#E1E5ED\"},\"xaxis16\":{\"anchor\":\"y16\",\"domain\":[0.7875,1.0],\"gridcolor\":\"#E1E5ED\",\"showgrid\":false,\"tickfont\":{\"color\":\"#4D5663\"},\"title\":{\"font\":{\"color\":\"#4D5663\"},\"text\":\"\"},\"zerolinecolor\":\"#E1E5ED\"},\"yaxis16\":{\"anchor\":\"x16\",\"domain\":[0.0,0.1975],\"gridcolor\":\"#E1E5ED\",\"showgrid\":false,\"tickfont\":{\"color\":\"#4D5663\"},\"title\":{\"font\":{\"color\":\"#4D5663\"},\"text\":\"\"},\"zerolinecolor\":\"#E1E5ED\"}},                        {\"showLink\": true, \"linkText\": \"Export to plot.ly\", \"plotlyServerURL\": \"https://plot.ly\", \"responsive\": true}                    ).then(function(){\n",
       "                            \n",
       "var gd = document.getElementById('58356c6d-0780-43f2-89dc-437693a41a44');\n",
       "var x = new MutationObserver(function (mutations, observer) {{\n",
       "        var display = window.getComputedStyle(gd).display;\n",
       "        if (!display || display === 'none') {{\n",
       "            console.log([gd, 'removed!']);\n",
       "            Plotly.purge(gd);\n",
       "            observer.disconnect();\n",
       "        }}\n",
       "}});\n",
       "\n",
       "// Listen for the removal of the full notebook cells\n",
       "var notebookContainer = gd.closest('#notebook-container');\n",
       "if (notebookContainer) {{\n",
       "    x.observe(notebookContainer, {childList: true});\n",
       "}}\n",
       "\n",
       "// Listen for the clearing of the current output cell\n",
       "var outputEl = gd.closest('.output');\n",
       "if (outputEl) {{\n",
       "    x.observe(outputEl, {childList: true});\n",
       "}}\n",
       "\n",
       "                        })                };                });            </script>        </div>"
      ]
     },
     "metadata": {},
     "output_type": "display_data"
    }
   ],
   "source": [
    "df.scatter_matrix()\n",
    "# Use with caution for large dataset"
   ]
  }
 ],
 "metadata": {
  "kernelspec": {
   "display_name": "Python 3 (ipykernel)",
   "language": "python",
   "name": "python3"
  },
  "language_info": {
   "codemirror_mode": {
    "name": "ipython",
    "version": 3
   },
   "file_extension": ".py",
   "mimetype": "text/x-python",
   "name": "python",
   "nbconvert_exporter": "python",
   "pygments_lexer": "ipython3",
   "version": "3.8.4"
  }
 },
 "nbformat": 4,
 "nbformat_minor": 5
}

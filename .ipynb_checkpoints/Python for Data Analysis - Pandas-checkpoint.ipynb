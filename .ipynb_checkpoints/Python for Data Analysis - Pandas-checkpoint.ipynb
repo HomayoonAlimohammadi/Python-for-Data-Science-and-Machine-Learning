{
 "cells": [
  {
   "cell_type": "markdown",
   "id": "5ec77928",
   "metadata": {},
   "source": [
    "# Pandas Content\n",
    "\n",
    "### Series\n",
    "### DataFrames\n",
    "### Missing Data\n",
    "### GroupBy\n",
    "### Merging,Joining and Concatenating\n",
    "### Operations\n",
    "### Data Input and OutPut\n",
    "\n"
   ]
  },
  {
   "cell_type": "markdown",
   "id": "6a3327f2",
   "metadata": {},
   "source": [
    "# Series"
   ]
  },
  {
   "cell_type": "code",
   "execution_count": 1,
   "id": "9014e1bd",
   "metadata": {},
   "outputs": [],
   "source": [
    "# Difference between Numpy array and series is : series can be indexed by label\n",
    "\n",
    "import numpy as np\n",
    "import pandas as pd "
   ]
  },
  {
   "cell_type": "code",
   "execution_count": 2,
   "id": "710be0cf",
   "metadata": {},
   "outputs": [],
   "source": [
    "labels = ['a','b','c']\n",
    "my_data = [10,20,30]\n",
    "arr = np.array(my_data)\n",
    "d = {'a':10, 'b':20, 'c':30}\n",
    "\n",
    "#pandas can take almost any type of object"
   ]
  },
  {
   "cell_type": "code",
   "execution_count": 4,
   "id": "e980948e",
   "metadata": {},
   "outputs": [
    {
     "data": {
      "text/plain": [
       "a    10\n",
       "b    20\n",
       "c    30\n",
       "dtype: int64"
      ]
     },
     "execution_count": 4,
     "metadata": {},
     "output_type": "execute_result"
    }
   ],
   "source": [
    "pd.Series(my_data,labels)  #(Data , Index)"
   ]
  },
  {
   "cell_type": "code",
   "execution_count": 5,
   "id": "277e37e7",
   "metadata": {},
   "outputs": [
    {
     "data": {
      "text/plain": [
       "a    10\n",
       "b    20\n",
       "c    30\n",
       "dtype: int64"
      ]
     },
     "execution_count": 5,
     "metadata": {},
     "output_type": "execute_result"
    }
   ],
   "source": [
    "pd.Series(d) #key of the dictionary will be the index"
   ]
  },
  {
   "cell_type": "code",
   "execution_count": 8,
   "id": "2201edfb",
   "metadata": {},
   "outputs": [],
   "source": [
    "ser1= pd.Series([1,2,3,4],['USA','Germany', 'USSR', 'Japan'])\n",
    "ser2= pd.Series([1,2,5,4],['USA','Germany', 'Italy', 'Japan'])"
   ]
  },
  {
   "cell_type": "code",
   "execution_count": 9,
   "id": "6fea2442",
   "metadata": {},
   "outputs": [
    {
     "data": {
      "text/plain": [
       "1"
      ]
     },
     "execution_count": 9,
     "metadata": {},
     "output_type": "execute_result"
    }
   ],
   "source": [
    "ser1['USA'] #[index]"
   ]
  },
  {
   "cell_type": "code",
   "execution_count": 10,
   "id": "c60b51fa",
   "metadata": {},
   "outputs": [
    {
     "data": {
      "text/plain": [
       "Germany    4.0\n",
       "Italy      NaN\n",
       "Japan      8.0\n",
       "USA        2.0\n",
       "USSR       NaN\n",
       "dtype: float64"
      ]
     },
     "execution_count": 10,
     "metadata": {},
     "output_type": "execute_result"
    }
   ],
   "source": [
    "ser1 + ser2 \n",
    "#NaN = where ever it cannot find a match\n",
    "# integers would be convert to float"
   ]
  },
  {
   "cell_type": "code",
   "execution_count": null,
   "id": "e61813f9",
   "metadata": {},
   "outputs": [],
   "source": []
  }
 ],
 "metadata": {
  "kernelspec": {
   "display_name": "Python 3 (ipykernel)",
   "language": "python",
   "name": "python3"
  },
  "language_info": {
   "codemirror_mode": {
    "name": "ipython",
    "version": 3
   },
   "file_extension": ".py",
   "mimetype": "text/x-python",
   "name": "python",
   "nbconvert_exporter": "python",
   "pygments_lexer": "ipython3",
   "version": "3.8.4"
  }
 },
 "nbformat": 4,
 "nbformat_minor": 5
}
